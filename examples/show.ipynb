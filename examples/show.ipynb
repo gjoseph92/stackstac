{
 "cells": [
  {
   "cell_type": "markdown",
   "id": "0984368f",
   "metadata": {},
   "source": [
    "**⚠ Visualization performance on Binder is very bad ⚠️️**\n",
    "\n",
    "We recommend running this notebook locally instead, and removing the `protocol=\"wss\"` line. This is due to a yet-unknown Dask issue."
   ]
  },
  {
   "cell_type": "markdown",
   "id": "068011e2-96cb-4c25-856f-7d6a5c4b3710",
   "metadata": {},
   "source": [
    "# Live visualization on a map\n",
    "\n",
    "With [stackstac.show](https://stackstac.readthedocs.io/en/stable/api/main/stackstac.show.html) or [stackstac.add_to_map](https://stackstac.readthedocs.io/en/stable/api/main/stackstac.add_to_map.html), you can display your data on an interactive [ipyleaflet](https://ipyleaflet.readthedocs.io/en/latest/) map within your notebook. As you pan and zoom, the portion of the dask array that's in view is computed on the fly.\n",
    "\n",
    "By running a Dask cluster colocated with the data, you can quickly aggregate hundreds of gigabytes of imagery on the backend, then only send a few megabytes of pixels back to your browser. This gives you a very simplified version of the [Google Earth Engine](https://developers.google.com/earth-engine/guides/playground) development experience, but with much more flexibility.\n",
    "\n",
    "## Limitations\n",
    "\n",
    "This functionality is still very much proof-of-concept, and there's a lot to be improved in the future:\n",
    "\n",
    "1. Doesn't work well on large arrays. Sadly, loading a giant global DataArray and using the map to just view small parts of it won't work—yet. Plan on only using an array of the area you actually want to look at (passing `bounds_latlon=` to `stackstac.stack` helps with this).\n",
    "2. Resolution doesn't change as you zoom in or out.\n",
    "3. Communication to Dask can be slow, or seem to hang temporarily.\n",
    "4. Requires opening port 8000 (only accessible over localhost), which may be blocked in some restrictive environments."
   ]
  },
  {
   "cell_type": "code",
   "execution_count": 1,
   "id": "classified-brush",
   "metadata": {},
   "outputs": [],
   "source": [
    "import stackstac\n",
    "import pystac_client\n",
    "import ipyleaflet\n",
    "import xarray as xr\n",
    "import IPython.display as dsp"
   ]
  },
  {
   "cell_type": "code",
   "execution_count": 2,
   "id": "victorian-tractor",
   "metadata": {},
   "outputs": [],
   "source": [
    "import coiled\n",
    "import distributed"
   ]
  },
  {
   "cell_type": "markdown",
   "id": "72fedef9",
   "metadata": {},
   "source": [
    "You _definitely_ will need a cluster near the data for this (or to run on a beefy VM in `us-west-2`).\n",
    "\n",
    "You can sign up for a Coiled account and run clusters for free at https://cloud.coiled.io/ — no credit card or username required, just sign in with your GitHub or Google account."
   ]
  },
  {
   "cell_type": "code",
   "execution_count": 3,
   "id": "0888d93e-d3a2-427a-895a-2bed0b5b4d85",
   "metadata": {},
   "outputs": [
    {
     "data": {
      "application/vnd.jupyter.widget-view+json": {
       "model_id": "ff559ec7e0bd4754a27ce6744fc06a05",
       "version_major": 2,
       "version_minor": 0
      },
      "text/plain": [
       "Output()"
      ]
     },
     "metadata": {},
     "output_type": "display_data"
    },
    {
     "data": {
      "text/html": [
       "<pre style=\"white-space:pre;overflow-x:auto;line-height:normal;font-family:Menlo,'DejaVu Sans Mono',consolas,'Courier New',monospace\"></pre>\n"
      ],
      "text/plain": []
     },
     "metadata": {},
     "output_type": "display_data"
    },
    {
     "data": {
      "text/html": [
       "<div>\n",
       "    <div style=\"width: 24px; height: 24px; background-color: #e1e1e1; border: 3px solid #9D9D9D; border-radius: 5px; position: absolute;\"> </div>\n",
       "    <div style=\"margin-left: 48px;\">\n",
       "        <h3 style=\"margin-bottom: 0px;\">Client</h3>\n",
       "        <p style=\"color: #9D9D9D; margin-bottom: 0px;\">Client-5d3b009a-fd9f-11ec-b42a-acde48001122</p>\n",
       "        <table style=\"width: 100%; text-align: left;\">\n",
       "\n",
       "        <tr>\n",
       "        \n",
       "            <td style=\"text-align: left;\"><strong>Connection method:</strong> Cluster object</td>\n",
       "            <td style=\"text-align: left;\"><strong>Cluster type:</strong> coiled.ClusterBeta</td>\n",
       "        \n",
       "        </tr>\n",
       "\n",
       "        \n",
       "            <tr>\n",
       "                <td style=\"text-align: left;\">\n",
       "                    <strong>Dashboard: </strong> <a href=\"http://34.219.227.0:8787\" target=\"_blank\">http://34.219.227.0:8787</a>\n",
       "                </td>\n",
       "                <td style=\"text-align: left;\"></td>\n",
       "            </tr>\n",
       "        \n",
       "\n",
       "        </table>\n",
       "\n",
       "        \n",
       "            <details>\n",
       "            <summary style=\"margin-bottom: 20px;\"><h3 style=\"display: inline;\">Cluster Info</h3></summary>\n",
       "            <div class=\"jp-RenderedHTMLCommon jp-RenderedHTML jp-mod-trusted jp-OutputArea-output\">\n",
       "    <div style=\"width: 24px; height: 24px; background-color: #e1e1e1; border: 3px solid #9D9D9D; border-radius: 5px; position: absolute;\">\n",
       "    </div>\n",
       "    <div style=\"margin-left: 48px;\">\n",
       "        <h3 style=\"margin-bottom: 0px; margin-top: 0px;\">ClusterBeta</h3>\n",
       "        <p style=\"color: #9D9D9D; margin-bottom: 0px;\">stackstac-show</p>\n",
       "        <table style=\"width: 100%; text-align: left;\">\n",
       "            <tr>\n",
       "                <td style=\"text-align: left;\">\n",
       "                    <strong>Dashboard:</strong> <a href=\"http://34.219.227.0:8787\" target=\"_blank\">http://34.219.227.0:8787</a>\n",
       "                </td>\n",
       "                <td style=\"text-align: left;\">\n",
       "                    <strong>Workers:</strong> 6\n",
       "                </td>\n",
       "            </tr>\n",
       "            <tr>\n",
       "                <td style=\"text-align: left;\">\n",
       "                    <strong>Total threads:</strong> 24\n",
       "                </td>\n",
       "                <td style=\"text-align: left;\">\n",
       "                    <strong>Total memory:</strong> 92.94 GiB\n",
       "                </td>\n",
       "            </tr>\n",
       "            \n",
       "        </table>\n",
       "\n",
       "        <details>\n",
       "            <summary style=\"margin-bottom: 20px;\">\n",
       "                <h3 style=\"display: inline;\">Scheduler Info</h3>\n",
       "            </summary>\n",
       "\n",
       "            <div style=\"\">\n",
       "    <div>\n",
       "        <div style=\"width: 24px; height: 24px; background-color: #FFF7E5; border: 3px solid #FF6132; border-radius: 5px; position: absolute;\"> </div>\n",
       "        <div style=\"margin-left: 48px;\">\n",
       "            <h3 style=\"margin-bottom: 0px;\">Scheduler</h3>\n",
       "            <p style=\"color: #9D9D9D; margin-bottom: 0px;\">Scheduler-88524c28-3d31-4abe-b64d-aebc2455b008</p>\n",
       "            <table style=\"width: 100%; text-align: left;\">\n",
       "                <tr>\n",
       "                    <td style=\"text-align: left;\">\n",
       "                        <strong>Comm:</strong> tls://10.6.1.117:8786\n",
       "                    </td>\n",
       "                    <td style=\"text-align: left;\">\n",
       "                        <strong>Workers:</strong> 6\n",
       "                    </td>\n",
       "                </tr>\n",
       "                <tr>\n",
       "                    <td style=\"text-align: left;\">\n",
       "                        <strong>Dashboard:</strong> <a href=\"http://10.6.1.117:8787/status\" target=\"_blank\">http://10.6.1.117:8787/status</a>\n",
       "                    </td>\n",
       "                    <td style=\"text-align: left;\">\n",
       "                        <strong>Total threads:</strong> 24\n",
       "                    </td>\n",
       "                </tr>\n",
       "                <tr>\n",
       "                    <td style=\"text-align: left;\">\n",
       "                        <strong>Started:</strong> Just now\n",
       "                    </td>\n",
       "                    <td style=\"text-align: left;\">\n",
       "                        <strong>Total memory:</strong> 92.94 GiB\n",
       "                    </td>\n",
       "                </tr>\n",
       "            </table>\n",
       "        </div>\n",
       "    </div>\n",
       "\n",
       "    <details style=\"margin-left: 48px;\">\n",
       "        <summary style=\"margin-bottom: 20px;\">\n",
       "            <h3 style=\"display: inline;\">Workers</h3>\n",
       "        </summary>\n",
       "\n",
       "        \n",
       "        <div style=\"margin-bottom: 20px;\">\n",
       "            <div style=\"width: 24px; height: 24px; background-color: #DBF5FF; border: 3px solid #4CC9FF; border-radius: 5px; position: absolute;\"> </div>\n",
       "            <div style=\"margin-left: 48px;\">\n",
       "            <details>\n",
       "                <summary>\n",
       "                    <h4 style=\"margin-bottom: 0px; display: inline;\">Worker: stackstac-show-worker-2579cae5bc</h4>\n",
       "                </summary>\n",
       "                <table style=\"width: 100%; text-align: left;\">\n",
       "                    <tr>\n",
       "                        <td style=\"text-align: left;\">\n",
       "                            <strong>Comm: </strong> tls://10.6.8.106:33725\n",
       "                        </td>\n",
       "                        <td style=\"text-align: left;\">\n",
       "                            <strong>Total threads: </strong> 4\n",
       "                        </td>\n",
       "                    </tr>\n",
       "                    <tr>\n",
       "                        <td style=\"text-align: left;\">\n",
       "                            <strong>Dashboard: </strong> <a href=\"http://10.6.8.106:36109/status\" target=\"_blank\">http://10.6.8.106:36109/status</a>\n",
       "                        </td>\n",
       "                        <td style=\"text-align: left;\">\n",
       "                            <strong>Memory: </strong> 15.49 GiB\n",
       "                        </td>\n",
       "                    </tr>\n",
       "                    <tr>\n",
       "                        <td style=\"text-align: left;\">\n",
       "                            <strong>Nanny: </strong> tls://10.6.8.106:39051\n",
       "                        </td>\n",
       "                        <td style=\"text-align: left;\"></td>\n",
       "                    </tr>\n",
       "                    <tr>\n",
       "                        <td colspan=\"2\" style=\"text-align: left;\">\n",
       "                            <strong>Local directory: </strong> /scratch/dask-worker-space/worker-6iw9bvu9\n",
       "                        </td>\n",
       "                    </tr>\n",
       "\n",
       "                    \n",
       "\n",
       "                    \n",
       "\n",
       "                </table>\n",
       "            </details>\n",
       "            </div>\n",
       "        </div>\n",
       "        \n",
       "        <div style=\"margin-bottom: 20px;\">\n",
       "            <div style=\"width: 24px; height: 24px; background-color: #DBF5FF; border: 3px solid #4CC9FF; border-radius: 5px; position: absolute;\"> </div>\n",
       "            <div style=\"margin-left: 48px;\">\n",
       "            <details>\n",
       "                <summary>\n",
       "                    <h4 style=\"margin-bottom: 0px; display: inline;\">Worker: stackstac-show-worker-2c6e21cf6f</h4>\n",
       "                </summary>\n",
       "                <table style=\"width: 100%; text-align: left;\">\n",
       "                    <tr>\n",
       "                        <td style=\"text-align: left;\">\n",
       "                            <strong>Comm: </strong> tls://10.6.2.167:36569\n",
       "                        </td>\n",
       "                        <td style=\"text-align: left;\">\n",
       "                            <strong>Total threads: </strong> 4\n",
       "                        </td>\n",
       "                    </tr>\n",
       "                    <tr>\n",
       "                        <td style=\"text-align: left;\">\n",
       "                            <strong>Dashboard: </strong> <a href=\"http://10.6.2.167:38535/status\" target=\"_blank\">http://10.6.2.167:38535/status</a>\n",
       "                        </td>\n",
       "                        <td style=\"text-align: left;\">\n",
       "                            <strong>Memory: </strong> 15.49 GiB\n",
       "                        </td>\n",
       "                    </tr>\n",
       "                    <tr>\n",
       "                        <td style=\"text-align: left;\">\n",
       "                            <strong>Nanny: </strong> tls://10.6.2.167:44723\n",
       "                        </td>\n",
       "                        <td style=\"text-align: left;\"></td>\n",
       "                    </tr>\n",
       "                    <tr>\n",
       "                        <td colspan=\"2\" style=\"text-align: left;\">\n",
       "                            <strong>Local directory: </strong> /scratch/dask-worker-space/worker-lj4xpuhv\n",
       "                        </td>\n",
       "                    </tr>\n",
       "\n",
       "                    \n",
       "\n",
       "                    \n",
       "\n",
       "                </table>\n",
       "            </details>\n",
       "            </div>\n",
       "        </div>\n",
       "        \n",
       "        <div style=\"margin-bottom: 20px;\">\n",
       "            <div style=\"width: 24px; height: 24px; background-color: #DBF5FF; border: 3px solid #4CC9FF; border-radius: 5px; position: absolute;\"> </div>\n",
       "            <div style=\"margin-left: 48px;\">\n",
       "            <details>\n",
       "                <summary>\n",
       "                    <h4 style=\"margin-bottom: 0px; display: inline;\">Worker: stackstac-show-worker-5bc3215080</h4>\n",
       "                </summary>\n",
       "                <table style=\"width: 100%; text-align: left;\">\n",
       "                    <tr>\n",
       "                        <td style=\"text-align: left;\">\n",
       "                            <strong>Comm: </strong> tls://10.6.3.103:45649\n",
       "                        </td>\n",
       "                        <td style=\"text-align: left;\">\n",
       "                            <strong>Total threads: </strong> 4\n",
       "                        </td>\n",
       "                    </tr>\n",
       "                    <tr>\n",
       "                        <td style=\"text-align: left;\">\n",
       "                            <strong>Dashboard: </strong> <a href=\"http://10.6.3.103:39431/status\" target=\"_blank\">http://10.6.3.103:39431/status</a>\n",
       "                        </td>\n",
       "                        <td style=\"text-align: left;\">\n",
       "                            <strong>Memory: </strong> 15.49 GiB\n",
       "                        </td>\n",
       "                    </tr>\n",
       "                    <tr>\n",
       "                        <td style=\"text-align: left;\">\n",
       "                            <strong>Nanny: </strong> tls://10.6.3.103:40825\n",
       "                        </td>\n",
       "                        <td style=\"text-align: left;\"></td>\n",
       "                    </tr>\n",
       "                    <tr>\n",
       "                        <td colspan=\"2\" style=\"text-align: left;\">\n",
       "                            <strong>Local directory: </strong> /scratch/dask-worker-space/worker-d_84t1qx\n",
       "                        </td>\n",
       "                    </tr>\n",
       "\n",
       "                    \n",
       "\n",
       "                    \n",
       "\n",
       "                </table>\n",
       "            </details>\n",
       "            </div>\n",
       "        </div>\n",
       "        \n",
       "        <div style=\"margin-bottom: 20px;\">\n",
       "            <div style=\"width: 24px; height: 24px; background-color: #DBF5FF; border: 3px solid #4CC9FF; border-radius: 5px; position: absolute;\"> </div>\n",
       "            <div style=\"margin-left: 48px;\">\n",
       "            <details>\n",
       "                <summary>\n",
       "                    <h4 style=\"margin-bottom: 0px; display: inline;\">Worker: stackstac-show-worker-ca802a6605</h4>\n",
       "                </summary>\n",
       "                <table style=\"width: 100%; text-align: left;\">\n",
       "                    <tr>\n",
       "                        <td style=\"text-align: left;\">\n",
       "                            <strong>Comm: </strong> tls://10.6.14.255:36457\n",
       "                        </td>\n",
       "                        <td style=\"text-align: left;\">\n",
       "                            <strong>Total threads: </strong> 4\n",
       "                        </td>\n",
       "                    </tr>\n",
       "                    <tr>\n",
       "                        <td style=\"text-align: left;\">\n",
       "                            <strong>Dashboard: </strong> <a href=\"http://10.6.14.255:35555/status\" target=\"_blank\">http://10.6.14.255:35555/status</a>\n",
       "                        </td>\n",
       "                        <td style=\"text-align: left;\">\n",
       "                            <strong>Memory: </strong> 15.49 GiB\n",
       "                        </td>\n",
       "                    </tr>\n",
       "                    <tr>\n",
       "                        <td style=\"text-align: left;\">\n",
       "                            <strong>Nanny: </strong> tls://10.6.14.255:43883\n",
       "                        </td>\n",
       "                        <td style=\"text-align: left;\"></td>\n",
       "                    </tr>\n",
       "                    <tr>\n",
       "                        <td colspan=\"2\" style=\"text-align: left;\">\n",
       "                            <strong>Local directory: </strong> /scratch/dask-worker-space/worker-o4g63y6f\n",
       "                        </td>\n",
       "                    </tr>\n",
       "\n",
       "                    \n",
       "\n",
       "                    \n",
       "\n",
       "                </table>\n",
       "            </details>\n",
       "            </div>\n",
       "        </div>\n",
       "        \n",
       "        <div style=\"margin-bottom: 20px;\">\n",
       "            <div style=\"width: 24px; height: 24px; background-color: #DBF5FF; border: 3px solid #4CC9FF; border-radius: 5px; position: absolute;\"> </div>\n",
       "            <div style=\"margin-left: 48px;\">\n",
       "            <details>\n",
       "                <summary>\n",
       "                    <h4 style=\"margin-bottom: 0px; display: inline;\">Worker: stackstac-show-worker-d6533807bc</h4>\n",
       "                </summary>\n",
       "                <table style=\"width: 100%; text-align: left;\">\n",
       "                    <tr>\n",
       "                        <td style=\"text-align: left;\">\n",
       "                            <strong>Comm: </strong> tls://10.6.10.148:33027\n",
       "                        </td>\n",
       "                        <td style=\"text-align: left;\">\n",
       "                            <strong>Total threads: </strong> 4\n",
       "                        </td>\n",
       "                    </tr>\n",
       "                    <tr>\n",
       "                        <td style=\"text-align: left;\">\n",
       "                            <strong>Dashboard: </strong> <a href=\"http://10.6.10.148:38677/status\" target=\"_blank\">http://10.6.10.148:38677/status</a>\n",
       "                        </td>\n",
       "                        <td style=\"text-align: left;\">\n",
       "                            <strong>Memory: </strong> 15.49 GiB\n",
       "                        </td>\n",
       "                    </tr>\n",
       "                    <tr>\n",
       "                        <td style=\"text-align: left;\">\n",
       "                            <strong>Nanny: </strong> tls://10.6.10.148:33553\n",
       "                        </td>\n",
       "                        <td style=\"text-align: left;\"></td>\n",
       "                    </tr>\n",
       "                    <tr>\n",
       "                        <td colspan=\"2\" style=\"text-align: left;\">\n",
       "                            <strong>Local directory: </strong> /scratch/dask-worker-space/worker-f1_bq6ae\n",
       "                        </td>\n",
       "                    </tr>\n",
       "\n",
       "                    \n",
       "\n",
       "                    \n",
       "\n",
       "                </table>\n",
       "            </details>\n",
       "            </div>\n",
       "        </div>\n",
       "        \n",
       "        <div style=\"margin-bottom: 20px;\">\n",
       "            <div style=\"width: 24px; height: 24px; background-color: #DBF5FF; border: 3px solid #4CC9FF; border-radius: 5px; position: absolute;\"> </div>\n",
       "            <div style=\"margin-left: 48px;\">\n",
       "            <details>\n",
       "                <summary>\n",
       "                    <h4 style=\"margin-bottom: 0px; display: inline;\">Worker: stackstac-show-worker-fff34efca4</h4>\n",
       "                </summary>\n",
       "                <table style=\"width: 100%; text-align: left;\">\n",
       "                    <tr>\n",
       "                        <td style=\"text-align: left;\">\n",
       "                            <strong>Comm: </strong> tls://10.6.9.246:43873\n",
       "                        </td>\n",
       "                        <td style=\"text-align: left;\">\n",
       "                            <strong>Total threads: </strong> 4\n",
       "                        </td>\n",
       "                    </tr>\n",
       "                    <tr>\n",
       "                        <td style=\"text-align: left;\">\n",
       "                            <strong>Dashboard: </strong> <a href=\"http://10.6.9.246:42189/status\" target=\"_blank\">http://10.6.9.246:42189/status</a>\n",
       "                        </td>\n",
       "                        <td style=\"text-align: left;\">\n",
       "                            <strong>Memory: </strong> 15.49 GiB\n",
       "                        </td>\n",
       "                    </tr>\n",
       "                    <tr>\n",
       "                        <td style=\"text-align: left;\">\n",
       "                            <strong>Nanny: </strong> tls://10.6.9.246:37071\n",
       "                        </td>\n",
       "                        <td style=\"text-align: left;\"></td>\n",
       "                    </tr>\n",
       "                    <tr>\n",
       "                        <td colspan=\"2\" style=\"text-align: left;\">\n",
       "                            <strong>Local directory: </strong> /scratch/dask-worker-space/worker-je6v6d6x\n",
       "                        </td>\n",
       "                    </tr>\n",
       "\n",
       "                    \n",
       "\n",
       "                    \n",
       "\n",
       "                </table>\n",
       "            </details>\n",
       "            </div>\n",
       "        </div>\n",
       "        \n",
       "\n",
       "    </details>\n",
       "</div>\n",
       "\n",
       "        </details>\n",
       "    </div>\n",
       "</div>\n",
       "            </details>\n",
       "        \n",
       "\n",
       "    </div>\n",
       "</div>"
      ],
      "text/plain": [
       "<Client: 'tls://10.6.1.117:8786' processes=4 threads=16, memory=61.96 GiB>"
      ]
     },
     "execution_count": 3,
     "metadata": {},
     "output_type": "execute_result"
    }
   ],
   "source": [
    "cluster = coiled.Cluster(\n",
    "    name=\"stackstac-show\",\n",
    "    software=\"gjoseph92/stackstac\",\n",
    "    n_workers=22,\n",
    "    worker_cpu=4,\n",
    "    worker_memory=\"16GiB\",\n",
    "    scheduler_cpu=2,\n",
    "    backend_options={\"region\": \"us-west-2\"},\n",
    "    protocol=\"wss\",  # remove this line when not running on Binder\n",
    ")\n",
    "client = distributed.Client(cluster)\n",
    "client"
   ]
  },
  {
   "cell_type": "markdown",
   "id": "fbc22077-aa84-47dd-95a9-a22a59d74761",
   "metadata": {},
   "source": [
    "Search for Sentinel-2 data overlapping our map"
   ]
  },
  {
   "cell_type": "code",
   "execution_count": 4,
   "id": "incorrect-vessel",
   "metadata": {},
   "outputs": [
    {
     "data": {
      "application/vnd.jupyter.widget-view+json": {
       "model_id": "2173b58f764147cda75f1f36281d46d6",
       "version_major": 2,
       "version_minor": 0
      },
      "text/plain": [
       "Map(center=[35.677153763176115, -105.8485489524901], controls=(ZoomControl(options=['position', 'zoom_in_text'…"
      ]
     },
     "metadata": {},
     "output_type": "display_data"
    }
   ],
   "source": [
    "m = ipyleaflet.Map()\n",
    "m.center = 35.677153763176115, -105.8485489524901\n",
    "m.zoom = 10\n",
    "m.layout.height = \"700px\"\n",
    "m"
   ]
  },
  {
   "cell_type": "code",
   "execution_count": 5,
   "id": "moving-seating",
   "metadata": {},
   "outputs": [
    {
     "name": "stdout",
     "output_type": "stream",
     "text": [
      "CPU times: user 39.2 ms, sys: 6.74 ms, total: 46 ms\n",
      "Wall time: 1.09 s\n"
     ]
    },
    {
     "data": {
      "text/plain": [
       "30"
      ]
     },
     "execution_count": 5,
     "metadata": {},
     "output_type": "execute_result"
    }
   ],
   "source": [
    "%%time\n",
    "bbox=[m.west, m.south, m.east, m.north]\n",
    "stac_items = pystac_client.Client.open(\n",
    "    \"https://earth-search.aws.element84.com/v0\"\n",
    ").search(\n",
    "    bbox=bbox,\n",
    "    collections=[\"sentinel-s2-l2a-cogs\"],\n",
    "    datetime=\"2020-04-01/2020-04-15\"\n",
    ").get_all_items()\n",
    "len(stac_items)"
   ]
  },
  {
   "cell_type": "code",
   "execution_count": 6,
   "id": "7f520eaf-a3cf-415b-884e-7962252ae3e3",
   "metadata": {},
   "outputs": [
    {
     "data": {
      "application/geo+json": {
       "features": [
        {
         "assets": {
          "AOT": {
           "href": "https://sentinel-cogs.s3.us-west-2.amazonaws.com/sentinel-s2-l2a-cogs/13/S/CV/2020/4/S2A_13SCV_20200413_0_L2A/AOT.tif",
           "proj:shape": [
            1830,
            1830
           ],
           "proj:transform": [
            60,
            0,
            300000,
            0,
            -60,
            4000020,
            0,
            0,
            1
           ],
           "title": "Aerosol Optical Thickness (AOT)",
           "type": "image/tiff; application=geotiff; profile=cloud-optimized"
          },
          "B01": {
           "href": "https://sentinel-cogs.s3.us-west-2.amazonaws.com/sentinel-s2-l2a-cogs/13/S/CV/2020/4/S2A_13SCV_20200413_0_L2A/B01.tif",
           "proj:shape": [
            1830,
            1830
           ],
           "proj:transform": [
            60,
            0,
            300000,
            0,
            -60,
            4000020,
            0,
            0,
            1
           ],
           "title": "Band 1 (coastal)",
           "type": "image/tiff; application=geotiff; profile=cloud-optimized"
          },
          "B02": {
           "href": "https://sentinel-cogs.s3.us-west-2.amazonaws.com/sentinel-s2-l2a-cogs/13/S/CV/2020/4/S2A_13SCV_20200413_0_L2A/B02.tif",
           "proj:shape": [
            10980,
            10980
           ],
           "proj:transform": [
            10,
            0,
            300000,
            0,
            -10,
            4000020,
            0,
            0,
            1
           ],
           "title": "Band 2 (blue)",
           "type": "image/tiff; application=geotiff; profile=cloud-optimized"
          },
          "B03": {
           "href": "https://sentinel-cogs.s3.us-west-2.amazonaws.com/sentinel-s2-l2a-cogs/13/S/CV/2020/4/S2A_13SCV_20200413_0_L2A/B03.tif",
           "proj:shape": [
            10980,
            10980
           ],
           "proj:transform": [
            10,
            0,
            300000,
            0,
            -10,
            4000020,
            0,
            0,
            1
           ],
           "title": "Band 3 (green)",
           "type": "image/tiff; application=geotiff; profile=cloud-optimized"
          },
          "B04": {
           "href": "https://sentinel-cogs.s3.us-west-2.amazonaws.com/sentinel-s2-l2a-cogs/13/S/CV/2020/4/S2A_13SCV_20200413_0_L2A/B04.tif",
           "proj:shape": [
            10980,
            10980
           ],
           "proj:transform": [
            10,
            0,
            300000,
            0,
            -10,
            4000020,
            0,
            0,
            1
           ],
           "title": "Band 4 (red)",
           "type": "image/tiff; application=geotiff; profile=cloud-optimized"
          },
          "B05": {
           "href": "https://sentinel-cogs.s3.us-west-2.amazonaws.com/sentinel-s2-l2a-cogs/13/S/CV/2020/4/S2A_13SCV_20200413_0_L2A/B05.tif",
           "proj:shape": [
            5490,
            5490
           ],
           "proj:transform": [
            20,
            0,
            300000,
            0,
            -20,
            4000020,
            0,
            0,
            1
           ],
           "title": "Band 5",
           "type": "image/tiff; application=geotiff; profile=cloud-optimized"
          },
          "B06": {
           "href": "https://sentinel-cogs.s3.us-west-2.amazonaws.com/sentinel-s2-l2a-cogs/13/S/CV/2020/4/S2A_13SCV_20200413_0_L2A/B06.tif",
           "proj:shape": [
            5490,
            5490
           ],
           "proj:transform": [
            20,
            0,
            300000,
            0,
            -20,
            4000020,
            0,
            0,
            1
           ],
           "title": "Band 6",
           "type": "image/tiff; application=geotiff; profile=cloud-optimized"
          },
          "B07": {
           "href": "https://sentinel-cogs.s3.us-west-2.amazonaws.com/sentinel-s2-l2a-cogs/13/S/CV/2020/4/S2A_13SCV_20200413_0_L2A/B07.tif",
           "proj:shape": [
            5490,
            5490
           ],
           "proj:transform": [
            20,
            0,
            300000,
            0,
            -20,
            4000020,
            0,
            0,
            1
           ],
           "title": "Band 7",
           "type": "image/tiff; application=geotiff; profile=cloud-optimized"
          },
          "B08": {
           "href": "https://sentinel-cogs.s3.us-west-2.amazonaws.com/sentinel-s2-l2a-cogs/13/S/CV/2020/4/S2A_13SCV_20200413_0_L2A/B08.tif",
           "proj:shape": [
            10980,
            10980
           ],
           "proj:transform": [
            10,
            0,
            300000,
            0,
            -10,
            4000020,
            0,
            0,
            1
           ],
           "title": "Band 8 (nir)",
           "type": "image/tiff; application=geotiff; profile=cloud-optimized"
          },
          "B09": {
           "href": "https://sentinel-cogs.s3.us-west-2.amazonaws.com/sentinel-s2-l2a-cogs/13/S/CV/2020/4/S2A_13SCV_20200413_0_L2A/B09.tif",
           "proj:shape": [
            1830,
            1830
           ],
           "proj:transform": [
            60,
            0,
            300000,
            0,
            -60,
            4000020,
            0,
            0,
            1
           ],
           "title": "Band 9",
           "type": "image/tiff; application=geotiff; profile=cloud-optimized"
          },
          "B11": {
           "href": "https://sentinel-cogs.s3.us-west-2.amazonaws.com/sentinel-s2-l2a-cogs/13/S/CV/2020/4/S2A_13SCV_20200413_0_L2A/B11.tif",
           "proj:shape": [
            5490,
            5490
           ],
           "proj:transform": [
            20,
            0,
            300000,
            0,
            -20,
            4000020,
            0,
            0,
            1
           ],
           "title": "Band 11 (swir16)",
           "type": "image/tiff; application=geotiff; profile=cloud-optimized"
          },
          "B12": {
           "href": "https://sentinel-cogs.s3.us-west-2.amazonaws.com/sentinel-s2-l2a-cogs/13/S/CV/2020/4/S2A_13SCV_20200413_0_L2A/B12.tif",
           "proj:shape": [
            5490,
            5490
           ],
           "proj:transform": [
            20,
            0,
            300000,
            0,
            -20,
            4000020,
            0,
            0,
            1
           ],
           "title": "Band 12 (swir22)",
           "type": "image/tiff; application=geotiff; profile=cloud-optimized"
          },
          "B8A": {
           "href": "https://sentinel-cogs.s3.us-west-2.amazonaws.com/sentinel-s2-l2a-cogs/13/S/CV/2020/4/S2A_13SCV_20200413_0_L2A/B8A.tif",
           "proj:shape": [
            5490,
            5490
           ],
           "proj:transform": [
            20,
            0,
            300000,
            0,
            -20,
            4000020,
            0,
            0,
            1
           ],
           "title": "Band 8A",
           "type": "image/tiff; application=geotiff; profile=cloud-optimized"
          },
          "SCL": {
           "href": "https://sentinel-cogs.s3.us-west-2.amazonaws.com/sentinel-s2-l2a-cogs/13/S/CV/2020/4/S2A_13SCV_20200413_0_L2A/SCL.tif",
           "proj:shape": [
            5490,
            5490
           ],
           "proj:transform": [
            20,
            0,
            300000,
            0,
            -20,
            4000020,
            0,
            0,
            1
           ],
           "title": "Scene Classification Map (SCL)",
           "type": "image/tiff; application=geotiff; profile=cloud-optimized"
          },
          "WVP": {
           "href": "https://sentinel-cogs.s3.us-west-2.amazonaws.com/sentinel-s2-l2a-cogs/13/S/CV/2020/4/S2A_13SCV_20200413_0_L2A/WVP.tif",
           "proj:shape": [
            10980,
            10980
           ],
           "proj:transform": [
            10,
            0,
            300000,
            0,
            -10,
            4000020,
            0,
            0,
            1
           ],
           "title": "Water Vapour (WVP)",
           "type": "image/tiff; application=geotiff; profile=cloud-optimized"
          },
          "info": {
           "href": "https://roda.sentinel-hub.com/sentinel-s2-l2a/tiles/13/S/CV/2020/4/13/0/tileInfo.json",
           "title": "Original JSON metadata",
           "type": "application/json"
          },
          "metadata": {
           "href": "https://roda.sentinel-hub.com/sentinel-s2-l2a/tiles/13/S/CV/2020/4/13/0/metadata.xml",
           "title": "Original XML metadata",
           "type": "application/xml"
          },
          "overview": {
           "href": "https://sentinel-cogs.s3.us-west-2.amazonaws.com/sentinel-s2-l2a-cogs/13/S/CV/2020/4/S2A_13SCV_20200413_0_L2A/L2A_PVI.tif",
           "proj:shape": [
            343,
            343
           ],
           "proj:transform": [
            320,
            0,
            300000,
            0,
            -320,
            4000020,
            0,
            0,
            1
           ],
           "title": "True color image",
           "type": "image/tiff; application=geotiff; profile=cloud-optimized"
          },
          "thumbnail": {
           "href": "https://roda.sentinel-hub.com/sentinel-s2-l1c/tiles/13/S/CV/2020/4/13/0/preview.jpg",
           "title": "Thumbnail",
           "type": "image/png"
          },
          "visual": {
           "href": "https://sentinel-cogs.s3.us-west-2.amazonaws.com/sentinel-s2-l2a-cogs/13/S/CV/2020/4/S2A_13SCV_20200413_0_L2A/TCI.tif",
           "proj:shape": [
            10980,
            10980
           ],
           "proj:transform": [
            10,
            0,
            300000,
            0,
            -10,
            4000020,
            0,
            0,
            1
           ],
           "title": "True color image",
           "type": "image/tiff; application=geotiff; profile=cloud-optimized"
          }
         },
         "bbox": [
          -106.6529314461045,
          35.143623362772786,
          -105.99029032211578,
          36.14069288925992
         ],
         "collection": "sentinel-s2-l2a-cogs",
         "geometry": {
          "coordinates": [
           [
            [
             -106.6529314461045,
             35.143623362772786
            ],
            [
             -106.58229104333289,
             35.39980509716563
            ],
            [
             -106.37502465811413,
             36.13699571204734
            ],
            [
             -106.00258230901163,
             36.14069288925992
            ],
            [
             -105.99029032211578,
             35.15085199698541
            ],
            [
             -106.6529314461045,
             35.143623362772786
            ]
           ]
          ],
          "type": "Polygon"
         },
         "id": "S2A_13SCV_20200413_0_L2A",
         "links": [
          {
           "href": "https://earth-search.aws.element84.com/v0/collections/sentinel-s2-l2a-cogs/items/S2A_13SCV_20200413_0_L2A",
           "rel": "self"
          },
          {
           "href": "https://sentinel-cogs.s3.us-west-2.amazonaws.com/sentinel-s2-l2a-cogs/13/S/CV/2020/4/S2A_13SCV_20200413_0_L2A/S2A_13SCV_20200413_0_L2A.json",
           "rel": "canonical",
           "type": "application/json"
          },
          {
           "href": "https://earth-search.aws.element84.com/v0/collections/sentinel-s2-l2a/items/S2A_13SCV_20200413_0_L2A",
           "rel": "derived_from",
           "title": "Source STAC Item",
           "type": "application/json"
          },
          {
           "href": "https://earth-search.aws.element84.com/v0/collections/sentinel-s2-l2a-cogs",
           "rel": "parent"
          },
          {
           "href": "https://earth-search.aws.element84.com/v0/collections/sentinel-s2-l2a-cogs",
           "rel": "collection"
          },
          {
           "href": "https://earth-search.aws.element84.com/v0",
           "rel": "root",
           "title": "Earth Search",
           "type": "application/json"
          }
         ],
         "properties": {
          "constellation": "sentinel-2",
          "created": "2020-09-19T03:49:30.360Z",
          "data_coverage": 42.69,
          "datetime": "2020-04-13T17:54:13Z",
          "eo:cloud_cover": 100,
          "gsd": 10,
          "instruments": [
           "msi"
          ],
          "platform": "sentinel-2a",
          "proj:epsg": 32613,
          "sentinel:data_coverage": 42.69,
          "sentinel:grid_square": "CV",
          "sentinel:latitude_band": "S",
          "sentinel:product_id": "S2A_MSIL2A_20200413T173901_N0214_R098_T13SCV_20200413T235616",
          "sentinel:sequence": "0",
          "sentinel:utm_zone": 13,
          "sentinel:valid_cloud_cover": true,
          "updated": "2020-09-19T03:49:30.360Z",
          "view:off_nadir": 0
         },
         "properties.sentinel:boa_offset_applied": false,
         "stac_extensions": [
          "eo",
          "view",
          "proj"
         ],
         "stac_version": "1.0.0",
         "type": "Feature"
        },
        {
         "assets": {
          "AOT": {
           "href": "https://sentinel-cogs.s3.us-west-2.amazonaws.com/sentinel-s2-l2a-cogs/13/S/DV/2020/4/S2A_13SDV_20200413_0_L2A/AOT.tif",
           "proj:shape": [
            1830,
            1830
           ],
           "proj:transform": [
            60,
            0,
            399960,
            0,
            -60,
            4000020,
            0,
            0,
            1
           ],
           "title": "Aerosol Optical Thickness (AOT)",
           "type": "image/tiff; application=geotiff; profile=cloud-optimized"
          },
          "B01": {
           "href": "https://sentinel-cogs.s3.us-west-2.amazonaws.com/sentinel-s2-l2a-cogs/13/S/DV/2020/4/S2A_13SDV_20200413_0_L2A/B01.tif",
           "proj:shape": [
            1830,
            1830
           ],
           "proj:transform": [
            60,
            0,
            399960,
            0,
            -60,
            4000020,
            0,
            0,
            1
           ],
           "title": "Band 1 (coastal)",
           "type": "image/tiff; application=geotiff; profile=cloud-optimized"
          },
          "B02": {
           "href": "https://sentinel-cogs.s3.us-west-2.amazonaws.com/sentinel-s2-l2a-cogs/13/S/DV/2020/4/S2A_13SDV_20200413_0_L2A/B02.tif",
           "proj:shape": [
            10980,
            10980
           ],
           "proj:transform": [
            10,
            0,
            399960,
            0,
            -10,
            4000020,
            0,
            0,
            1
           ],
           "title": "Band 2 (blue)",
           "type": "image/tiff; application=geotiff; profile=cloud-optimized"
          },
          "B03": {
           "href": "https://sentinel-cogs.s3.us-west-2.amazonaws.com/sentinel-s2-l2a-cogs/13/S/DV/2020/4/S2A_13SDV_20200413_0_L2A/B03.tif",
           "proj:shape": [
            10980,
            10980
           ],
           "proj:transform": [
            10,
            0,
            399960,
            0,
            -10,
            4000020,
            0,
            0,
            1
           ],
           "title": "Band 3 (green)",
           "type": "image/tiff; application=geotiff; profile=cloud-optimized"
          },
          "B04": {
           "href": "https://sentinel-cogs.s3.us-west-2.amazonaws.com/sentinel-s2-l2a-cogs/13/S/DV/2020/4/S2A_13SDV_20200413_0_L2A/B04.tif",
           "proj:shape": [
            10980,
            10980
           ],
           "proj:transform": [
            10,
            0,
            399960,
            0,
            -10,
            4000020,
            0,
            0,
            1
           ],
           "title": "Band 4 (red)",
           "type": "image/tiff; application=geotiff; profile=cloud-optimized"
          },
          "B05": {
           "href": "https://sentinel-cogs.s3.us-west-2.amazonaws.com/sentinel-s2-l2a-cogs/13/S/DV/2020/4/S2A_13SDV_20200413_0_L2A/B05.tif",
           "proj:shape": [
            5490,
            5490
           ],
           "proj:transform": [
            20,
            0,
            399960,
            0,
            -20,
            4000020,
            0,
            0,
            1
           ],
           "title": "Band 5",
           "type": "image/tiff; application=geotiff; profile=cloud-optimized"
          },
          "B06": {
           "href": "https://sentinel-cogs.s3.us-west-2.amazonaws.com/sentinel-s2-l2a-cogs/13/S/DV/2020/4/S2A_13SDV_20200413_0_L2A/B06.tif",
           "proj:shape": [
            5490,
            5490
           ],
           "proj:transform": [
            20,
            0,
            399960,
            0,
            -20,
            4000020,
            0,
            0,
            1
           ],
           "title": "Band 6",
           "type": "image/tiff; application=geotiff; profile=cloud-optimized"
          },
          "B07": {
           "href": "https://sentinel-cogs.s3.us-west-2.amazonaws.com/sentinel-s2-l2a-cogs/13/S/DV/2020/4/S2A_13SDV_20200413_0_L2A/B07.tif",
           "proj:shape": [
            5490,
            5490
           ],
           "proj:transform": [
            20,
            0,
            399960,
            0,
            -20,
            4000020,
            0,
            0,
            1
           ],
           "title": "Band 7",
           "type": "image/tiff; application=geotiff; profile=cloud-optimized"
          },
          "B08": {
           "href": "https://sentinel-cogs.s3.us-west-2.amazonaws.com/sentinel-s2-l2a-cogs/13/S/DV/2020/4/S2A_13SDV_20200413_0_L2A/B08.tif",
           "proj:shape": [
            10980,
            10980
           ],
           "proj:transform": [
            10,
            0,
            399960,
            0,
            -10,
            4000020,
            0,
            0,
            1
           ],
           "title": "Band 8 (nir)",
           "type": "image/tiff; application=geotiff; profile=cloud-optimized"
          },
          "B09": {
           "href": "https://sentinel-cogs.s3.us-west-2.amazonaws.com/sentinel-s2-l2a-cogs/13/S/DV/2020/4/S2A_13SDV_20200413_0_L2A/B09.tif",
           "proj:shape": [
            1830,
            1830
           ],
           "proj:transform": [
            60,
            0,
            399960,
            0,
            -60,
            4000020,
            0,
            0,
            1
           ],
           "title": "Band 9",
           "type": "image/tiff; application=geotiff; profile=cloud-optimized"
          },
          "B11": {
           "href": "https://sentinel-cogs.s3.us-west-2.amazonaws.com/sentinel-s2-l2a-cogs/13/S/DV/2020/4/S2A_13SDV_20200413_0_L2A/B11.tif",
           "proj:shape": [
            5490,
            5490
           ],
           "proj:transform": [
            20,
            0,
            399960,
            0,
            -20,
            4000020,
            0,
            0,
            1
           ],
           "title": "Band 11 (swir16)",
           "type": "image/tiff; application=geotiff; profile=cloud-optimized"
          },
          "B12": {
           "href": "https://sentinel-cogs.s3.us-west-2.amazonaws.com/sentinel-s2-l2a-cogs/13/S/DV/2020/4/S2A_13SDV_20200413_0_L2A/B12.tif",
           "proj:shape": [
            5490,
            5490
           ],
           "proj:transform": [
            20,
            0,
            399960,
            0,
            -20,
            4000020,
            0,
            0,
            1
           ],
           "title": "Band 12 (swir22)",
           "type": "image/tiff; application=geotiff; profile=cloud-optimized"
          },
          "B8A": {
           "href": "https://sentinel-cogs.s3.us-west-2.amazonaws.com/sentinel-s2-l2a-cogs/13/S/DV/2020/4/S2A_13SDV_20200413_0_L2A/B8A.tif",
           "proj:shape": [
            5490,
            5490
           ],
           "proj:transform": [
            20,
            0,
            399960,
            0,
            -20,
            4000020,
            0,
            0,
            1
           ],
           "title": "Band 8A",
           "type": "image/tiff; application=geotiff; profile=cloud-optimized"
          },
          "SCL": {
           "href": "https://sentinel-cogs.s3.us-west-2.amazonaws.com/sentinel-s2-l2a-cogs/13/S/DV/2020/4/S2A_13SDV_20200413_0_L2A/SCL.tif",
           "proj:shape": [
            5490,
            5490
           ],
           "proj:transform": [
            20,
            0,
            399960,
            0,
            -20,
            4000020,
            0,
            0,
            1
           ],
           "title": "Scene Classification Map (SCL)",
           "type": "image/tiff; application=geotiff; profile=cloud-optimized"
          },
          "WVP": {
           "href": "https://sentinel-cogs.s3.us-west-2.amazonaws.com/sentinel-s2-l2a-cogs/13/S/DV/2020/4/S2A_13SDV_20200413_0_L2A/WVP.tif",
           "proj:shape": [
            10980,
            10980
           ],
           "proj:transform": [
            10,
            0,
            399960,
            0,
            -10,
            4000020,
            0,
            0,
            1
           ],
           "title": "Water Vapour (WVP)",
           "type": "image/tiff; application=geotiff; profile=cloud-optimized"
          },
          "info": {
           "href": "https://roda.sentinel-hub.com/sentinel-s2-l2a/tiles/13/S/DV/2020/4/13/0/tileInfo.json",
           "title": "Original JSON metadata",
           "type": "application/json"
          },
          "metadata": {
           "href": "https://roda.sentinel-hub.com/sentinel-s2-l2a/tiles/13/S/DV/2020/4/13/0/metadata.xml",
           "title": "Original XML metadata",
           "type": "application/xml"
          },
          "overview": {
           "href": "https://sentinel-cogs.s3.us-west-2.amazonaws.com/sentinel-s2-l2a-cogs/13/S/DV/2020/4/S2A_13SDV_20200413_0_L2A/L2A_PVI.tif",
           "proj:shape": [
            343,
            343
           ],
           "proj:transform": [
            320,
            0,
            399960,
            0,
            -320,
            4000020,
            0,
            0,
            1
           ],
           "title": "True color image",
           "type": "image/tiff; application=geotiff; profile=cloud-optimized"
          },
          "thumbnail": {
           "href": "https://roda.sentinel-hub.com/sentinel-s2-l1c/tiles/13/S/DV/2020/4/13/0/preview.jpg",
           "title": "Thumbnail",
           "type": "image/png"
          },
          "visual": {
           "href": "https://sentinel-cogs.s3.us-west-2.amazonaws.com/sentinel-s2-l2a-cogs/13/S/DV/2020/4/S2A_13SDV_20200413_0_L2A/TCI.tif",
           "proj:shape": [
            10980,
            10980
           ],
           "proj:transform": [
            10,
            0,
            399960,
            0,
            -10,
            4000020,
            0,
            0,
            1
           ],
           "title": "True color image",
           "type": "image/tiff; application=geotiff; profile=cloud-optimized"
          }
         },
         "bbox": [
          -106.11191385205835,
          35.1499211736146,
          -104.89152152018616,
          36.14484027029348
         ],
         "collection": "sentinel-s2-l2a-cogs",
         "geometry": {
          "coordinates": [
           [
            [
             -106.09828205302668,
             35.1499211736146
            ],
            [
             -106.11191385205835,
             36.139727693244055
            ],
            [
             -104.89152152018616,
             36.14484027029348
            ],
            [
             -104.89285176524281,
             35.154851672138626
            ],
            [
             -106.09828205302668,
             35.1499211736146
            ]
           ]
          ],
          "type": "Polygon"
         },
         "id": "S2A_13SDV_20200413_0_L2A",
         "links": [
          {
           "href": "https://earth-search.aws.element84.com/v0/collections/sentinel-s2-l2a-cogs/items/S2A_13SDV_20200413_0_L2A",
           "rel": "self"
          },
          {
           "href": "https://sentinel-cogs.s3.us-west-2.amazonaws.com/sentinel-s2-l2a-cogs/13/S/DV/2020/4/S2A_13SDV_20200413_0_L2A/S2A_13SDV_20200413_0_L2A.json",
           "rel": "canonical",
           "type": "application/json"
          },
          {
           "href": "https://earth-search.aws.element84.com/v0/collections/sentinel-s2-l2a/items/S2A_13SDV_20200413_0_L2A",
           "rel": "derived_from",
           "title": "Source STAC Item",
           "type": "application/json"
          },
          {
           "href": "https://earth-search.aws.element84.com/v0/collections/sentinel-s2-l2a-cogs",
           "rel": "parent"
          },
          {
           "href": "https://earth-search.aws.element84.com/v0/collections/sentinel-s2-l2a-cogs",
           "rel": "collection"
          },
          {
           "href": "https://earth-search.aws.element84.com/v0",
           "rel": "root",
           "title": "Earth Search",
           "type": "application/json"
          }
         ],
         "properties": {
          "constellation": "sentinel-2",
          "created": "2020-09-24T06:31:45.567Z",
          "data_coverage": 100,
          "datetime": "2020-04-13T17:54:10Z",
          "eo:cloud_cover": 100,
          "gsd": 10,
          "instruments": [
           "msi"
          ],
          "platform": "sentinel-2a",
          "proj:epsg": 32613,
          "sentinel:data_coverage": 100,
          "sentinel:grid_square": "DV",
          "sentinel:latitude_band": "S",
          "sentinel:product_id": "S2A_MSIL2A_20200413T173901_N0214_R098_T13SDV_20200413T235616",
          "sentinel:sequence": "0",
          "sentinel:utm_zone": 13,
          "sentinel:valid_cloud_cover": true,
          "updated": "2020-09-24T06:31:45.567Z",
          "view:off_nadir": 0
         },
         "properties.sentinel:boa_offset_applied": false,
         "stac_extensions": [
          "eo",
          "view",
          "proj"
         ],
         "stac_version": "1.0.0",
         "type": "Feature"
        },
        {
         "assets": {
          "AOT": {
           "href": "https://sentinel-cogs.s3.us-west-2.amazonaws.com/sentinel-s2-l2a-cogs/13/S/EV/2020/4/S2A_13SEV_20200413_0_L2A/AOT.tif",
           "proj:shape": [
            1830,
            1830
           ],
           "proj:transform": [
            60,
            0,
            499980,
            0,
            -60,
            4000020,
            0,
            0,
            1
           ],
           "title": "Aerosol Optical Thickness (AOT)",
           "type": "image/tiff; application=geotiff; profile=cloud-optimized"
          },
          "B01": {
           "href": "https://sentinel-cogs.s3.us-west-2.amazonaws.com/sentinel-s2-l2a-cogs/13/S/EV/2020/4/S2A_13SEV_20200413_0_L2A/B01.tif",
           "proj:shape": [
            1830,
            1830
           ],
           "proj:transform": [
            60,
            0,
            499980,
            0,
            -60,
            4000020,
            0,
            0,
            1
           ],
           "title": "Band 1 (coastal)",
           "type": "image/tiff; application=geotiff; profile=cloud-optimized"
          },
          "B02": {
           "href": "https://sentinel-cogs.s3.us-west-2.amazonaws.com/sentinel-s2-l2a-cogs/13/S/EV/2020/4/S2A_13SEV_20200413_0_L2A/B02.tif",
           "proj:shape": [
            10980,
            10980
           ],
           "proj:transform": [
            10,
            0,
            499980,
            0,
            -10,
            4000020,
            0,
            0,
            1
           ],
           "title": "Band 2 (blue)",
           "type": "image/tiff; application=geotiff; profile=cloud-optimized"
          },
          "B03": {
           "href": "https://sentinel-cogs.s3.us-west-2.amazonaws.com/sentinel-s2-l2a-cogs/13/S/EV/2020/4/S2A_13SEV_20200413_0_L2A/B03.tif",
           "proj:shape": [
            10980,
            10980
           ],
           "proj:transform": [
            10,
            0,
            499980,
            0,
            -10,
            4000020,
            0,
            0,
            1
           ],
           "title": "Band 3 (green)",
           "type": "image/tiff; application=geotiff; profile=cloud-optimized"
          },
          "B04": {
           "href": "https://sentinel-cogs.s3.us-west-2.amazonaws.com/sentinel-s2-l2a-cogs/13/S/EV/2020/4/S2A_13SEV_20200413_0_L2A/B04.tif",
           "proj:shape": [
            10980,
            10980
           ],
           "proj:transform": [
            10,
            0,
            499980,
            0,
            -10,
            4000020,
            0,
            0,
            1
           ],
           "title": "Band 4 (red)",
           "type": "image/tiff; application=geotiff; profile=cloud-optimized"
          },
          "B05": {
           "href": "https://sentinel-cogs.s3.us-west-2.amazonaws.com/sentinel-s2-l2a-cogs/13/S/EV/2020/4/S2A_13SEV_20200413_0_L2A/B05.tif",
           "proj:shape": [
            5490,
            5490
           ],
           "proj:transform": [
            20,
            0,
            499980,
            0,
            -20,
            4000020,
            0,
            0,
            1
           ],
           "title": "Band 5",
           "type": "image/tiff; application=geotiff; profile=cloud-optimized"
          },
          "B06": {
           "href": "https://sentinel-cogs.s3.us-west-2.amazonaws.com/sentinel-s2-l2a-cogs/13/S/EV/2020/4/S2A_13SEV_20200413_0_L2A/B06.tif",
           "proj:shape": [
            5490,
            5490
           ],
           "proj:transform": [
            20,
            0,
            499980,
            0,
            -20,
            4000020,
            0,
            0,
            1
           ],
           "title": "Band 6",
           "type": "image/tiff; application=geotiff; profile=cloud-optimized"
          },
          "B07": {
           "href": "https://sentinel-cogs.s3.us-west-2.amazonaws.com/sentinel-s2-l2a-cogs/13/S/EV/2020/4/S2A_13SEV_20200413_0_L2A/B07.tif",
           "proj:shape": [
            5490,
            5490
           ],
           "proj:transform": [
            20,
            0,
            499980,
            0,
            -20,
            4000020,
            0,
            0,
            1
           ],
           "title": "Band 7",
           "type": "image/tiff; application=geotiff; profile=cloud-optimized"
          },
          "B08": {
           "href": "https://sentinel-cogs.s3.us-west-2.amazonaws.com/sentinel-s2-l2a-cogs/13/S/EV/2020/4/S2A_13SEV_20200413_0_L2A/B08.tif",
           "proj:shape": [
            10980,
            10980
           ],
           "proj:transform": [
            10,
            0,
            499980,
            0,
            -10,
            4000020,
            0,
            0,
            1
           ],
           "title": "Band 8 (nir)",
           "type": "image/tiff; application=geotiff; profile=cloud-optimized"
          },
          "B09": {
           "href": "https://sentinel-cogs.s3.us-west-2.amazonaws.com/sentinel-s2-l2a-cogs/13/S/EV/2020/4/S2A_13SEV_20200413_0_L2A/B09.tif",
           "proj:shape": [
            1830,
            1830
           ],
           "proj:transform": [
            60,
            0,
            499980,
            0,
            -60,
            4000020,
            0,
            0,
            1
           ],
           "title": "Band 9",
           "type": "image/tiff; application=geotiff; profile=cloud-optimized"
          },
          "B11": {
           "href": "https://sentinel-cogs.s3.us-west-2.amazonaws.com/sentinel-s2-l2a-cogs/13/S/EV/2020/4/S2A_13SEV_20200413_0_L2A/B11.tif",
           "proj:shape": [
            5490,
            5490
           ],
           "proj:transform": [
            20,
            0,
            499980,
            0,
            -20,
            4000020,
            0,
            0,
            1
           ],
           "title": "Band 11 (swir16)",
           "type": "image/tiff; application=geotiff; profile=cloud-optimized"
          },
          "B12": {
           "href": "https://sentinel-cogs.s3.us-west-2.amazonaws.com/sentinel-s2-l2a-cogs/13/S/EV/2020/4/S2A_13SEV_20200413_0_L2A/B12.tif",
           "proj:shape": [
            5490,
            5490
           ],
           "proj:transform": [
            20,
            0,
            499980,
            0,
            -20,
            4000020,
            0,
            0,
            1
           ],
           "title": "Band 12 (swir22)",
           "type": "image/tiff; application=geotiff; profile=cloud-optimized"
          },
          "B8A": {
           "href": "https://sentinel-cogs.s3.us-west-2.amazonaws.com/sentinel-s2-l2a-cogs/13/S/EV/2020/4/S2A_13SEV_20200413_0_L2A/B8A.tif",
           "proj:shape": [
            5490,
            5490
           ],
           "proj:transform": [
            20,
            0,
            499980,
            0,
            -20,
            4000020,
            0,
            0,
            1
           ],
           "title": "Band 8A",
           "type": "image/tiff; application=geotiff; profile=cloud-optimized"
          },
          "SCL": {
           "href": "https://sentinel-cogs.s3.us-west-2.amazonaws.com/sentinel-s2-l2a-cogs/13/S/EV/2020/4/S2A_13SEV_20200413_0_L2A/SCL.tif",
           "proj:shape": [
            5490,
            5490
           ],
           "proj:transform": [
            20,
            0,
            499980,
            0,
            -20,
            4000020,
            0,
            0,
            1
           ],
           "title": "Scene Classification Map (SCL)",
           "type": "image/tiff; application=geotiff; profile=cloud-optimized"
          },
          "WVP": {
           "href": "https://sentinel-cogs.s3.us-west-2.amazonaws.com/sentinel-s2-l2a-cogs/13/S/EV/2020/4/S2A_13SEV_20200413_0_L2A/WVP.tif",
           "proj:shape": [
            10980,
            10980
           ],
           "proj:transform": [
            10,
            0,
            499980,
            0,
            -10,
            4000020,
            0,
            0,
            1
           ],
           "title": "Water Vapour (WVP)",
           "type": "image/tiff; application=geotiff; profile=cloud-optimized"
          },
          "info": {
           "href": "https://roda.sentinel-hub.com/sentinel-s2-l2a/tiles/13/S/EV/2020/4/13/0/tileInfo.json",
           "title": "Original JSON metadata",
           "type": "application/json"
          },
          "metadata": {
           "href": "https://roda.sentinel-hub.com/sentinel-s2-l2a/tiles/13/S/EV/2020/4/13/0/metadata.xml",
           "title": "Original XML metadata",
           "type": "application/xml"
          },
          "overview": {
           "href": "https://sentinel-cogs.s3.us-west-2.amazonaws.com/sentinel-s2-l2a-cogs/13/S/EV/2020/4/S2A_13SEV_20200413_0_L2A/L2A_PVI.tif",
           "proj:shape": [
            343,
            343
           ],
           "proj:transform": [
            320,
            0,
            499980,
            0,
            -320,
            4000020,
            0,
            0,
            1
           ],
           "title": "True color image",
           "type": "image/tiff; application=geotiff; profile=cloud-optimized"
          },
          "thumbnail": {
           "href": "https://roda.sentinel-hub.com/sentinel-s2-l1c/tiles/13/S/EV/2020/4/13/0/preview.jpg",
           "title": "Thumbnail",
           "type": "image/png"
          },
          "visual": {
           "href": "https://sentinel-cogs.s3.us-west-2.amazonaws.com/sentinel-s2-l2a-cogs/13/S/EV/2020/4/S2A_13SEV_20200413_0_L2A/TCI.tif",
           "proj:shape": [
            10980,
            10980
           ],
           "proj:transform": [
            10,
            0,
            499980,
            0,
            -10,
            4000020,
            0,
            0,
            1
           ],
           "title": "True color image",
           "type": "image/tiff; application=geotiff; profile=cloud-optimized"
          }
         },
         "bbox": [
          -105.00021119917817,
          35.14890483642906,
          -103.77984908303581,
          36.14488939742409
         ],
         "collection": "sentinel-s2-l2a-cogs",
         "geometry": {
          "coordinates": [
           [
            [
             -103.79480708990562,
             35.14890483642906
            ],
            [
             -105.00020860928824,
             35.15489904955579
            ],
            [
             -105.00021119917817,
             36.14488939742409
            ],
            [
             -103.77984908303581,
             36.138673826567555
            ],
            [
             -103.79480708990562,
             35.14890483642906
            ]
           ]
          ],
          "type": "Polygon"
         },
         "id": "S2A_13SEV_20200413_0_L2A",
         "links": [
          {
           "href": "https://earth-search.aws.element84.com/v0/collections/sentinel-s2-l2a-cogs/items/S2A_13SEV_20200413_0_L2A",
           "rel": "self"
          },
          {
           "href": "https://sentinel-cogs.s3.us-west-2.amazonaws.com/sentinel-s2-l2a-cogs/13/S/EV/2020/4/S2A_13SEV_20200413_0_L2A/S2A_13SEV_20200413_0_L2A.json",
           "rel": "canonical",
           "type": "application/json"
          },
          {
           "href": "https://earth-search.aws.element84.com/v0/collections/sentinel-s2-l2a/items/S2A_13SEV_20200413_0_L2A",
           "rel": "derived_from",
           "title": "Source STAC Item",
           "type": "application/json"
          },
          {
           "href": "https://earth-search.aws.element84.com/v0/collections/sentinel-s2-l2a-cogs",
           "rel": "parent"
          },
          {
           "href": "https://earth-search.aws.element84.com/v0/collections/sentinel-s2-l2a-cogs",
           "rel": "collection"
          },
          {
           "href": "https://earth-search.aws.element84.com/v0",
           "rel": "root",
           "title": "Earth Search",
           "type": "application/json"
          }
         ],
         "properties": {
          "constellation": "sentinel-2",
          "created": "2020-09-19T01:38:37.672Z",
          "data_coverage": 100,
          "datetime": "2020-04-13T17:54:07Z",
          "eo:cloud_cover": 98.7,
          "gsd": 10,
          "instruments": [
           "msi"
          ],
          "platform": "sentinel-2a",
          "proj:epsg": 32613,
          "sentinel:data_coverage": 100,
          "sentinel:grid_square": "EV",
          "sentinel:latitude_band": "S",
          "sentinel:product_id": "S2A_MSIL2A_20200413T173901_N0214_R098_T13SEV_20200413T235616",
          "sentinel:sequence": "0",
          "sentinel:utm_zone": 13,
          "sentinel:valid_cloud_cover": true,
          "updated": "2020-09-19T01:38:37.672Z",
          "view:off_nadir": 0
         },
         "properties.sentinel:boa_offset_applied": false,
         "stac_extensions": [
          "eo",
          "view",
          "proj"
         ],
         "stac_version": "1.0.0",
         "type": "Feature"
        },
        {
         "assets": {
          "AOT": {
           "href": "https://sentinel-cogs.s3.us-west-2.amazonaws.com/sentinel-s2-l2a-cogs/13/S/CA/2020/4/S2A_13SCA_20200413_0_L2A/AOT.tif",
           "proj:shape": [
            1830,
            1830
           ],
           "proj:transform": [
            60,
            0,
            300000,
            0,
            -60,
            4100040,
            0,
            0,
            1
           ],
           "title": "Aerosol Optical Thickness (AOT)",
           "type": "image/tiff; application=geotiff; profile=cloud-optimized"
          },
          "B01": {
           "href": "https://sentinel-cogs.s3.us-west-2.amazonaws.com/sentinel-s2-l2a-cogs/13/S/CA/2020/4/S2A_13SCA_20200413_0_L2A/B01.tif",
           "proj:shape": [
            1830,
            1830
           ],
           "proj:transform": [
            60,
            0,
            300000,
            0,
            -60,
            4100040,
            0,
            0,
            1
           ],
           "title": "Band 1 (coastal)",
           "type": "image/tiff; application=geotiff; profile=cloud-optimized"
          },
          "B02": {
           "href": "https://sentinel-cogs.s3.us-west-2.amazonaws.com/sentinel-s2-l2a-cogs/13/S/CA/2020/4/S2A_13SCA_20200413_0_L2A/B02.tif",
           "proj:shape": [
            10980,
            10980
           ],
           "proj:transform": [
            10,
            0,
            300000,
            0,
            -10,
            4100040,
            0,
            0,
            1
           ],
           "title": "Band 2 (blue)",
           "type": "image/tiff; application=geotiff; profile=cloud-optimized"
          },
          "B03": {
           "href": "https://sentinel-cogs.s3.us-west-2.amazonaws.com/sentinel-s2-l2a-cogs/13/S/CA/2020/4/S2A_13SCA_20200413_0_L2A/B03.tif",
           "proj:shape": [
            10980,
            10980
           ],
           "proj:transform": [
            10,
            0,
            300000,
            0,
            -10,
            4100040,
            0,
            0,
            1
           ],
           "title": "Band 3 (green)",
           "type": "image/tiff; application=geotiff; profile=cloud-optimized"
          },
          "B04": {
           "href": "https://sentinel-cogs.s3.us-west-2.amazonaws.com/sentinel-s2-l2a-cogs/13/S/CA/2020/4/S2A_13SCA_20200413_0_L2A/B04.tif",
           "proj:shape": [
            10980,
            10980
           ],
           "proj:transform": [
            10,
            0,
            300000,
            0,
            -10,
            4100040,
            0,
            0,
            1
           ],
           "title": "Band 4 (red)",
           "type": "image/tiff; application=geotiff; profile=cloud-optimized"
          },
          "B05": {
           "href": "https://sentinel-cogs.s3.us-west-2.amazonaws.com/sentinel-s2-l2a-cogs/13/S/CA/2020/4/S2A_13SCA_20200413_0_L2A/B05.tif",
           "proj:shape": [
            5490,
            5490
           ],
           "proj:transform": [
            20,
            0,
            300000,
            0,
            -20,
            4100040,
            0,
            0,
            1
           ],
           "title": "Band 5",
           "type": "image/tiff; application=geotiff; profile=cloud-optimized"
          },
          "B06": {
           "href": "https://sentinel-cogs.s3.us-west-2.amazonaws.com/sentinel-s2-l2a-cogs/13/S/CA/2020/4/S2A_13SCA_20200413_0_L2A/B06.tif",
           "proj:shape": [
            5490,
            5490
           ],
           "proj:transform": [
            20,
            0,
            300000,
            0,
            -20,
            4100040,
            0,
            0,
            1
           ],
           "title": "Band 6",
           "type": "image/tiff; application=geotiff; profile=cloud-optimized"
          },
          "B07": {
           "href": "https://sentinel-cogs.s3.us-west-2.amazonaws.com/sentinel-s2-l2a-cogs/13/S/CA/2020/4/S2A_13SCA_20200413_0_L2A/B07.tif",
           "proj:shape": [
            5490,
            5490
           ],
           "proj:transform": [
            20,
            0,
            300000,
            0,
            -20,
            4100040,
            0,
            0,
            1
           ],
           "title": "Band 7",
           "type": "image/tiff; application=geotiff; profile=cloud-optimized"
          },
          "B08": {
           "href": "https://sentinel-cogs.s3.us-west-2.amazonaws.com/sentinel-s2-l2a-cogs/13/S/CA/2020/4/S2A_13SCA_20200413_0_L2A/B08.tif",
           "proj:shape": [
            10980,
            10980
           ],
           "proj:transform": [
            10,
            0,
            300000,
            0,
            -10,
            4100040,
            0,
            0,
            1
           ],
           "title": "Band 8 (nir)",
           "type": "image/tiff; application=geotiff; profile=cloud-optimized"
          },
          "B09": {
           "href": "https://sentinel-cogs.s3.us-west-2.amazonaws.com/sentinel-s2-l2a-cogs/13/S/CA/2020/4/S2A_13SCA_20200413_0_L2A/B09.tif",
           "proj:shape": [
            1830,
            1830
           ],
           "proj:transform": [
            60,
            0,
            300000,
            0,
            -60,
            4100040,
            0,
            0,
            1
           ],
           "title": "Band 9",
           "type": "image/tiff; application=geotiff; profile=cloud-optimized"
          },
          "B11": {
           "href": "https://sentinel-cogs.s3.us-west-2.amazonaws.com/sentinel-s2-l2a-cogs/13/S/CA/2020/4/S2A_13SCA_20200413_0_L2A/B11.tif",
           "proj:shape": [
            5490,
            5490
           ],
           "proj:transform": [
            20,
            0,
            300000,
            0,
            -20,
            4100040,
            0,
            0,
            1
           ],
           "title": "Band 11 (swir16)",
           "type": "image/tiff; application=geotiff; profile=cloud-optimized"
          },
          "B12": {
           "href": "https://sentinel-cogs.s3.us-west-2.amazonaws.com/sentinel-s2-l2a-cogs/13/S/CA/2020/4/S2A_13SCA_20200413_0_L2A/B12.tif",
           "proj:shape": [
            5490,
            5490
           ],
           "proj:transform": [
            20,
            0,
            300000,
            0,
            -20,
            4100040,
            0,
            0,
            1
           ],
           "title": "Band 12 (swir22)",
           "type": "image/tiff; application=geotiff; profile=cloud-optimized"
          },
          "B8A": {
           "href": "https://sentinel-cogs.s3.us-west-2.amazonaws.com/sentinel-s2-l2a-cogs/13/S/CA/2020/4/S2A_13SCA_20200413_0_L2A/B8A.tif",
           "proj:shape": [
            5490,
            5490
           ],
           "proj:transform": [
            20,
            0,
            300000,
            0,
            -20,
            4100040,
            0,
            0,
            1
           ],
           "title": "Band 8A",
           "type": "image/tiff; application=geotiff; profile=cloud-optimized"
          },
          "SCL": {
           "href": "https://sentinel-cogs.s3.us-west-2.amazonaws.com/sentinel-s2-l2a-cogs/13/S/CA/2020/4/S2A_13SCA_20200413_0_L2A/SCL.tif",
           "proj:shape": [
            5490,
            5490
           ],
           "proj:transform": [
            20,
            0,
            300000,
            0,
            -20,
            4100040,
            0,
            0,
            1
           ],
           "title": "Scene Classification Map (SCL)",
           "type": "image/tiff; application=geotiff; profile=cloud-optimized"
          },
          "WVP": {
           "href": "https://sentinel-cogs.s3.us-west-2.amazonaws.com/sentinel-s2-l2a-cogs/13/S/CA/2020/4/S2A_13SCA_20200413_0_L2A/WVP.tif",
           "proj:shape": [
            10980,
            10980
           ],
           "proj:transform": [
            10,
            0,
            300000,
            0,
            -10,
            4100040,
            0,
            0,
            1
           ],
           "title": "Water Vapour (WVP)",
           "type": "image/tiff; application=geotiff; profile=cloud-optimized"
          },
          "info": {
           "href": "https://roda.sentinel-hub.com/sentinel-s2-l2a/tiles/13/S/CA/2020/4/13/0/tileInfo.json",
           "title": "Original JSON metadata",
           "type": "application/json"
          },
          "metadata": {
           "href": "https://roda.sentinel-hub.com/sentinel-s2-l2a/tiles/13/S/CA/2020/4/13/0/metadata.xml",
           "title": "Original XML metadata",
           "type": "application/xml"
          },
          "overview": {
           "href": "https://sentinel-cogs.s3.us-west-2.amazonaws.com/sentinel-s2-l2a-cogs/13/S/CA/2020/4/S2A_13SCA_20200413_0_L2A/L2A_PVI.tif",
           "proj:shape": [
            343,
            343
           ],
           "proj:transform": [
            320,
            0,
            300000,
            0,
            -320,
            4100040,
            0,
            0,
            1
           ],
           "title": "True color image",
           "type": "image/tiff; application=geotiff; profile=cloud-optimized"
          },
          "thumbnail": {
           "href": "https://roda.sentinel-hub.com/sentinel-s2-l1c/tiles/13/S/CA/2020/4/13/0/preview.jpg",
           "title": "Thumbnail",
           "type": "image/png"
          },
          "visual": {
           "href": "https://sentinel-cogs.s3.us-west-2.amazonaws.com/sentinel-s2-l2a-cogs/13/S/CA/2020/4/S2A_13SCA_20200413_0_L2A/TCI.tif",
           "proj:shape": [
            10980,
            10980
           ],
           "proj:transform": [
            10,
            0,
            300000,
            0,
            -10,
            4100040,
            0,
            0,
            1
           ],
           "title": "True color image",
           "type": "image/tiff; application=geotiff; profile=cloud-optimized"
          }
         },
         "bbox": [
          -106.39812485379899,
          36.048579809092956,
          -106.00146317821304,
          37.042238132699175
         ],
         "collection": "sentinel-s2-l2a-cogs",
         "geometry": {
          "coordinates": [
           [
            [
             -106.39812485379899,
             36.048579809092956
            ],
            [
             -106.35568911315157,
             36.21129760802701
            ],
            [
             -106.1199479256659,
             37.0412879566515
            ],
            [
             -106.0143136619799,
             37.042238132699175
            ],
            [
             -106.00146317821304,
             36.052549930385496
            ],
            [
             -106.39812485379899,
             36.048579809092956
            ]
           ]
          ],
          "type": "Polygon"
         },
         "id": "S2A_13SCA_20200413_0_L2A",
         "links": [
          {
           "href": "https://earth-search.aws.element84.com/v0/collections/sentinel-s2-l2a-cogs/items/S2A_13SCA_20200413_0_L2A",
           "rel": "self"
          },
          {
           "href": "https://sentinel-cogs.s3.us-west-2.amazonaws.com/sentinel-s2-l2a-cogs/13/S/CA/2020/4/S2A_13SCA_20200413_0_L2A/S2A_13SCA_20200413_0_L2A.json",
           "rel": "canonical",
           "type": "application/json"
          },
          {
           "href": "https://earth-search.aws.element84.com/v0/collections/sentinel-s2-l2a/items/S2A_13SCA_20200413_0_L2A",
           "rel": "derived_from",
           "title": "Source STAC Item",
           "type": "application/json"
          },
          {
           "href": "https://earth-search.aws.element84.com/v0/collections/sentinel-s2-l2a-cogs",
           "rel": "parent"
          },
          {
           "href": "https://earth-search.aws.element84.com/v0/collections/sentinel-s2-l2a-cogs",
           "rel": "collection"
          },
          {
           "href": "https://earth-search.aws.element84.com/v0",
           "rel": "root",
           "title": "Earth Search",
           "type": "application/json"
          }
         ],
         "properties": {
          "constellation": "sentinel-2",
          "created": "2020-09-19T10:28:14.469Z",
          "data_coverage": 20.57,
          "datetime": "2020-04-13T17:54:00Z",
          "eo:cloud_cover": 99.97,
          "gsd": 10,
          "instruments": [
           "msi"
          ],
          "platform": "sentinel-2a",
          "proj:epsg": 32613,
          "sentinel:data_coverage": 20.57,
          "sentinel:grid_square": "CA",
          "sentinel:latitude_band": "S",
          "sentinel:product_id": "S2A_MSIL2A_20200413T173901_N0214_R098_T13SCA_20200413T235616",
          "sentinel:sequence": "0",
          "sentinel:utm_zone": 13,
          "sentinel:valid_cloud_cover": true,
          "updated": "2020-09-19T10:28:14.469Z",
          "view:off_nadir": 0
         },
         "properties.sentinel:boa_offset_applied": false,
         "stac_extensions": [
          "eo",
          "view",
          "proj"
         ],
         "stac_version": "1.0.0",
         "type": "Feature"
        },
        {
         "assets": {
          "AOT": {
           "href": "https://sentinel-cogs.s3.us-west-2.amazonaws.com/sentinel-s2-l2a-cogs/13/S/DA/2020/4/S2A_13SDA_20200413_0_L2A/AOT.tif",
           "proj:shape": [
            1830,
            1830
           ],
           "proj:transform": [
            60,
            0,
            399960,
            0,
            -60,
            4100040,
            0,
            0,
            1
           ],
           "title": "Aerosol Optical Thickness (AOT)",
           "type": "image/tiff; application=geotiff; profile=cloud-optimized"
          },
          "B01": {
           "href": "https://sentinel-cogs.s3.us-west-2.amazonaws.com/sentinel-s2-l2a-cogs/13/S/DA/2020/4/S2A_13SDA_20200413_0_L2A/B01.tif",
           "proj:shape": [
            1830,
            1830
           ],
           "proj:transform": [
            60,
            0,
            399960,
            0,
            -60,
            4100040,
            0,
            0,
            1
           ],
           "title": "Band 1 (coastal)",
           "type": "image/tiff; application=geotiff; profile=cloud-optimized"
          },
          "B02": {
           "href": "https://sentinel-cogs.s3.us-west-2.amazonaws.com/sentinel-s2-l2a-cogs/13/S/DA/2020/4/S2A_13SDA_20200413_0_L2A/B02.tif",
           "proj:shape": [
            10980,
            10980
           ],
           "proj:transform": [
            10,
            0,
            399960,
            0,
            -10,
            4100040,
            0,
            0,
            1
           ],
           "title": "Band 2 (blue)",
           "type": "image/tiff; application=geotiff; profile=cloud-optimized"
          },
          "B03": {
           "href": "https://sentinel-cogs.s3.us-west-2.amazonaws.com/sentinel-s2-l2a-cogs/13/S/DA/2020/4/S2A_13SDA_20200413_0_L2A/B03.tif",
           "proj:shape": [
            10980,
            10980
           ],
           "proj:transform": [
            10,
            0,
            399960,
            0,
            -10,
            4100040,
            0,
            0,
            1
           ],
           "title": "Band 3 (green)",
           "type": "image/tiff; application=geotiff; profile=cloud-optimized"
          },
          "B04": {
           "href": "https://sentinel-cogs.s3.us-west-2.amazonaws.com/sentinel-s2-l2a-cogs/13/S/DA/2020/4/S2A_13SDA_20200413_0_L2A/B04.tif",
           "proj:shape": [
            10980,
            10980
           ],
           "proj:transform": [
            10,
            0,
            399960,
            0,
            -10,
            4100040,
            0,
            0,
            1
           ],
           "title": "Band 4 (red)",
           "type": "image/tiff; application=geotiff; profile=cloud-optimized"
          },
          "B05": {
           "href": "https://sentinel-cogs.s3.us-west-2.amazonaws.com/sentinel-s2-l2a-cogs/13/S/DA/2020/4/S2A_13SDA_20200413_0_L2A/B05.tif",
           "proj:shape": [
            5490,
            5490
           ],
           "proj:transform": [
            20,
            0,
            399960,
            0,
            -20,
            4100040,
            0,
            0,
            1
           ],
           "title": "Band 5",
           "type": "image/tiff; application=geotiff; profile=cloud-optimized"
          },
          "B06": {
           "href": "https://sentinel-cogs.s3.us-west-2.amazonaws.com/sentinel-s2-l2a-cogs/13/S/DA/2020/4/S2A_13SDA_20200413_0_L2A/B06.tif",
           "proj:shape": [
            5490,
            5490
           ],
           "proj:transform": [
            20,
            0,
            399960,
            0,
            -20,
            4100040,
            0,
            0,
            1
           ],
           "title": "Band 6",
           "type": "image/tiff; application=geotiff; profile=cloud-optimized"
          },
          "B07": {
           "href": "https://sentinel-cogs.s3.us-west-2.amazonaws.com/sentinel-s2-l2a-cogs/13/S/DA/2020/4/S2A_13SDA_20200413_0_L2A/B07.tif",
           "proj:shape": [
            5490,
            5490
           ],
           "proj:transform": [
            20,
            0,
            399960,
            0,
            -20,
            4100040,
            0,
            0,
            1
           ],
           "title": "Band 7",
           "type": "image/tiff; application=geotiff; profile=cloud-optimized"
          },
          "B08": {
           "href": "https://sentinel-cogs.s3.us-west-2.amazonaws.com/sentinel-s2-l2a-cogs/13/S/DA/2020/4/S2A_13SDA_20200413_0_L2A/B08.tif",
           "proj:shape": [
            10980,
            10980
           ],
           "proj:transform": [
            10,
            0,
            399960,
            0,
            -10,
            4100040,
            0,
            0,
            1
           ],
           "title": "Band 8 (nir)",
           "type": "image/tiff; application=geotiff; profile=cloud-optimized"
          },
          "B09": {
           "href": "https://sentinel-cogs.s3.us-west-2.amazonaws.com/sentinel-s2-l2a-cogs/13/S/DA/2020/4/S2A_13SDA_20200413_0_L2A/B09.tif",
           "proj:shape": [
            1830,
            1830
           ],
           "proj:transform": [
            60,
            0,
            399960,
            0,
            -60,
            4100040,
            0,
            0,
            1
           ],
           "title": "Band 9",
           "type": "image/tiff; application=geotiff; profile=cloud-optimized"
          },
          "B11": {
           "href": "https://sentinel-cogs.s3.us-west-2.amazonaws.com/sentinel-s2-l2a-cogs/13/S/DA/2020/4/S2A_13SDA_20200413_0_L2A/B11.tif",
           "proj:shape": [
            5490,
            5490
           ],
           "proj:transform": [
            20,
            0,
            399960,
            0,
            -20,
            4100040,
            0,
            0,
            1
           ],
           "title": "Band 11 (swir16)",
           "type": "image/tiff; application=geotiff; profile=cloud-optimized"
          },
          "B12": {
           "href": "https://sentinel-cogs.s3.us-west-2.amazonaws.com/sentinel-s2-l2a-cogs/13/S/DA/2020/4/S2A_13SDA_20200413_0_L2A/B12.tif",
           "proj:shape": [
            5490,
            5490
           ],
           "proj:transform": [
            20,
            0,
            399960,
            0,
            -20,
            4100040,
            0,
            0,
            1
           ],
           "title": "Band 12 (swir22)",
           "type": "image/tiff; application=geotiff; profile=cloud-optimized"
          },
          "B8A": {
           "href": "https://sentinel-cogs.s3.us-west-2.amazonaws.com/sentinel-s2-l2a-cogs/13/S/DA/2020/4/S2A_13SDA_20200413_0_L2A/B8A.tif",
           "proj:shape": [
            5490,
            5490
           ],
           "proj:transform": [
            20,
            0,
            399960,
            0,
            -20,
            4100040,
            0,
            0,
            1
           ],
           "title": "Band 8A",
           "type": "image/tiff; application=geotiff; profile=cloud-optimized"
          },
          "SCL": {
           "href": "https://sentinel-cogs.s3.us-west-2.amazonaws.com/sentinel-s2-l2a-cogs/13/S/DA/2020/4/S2A_13SDA_20200413_0_L2A/SCL.tif",
           "proj:shape": [
            5490,
            5490
           ],
           "proj:transform": [
            20,
            0,
            399960,
            0,
            -20,
            4100040,
            0,
            0,
            1
           ],
           "title": "Scene Classification Map (SCL)",
           "type": "image/tiff; application=geotiff; profile=cloud-optimized"
          },
          "WVP": {
           "href": "https://sentinel-cogs.s3.us-west-2.amazonaws.com/sentinel-s2-l2a-cogs/13/S/DA/2020/4/S2A_13SDA_20200413_0_L2A/WVP.tif",
           "proj:shape": [
            10980,
            10980
           ],
           "proj:transform": [
            10,
            0,
            399960,
            0,
            -10,
            4100040,
            0,
            0,
            1
           ],
           "title": "Water Vapour (WVP)",
           "type": "image/tiff; application=geotiff; profile=cloud-optimized"
          },
          "info": {
           "href": "https://roda.sentinel-hub.com/sentinel-s2-l2a/tiles/13/S/DA/2020/4/13/0/tileInfo.json",
           "title": "Original JSON metadata",
           "type": "application/json"
          },
          "metadata": {
           "href": "https://roda.sentinel-hub.com/sentinel-s2-l2a/tiles/13/S/DA/2020/4/13/0/metadata.xml",
           "title": "Original XML metadata",
           "type": "application/xml"
          },
          "overview": {
           "href": "https://sentinel-cogs.s3.us-west-2.amazonaws.com/sentinel-s2-l2a-cogs/13/S/DA/2020/4/S2A_13SDA_20200413_0_L2A/L2A_PVI.tif",
           "proj:shape": [
            343,
            343
           ],
           "proj:transform": [
            320,
            0,
            399960,
            0,
            -320,
            4100040,
            0,
            0,
            1
           ],
           "title": "True color image",
           "type": "image/tiff; application=geotiff; profile=cloud-optimized"
          },
          "thumbnail": {
           "href": "https://roda.sentinel-hub.com/sentinel-s2-l1c/tiles/13/S/DA/2020/4/13/0/preview.jpg",
           "title": "Thumbnail",
           "type": "image/png"
          },
          "visual": {
           "href": "https://sentinel-cogs.s3.us-west-2.amazonaws.com/sentinel-s2-l2a-cogs/13/S/DA/2020/4/S2A_13SDA_20200413_0_L2A/TCI.tif",
           "proj:shape": [
            10980,
            10980
           ],
           "proj:transform": [
            10,
            0,
            399960,
            0,
            -10,
            4100040,
            0,
            0,
            1
           ],
           "title": "True color image",
           "type": "image/tiff; application=geotiff; profile=cloud-optimized"
          }
         },
         "bbox": [
          -106.12468156772219,
          36.05158782950058,
          -104.89025193801255,
          37.0465232766518
         ],
         "collection": "sentinel-s2-l2a-cogs",
         "geometry": {
          "coordinates": [
           [
            [
             -106.11067273828671,
             36.05158782950058
            ],
            [
             -106.12468156772219,
             37.02481216168609
            ],
            [
             -106.11994673723673,
             37.041287967870545
            ],
            [
             -104.89025193801255,
             37.0465232766518
            ],
            [
             -104.89164263349547,
             36.05668401100348
            ],
            [
             -106.11067273828671,
             36.05158782950058
            ]
           ]
          ],
          "type": "Polygon"
         },
         "id": "S2A_13SDA_20200413_0_L2A",
         "links": [
          {
           "href": "https://earth-search.aws.element84.com/v0/collections/sentinel-s2-l2a-cogs/items/S2A_13SDA_20200413_0_L2A",
           "rel": "self"
          },
          {
           "href": "https://sentinel-cogs.s3.us-west-2.amazonaws.com/sentinel-s2-l2a-cogs/13/S/DA/2020/4/S2A_13SDA_20200413_0_L2A/S2A_13SDA_20200413_0_L2A.json",
           "rel": "canonical",
           "type": "application/json"
          },
          {
           "href": "https://earth-search.aws.element84.com/v0/collections/sentinel-s2-l2a/items/S2A_13SDA_20200413_0_L2A",
           "rel": "derived_from",
           "title": "Source STAC Item",
           "type": "application/json"
          },
          {
           "href": "https://earth-search.aws.element84.com/v0/collections/sentinel-s2-l2a-cogs",
           "rel": "parent"
          },
          {
           "href": "https://earth-search.aws.element84.com/v0/collections/sentinel-s2-l2a-cogs",
           "rel": "collection"
          },
          {
           "href": "https://earth-search.aws.element84.com/v0",
           "rel": "root",
           "title": "Earth Search",
           "type": "application/json"
          }
         ],
         "properties": {
          "constellation": "sentinel-2",
          "created": "2020-09-19T01:38:56.112Z",
          "data_coverage": 99.99,
          "datetime": "2020-04-13T17:53:56Z",
          "eo:cloud_cover": 99.96,
          "gsd": 10,
          "instruments": [
           "msi"
          ],
          "platform": "sentinel-2a",
          "proj:epsg": 32613,
          "sentinel:data_coverage": 99.99,
          "sentinel:grid_square": "DA",
          "sentinel:latitude_band": "S",
          "sentinel:product_id": "S2A_MSIL2A_20200413T173901_N0214_R098_T13SDA_20200413T235616",
          "sentinel:sequence": "0",
          "sentinel:utm_zone": 13,
          "sentinel:valid_cloud_cover": true,
          "updated": "2020-09-19T01:38:56.112Z",
          "view:off_nadir": 0
         },
         "properties.sentinel:boa_offset_applied": false,
         "stac_extensions": [
          "eo",
          "view",
          "proj"
         ],
         "stac_version": "1.0.0",
         "type": "Feature"
        },
        {
         "assets": {
          "AOT": {
           "href": "https://sentinel-cogs.s3.us-west-2.amazonaws.com/sentinel-s2-l2a-cogs/13/S/EA/2020/4/S2A_13SEA_20200413_0_L2A/AOT.tif",
           "proj:shape": [
            1830,
            1830
           ],
           "proj:transform": [
            60,
            0,
            499980,
            0,
            -60,
            4100040,
            0,
            0,
            1
           ],
           "title": "Aerosol Optical Thickness (AOT)",
           "type": "image/tiff; application=geotiff; profile=cloud-optimized"
          },
          "B01": {
           "href": "https://sentinel-cogs.s3.us-west-2.amazonaws.com/sentinel-s2-l2a-cogs/13/S/EA/2020/4/S2A_13SEA_20200413_0_L2A/B01.tif",
           "proj:shape": [
            1830,
            1830
           ],
           "proj:transform": [
            60,
            0,
            499980,
            0,
            -60,
            4100040,
            0,
            0,
            1
           ],
           "title": "Band 1 (coastal)",
           "type": "image/tiff; application=geotiff; profile=cloud-optimized"
          },
          "B02": {
           "href": "https://sentinel-cogs.s3.us-west-2.amazonaws.com/sentinel-s2-l2a-cogs/13/S/EA/2020/4/S2A_13SEA_20200413_0_L2A/B02.tif",
           "proj:shape": [
            10980,
            10980
           ],
           "proj:transform": [
            10,
            0,
            499980,
            0,
            -10,
            4100040,
            0,
            0,
            1
           ],
           "title": "Band 2 (blue)",
           "type": "image/tiff; application=geotiff; profile=cloud-optimized"
          },
          "B03": {
           "href": "https://sentinel-cogs.s3.us-west-2.amazonaws.com/sentinel-s2-l2a-cogs/13/S/EA/2020/4/S2A_13SEA_20200413_0_L2A/B03.tif",
           "proj:shape": [
            10980,
            10980
           ],
           "proj:transform": [
            10,
            0,
            499980,
            0,
            -10,
            4100040,
            0,
            0,
            1
           ],
           "title": "Band 3 (green)",
           "type": "image/tiff; application=geotiff; profile=cloud-optimized"
          },
          "B04": {
           "href": "https://sentinel-cogs.s3.us-west-2.amazonaws.com/sentinel-s2-l2a-cogs/13/S/EA/2020/4/S2A_13SEA_20200413_0_L2A/B04.tif",
           "proj:shape": [
            10980,
            10980
           ],
           "proj:transform": [
            10,
            0,
            499980,
            0,
            -10,
            4100040,
            0,
            0,
            1
           ],
           "title": "Band 4 (red)",
           "type": "image/tiff; application=geotiff; profile=cloud-optimized"
          },
          "B05": {
           "href": "https://sentinel-cogs.s3.us-west-2.amazonaws.com/sentinel-s2-l2a-cogs/13/S/EA/2020/4/S2A_13SEA_20200413_0_L2A/B05.tif",
           "proj:shape": [
            5490,
            5490
           ],
           "proj:transform": [
            20,
            0,
            499980,
            0,
            -20,
            4100040,
            0,
            0,
            1
           ],
           "title": "Band 5",
           "type": "image/tiff; application=geotiff; profile=cloud-optimized"
          },
          "B06": {
           "href": "https://sentinel-cogs.s3.us-west-2.amazonaws.com/sentinel-s2-l2a-cogs/13/S/EA/2020/4/S2A_13SEA_20200413_0_L2A/B06.tif",
           "proj:shape": [
            5490,
            5490
           ],
           "proj:transform": [
            20,
            0,
            499980,
            0,
            -20,
            4100040,
            0,
            0,
            1
           ],
           "title": "Band 6",
           "type": "image/tiff; application=geotiff; profile=cloud-optimized"
          },
          "B07": {
           "href": "https://sentinel-cogs.s3.us-west-2.amazonaws.com/sentinel-s2-l2a-cogs/13/S/EA/2020/4/S2A_13SEA_20200413_0_L2A/B07.tif",
           "proj:shape": [
            5490,
            5490
           ],
           "proj:transform": [
            20,
            0,
            499980,
            0,
            -20,
            4100040,
            0,
            0,
            1
           ],
           "title": "Band 7",
           "type": "image/tiff; application=geotiff; profile=cloud-optimized"
          },
          "B08": {
           "href": "https://sentinel-cogs.s3.us-west-2.amazonaws.com/sentinel-s2-l2a-cogs/13/S/EA/2020/4/S2A_13SEA_20200413_0_L2A/B08.tif",
           "proj:shape": [
            10980,
            10980
           ],
           "proj:transform": [
            10,
            0,
            499980,
            0,
            -10,
            4100040,
            0,
            0,
            1
           ],
           "title": "Band 8 (nir)",
           "type": "image/tiff; application=geotiff; profile=cloud-optimized"
          },
          "B09": {
           "href": "https://sentinel-cogs.s3.us-west-2.amazonaws.com/sentinel-s2-l2a-cogs/13/S/EA/2020/4/S2A_13SEA_20200413_0_L2A/B09.tif",
           "proj:shape": [
            1830,
            1830
           ],
           "proj:transform": [
            60,
            0,
            499980,
            0,
            -60,
            4100040,
            0,
            0,
            1
           ],
           "title": "Band 9",
           "type": "image/tiff; application=geotiff; profile=cloud-optimized"
          },
          "B11": {
           "href": "https://sentinel-cogs.s3.us-west-2.amazonaws.com/sentinel-s2-l2a-cogs/13/S/EA/2020/4/S2A_13SEA_20200413_0_L2A/B11.tif",
           "proj:shape": [
            5490,
            5490
           ],
           "proj:transform": [
            20,
            0,
            499980,
            0,
            -20,
            4100040,
            0,
            0,
            1
           ],
           "title": "Band 11 (swir16)",
           "type": "image/tiff; application=geotiff; profile=cloud-optimized"
          },
          "B12": {
           "href": "https://sentinel-cogs.s3.us-west-2.amazonaws.com/sentinel-s2-l2a-cogs/13/S/EA/2020/4/S2A_13SEA_20200413_0_L2A/B12.tif",
           "proj:shape": [
            5490,
            5490
           ],
           "proj:transform": [
            20,
            0,
            499980,
            0,
            -20,
            4100040,
            0,
            0,
            1
           ],
           "title": "Band 12 (swir22)",
           "type": "image/tiff; application=geotiff; profile=cloud-optimized"
          },
          "B8A": {
           "href": "https://sentinel-cogs.s3.us-west-2.amazonaws.com/sentinel-s2-l2a-cogs/13/S/EA/2020/4/S2A_13SEA_20200413_0_L2A/B8A.tif",
           "proj:shape": [
            5490,
            5490
           ],
           "proj:transform": [
            20,
            0,
            499980,
            0,
            -20,
            4100040,
            0,
            0,
            1
           ],
           "title": "Band 8A",
           "type": "image/tiff; application=geotiff; profile=cloud-optimized"
          },
          "SCL": {
           "href": "https://sentinel-cogs.s3.us-west-2.amazonaws.com/sentinel-s2-l2a-cogs/13/S/EA/2020/4/S2A_13SEA_20200413_0_L2A/SCL.tif",
           "proj:shape": [
            5490,
            5490
           ],
           "proj:transform": [
            20,
            0,
            499980,
            0,
            -20,
            4100040,
            0,
            0,
            1
           ],
           "title": "Scene Classification Map (SCL)",
           "type": "image/tiff; application=geotiff; profile=cloud-optimized"
          },
          "WVP": {
           "href": "https://sentinel-cogs.s3.us-west-2.amazonaws.com/sentinel-s2-l2a-cogs/13/S/EA/2020/4/S2A_13SEA_20200413_0_L2A/WVP.tif",
           "proj:shape": [
            10980,
            10980
           ],
           "proj:transform": [
            10,
            0,
            499980,
            0,
            -10,
            4100040,
            0,
            0,
            1
           ],
           "title": "Water Vapour (WVP)",
           "type": "image/tiff; application=geotiff; profile=cloud-optimized"
          },
          "info": {
           "href": "https://roda.sentinel-hub.com/sentinel-s2-l2a/tiles/13/S/EA/2020/4/13/0/tileInfo.json",
           "title": "Original JSON metadata",
           "type": "application/json"
          },
          "metadata": {
           "href": "https://roda.sentinel-hub.com/sentinel-s2-l2a/tiles/13/S/EA/2020/4/13/0/metadata.xml",
           "title": "Original XML metadata",
           "type": "application/xml"
          },
          "overview": {
           "href": "https://sentinel-cogs.s3.us-west-2.amazonaws.com/sentinel-s2-l2a-cogs/13/S/EA/2020/4/S2A_13SEA_20200413_0_L2A/L2A_PVI.tif",
           "proj:shape": [
            343,
            343
           ],
           "proj:transform": [
            320,
            0,
            499980,
            0,
            -320,
            4100040,
            0,
            0,
            1
           ],
           "title": "True color image",
           "type": "image/tiff; application=geotiff; profile=cloud-optimized"
          },
          "thumbnail": {
           "href": "https://roda.sentinel-hub.com/sentinel-s2-l1c/tiles/13/S/EA/2020/4/13/0/preview.jpg",
           "title": "Thumbnail",
           "type": "image/png"
          },
          "visual": {
           "href": "https://sentinel-cogs.s3.us-west-2.amazonaws.com/sentinel-s2-l2a-cogs/13/S/EA/2020/4/S2A_13SEA_20200413_0_L2A/TCI.tif",
           "proj:shape": [
            10980,
            10980
           ],
           "proj:transform": [
            10,
            0,
            499980,
            0,
            -10,
            4100040,
            0,
            0,
            1
           ],
           "title": "True color image",
           "type": "image/tiff; application=geotiff; profile=cloud-optimized"
          }
         },
         "bbox": [
          -105.0002136709621,
          36.05053734221329,
          -103.76557335686445,
          37.046574035721214
         ],
         "collection": "sentinel-s2-l2a-cogs",
         "geometry": {
          "coordinates": [
           [
            [
             -103.78121094088331,
             36.05053734221329
            ],
            [
             -105.00021096337939,
             36.056732980577884
            ],
            [
             -105.0002136709621,
             37.046574035721214
            ],
            [
             -103.76557335686445,
             37.04015200857309
            ],
            [
             -103.78121094088331,
             36.05053734221329
            ]
           ]
          ],
          "type": "Polygon"
         },
         "id": "S2A_13SEA_20200413_0_L2A",
         "links": [
          {
           "href": "https://earth-search.aws.element84.com/v0/collections/sentinel-s2-l2a-cogs/items/S2A_13SEA_20200413_0_L2A",
           "rel": "self"
          },
          {
           "href": "https://sentinel-cogs.s3.us-west-2.amazonaws.com/sentinel-s2-l2a-cogs/13/S/EA/2020/4/S2A_13SEA_20200413_0_L2A/S2A_13SEA_20200413_0_L2A.json",
           "rel": "canonical",
           "type": "application/json"
          },
          {
           "href": "https://earth-search.aws.element84.com/v0/collections/sentinel-s2-l2a/items/S2A_13SEA_20200413_0_L2A",
           "rel": "derived_from",
           "title": "Source STAC Item",
           "type": "application/json"
          },
          {
           "href": "https://earth-search.aws.element84.com/v0/collections/sentinel-s2-l2a-cogs",
           "rel": "parent"
          },
          {
           "href": "https://earth-search.aws.element84.com/v0/collections/sentinel-s2-l2a-cogs",
           "rel": "collection"
          },
          {
           "href": "https://earth-search.aws.element84.com/v0",
           "rel": "root",
           "title": "Earth Search",
           "type": "application/json"
          }
         ],
         "properties": {
          "constellation": "sentinel-2",
          "created": "2020-09-23T16:37:20.438Z",
          "data_coverage": 100,
          "datetime": "2020-04-13T17:53:52Z",
          "eo:cloud_cover": 100,
          "gsd": 10,
          "instruments": [
           "msi"
          ],
          "platform": "sentinel-2a",
          "proj:epsg": 32613,
          "sentinel:data_coverage": 100,
          "sentinel:grid_square": "EA",
          "sentinel:latitude_band": "S",
          "sentinel:product_id": "S2A_MSIL2A_20200413T173901_N0214_R098_T13SEA_20200413T235616",
          "sentinel:sequence": "0",
          "sentinel:utm_zone": 13,
          "sentinel:valid_cloud_cover": true,
          "updated": "2020-09-23T16:37:20.438Z",
          "view:off_nadir": 0
         },
         "properties.sentinel:boa_offset_applied": false,
         "stac_extensions": [
          "eo",
          "view",
          "proj"
         ],
         "stac_version": "1.0.0",
         "type": "Feature"
        },
        {
         "assets": {
          "AOT": {
           "href": "https://sentinel-cogs.s3.us-west-2.amazonaws.com/sentinel-s2-l2a-cogs/13/S/CV/2020/4/S2B_13SCV_20200411_0_L2A/AOT.tif",
           "proj:shape": [
            1830,
            1830
           ],
           "proj:transform": [
            60,
            0,
            300000,
            0,
            -60,
            4000020,
            0,
            0,
            1
           ],
           "title": "Aerosol Optical Thickness (AOT)",
           "type": "image/tiff; application=geotiff; profile=cloud-optimized"
          },
          "B01": {
           "href": "https://sentinel-cogs.s3.us-west-2.amazonaws.com/sentinel-s2-l2a-cogs/13/S/CV/2020/4/S2B_13SCV_20200411_0_L2A/B01.tif",
           "proj:shape": [
            1830,
            1830
           ],
           "proj:transform": [
            60,
            0,
            300000,
            0,
            -60,
            4000020,
            0,
            0,
            1
           ],
           "title": "Band 1 (coastal)",
           "type": "image/tiff; application=geotiff; profile=cloud-optimized"
          },
          "B02": {
           "href": "https://sentinel-cogs.s3.us-west-2.amazonaws.com/sentinel-s2-l2a-cogs/13/S/CV/2020/4/S2B_13SCV_20200411_0_L2A/B02.tif",
           "proj:shape": [
            10980,
            10980
           ],
           "proj:transform": [
            10,
            0,
            300000,
            0,
            -10,
            4000020,
            0,
            0,
            1
           ],
           "title": "Band 2 (blue)",
           "type": "image/tiff; application=geotiff; profile=cloud-optimized"
          },
          "B03": {
           "href": "https://sentinel-cogs.s3.us-west-2.amazonaws.com/sentinel-s2-l2a-cogs/13/S/CV/2020/4/S2B_13SCV_20200411_0_L2A/B03.tif",
           "proj:shape": [
            10980,
            10980
           ],
           "proj:transform": [
            10,
            0,
            300000,
            0,
            -10,
            4000020,
            0,
            0,
            1
           ],
           "title": "Band 3 (green)",
           "type": "image/tiff; application=geotiff; profile=cloud-optimized"
          },
          "B04": {
           "href": "https://sentinel-cogs.s3.us-west-2.amazonaws.com/sentinel-s2-l2a-cogs/13/S/CV/2020/4/S2B_13SCV_20200411_0_L2A/B04.tif",
           "proj:shape": [
            10980,
            10980
           ],
           "proj:transform": [
            10,
            0,
            300000,
            0,
            -10,
            4000020,
            0,
            0,
            1
           ],
           "title": "Band 4 (red)",
           "type": "image/tiff; application=geotiff; profile=cloud-optimized"
          },
          "B05": {
           "href": "https://sentinel-cogs.s3.us-west-2.amazonaws.com/sentinel-s2-l2a-cogs/13/S/CV/2020/4/S2B_13SCV_20200411_0_L2A/B05.tif",
           "proj:shape": [
            5490,
            5490
           ],
           "proj:transform": [
            20,
            0,
            300000,
            0,
            -20,
            4000020,
            0,
            0,
            1
           ],
           "title": "Band 5",
           "type": "image/tiff; application=geotiff; profile=cloud-optimized"
          },
          "B06": {
           "href": "https://sentinel-cogs.s3.us-west-2.amazonaws.com/sentinel-s2-l2a-cogs/13/S/CV/2020/4/S2B_13SCV_20200411_0_L2A/B06.tif",
           "proj:shape": [
            5490,
            5490
           ],
           "proj:transform": [
            20,
            0,
            300000,
            0,
            -20,
            4000020,
            0,
            0,
            1
           ],
           "title": "Band 6",
           "type": "image/tiff; application=geotiff; profile=cloud-optimized"
          },
          "B07": {
           "href": "https://sentinel-cogs.s3.us-west-2.amazonaws.com/sentinel-s2-l2a-cogs/13/S/CV/2020/4/S2B_13SCV_20200411_0_L2A/B07.tif",
           "proj:shape": [
            5490,
            5490
           ],
           "proj:transform": [
            20,
            0,
            300000,
            0,
            -20,
            4000020,
            0,
            0,
            1
           ],
           "title": "Band 7",
           "type": "image/tiff; application=geotiff; profile=cloud-optimized"
          },
          "B08": {
           "href": "https://sentinel-cogs.s3.us-west-2.amazonaws.com/sentinel-s2-l2a-cogs/13/S/CV/2020/4/S2B_13SCV_20200411_0_L2A/B08.tif",
           "proj:shape": [
            10980,
            10980
           ],
           "proj:transform": [
            10,
            0,
            300000,
            0,
            -10,
            4000020,
            0,
            0,
            1
           ],
           "title": "Band 8 (nir)",
           "type": "image/tiff; application=geotiff; profile=cloud-optimized"
          },
          "B09": {
           "href": "https://sentinel-cogs.s3.us-west-2.amazonaws.com/sentinel-s2-l2a-cogs/13/S/CV/2020/4/S2B_13SCV_20200411_0_L2A/B09.tif",
           "proj:shape": [
            1830,
            1830
           ],
           "proj:transform": [
            60,
            0,
            300000,
            0,
            -60,
            4000020,
            0,
            0,
            1
           ],
           "title": "Band 9",
           "type": "image/tiff; application=geotiff; profile=cloud-optimized"
          },
          "B11": {
           "href": "https://sentinel-cogs.s3.us-west-2.amazonaws.com/sentinel-s2-l2a-cogs/13/S/CV/2020/4/S2B_13SCV_20200411_0_L2A/B11.tif",
           "proj:shape": [
            5490,
            5490
           ],
           "proj:transform": [
            20,
            0,
            300000,
            0,
            -20,
            4000020,
            0,
            0,
            1
           ],
           "title": "Band 11 (swir16)",
           "type": "image/tiff; application=geotiff; profile=cloud-optimized"
          },
          "B12": {
           "href": "https://sentinel-cogs.s3.us-west-2.amazonaws.com/sentinel-s2-l2a-cogs/13/S/CV/2020/4/S2B_13SCV_20200411_0_L2A/B12.tif",
           "proj:shape": [
            5490,
            5490
           ],
           "proj:transform": [
            20,
            0,
            300000,
            0,
            -20,
            4000020,
            0,
            0,
            1
           ],
           "title": "Band 12 (swir22)",
           "type": "image/tiff; application=geotiff; profile=cloud-optimized"
          },
          "B8A": {
           "href": "https://sentinel-cogs.s3.us-west-2.amazonaws.com/sentinel-s2-l2a-cogs/13/S/CV/2020/4/S2B_13SCV_20200411_0_L2A/B8A.tif",
           "proj:shape": [
            5490,
            5490
           ],
           "proj:transform": [
            20,
            0,
            300000,
            0,
            -20,
            4000020,
            0,
            0,
            1
           ],
           "title": "Band 8A",
           "type": "image/tiff; application=geotiff; profile=cloud-optimized"
          },
          "SCL": {
           "href": "https://sentinel-cogs.s3.us-west-2.amazonaws.com/sentinel-s2-l2a-cogs/13/S/CV/2020/4/S2B_13SCV_20200411_0_L2A/SCL.tif",
           "proj:shape": [
            5490,
            5490
           ],
           "proj:transform": [
            20,
            0,
            300000,
            0,
            -20,
            4000020,
            0,
            0,
            1
           ],
           "title": "Scene Classification Map (SCL)",
           "type": "image/tiff; application=geotiff; profile=cloud-optimized"
          },
          "WVP": {
           "href": "https://sentinel-cogs.s3.us-west-2.amazonaws.com/sentinel-s2-l2a-cogs/13/S/CV/2020/4/S2B_13SCV_20200411_0_L2A/WVP.tif",
           "proj:shape": [
            10980,
            10980
           ],
           "proj:transform": [
            10,
            0,
            300000,
            0,
            -10,
            4000020,
            0,
            0,
            1
           ],
           "title": "Water Vapour (WVP)",
           "type": "image/tiff; application=geotiff; profile=cloud-optimized"
          },
          "info": {
           "href": "https://roda.sentinel-hub.com/sentinel-s2-l2a/tiles/13/S/CV/2020/4/11/0/tileInfo.json",
           "title": "Original JSON metadata",
           "type": "application/json"
          },
          "metadata": {
           "href": "https://roda.sentinel-hub.com/sentinel-s2-l2a/tiles/13/S/CV/2020/4/11/0/metadata.xml",
           "title": "Original XML metadata",
           "type": "application/xml"
          },
          "overview": {
           "href": "https://sentinel-cogs.s3.us-west-2.amazonaws.com/sentinel-s2-l2a-cogs/13/S/CV/2020/4/S2B_13SCV_20200411_0_L2A/L2A_PVI.tif",
           "proj:shape": [
            343,
            343
           ],
           "proj:transform": [
            320,
            0,
            300000,
            0,
            -320,
            4000020,
            0,
            0,
            1
           ],
           "title": "True color image",
           "type": "image/tiff; application=geotiff; profile=cloud-optimized"
          },
          "thumbnail": {
           "href": "https://roda.sentinel-hub.com/sentinel-s2-l1c/tiles/13/S/CV/2020/4/11/0/preview.jpg",
           "title": "Thumbnail",
           "type": "image/png"
          },
          "visual": {
           "href": "https://sentinel-cogs.s3.us-west-2.amazonaws.com/sentinel-s2-l2a-cogs/13/S/CV/2020/4/S2B_13SCV_20200411_0_L2A/TCI.tif",
           "proj:shape": [
            10980,
            10980
           ],
           "proj:transform": [
            10,
            0,
            300000,
            0,
            -10,
            4000020,
            0,
            0,
            1
           ],
           "title": "True color image",
           "type": "image/tiff; application=geotiff; profile=cloud-optimized"
          }
         },
         "bbox": [
          -107.22238510800922,
          35.135011161377925,
          -105.99029032211578,
          36.14069288925992
         ],
         "collection": "sentinel-s2-l2a-cogs",
         "geometry": {
          "coordinates": [
           [
            [
             -107.19515930513214,
             35.135011161377925
            ],
            [
             -107.22238510800922,
             36.124267208418296
            ],
            [
             -106.00258230901163,
             36.14069288925992
            ],
            [
             -105.99029032211578,
             35.15085199698541
            ],
            [
             -107.19515930513214,
             35.135011161377925
            ]
           ]
          ],
          "type": "Polygon"
         },
         "id": "S2B_13SCV_20200411_0_L2A",
         "links": [
          {
           "href": "https://earth-search.aws.element84.com/v0/collections/sentinel-s2-l2a-cogs/items/S2B_13SCV_20200411_0_L2A",
           "rel": "self"
          },
          {
           "href": "https://sentinel-cogs.s3.us-west-2.amazonaws.com/sentinel-s2-l2a-cogs/13/S/CV/2020/4/S2B_13SCV_20200411_0_L2A/S2B_13SCV_20200411_0_L2A.json",
           "rel": "canonical",
           "type": "application/json"
          },
          {
           "href": "https://earth-search.aws.element84.com/v0/collections/sentinel-s2-l2a/items/S2B_13SCV_20200411_0_L2A",
           "rel": "derived_from",
           "title": "Source STAC Item",
           "type": "application/json"
          },
          {
           "href": "https://earth-search.aws.element84.com/v0/collections/sentinel-s2-l2a-cogs",
           "rel": "parent"
          },
          {
           "href": "https://earth-search.aws.element84.com/v0/collections/sentinel-s2-l2a-cogs",
           "rel": "collection"
          },
          {
           "href": "https://earth-search.aws.element84.com/v0",
           "rel": "root",
           "title": "Earth Search",
           "type": "application/json"
          }
         ],
         "properties": {
          "constellation": "sentinel-2",
          "created": "2020-09-23T09:09:25.619Z",
          "data_coverage": 100,
          "datetime": "2020-04-11T18:04:07Z",
          "eo:cloud_cover": 17.83,
          "gsd": 10,
          "instruments": [
           "msi"
          ],
          "platform": "sentinel-2b",
          "proj:epsg": 32613,
          "sentinel:data_coverage": 100,
          "sentinel:grid_square": "CV",
          "sentinel:latitude_band": "S",
          "sentinel:product_id": "S2B_MSIL2A_20200411T174909_N0214_R141_T13SCV_20200411T220443",
          "sentinel:sequence": "0",
          "sentinel:utm_zone": 13,
          "sentinel:valid_cloud_cover": true,
          "updated": "2020-09-23T09:09:25.619Z",
          "view:off_nadir": 0
         },
         "properties.sentinel:boa_offset_applied": false,
         "stac_extensions": [
          "eo",
          "view",
          "proj"
         ],
         "stac_version": "1.0.0",
         "type": "Feature"
        },
        {
         "assets": {
          "AOT": {
           "href": "https://sentinel-cogs.s3.us-west-2.amazonaws.com/sentinel-s2-l2a-cogs/13/S/DV/2020/4/S2B_13SDV_20200411_0_L2A/AOT.tif",
           "proj:shape": [
            1830,
            1830
           ],
           "proj:transform": [
            60,
            0,
            399960,
            0,
            -60,
            4000020,
            0,
            0,
            1
           ],
           "title": "Aerosol Optical Thickness (AOT)",
           "type": "image/tiff; application=geotiff; profile=cloud-optimized"
          },
          "B01": {
           "href": "https://sentinel-cogs.s3.us-west-2.amazonaws.com/sentinel-s2-l2a-cogs/13/S/DV/2020/4/S2B_13SDV_20200411_0_L2A/B01.tif",
           "proj:shape": [
            1830,
            1830
           ],
           "proj:transform": [
            60,
            0,
            399960,
            0,
            -60,
            4000020,
            0,
            0,
            1
           ],
           "title": "Band 1 (coastal)",
           "type": "image/tiff; application=geotiff; profile=cloud-optimized"
          },
          "B02": {
           "href": "https://sentinel-cogs.s3.us-west-2.amazonaws.com/sentinel-s2-l2a-cogs/13/S/DV/2020/4/S2B_13SDV_20200411_0_L2A/B02.tif",
           "proj:shape": [
            10980,
            10980
           ],
           "proj:transform": [
            10,
            0,
            399960,
            0,
            -10,
            4000020,
            0,
            0,
            1
           ],
           "title": "Band 2 (blue)",
           "type": "image/tiff; application=geotiff; profile=cloud-optimized"
          },
          "B03": {
           "href": "https://sentinel-cogs.s3.us-west-2.amazonaws.com/sentinel-s2-l2a-cogs/13/S/DV/2020/4/S2B_13SDV_20200411_0_L2A/B03.tif",
           "proj:shape": [
            10980,
            10980
           ],
           "proj:transform": [
            10,
            0,
            399960,
            0,
            -10,
            4000020,
            0,
            0,
            1
           ],
           "title": "Band 3 (green)",
           "type": "image/tiff; application=geotiff; profile=cloud-optimized"
          },
          "B04": {
           "href": "https://sentinel-cogs.s3.us-west-2.amazonaws.com/sentinel-s2-l2a-cogs/13/S/DV/2020/4/S2B_13SDV_20200411_0_L2A/B04.tif",
           "proj:shape": [
            10980,
            10980
           ],
           "proj:transform": [
            10,
            0,
            399960,
            0,
            -10,
            4000020,
            0,
            0,
            1
           ],
           "title": "Band 4 (red)",
           "type": "image/tiff; application=geotiff; profile=cloud-optimized"
          },
          "B05": {
           "href": "https://sentinel-cogs.s3.us-west-2.amazonaws.com/sentinel-s2-l2a-cogs/13/S/DV/2020/4/S2B_13SDV_20200411_0_L2A/B05.tif",
           "proj:shape": [
            5490,
            5490
           ],
           "proj:transform": [
            20,
            0,
            399960,
            0,
            -20,
            4000020,
            0,
            0,
            1
           ],
           "title": "Band 5",
           "type": "image/tiff; application=geotiff; profile=cloud-optimized"
          },
          "B06": {
           "href": "https://sentinel-cogs.s3.us-west-2.amazonaws.com/sentinel-s2-l2a-cogs/13/S/DV/2020/4/S2B_13SDV_20200411_0_L2A/B06.tif",
           "proj:shape": [
            5490,
            5490
           ],
           "proj:transform": [
            20,
            0,
            399960,
            0,
            -20,
            4000020,
            0,
            0,
            1
           ],
           "title": "Band 6",
           "type": "image/tiff; application=geotiff; profile=cloud-optimized"
          },
          "B07": {
           "href": "https://sentinel-cogs.s3.us-west-2.amazonaws.com/sentinel-s2-l2a-cogs/13/S/DV/2020/4/S2B_13SDV_20200411_0_L2A/B07.tif",
           "proj:shape": [
            5490,
            5490
           ],
           "proj:transform": [
            20,
            0,
            399960,
            0,
            -20,
            4000020,
            0,
            0,
            1
           ],
           "title": "Band 7",
           "type": "image/tiff; application=geotiff; profile=cloud-optimized"
          },
          "B08": {
           "href": "https://sentinel-cogs.s3.us-west-2.amazonaws.com/sentinel-s2-l2a-cogs/13/S/DV/2020/4/S2B_13SDV_20200411_0_L2A/B08.tif",
           "proj:shape": [
            10980,
            10980
           ],
           "proj:transform": [
            10,
            0,
            399960,
            0,
            -10,
            4000020,
            0,
            0,
            1
           ],
           "title": "Band 8 (nir)",
           "type": "image/tiff; application=geotiff; profile=cloud-optimized"
          },
          "B09": {
           "href": "https://sentinel-cogs.s3.us-west-2.amazonaws.com/sentinel-s2-l2a-cogs/13/S/DV/2020/4/S2B_13SDV_20200411_0_L2A/B09.tif",
           "proj:shape": [
            1830,
            1830
           ],
           "proj:transform": [
            60,
            0,
            399960,
            0,
            -60,
            4000020,
            0,
            0,
            1
           ],
           "title": "Band 9",
           "type": "image/tiff; application=geotiff; profile=cloud-optimized"
          },
          "B11": {
           "href": "https://sentinel-cogs.s3.us-west-2.amazonaws.com/sentinel-s2-l2a-cogs/13/S/DV/2020/4/S2B_13SDV_20200411_0_L2A/B11.tif",
           "proj:shape": [
            5490,
            5490
           ],
           "proj:transform": [
            20,
            0,
            399960,
            0,
            -20,
            4000020,
            0,
            0,
            1
           ],
           "title": "Band 11 (swir16)",
           "type": "image/tiff; application=geotiff; profile=cloud-optimized"
          },
          "B12": {
           "href": "https://sentinel-cogs.s3.us-west-2.amazonaws.com/sentinel-s2-l2a-cogs/13/S/DV/2020/4/S2B_13SDV_20200411_0_L2A/B12.tif",
           "proj:shape": [
            5490,
            5490
           ],
           "proj:transform": [
            20,
            0,
            399960,
            0,
            -20,
            4000020,
            0,
            0,
            1
           ],
           "title": "Band 12 (swir22)",
           "type": "image/tiff; application=geotiff; profile=cloud-optimized"
          },
          "B8A": {
           "href": "https://sentinel-cogs.s3.us-west-2.amazonaws.com/sentinel-s2-l2a-cogs/13/S/DV/2020/4/S2B_13SDV_20200411_0_L2A/B8A.tif",
           "proj:shape": [
            5490,
            5490
           ],
           "proj:transform": [
            20,
            0,
            399960,
            0,
            -20,
            4000020,
            0,
            0,
            1
           ],
           "title": "Band 8A",
           "type": "image/tiff; application=geotiff; profile=cloud-optimized"
          },
          "SCL": {
           "href": "https://sentinel-cogs.s3.us-west-2.amazonaws.com/sentinel-s2-l2a-cogs/13/S/DV/2020/4/S2B_13SDV_20200411_0_L2A/SCL.tif",
           "proj:shape": [
            5490,
            5490
           ],
           "proj:transform": [
            20,
            0,
            399960,
            0,
            -20,
            4000020,
            0,
            0,
            1
           ],
           "title": "Scene Classification Map (SCL)",
           "type": "image/tiff; application=geotiff; profile=cloud-optimized"
          },
          "WVP": {
           "href": "https://sentinel-cogs.s3.us-west-2.amazonaws.com/sentinel-s2-l2a-cogs/13/S/DV/2020/4/S2B_13SDV_20200411_0_L2A/WVP.tif",
           "proj:shape": [
            10980,
            10980
           ],
           "proj:transform": [
            10,
            0,
            399960,
            0,
            -10,
            4000020,
            0,
            0,
            1
           ],
           "title": "Water Vapour (WVP)",
           "type": "image/tiff; application=geotiff; profile=cloud-optimized"
          },
          "info": {
           "href": "https://roda.sentinel-hub.com/sentinel-s2-l2a/tiles/13/S/DV/2020/4/11/0/tileInfo.json",
           "title": "Original JSON metadata",
           "type": "application/json"
          },
          "metadata": {
           "href": "https://roda.sentinel-hub.com/sentinel-s2-l2a/tiles/13/S/DV/2020/4/11/0/metadata.xml",
           "title": "Original XML metadata",
           "type": "application/xml"
          },
          "overview": {
           "href": "https://sentinel-cogs.s3.us-west-2.amazonaws.com/sentinel-s2-l2a-cogs/13/S/DV/2020/4/S2B_13SDV_20200411_0_L2A/L2A_PVI.tif",
           "proj:shape": [
            343,
            343
           ],
           "proj:transform": [
            320,
            0,
            399960,
            0,
            -320,
            4000020,
            0,
            0,
            1
           ],
           "title": "True color image",
           "type": "image/tiff; application=geotiff; profile=cloud-optimized"
          },
          "thumbnail": {
           "href": "https://roda.sentinel-hub.com/sentinel-s2-l1c/tiles/13/S/DV/2020/4/11/0/preview.jpg",
           "title": "Thumbnail",
           "type": "image/png"
          },
          "visual": {
           "href": "https://sentinel-cogs.s3.us-west-2.amazonaws.com/sentinel-s2-l2a-cogs/13/S/DV/2020/4/S2B_13SDV_20200411_0_L2A/TCI.tif",
           "proj:shape": [
            10980,
            10980
           ],
           "proj:transform": [
            10,
            0,
            399960,
            0,
            -10,
            4000020,
            0,
            0,
            1
           ],
           "title": "True color image",
           "type": "image/tiff; application=geotiff; profile=cloud-optimized"
          }
         },
         "bbox": [
          -106.11191385205835,
          35.1499211736146,
          -105.53482908370049,
          36.14369521910014
         ],
         "collection": "sentinel-s2-l2a-cogs",
         "geometry": {
          "coordinates": [
           [
            [
             -106.09828205302668,
             35.1499211736146
            ],
            [
             -106.11191385205835,
             36.139727693244055
            ],
            [
             -105.53482908370049,
             36.14369521910014
            ],
            [
             -105.851131517389,
             35.151909510324145
            ],
            [
             -106.09828205302668,
             35.1499211736146
            ]
           ]
          ],
          "type": "Polygon"
         },
         "id": "S2B_13SDV_20200411_0_L2A",
         "links": [
          {
           "href": "https://earth-search.aws.element84.com/v0/collections/sentinel-s2-l2a-cogs/items/S2B_13SDV_20200411_0_L2A",
           "rel": "self"
          },
          {
           "href": "https://sentinel-cogs.s3.us-west-2.amazonaws.com/sentinel-s2-l2a-cogs/13/S/DV/2020/4/S2B_13SDV_20200411_0_L2A/S2B_13SDV_20200411_0_L2A.json",
           "rel": "canonical",
           "type": "application/json"
          },
          {
           "href": "https://earth-search.aws.element84.com/v0/collections/sentinel-s2-l2a/items/S2B_13SDV_20200411_0_L2A",
           "rel": "derived_from",
           "title": "Source STAC Item",
           "type": "application/json"
          },
          {
           "href": "https://earth-search.aws.element84.com/v0/collections/sentinel-s2-l2a-cogs",
           "rel": "parent"
          },
          {
           "href": "https://earth-search.aws.element84.com/v0/collections/sentinel-s2-l2a-cogs",
           "rel": "collection"
          },
          {
           "href": "https://earth-search.aws.element84.com/v0",
           "rel": "root",
           "title": "Earth Search",
           "type": "application/json"
          }
         ],
         "properties": {
          "constellation": "sentinel-2",
          "created": "2020-09-23T16:16:43.693Z",
          "data_coverage": 33.87,
          "datetime": "2020-04-11T18:04:03Z",
          "eo:cloud_cover": 9.37,
          "gsd": 10,
          "instruments": [
           "msi"
          ],
          "platform": "sentinel-2b",
          "proj:epsg": 32613,
          "sentinel:data_coverage": 33.87,
          "sentinel:grid_square": "DV",
          "sentinel:latitude_band": "S",
          "sentinel:product_id": "S2B_MSIL2A_20200411T174909_N0214_R141_T13SDV_20200411T220443",
          "sentinel:sequence": "0",
          "sentinel:utm_zone": 13,
          "sentinel:valid_cloud_cover": true,
          "updated": "2020-09-23T16:16:43.693Z",
          "view:off_nadir": 0
         },
         "properties.sentinel:boa_offset_applied": false,
         "stac_extensions": [
          "eo",
          "view",
          "proj"
         ],
         "stac_version": "1.0.0",
         "type": "Feature"
        },
        {
         "assets": {
          "AOT": {
           "href": "https://sentinel-cogs.s3.us-west-2.amazonaws.com/sentinel-s2-l2a-cogs/13/S/CA/2020/4/S2B_13SCA_20200411_0_L2A/AOT.tif",
           "proj:shape": [
            1830,
            1830
           ],
           "proj:transform": [
            60,
            0,
            300000,
            0,
            -60,
            4100040,
            0,
            0,
            1
           ],
           "title": "Aerosol Optical Thickness (AOT)",
           "type": "image/tiff; application=geotiff; profile=cloud-optimized"
          },
          "B01": {
           "href": "https://sentinel-cogs.s3.us-west-2.amazonaws.com/sentinel-s2-l2a-cogs/13/S/CA/2020/4/S2B_13SCA_20200411_0_L2A/B01.tif",
           "proj:shape": [
            1830,
            1830
           ],
           "proj:transform": [
            60,
            0,
            300000,
            0,
            -60,
            4100040,
            0,
            0,
            1
           ],
           "title": "Band 1 (coastal)",
           "type": "image/tiff; application=geotiff; profile=cloud-optimized"
          },
          "B02": {
           "href": "https://sentinel-cogs.s3.us-west-2.amazonaws.com/sentinel-s2-l2a-cogs/13/S/CA/2020/4/S2B_13SCA_20200411_0_L2A/B02.tif",
           "proj:shape": [
            10980,
            10980
           ],
           "proj:transform": [
            10,
            0,
            300000,
            0,
            -10,
            4100040,
            0,
            0,
            1
           ],
           "title": "Band 2 (blue)",
           "type": "image/tiff; application=geotiff; profile=cloud-optimized"
          },
          "B03": {
           "href": "https://sentinel-cogs.s3.us-west-2.amazonaws.com/sentinel-s2-l2a-cogs/13/S/CA/2020/4/S2B_13SCA_20200411_0_L2A/B03.tif",
           "proj:shape": [
            10980,
            10980
           ],
           "proj:transform": [
            10,
            0,
            300000,
            0,
            -10,
            4100040,
            0,
            0,
            1
           ],
           "title": "Band 3 (green)",
           "type": "image/tiff; application=geotiff; profile=cloud-optimized"
          },
          "B04": {
           "href": "https://sentinel-cogs.s3.us-west-2.amazonaws.com/sentinel-s2-l2a-cogs/13/S/CA/2020/4/S2B_13SCA_20200411_0_L2A/B04.tif",
           "proj:shape": [
            10980,
            10980
           ],
           "proj:transform": [
            10,
            0,
            300000,
            0,
            -10,
            4100040,
            0,
            0,
            1
           ],
           "title": "Band 4 (red)",
           "type": "image/tiff; application=geotiff; profile=cloud-optimized"
          },
          "B05": {
           "href": "https://sentinel-cogs.s3.us-west-2.amazonaws.com/sentinel-s2-l2a-cogs/13/S/CA/2020/4/S2B_13SCA_20200411_0_L2A/B05.tif",
           "proj:shape": [
            5490,
            5490
           ],
           "proj:transform": [
            20,
            0,
            300000,
            0,
            -20,
            4100040,
            0,
            0,
            1
           ],
           "title": "Band 5",
           "type": "image/tiff; application=geotiff; profile=cloud-optimized"
          },
          "B06": {
           "href": "https://sentinel-cogs.s3.us-west-2.amazonaws.com/sentinel-s2-l2a-cogs/13/S/CA/2020/4/S2B_13SCA_20200411_0_L2A/B06.tif",
           "proj:shape": [
            5490,
            5490
           ],
           "proj:transform": [
            20,
            0,
            300000,
            0,
            -20,
            4100040,
            0,
            0,
            1
           ],
           "title": "Band 6",
           "type": "image/tiff; application=geotiff; profile=cloud-optimized"
          },
          "B07": {
           "href": "https://sentinel-cogs.s3.us-west-2.amazonaws.com/sentinel-s2-l2a-cogs/13/S/CA/2020/4/S2B_13SCA_20200411_0_L2A/B07.tif",
           "proj:shape": [
            5490,
            5490
           ],
           "proj:transform": [
            20,
            0,
            300000,
            0,
            -20,
            4100040,
            0,
            0,
            1
           ],
           "title": "Band 7",
           "type": "image/tiff; application=geotiff; profile=cloud-optimized"
          },
          "B08": {
           "href": "https://sentinel-cogs.s3.us-west-2.amazonaws.com/sentinel-s2-l2a-cogs/13/S/CA/2020/4/S2B_13SCA_20200411_0_L2A/B08.tif",
           "proj:shape": [
            10980,
            10980
           ],
           "proj:transform": [
            10,
            0,
            300000,
            0,
            -10,
            4100040,
            0,
            0,
            1
           ],
           "title": "Band 8 (nir)",
           "type": "image/tiff; application=geotiff; profile=cloud-optimized"
          },
          "B09": {
           "href": "https://sentinel-cogs.s3.us-west-2.amazonaws.com/sentinel-s2-l2a-cogs/13/S/CA/2020/4/S2B_13SCA_20200411_0_L2A/B09.tif",
           "proj:shape": [
            1830,
            1830
           ],
           "proj:transform": [
            60,
            0,
            300000,
            0,
            -60,
            4100040,
            0,
            0,
            1
           ],
           "title": "Band 9",
           "type": "image/tiff; application=geotiff; profile=cloud-optimized"
          },
          "B11": {
           "href": "https://sentinel-cogs.s3.us-west-2.amazonaws.com/sentinel-s2-l2a-cogs/13/S/CA/2020/4/S2B_13SCA_20200411_0_L2A/B11.tif",
           "proj:shape": [
            5490,
            5490
           ],
           "proj:transform": [
            20,
            0,
            300000,
            0,
            -20,
            4100040,
            0,
            0,
            1
           ],
           "title": "Band 11 (swir16)",
           "type": "image/tiff; application=geotiff; profile=cloud-optimized"
          },
          "B12": {
           "href": "https://sentinel-cogs.s3.us-west-2.amazonaws.com/sentinel-s2-l2a-cogs/13/S/CA/2020/4/S2B_13SCA_20200411_0_L2A/B12.tif",
           "proj:shape": [
            5490,
            5490
           ],
           "proj:transform": [
            20,
            0,
            300000,
            0,
            -20,
            4100040,
            0,
            0,
            1
           ],
           "title": "Band 12 (swir22)",
           "type": "image/tiff; application=geotiff; profile=cloud-optimized"
          },
          "B8A": {
           "href": "https://sentinel-cogs.s3.us-west-2.amazonaws.com/sentinel-s2-l2a-cogs/13/S/CA/2020/4/S2B_13SCA_20200411_0_L2A/B8A.tif",
           "proj:shape": [
            5490,
            5490
           ],
           "proj:transform": [
            20,
            0,
            300000,
            0,
            -20,
            4100040,
            0,
            0,
            1
           ],
           "title": "Band 8A",
           "type": "image/tiff; application=geotiff; profile=cloud-optimized"
          },
          "SCL": {
           "href": "https://sentinel-cogs.s3.us-west-2.amazonaws.com/sentinel-s2-l2a-cogs/13/S/CA/2020/4/S2B_13SCA_20200411_0_L2A/SCL.tif",
           "proj:shape": [
            5490,
            5490
           ],
           "proj:transform": [
            20,
            0,
            300000,
            0,
            -20,
            4100040,
            0,
            0,
            1
           ],
           "title": "Scene Classification Map (SCL)",
           "type": "image/tiff; application=geotiff; profile=cloud-optimized"
          },
          "WVP": {
           "href": "https://sentinel-cogs.s3.us-west-2.amazonaws.com/sentinel-s2-l2a-cogs/13/S/CA/2020/4/S2B_13SCA_20200411_0_L2A/WVP.tif",
           "proj:shape": [
            10980,
            10980
           ],
           "proj:transform": [
            10,
            0,
            300000,
            0,
            -10,
            4100040,
            0,
            0,
            1
           ],
           "title": "Water Vapour (WVP)",
           "type": "image/tiff; application=geotiff; profile=cloud-optimized"
          },
          "info": {
           "href": "https://roda.sentinel-hub.com/sentinel-s2-l2a/tiles/13/S/CA/2020/4/11/0/tileInfo.json",
           "title": "Original JSON metadata",
           "type": "application/json"
          },
          "metadata": {
           "href": "https://roda.sentinel-hub.com/sentinel-s2-l2a/tiles/13/S/CA/2020/4/11/0/metadata.xml",
           "title": "Original XML metadata",
           "type": "application/xml"
          },
          "overview": {
           "href": "https://sentinel-cogs.s3.us-west-2.amazonaws.com/sentinel-s2-l2a-cogs/13/S/CA/2020/4/S2B_13SCA_20200411_0_L2A/L2A_PVI.tif",
           "proj:shape": [
            343,
            343
           ],
           "proj:transform": [
            320,
            0,
            300000,
            0,
            -320,
            4100040,
            0,
            0,
            1
           ],
           "title": "True color image",
           "type": "image/tiff; application=geotiff; profile=cloud-optimized"
          },
          "thumbnail": {
           "href": "https://roda.sentinel-hub.com/sentinel-s2-l1c/tiles/13/S/CA/2020/4/11/0/preview.jpg",
           "title": "Thumbnail",
           "type": "image/png"
          },
          "visual": {
           "href": "https://sentinel-cogs.s3.us-west-2.amazonaws.com/sentinel-s2-l2a-cogs/13/S/CA/2020/4/S2B_13SCA_20200411_0_L2A/TCI.tif",
           "proj:shape": [
            10980,
            10980
           ],
           "proj:transform": [
            10,
            0,
            300000,
            0,
            -10,
            4100040,
            0,
            0,
            1
           ],
           "title": "True color image",
           "type": "image/tiff; application=geotiff; profile=cloud-optimized"
          }
         },
         "bbox": [
          -107.24836840432948,
          36.03617691222184,
          -106.00146317821304,
          37.042238132699175
         ],
         "collection": "sentinel-s2-l2a-cogs",
         "geometry": {
          "coordinates": [
           [
            [
             -107.21990635255229,
             36.03617691222184
            ],
            [
             -107.24836840432948,
             37.025266990733755
            ],
            [
             -106.0143136619799,
             37.042238132699175
            ],
            [
             -106.00146317821304,
             36.052549930385496
            ],
            [
             -107.21990635255229,
             36.03617691222184
            ]
           ]
          ],
          "type": "Polygon"
         },
         "id": "S2B_13SCA_20200411_0_L2A",
         "links": [
          {
           "href": "https://earth-search.aws.element84.com/v0/collections/sentinel-s2-l2a-cogs/items/S2B_13SCA_20200411_0_L2A",
           "rel": "self"
          },
          {
           "href": "https://sentinel-cogs.s3.us-west-2.amazonaws.com/sentinel-s2-l2a-cogs/13/S/CA/2020/4/S2B_13SCA_20200411_0_L2A/S2B_13SCA_20200411_0_L2A.json",
           "rel": "canonical",
           "type": "application/json"
          },
          {
           "href": "https://earth-search.aws.element84.com/v0/collections/sentinel-s2-l2a/items/S2B_13SCA_20200411_0_L2A",
           "rel": "derived_from",
           "title": "Source STAC Item",
           "type": "application/json"
          },
          {
           "href": "https://earth-search.aws.element84.com/v0/collections/sentinel-s2-l2a-cogs",
           "rel": "parent"
          },
          {
           "href": "https://earth-search.aws.element84.com/v0/collections/sentinel-s2-l2a-cogs",
           "rel": "collection"
          },
          {
           "href": "https://earth-search.aws.element84.com/v0",
           "rel": "root",
           "title": "Earth Search",
           "type": "application/json"
          }
         ],
         "properties": {
          "constellation": "sentinel-2",
          "created": "2020-09-18T23:11:12.399Z",
          "data_coverage": 100,
          "datetime": "2020-04-11T18:03:53Z",
          "eo:cloud_cover": 11.07,
          "gsd": 10,
          "instruments": [
           "msi"
          ],
          "platform": "sentinel-2b",
          "proj:epsg": 32613,
          "sentinel:data_coverage": 100,
          "sentinel:grid_square": "CA",
          "sentinel:latitude_band": "S",
          "sentinel:product_id": "S2B_MSIL2A_20200411T174909_N0214_R141_T13SCA_20200411T220443",
          "sentinel:sequence": "0",
          "sentinel:utm_zone": 13,
          "sentinel:valid_cloud_cover": true,
          "updated": "2020-09-18T23:11:12.399Z",
          "view:off_nadir": 0
         },
         "properties.sentinel:boa_offset_applied": false,
         "stac_extensions": [
          "eo",
          "view",
          "proj"
         ],
         "stac_version": "1.0.0",
         "type": "Feature"
        },
        {
         "assets": {
          "AOT": {
           "href": "https://sentinel-cogs.s3.us-west-2.amazonaws.com/sentinel-s2-l2a-cogs/13/S/DA/2020/4/S2B_13SDA_20200411_0_L2A/AOT.tif",
           "proj:shape": [
            1830,
            1830
           ],
           "proj:transform": [
            60,
            0,
            399960,
            0,
            -60,
            4100040,
            0,
            0,
            1
           ],
           "title": "Aerosol Optical Thickness (AOT)",
           "type": "image/tiff; application=geotiff; profile=cloud-optimized"
          },
          "B01": {
           "href": "https://sentinel-cogs.s3.us-west-2.amazonaws.com/sentinel-s2-l2a-cogs/13/S/DA/2020/4/S2B_13SDA_20200411_0_L2A/B01.tif",
           "proj:shape": [
            1830,
            1830
           ],
           "proj:transform": [
            60,
            0,
            399960,
            0,
            -60,
            4100040,
            0,
            0,
            1
           ],
           "title": "Band 1 (coastal)",
           "type": "image/tiff; application=geotiff; profile=cloud-optimized"
          },
          "B02": {
           "href": "https://sentinel-cogs.s3.us-west-2.amazonaws.com/sentinel-s2-l2a-cogs/13/S/DA/2020/4/S2B_13SDA_20200411_0_L2A/B02.tif",
           "proj:shape": [
            10980,
            10980
           ],
           "proj:transform": [
            10,
            0,
            399960,
            0,
            -10,
            4100040,
            0,
            0,
            1
           ],
           "title": "Band 2 (blue)",
           "type": "image/tiff; application=geotiff; profile=cloud-optimized"
          },
          "B03": {
           "href": "https://sentinel-cogs.s3.us-west-2.amazonaws.com/sentinel-s2-l2a-cogs/13/S/DA/2020/4/S2B_13SDA_20200411_0_L2A/B03.tif",
           "proj:shape": [
            10980,
            10980
           ],
           "proj:transform": [
            10,
            0,
            399960,
            0,
            -10,
            4100040,
            0,
            0,
            1
           ],
           "title": "Band 3 (green)",
           "type": "image/tiff; application=geotiff; profile=cloud-optimized"
          },
          "B04": {
           "href": "https://sentinel-cogs.s3.us-west-2.amazonaws.com/sentinel-s2-l2a-cogs/13/S/DA/2020/4/S2B_13SDA_20200411_0_L2A/B04.tif",
           "proj:shape": [
            10980,
            10980
           ],
           "proj:transform": [
            10,
            0,
            399960,
            0,
            -10,
            4100040,
            0,
            0,
            1
           ],
           "title": "Band 4 (red)",
           "type": "image/tiff; application=geotiff; profile=cloud-optimized"
          },
          "B05": {
           "href": "https://sentinel-cogs.s3.us-west-2.amazonaws.com/sentinel-s2-l2a-cogs/13/S/DA/2020/4/S2B_13SDA_20200411_0_L2A/B05.tif",
           "proj:shape": [
            5490,
            5490
           ],
           "proj:transform": [
            20,
            0,
            399960,
            0,
            -20,
            4100040,
            0,
            0,
            1
           ],
           "title": "Band 5",
           "type": "image/tiff; application=geotiff; profile=cloud-optimized"
          },
          "B06": {
           "href": "https://sentinel-cogs.s3.us-west-2.amazonaws.com/sentinel-s2-l2a-cogs/13/S/DA/2020/4/S2B_13SDA_20200411_0_L2A/B06.tif",
           "proj:shape": [
            5490,
            5490
           ],
           "proj:transform": [
            20,
            0,
            399960,
            0,
            -20,
            4100040,
            0,
            0,
            1
           ],
           "title": "Band 6",
           "type": "image/tiff; application=geotiff; profile=cloud-optimized"
          },
          "B07": {
           "href": "https://sentinel-cogs.s3.us-west-2.amazonaws.com/sentinel-s2-l2a-cogs/13/S/DA/2020/4/S2B_13SDA_20200411_0_L2A/B07.tif",
           "proj:shape": [
            5490,
            5490
           ],
           "proj:transform": [
            20,
            0,
            399960,
            0,
            -20,
            4100040,
            0,
            0,
            1
           ],
           "title": "Band 7",
           "type": "image/tiff; application=geotiff; profile=cloud-optimized"
          },
          "B08": {
           "href": "https://sentinel-cogs.s3.us-west-2.amazonaws.com/sentinel-s2-l2a-cogs/13/S/DA/2020/4/S2B_13SDA_20200411_0_L2A/B08.tif",
           "proj:shape": [
            10980,
            10980
           ],
           "proj:transform": [
            10,
            0,
            399960,
            0,
            -10,
            4100040,
            0,
            0,
            1
           ],
           "title": "Band 8 (nir)",
           "type": "image/tiff; application=geotiff; profile=cloud-optimized"
          },
          "B09": {
           "href": "https://sentinel-cogs.s3.us-west-2.amazonaws.com/sentinel-s2-l2a-cogs/13/S/DA/2020/4/S2B_13SDA_20200411_0_L2A/B09.tif",
           "proj:shape": [
            1830,
            1830
           ],
           "proj:transform": [
            60,
            0,
            399960,
            0,
            -60,
            4100040,
            0,
            0,
            1
           ],
           "title": "Band 9",
           "type": "image/tiff; application=geotiff; profile=cloud-optimized"
          },
          "B11": {
           "href": "https://sentinel-cogs.s3.us-west-2.amazonaws.com/sentinel-s2-l2a-cogs/13/S/DA/2020/4/S2B_13SDA_20200411_0_L2A/B11.tif",
           "proj:shape": [
            5490,
            5490
           ],
           "proj:transform": [
            20,
            0,
            399960,
            0,
            -20,
            4100040,
            0,
            0,
            1
           ],
           "title": "Band 11 (swir16)",
           "type": "image/tiff; application=geotiff; profile=cloud-optimized"
          },
          "B12": {
           "href": "https://sentinel-cogs.s3.us-west-2.amazonaws.com/sentinel-s2-l2a-cogs/13/S/DA/2020/4/S2B_13SDA_20200411_0_L2A/B12.tif",
           "proj:shape": [
            5490,
            5490
           ],
           "proj:transform": [
            20,
            0,
            399960,
            0,
            -20,
            4100040,
            0,
            0,
            1
           ],
           "title": "Band 12 (swir22)",
           "type": "image/tiff; application=geotiff; profile=cloud-optimized"
          },
          "B8A": {
           "href": "https://sentinel-cogs.s3.us-west-2.amazonaws.com/sentinel-s2-l2a-cogs/13/S/DA/2020/4/S2B_13SDA_20200411_0_L2A/B8A.tif",
           "proj:shape": [
            5490,
            5490
           ],
           "proj:transform": [
            20,
            0,
            399960,
            0,
            -20,
            4100040,
            0,
            0,
            1
           ],
           "title": "Band 8A",
           "type": "image/tiff; application=geotiff; profile=cloud-optimized"
          },
          "SCL": {
           "href": "https://sentinel-cogs.s3.us-west-2.amazonaws.com/sentinel-s2-l2a-cogs/13/S/DA/2020/4/S2B_13SDA_20200411_0_L2A/SCL.tif",
           "proj:shape": [
            5490,
            5490
           ],
           "proj:transform": [
            20,
            0,
            399960,
            0,
            -20,
            4100040,
            0,
            0,
            1
           ],
           "title": "Scene Classification Map (SCL)",
           "type": "image/tiff; application=geotiff; profile=cloud-optimized"
          },
          "WVP": {
           "href": "https://sentinel-cogs.s3.us-west-2.amazonaws.com/sentinel-s2-l2a-cogs/13/S/DA/2020/4/S2B_13SDA_20200411_0_L2A/WVP.tif",
           "proj:shape": [
            10980,
            10980
           ],
           "proj:transform": [
            10,
            0,
            399960,
            0,
            -10,
            4100040,
            0,
            0,
            1
           ],
           "title": "Water Vapour (WVP)",
           "type": "image/tiff; application=geotiff; profile=cloud-optimized"
          },
          "info": {
           "href": "https://roda.sentinel-hub.com/sentinel-s2-l2a/tiles/13/S/DA/2020/4/11/0/tileInfo.json",
           "title": "Original JSON metadata",
           "type": "application/json"
          },
          "metadata": {
           "href": "https://roda.sentinel-hub.com/sentinel-s2-l2a/tiles/13/S/DA/2020/4/11/0/metadata.xml",
           "title": "Original XML metadata",
           "type": "application/xml"
          },
          "overview": {
           "href": "https://sentinel-cogs.s3.us-west-2.amazonaws.com/sentinel-s2-l2a-cogs/13/S/DA/2020/4/S2B_13SDA_20200411_0_L2A/L2A_PVI.tif",
           "proj:shape": [
            343,
            343
           ],
           "proj:transform": [
            320,
            0,
            399960,
            0,
            -320,
            4100040,
            0,
            0,
            1
           ],
           "title": "True color image",
           "type": "image/tiff; application=geotiff; profile=cloud-optimized"
          },
          "thumbnail": {
           "href": "https://roda.sentinel-hub.com/sentinel-s2-l1c/tiles/13/S/DA/2020/4/11/0/preview.jpg",
           "title": "Thumbnail",
           "type": "image/png"
          },
          "visual": {
           "href": "https://sentinel-cogs.s3.us-west-2.amazonaws.com/sentinel-s2-l2a-cogs/13/S/DA/2020/4/S2B_13SDA_20200411_0_L2A/TCI.tif",
           "proj:shape": [
            10980,
            10980
           ],
           "proj:transform": [
            10,
            0,
            399960,
            0,
            -10,
            4100040,
            0,
            0,
            1
           ],
           "title": "True color image",
           "type": "image/tiff; application=geotiff; profile=cloud-optimized"
          }
         },
         "bbox": [
          -106.12492388677381,
          36.05158782950058,
          -105.24048803636506,
          37.04633030583075
         ],
         "collection": "sentinel-s2-l2a-cogs",
         "geometry": {
          "coordinates": [
           [
            [
             -106.11067273828671,
             36.05158782950058
            ],
            [
             -106.12492388677381,
             37.0412408780802
            ],
            [
             -105.24048803636506,
             37.04633030583075
            ],
            [
             -105.29981353924262,
             36.8634470640909
            ],
            [
             -105.43691860585123,
             36.44156583678345
            ],
            [
             -105.5398226875733,
             36.128873082174984
            ],
            [
             -105.56575743881434,
             36.055397998851284
            ],
            [
             -106.11067273828671,
             36.05158782950058
            ]
           ]
          ],
          "type": "Polygon"
         },
         "id": "S2B_13SDA_20200411_0_L2A",
         "links": [
          {
           "href": "https://earth-search.aws.element84.com/v0/collections/sentinel-s2-l2a-cogs/items/S2B_13SDA_20200411_0_L2A",
           "rel": "self"
          },
          {
           "href": "https://sentinel-cogs.s3.us-west-2.amazonaws.com/sentinel-s2-l2a-cogs/13/S/DA/2020/4/S2B_13SDA_20200411_0_L2A/S2B_13SDA_20200411_0_L2A.json",
           "rel": "canonical",
           "type": "application/json"
          },
          {
           "href": "https://earth-search.aws.element84.com/v0/collections/sentinel-s2-l2a/items/S2B_13SDA_20200411_0_L2A",
           "rel": "derived_from",
           "title": "Source STAC Item",
           "type": "application/json"
          },
          {
           "href": "https://earth-search.aws.element84.com/v0/collections/sentinel-s2-l2a-cogs",
           "rel": "parent"
          },
          {
           "href": "https://earth-search.aws.element84.com/v0/collections/sentinel-s2-l2a-cogs",
           "rel": "collection"
          },
          {
           "href": "https://earth-search.aws.element84.com/v0",
           "rel": "root",
           "title": "Earth Search",
           "type": "application/json"
          }
         ],
         "properties": {
          "constellation": "sentinel-2",
          "created": "2020-09-23T09:12:42.490Z",
          "data_coverage": 58.27,
          "datetime": "2020-04-11T18:03:49Z",
          "eo:cloud_cover": 15.67,
          "gsd": 10,
          "instruments": [
           "msi"
          ],
          "platform": "sentinel-2b",
          "proj:epsg": 32613,
          "sentinel:data_coverage": 58.27,
          "sentinel:grid_square": "DA",
          "sentinel:latitude_band": "S",
          "sentinel:product_id": "S2B_MSIL2A_20200411T174909_N0214_R141_T13SDA_20200411T220443",
          "sentinel:sequence": "0",
          "sentinel:utm_zone": 13,
          "sentinel:valid_cloud_cover": true,
          "updated": "2020-09-23T09:12:42.490Z",
          "view:off_nadir": 0
         },
         "stac_extensions": [
          "eo",
          "view",
          "proj"
         ],
         "stac_version": "1.0.0",
         "type": "Feature"
        },
        {
         "assets": {
          "AOT": {
           "href": "https://sentinel-cogs.s3.us-west-2.amazonaws.com/sentinel-s2-l2a-cogs/13/S/CV/2020/4/S2B_13SCV_20200408_0_L2A/AOT.tif",
           "proj:shape": [
            1830,
            1830
           ],
           "proj:transform": [
            60,
            0,
            300000,
            0,
            -60,
            4000020,
            0,
            0,
            1
           ],
           "title": "Aerosol Optical Thickness (AOT)",
           "type": "image/tiff; application=geotiff; profile=cloud-optimized"
          },
          "B01": {
           "href": "https://sentinel-cogs.s3.us-west-2.amazonaws.com/sentinel-s2-l2a-cogs/13/S/CV/2020/4/S2B_13SCV_20200408_0_L2A/B01.tif",
           "proj:shape": [
            1830,
            1830
           ],
           "proj:transform": [
            60,
            0,
            300000,
            0,
            -60,
            4000020,
            0,
            0,
            1
           ],
           "title": "Band 1 (coastal)",
           "type": "image/tiff; application=geotiff; profile=cloud-optimized"
          },
          "B02": {
           "href": "https://sentinel-cogs.s3.us-west-2.amazonaws.com/sentinel-s2-l2a-cogs/13/S/CV/2020/4/S2B_13SCV_20200408_0_L2A/B02.tif",
           "proj:shape": [
            10980,
            10980
           ],
           "proj:transform": [
            10,
            0,
            300000,
            0,
            -10,
            4000020,
            0,
            0,
            1
           ],
           "title": "Band 2 (blue)",
           "type": "image/tiff; application=geotiff; profile=cloud-optimized"
          },
          "B03": {
           "href": "https://sentinel-cogs.s3.us-west-2.amazonaws.com/sentinel-s2-l2a-cogs/13/S/CV/2020/4/S2B_13SCV_20200408_0_L2A/B03.tif",
           "proj:shape": [
            10980,
            10980
           ],
           "proj:transform": [
            10,
            0,
            300000,
            0,
            -10,
            4000020,
            0,
            0,
            1
           ],
           "title": "Band 3 (green)",
           "type": "image/tiff; application=geotiff; profile=cloud-optimized"
          },
          "B04": {
           "href": "https://sentinel-cogs.s3.us-west-2.amazonaws.com/sentinel-s2-l2a-cogs/13/S/CV/2020/4/S2B_13SCV_20200408_0_L2A/B04.tif",
           "proj:shape": [
            10980,
            10980
           ],
           "proj:transform": [
            10,
            0,
            300000,
            0,
            -10,
            4000020,
            0,
            0,
            1
           ],
           "title": "Band 4 (red)",
           "type": "image/tiff; application=geotiff; profile=cloud-optimized"
          },
          "B05": {
           "href": "https://sentinel-cogs.s3.us-west-2.amazonaws.com/sentinel-s2-l2a-cogs/13/S/CV/2020/4/S2B_13SCV_20200408_0_L2A/B05.tif",
           "proj:shape": [
            5490,
            5490
           ],
           "proj:transform": [
            20,
            0,
            300000,
            0,
            -20,
            4000020,
            0,
            0,
            1
           ],
           "title": "Band 5",
           "type": "image/tiff; application=geotiff; profile=cloud-optimized"
          },
          "B06": {
           "href": "https://sentinel-cogs.s3.us-west-2.amazonaws.com/sentinel-s2-l2a-cogs/13/S/CV/2020/4/S2B_13SCV_20200408_0_L2A/B06.tif",
           "proj:shape": [
            5490,
            5490
           ],
           "proj:transform": [
            20,
            0,
            300000,
            0,
            -20,
            4000020,
            0,
            0,
            1
           ],
           "title": "Band 6",
           "type": "image/tiff; application=geotiff; profile=cloud-optimized"
          },
          "B07": {
           "href": "https://sentinel-cogs.s3.us-west-2.amazonaws.com/sentinel-s2-l2a-cogs/13/S/CV/2020/4/S2B_13SCV_20200408_0_L2A/B07.tif",
           "proj:shape": [
            5490,
            5490
           ],
           "proj:transform": [
            20,
            0,
            300000,
            0,
            -20,
            4000020,
            0,
            0,
            1
           ],
           "title": "Band 7",
           "type": "image/tiff; application=geotiff; profile=cloud-optimized"
          },
          "B08": {
           "href": "https://sentinel-cogs.s3.us-west-2.amazonaws.com/sentinel-s2-l2a-cogs/13/S/CV/2020/4/S2B_13SCV_20200408_0_L2A/B08.tif",
           "proj:shape": [
            10980,
            10980
           ],
           "proj:transform": [
            10,
            0,
            300000,
            0,
            -10,
            4000020,
            0,
            0,
            1
           ],
           "title": "Band 8 (nir)",
           "type": "image/tiff; application=geotiff; profile=cloud-optimized"
          },
          "B09": {
           "href": "https://sentinel-cogs.s3.us-west-2.amazonaws.com/sentinel-s2-l2a-cogs/13/S/CV/2020/4/S2B_13SCV_20200408_0_L2A/B09.tif",
           "proj:shape": [
            1830,
            1830
           ],
           "proj:transform": [
            60,
            0,
            300000,
            0,
            -60,
            4000020,
            0,
            0,
            1
           ],
           "title": "Band 9",
           "type": "image/tiff; application=geotiff; profile=cloud-optimized"
          },
          "B11": {
           "href": "https://sentinel-cogs.s3.us-west-2.amazonaws.com/sentinel-s2-l2a-cogs/13/S/CV/2020/4/S2B_13SCV_20200408_0_L2A/B11.tif",
           "proj:shape": [
            5490,
            5490
           ],
           "proj:transform": [
            20,
            0,
            300000,
            0,
            -20,
            4000020,
            0,
            0,
            1
           ],
           "title": "Band 11 (swir16)",
           "type": "image/tiff; application=geotiff; profile=cloud-optimized"
          },
          "B12": {
           "href": "https://sentinel-cogs.s3.us-west-2.amazonaws.com/sentinel-s2-l2a-cogs/13/S/CV/2020/4/S2B_13SCV_20200408_0_L2A/B12.tif",
           "proj:shape": [
            5490,
            5490
           ],
           "proj:transform": [
            20,
            0,
            300000,
            0,
            -20,
            4000020,
            0,
            0,
            1
           ],
           "title": "Band 12 (swir22)",
           "type": "image/tiff; application=geotiff; profile=cloud-optimized"
          },
          "B8A": {
           "href": "https://sentinel-cogs.s3.us-west-2.amazonaws.com/sentinel-s2-l2a-cogs/13/S/CV/2020/4/S2B_13SCV_20200408_0_L2A/B8A.tif",
           "proj:shape": [
            5490,
            5490
           ],
           "proj:transform": [
            20,
            0,
            300000,
            0,
            -20,
            4000020,
            0,
            0,
            1
           ],
           "title": "Band 8A",
           "type": "image/tiff; application=geotiff; profile=cloud-optimized"
          },
          "SCL": {
           "href": "https://sentinel-cogs.s3.us-west-2.amazonaws.com/sentinel-s2-l2a-cogs/13/S/CV/2020/4/S2B_13SCV_20200408_0_L2A/SCL.tif",
           "proj:shape": [
            5490,
            5490
           ],
           "proj:transform": [
            20,
            0,
            300000,
            0,
            -20,
            4000020,
            0,
            0,
            1
           ],
           "title": "Scene Classification Map (SCL)",
           "type": "image/tiff; application=geotiff; profile=cloud-optimized"
          },
          "WVP": {
           "href": "https://sentinel-cogs.s3.us-west-2.amazonaws.com/sentinel-s2-l2a-cogs/13/S/CV/2020/4/S2B_13SCV_20200408_0_L2A/WVP.tif",
           "proj:shape": [
            10980,
            10980
           ],
           "proj:transform": [
            10,
            0,
            300000,
            0,
            -10,
            4000020,
            0,
            0,
            1
           ],
           "title": "Water Vapour (WVP)",
           "type": "image/tiff; application=geotiff; profile=cloud-optimized"
          },
          "info": {
           "href": "https://roda.sentinel-hub.com/sentinel-s2-l2a/tiles/13/S/CV/2020/4/8/0/tileInfo.json",
           "title": "Original JSON metadata",
           "type": "application/json"
          },
          "metadata": {
           "href": "https://roda.sentinel-hub.com/sentinel-s2-l2a/tiles/13/S/CV/2020/4/8/0/metadata.xml",
           "title": "Original XML metadata",
           "type": "application/xml"
          },
          "overview": {
           "href": "https://sentinel-cogs.s3.us-west-2.amazonaws.com/sentinel-s2-l2a-cogs/13/S/CV/2020/4/S2B_13SCV_20200408_0_L2A/L2A_PVI.tif",
           "proj:shape": [
            343,
            343
           ],
           "proj:transform": [
            320,
            0,
            300000,
            0,
            -320,
            4000020,
            0,
            0,
            1
           ],
           "title": "True color image",
           "type": "image/tiff; application=geotiff; profile=cloud-optimized"
          },
          "thumbnail": {
           "href": "https://roda.sentinel-hub.com/sentinel-s2-l1c/tiles/13/S/CV/2020/4/8/0/preview.jpg",
           "title": "Thumbnail",
           "type": "image/png"
          },
          "visual": {
           "href": "https://sentinel-cogs.s3.us-west-2.amazonaws.com/sentinel-s2-l2a-cogs/13/S/CV/2020/4/S2B_13SCV_20200408_0_L2A/TCI.tif",
           "proj:shape": [
            10980,
            10980
           ],
           "proj:transform": [
            10,
            0,
            300000,
            0,
            -10,
            4000020,
            0,
            0,
            1
           ],
           "title": "True color image",
           "type": "image/tiff; application=geotiff; profile=cloud-optimized"
          }
         },
         "bbox": [
          -106.64985791251885,
          35.14366525973306,
          -105.99029032211578,
          36.14069288925992
         ],
         "collection": "sentinel-s2-l2a-cogs",
         "geometry": {
          "coordinates": [
           [
            [
             -106.64985791251885,
             35.14366525973306
            ],
            [
             -106.37235867020644,
             36.137026293585166
            ],
            [
             -106.00258230901163,
             36.14069288925992
            ],
            [
             -105.99029032211578,
             35.15085199698541
            ],
            [
             -106.64985791251885,
             35.14366525973306
            ]
           ]
          ],
          "type": "Polygon"
         },
         "id": "S2B_13SCV_20200408_0_L2A",
         "links": [
          {
           "href": "https://earth-search.aws.element84.com/v0/collections/sentinel-s2-l2a-cogs/items/S2B_13SCV_20200408_0_L2A",
           "rel": "self"
          },
          {
           "href": "https://sentinel-cogs.s3.us-west-2.amazonaws.com/sentinel-s2-l2a-cogs/13/S/CV/2020/4/S2B_13SCV_20200408_0_L2A/S2B_13SCV_20200408_0_L2A.json",
           "rel": "canonical",
           "type": "application/json"
          },
          {
           "href": "https://earth-search.aws.element84.com/v0/collections/sentinel-s2-l2a/items/S2B_13SCV_20200408_0_L2A",
           "rel": "derived_from",
           "title": "Source STAC Item",
           "type": "application/json"
          },
          {
           "href": "https://earth-search.aws.element84.com/v0/collections/sentinel-s2-l2a-cogs",
           "rel": "parent"
          },
          {
           "href": "https://earth-search.aws.element84.com/v0/collections/sentinel-s2-l2a-cogs",
           "rel": "collection"
          },
          {
           "href": "https://earth-search.aws.element84.com/v0",
           "rel": "root",
           "title": "Earth Search",
           "type": "application/json"
          }
         ],
         "properties": {
          "constellation": "sentinel-2",
          "created": "2020-09-05T12:50:14.783Z",
          "data_coverage": 42.4,
          "datetime": "2020-04-08T17:54:11Z",
          "eo:cloud_cover": 0.11,
          "gsd": 10,
          "instruments": [
           "msi"
          ],
          "platform": "sentinel-2b",
          "proj:epsg": 32613,
          "sentinel:data_coverage": 42.4,
          "sentinel:grid_square": "CV",
          "sentinel:latitude_band": "S",
          "sentinel:product_id": "S2B_MSIL2A_20200408T173859_N0214_R098_T13SCV_20200408T215856",
          "sentinel:sequence": "0",
          "sentinel:utm_zone": 13,
          "sentinel:valid_cloud_cover": true,
          "updated": "2020-09-05T12:50:14.783Z",
          "view:off_nadir": 0
         },
         "properties.sentinel:boa_offset_applied": false,
         "stac_extensions": [
          "eo",
          "view",
          "proj"
         ],
         "stac_version": "1.0.0",
         "type": "Feature"
        },
        {
         "assets": {
          "AOT": {
           "href": "https://sentinel-cogs.s3.us-west-2.amazonaws.com/sentinel-s2-l2a-cogs/13/S/DV/2020/4/S2B_13SDV_20200408_0_L2A/AOT.tif",
           "proj:shape": [
            1830,
            1830
           ],
           "proj:transform": [
            60,
            0,
            399960,
            0,
            -60,
            4000020,
            0,
            0,
            1
           ],
           "title": "Aerosol Optical Thickness (AOT)",
           "type": "image/tiff; application=geotiff; profile=cloud-optimized"
          },
          "B01": {
           "href": "https://sentinel-cogs.s3.us-west-2.amazonaws.com/sentinel-s2-l2a-cogs/13/S/DV/2020/4/S2B_13SDV_20200408_0_L2A/B01.tif",
           "proj:shape": [
            1830,
            1830
           ],
           "proj:transform": [
            60,
            0,
            399960,
            0,
            -60,
            4000020,
            0,
            0,
            1
           ],
           "title": "Band 1 (coastal)",
           "type": "image/tiff; application=geotiff; profile=cloud-optimized"
          },
          "B02": {
           "href": "https://sentinel-cogs.s3.us-west-2.amazonaws.com/sentinel-s2-l2a-cogs/13/S/DV/2020/4/S2B_13SDV_20200408_0_L2A/B02.tif",
           "proj:shape": [
            10980,
            10980
           ],
           "proj:transform": [
            10,
            0,
            399960,
            0,
            -10,
            4000020,
            0,
            0,
            1
           ],
           "title": "Band 2 (blue)",
           "type": "image/tiff; application=geotiff; profile=cloud-optimized"
          },
          "B03": {
           "href": "https://sentinel-cogs.s3.us-west-2.amazonaws.com/sentinel-s2-l2a-cogs/13/S/DV/2020/4/S2B_13SDV_20200408_0_L2A/B03.tif",
           "proj:shape": [
            10980,
            10980
           ],
           "proj:transform": [
            10,
            0,
            399960,
            0,
            -10,
            4000020,
            0,
            0,
            1
           ],
           "title": "Band 3 (green)",
           "type": "image/tiff; application=geotiff; profile=cloud-optimized"
          },
          "B04": {
           "href": "https://sentinel-cogs.s3.us-west-2.amazonaws.com/sentinel-s2-l2a-cogs/13/S/DV/2020/4/S2B_13SDV_20200408_0_L2A/B04.tif",
           "proj:shape": [
            10980,
            10980
           ],
           "proj:transform": [
            10,
            0,
            399960,
            0,
            -10,
            4000020,
            0,
            0,
            1
           ],
           "title": "Band 4 (red)",
           "type": "image/tiff; application=geotiff; profile=cloud-optimized"
          },
          "B05": {
           "href": "https://sentinel-cogs.s3.us-west-2.amazonaws.com/sentinel-s2-l2a-cogs/13/S/DV/2020/4/S2B_13SDV_20200408_0_L2A/B05.tif",
           "proj:shape": [
            5490,
            5490
           ],
           "proj:transform": [
            20,
            0,
            399960,
            0,
            -20,
            4000020,
            0,
            0,
            1
           ],
           "title": "Band 5",
           "type": "image/tiff; application=geotiff; profile=cloud-optimized"
          },
          "B06": {
           "href": "https://sentinel-cogs.s3.us-west-2.amazonaws.com/sentinel-s2-l2a-cogs/13/S/DV/2020/4/S2B_13SDV_20200408_0_L2A/B06.tif",
           "proj:shape": [
            5490,
            5490
           ],
           "proj:transform": [
            20,
            0,
            399960,
            0,
            -20,
            4000020,
            0,
            0,
            1
           ],
           "title": "Band 6",
           "type": "image/tiff; application=geotiff; profile=cloud-optimized"
          },
          "B07": {
           "href": "https://sentinel-cogs.s3.us-west-2.amazonaws.com/sentinel-s2-l2a-cogs/13/S/DV/2020/4/S2B_13SDV_20200408_0_L2A/B07.tif",
           "proj:shape": [
            5490,
            5490
           ],
           "proj:transform": [
            20,
            0,
            399960,
            0,
            -20,
            4000020,
            0,
            0,
            1
           ],
           "title": "Band 7",
           "type": "image/tiff; application=geotiff; profile=cloud-optimized"
          },
          "B08": {
           "href": "https://sentinel-cogs.s3.us-west-2.amazonaws.com/sentinel-s2-l2a-cogs/13/S/DV/2020/4/S2B_13SDV_20200408_0_L2A/B08.tif",
           "proj:shape": [
            10980,
            10980
           ],
           "proj:transform": [
            10,
            0,
            399960,
            0,
            -10,
            4000020,
            0,
            0,
            1
           ],
           "title": "Band 8 (nir)",
           "type": "image/tiff; application=geotiff; profile=cloud-optimized"
          },
          "B09": {
           "href": "https://sentinel-cogs.s3.us-west-2.amazonaws.com/sentinel-s2-l2a-cogs/13/S/DV/2020/4/S2B_13SDV_20200408_0_L2A/B09.tif",
           "proj:shape": [
            1830,
            1830
           ],
           "proj:transform": [
            60,
            0,
            399960,
            0,
            -60,
            4000020,
            0,
            0,
            1
           ],
           "title": "Band 9",
           "type": "image/tiff; application=geotiff; profile=cloud-optimized"
          },
          "B11": {
           "href": "https://sentinel-cogs.s3.us-west-2.amazonaws.com/sentinel-s2-l2a-cogs/13/S/DV/2020/4/S2B_13SDV_20200408_0_L2A/B11.tif",
           "proj:shape": [
            5490,
            5490
           ],
           "proj:transform": [
            20,
            0,
            399960,
            0,
            -20,
            4000020,
            0,
            0,
            1
           ],
           "title": "Band 11 (swir16)",
           "type": "image/tiff; application=geotiff; profile=cloud-optimized"
          },
          "B12": {
           "href": "https://sentinel-cogs.s3.us-west-2.amazonaws.com/sentinel-s2-l2a-cogs/13/S/DV/2020/4/S2B_13SDV_20200408_0_L2A/B12.tif",
           "proj:shape": [
            5490,
            5490
           ],
           "proj:transform": [
            20,
            0,
            399960,
            0,
            -20,
            4000020,
            0,
            0,
            1
           ],
           "title": "Band 12 (swir22)",
           "type": "image/tiff; application=geotiff; profile=cloud-optimized"
          },
          "B8A": {
           "href": "https://sentinel-cogs.s3.us-west-2.amazonaws.com/sentinel-s2-l2a-cogs/13/S/DV/2020/4/S2B_13SDV_20200408_0_L2A/B8A.tif",
           "proj:shape": [
            5490,
            5490
           ],
           "proj:transform": [
            20,
            0,
            399960,
            0,
            -20,
            4000020,
            0,
            0,
            1
           ],
           "title": "Band 8A",
           "type": "image/tiff; application=geotiff; profile=cloud-optimized"
          },
          "SCL": {
           "href": "https://sentinel-cogs.s3.us-west-2.amazonaws.com/sentinel-s2-l2a-cogs/13/S/DV/2020/4/S2B_13SDV_20200408_0_L2A/SCL.tif",
           "proj:shape": [
            5490,
            5490
           ],
           "proj:transform": [
            20,
            0,
            399960,
            0,
            -20,
            4000020,
            0,
            0,
            1
           ],
           "title": "Scene Classification Map (SCL)",
           "type": "image/tiff; application=geotiff; profile=cloud-optimized"
          },
          "WVP": {
           "href": "https://sentinel-cogs.s3.us-west-2.amazonaws.com/sentinel-s2-l2a-cogs/13/S/DV/2020/4/S2B_13SDV_20200408_0_L2A/WVP.tif",
           "proj:shape": [
            10980,
            10980
           ],
           "proj:transform": [
            10,
            0,
            399960,
            0,
            -10,
            4000020,
            0,
            0,
            1
           ],
           "title": "Water Vapour (WVP)",
           "type": "image/tiff; application=geotiff; profile=cloud-optimized"
          },
          "info": {
           "href": "https://roda.sentinel-hub.com/sentinel-s2-l2a/tiles/13/S/DV/2020/4/8/0/tileInfo.json",
           "title": "Original JSON metadata",
           "type": "application/json"
          },
          "metadata": {
           "href": "https://roda.sentinel-hub.com/sentinel-s2-l2a/tiles/13/S/DV/2020/4/8/0/metadata.xml",
           "title": "Original XML metadata",
           "type": "application/xml"
          },
          "overview": {
           "href": "https://sentinel-cogs.s3.us-west-2.amazonaws.com/sentinel-s2-l2a-cogs/13/S/DV/2020/4/S2B_13SDV_20200408_0_L2A/L2A_PVI.tif",
           "proj:shape": [
            343,
            343
           ],
           "proj:transform": [
            320,
            0,
            399960,
            0,
            -320,
            4000020,
            0,
            0,
            1
           ],
           "title": "True color image",
           "type": "image/tiff; application=geotiff; profile=cloud-optimized"
          },
          "thumbnail": {
           "href": "https://roda.sentinel-hub.com/sentinel-s2-l1c/tiles/13/S/DV/2020/4/8/0/preview.jpg",
           "title": "Thumbnail",
           "type": "image/png"
          },
          "visual": {
           "href": "https://sentinel-cogs.s3.us-west-2.amazonaws.com/sentinel-s2-l2a-cogs/13/S/DV/2020/4/S2B_13SDV_20200408_0_L2A/TCI.tif",
           "proj:shape": [
            10980,
            10980
           ],
           "proj:transform": [
            10,
            0,
            399960,
            0,
            -10,
            4000020,
            0,
            0,
            1
           ],
           "title": "True color image",
           "type": "image/tiff; application=geotiff; profile=cloud-optimized"
          }
         },
         "bbox": [
          -106.11191385205835,
          35.1499211736146,
          -104.89152152018616,
          36.14484027029348
         ],
         "collection": "sentinel-s2-l2a-cogs",
         "geometry": {
          "coordinates": [
           [
            [
             -106.09828205302668,
             35.1499211736146
            ],
            [
             -106.11191385205835,
             36.139727693244055
            ],
            [
             -104.89152152018616,
             36.14484027029348
            ],
            [
             -104.89285176524281,
             35.154851672138626
            ],
            [
             -106.09828205302668,
             35.1499211736146
            ]
           ]
          ],
          "type": "Polygon"
         },
         "id": "S2B_13SDV_20200408_0_L2A",
         "links": [
          {
           "href": "https://earth-search.aws.element84.com/v0/collections/sentinel-s2-l2a-cogs/items/S2B_13SDV_20200408_0_L2A",
           "rel": "self"
          },
          {
           "href": "https://sentinel-cogs.s3.us-west-2.amazonaws.com/sentinel-s2-l2a-cogs/13/S/DV/2020/4/S2B_13SDV_20200408_0_L2A/S2B_13SDV_20200408_0_L2A.json",
           "rel": "canonical",
           "type": "application/json"
          },
          {
           "href": "https://earth-search.aws.element84.com/v0/collections/sentinel-s2-l2a/items/S2B_13SDV_20200408_0_L2A",
           "rel": "derived_from",
           "title": "Source STAC Item",
           "type": "application/json"
          },
          {
           "href": "https://earth-search.aws.element84.com/v0/collections/sentinel-s2-l2a-cogs",
           "rel": "parent"
          },
          {
           "href": "https://earth-search.aws.element84.com/v0/collections/sentinel-s2-l2a-cogs",
           "rel": "collection"
          },
          {
           "href": "https://earth-search.aws.element84.com/v0",
           "rel": "root",
           "title": "Earth Search",
           "type": "application/json"
          }
         ],
         "properties": {
          "constellation": "sentinel-2",
          "created": "2020-08-31T15:23:56.855Z",
          "data_coverage": 100,
          "datetime": "2020-04-08T17:54:08Z",
          "eo:cloud_cover": 1.15,
          "gsd": 10,
          "instruments": [
           "msi"
          ],
          "platform": "sentinel-2b",
          "proj:epsg": 32613,
          "sentinel:data_coverage": 100,
          "sentinel:grid_square": "DV",
          "sentinel:latitude_band": "S",
          "sentinel:product_id": "S2B_MSIL2A_20200408T173859_N0214_R098_T13SDV_20200408T215856",
          "sentinel:sequence": "0",
          "sentinel:utm_zone": 13,
          "sentinel:valid_cloud_cover": true,
          "updated": "2020-08-31T15:23:56.855Z",
          "view:off_nadir": 0
         },
         "properties.sentinel:boa_offset_applied": false,
         "stac_extensions": [
          "eo",
          "view",
          "proj"
         ],
         "stac_version": "1.0.0",
         "type": "Feature"
        },
        {
         "assets": {
          "AOT": {
           "href": "https://sentinel-cogs.s3.us-west-2.amazonaws.com/sentinel-s2-l2a-cogs/13/S/EV/2020/4/S2B_13SEV_20200408_0_L2A/AOT.tif",
           "proj:shape": [
            1830,
            1830
           ],
           "proj:transform": [
            60,
            0,
            499980,
            0,
            -60,
            4000020,
            0,
            0,
            1
           ],
           "title": "Aerosol Optical Thickness (AOT)",
           "type": "image/tiff; application=geotiff; profile=cloud-optimized"
          },
          "B01": {
           "href": "https://sentinel-cogs.s3.us-west-2.amazonaws.com/sentinel-s2-l2a-cogs/13/S/EV/2020/4/S2B_13SEV_20200408_0_L2A/B01.tif",
           "proj:shape": [
            1830,
            1830
           ],
           "proj:transform": [
            60,
            0,
            499980,
            0,
            -60,
            4000020,
            0,
            0,
            1
           ],
           "title": "Band 1 (coastal)",
           "type": "image/tiff; application=geotiff; profile=cloud-optimized"
          },
          "B02": {
           "href": "https://sentinel-cogs.s3.us-west-2.amazonaws.com/sentinel-s2-l2a-cogs/13/S/EV/2020/4/S2B_13SEV_20200408_0_L2A/B02.tif",
           "proj:shape": [
            10980,
            10980
           ],
           "proj:transform": [
            10,
            0,
            499980,
            0,
            -10,
            4000020,
            0,
            0,
            1
           ],
           "title": "Band 2 (blue)",
           "type": "image/tiff; application=geotiff; profile=cloud-optimized"
          },
          "B03": {
           "href": "https://sentinel-cogs.s3.us-west-2.amazonaws.com/sentinel-s2-l2a-cogs/13/S/EV/2020/4/S2B_13SEV_20200408_0_L2A/B03.tif",
           "proj:shape": [
            10980,
            10980
           ],
           "proj:transform": [
            10,
            0,
            499980,
            0,
            -10,
            4000020,
            0,
            0,
            1
           ],
           "title": "Band 3 (green)",
           "type": "image/tiff; application=geotiff; profile=cloud-optimized"
          },
          "B04": {
           "href": "https://sentinel-cogs.s3.us-west-2.amazonaws.com/sentinel-s2-l2a-cogs/13/S/EV/2020/4/S2B_13SEV_20200408_0_L2A/B04.tif",
           "proj:shape": [
            10980,
            10980
           ],
           "proj:transform": [
            10,
            0,
            499980,
            0,
            -10,
            4000020,
            0,
            0,
            1
           ],
           "title": "Band 4 (red)",
           "type": "image/tiff; application=geotiff; profile=cloud-optimized"
          },
          "B05": {
           "href": "https://sentinel-cogs.s3.us-west-2.amazonaws.com/sentinel-s2-l2a-cogs/13/S/EV/2020/4/S2B_13SEV_20200408_0_L2A/B05.tif",
           "proj:shape": [
            5490,
            5490
           ],
           "proj:transform": [
            20,
            0,
            499980,
            0,
            -20,
            4000020,
            0,
            0,
            1
           ],
           "title": "Band 5",
           "type": "image/tiff; application=geotiff; profile=cloud-optimized"
          },
          "B06": {
           "href": "https://sentinel-cogs.s3.us-west-2.amazonaws.com/sentinel-s2-l2a-cogs/13/S/EV/2020/4/S2B_13SEV_20200408_0_L2A/B06.tif",
           "proj:shape": [
            5490,
            5490
           ],
           "proj:transform": [
            20,
            0,
            499980,
            0,
            -20,
            4000020,
            0,
            0,
            1
           ],
           "title": "Band 6",
           "type": "image/tiff; application=geotiff; profile=cloud-optimized"
          },
          "B07": {
           "href": "https://sentinel-cogs.s3.us-west-2.amazonaws.com/sentinel-s2-l2a-cogs/13/S/EV/2020/4/S2B_13SEV_20200408_0_L2A/B07.tif",
           "proj:shape": [
            5490,
            5490
           ],
           "proj:transform": [
            20,
            0,
            499980,
            0,
            -20,
            4000020,
            0,
            0,
            1
           ],
           "title": "Band 7",
           "type": "image/tiff; application=geotiff; profile=cloud-optimized"
          },
          "B08": {
           "href": "https://sentinel-cogs.s3.us-west-2.amazonaws.com/sentinel-s2-l2a-cogs/13/S/EV/2020/4/S2B_13SEV_20200408_0_L2A/B08.tif",
           "proj:shape": [
            10980,
            10980
           ],
           "proj:transform": [
            10,
            0,
            499980,
            0,
            -10,
            4000020,
            0,
            0,
            1
           ],
           "title": "Band 8 (nir)",
           "type": "image/tiff; application=geotiff; profile=cloud-optimized"
          },
          "B09": {
           "href": "https://sentinel-cogs.s3.us-west-2.amazonaws.com/sentinel-s2-l2a-cogs/13/S/EV/2020/4/S2B_13SEV_20200408_0_L2A/B09.tif",
           "proj:shape": [
            1830,
            1830
           ],
           "proj:transform": [
            60,
            0,
            499980,
            0,
            -60,
            4000020,
            0,
            0,
            1
           ],
           "title": "Band 9",
           "type": "image/tiff; application=geotiff; profile=cloud-optimized"
          },
          "B11": {
           "href": "https://sentinel-cogs.s3.us-west-2.amazonaws.com/sentinel-s2-l2a-cogs/13/S/EV/2020/4/S2B_13SEV_20200408_0_L2A/B11.tif",
           "proj:shape": [
            5490,
            5490
           ],
           "proj:transform": [
            20,
            0,
            499980,
            0,
            -20,
            4000020,
            0,
            0,
            1
           ],
           "title": "Band 11 (swir16)",
           "type": "image/tiff; application=geotiff; profile=cloud-optimized"
          },
          "B12": {
           "href": "https://sentinel-cogs.s3.us-west-2.amazonaws.com/sentinel-s2-l2a-cogs/13/S/EV/2020/4/S2B_13SEV_20200408_0_L2A/B12.tif",
           "proj:shape": [
            5490,
            5490
           ],
           "proj:transform": [
            20,
            0,
            499980,
            0,
            -20,
            4000020,
            0,
            0,
            1
           ],
           "title": "Band 12 (swir22)",
           "type": "image/tiff; application=geotiff; profile=cloud-optimized"
          },
          "B8A": {
           "href": "https://sentinel-cogs.s3.us-west-2.amazonaws.com/sentinel-s2-l2a-cogs/13/S/EV/2020/4/S2B_13SEV_20200408_0_L2A/B8A.tif",
           "proj:shape": [
            5490,
            5490
           ],
           "proj:transform": [
            20,
            0,
            499980,
            0,
            -20,
            4000020,
            0,
            0,
            1
           ],
           "title": "Band 8A",
           "type": "image/tiff; application=geotiff; profile=cloud-optimized"
          },
          "SCL": {
           "href": "https://sentinel-cogs.s3.us-west-2.amazonaws.com/sentinel-s2-l2a-cogs/13/S/EV/2020/4/S2B_13SEV_20200408_0_L2A/SCL.tif",
           "proj:shape": [
            5490,
            5490
           ],
           "proj:transform": [
            20,
            0,
            499980,
            0,
            -20,
            4000020,
            0,
            0,
            1
           ],
           "title": "Scene Classification Map (SCL)",
           "type": "image/tiff; application=geotiff; profile=cloud-optimized"
          },
          "WVP": {
           "href": "https://sentinel-cogs.s3.us-west-2.amazonaws.com/sentinel-s2-l2a-cogs/13/S/EV/2020/4/S2B_13SEV_20200408_0_L2A/WVP.tif",
           "proj:shape": [
            10980,
            10980
           ],
           "proj:transform": [
            10,
            0,
            499980,
            0,
            -10,
            4000020,
            0,
            0,
            1
           ],
           "title": "Water Vapour (WVP)",
           "type": "image/tiff; application=geotiff; profile=cloud-optimized"
          },
          "info": {
           "href": "https://roda.sentinel-hub.com/sentinel-s2-l2a/tiles/13/S/EV/2020/4/8/0/tileInfo.json",
           "title": "Original JSON metadata",
           "type": "application/json"
          },
          "metadata": {
           "href": "https://roda.sentinel-hub.com/sentinel-s2-l2a/tiles/13/S/EV/2020/4/8/0/metadata.xml",
           "title": "Original XML metadata",
           "type": "application/xml"
          },
          "overview": {
           "href": "https://sentinel-cogs.s3.us-west-2.amazonaws.com/sentinel-s2-l2a-cogs/13/S/EV/2020/4/S2B_13SEV_20200408_0_L2A/L2A_PVI.tif",
           "proj:shape": [
            343,
            343
           ],
           "proj:transform": [
            320,
            0,
            499980,
            0,
            -320,
            4000020,
            0,
            0,
            1
           ],
           "title": "True color image",
           "type": "image/tiff; application=geotiff; profile=cloud-optimized"
          },
          "thumbnail": {
           "href": "https://roda.sentinel-hub.com/sentinel-s2-l1c/tiles/13/S/EV/2020/4/8/0/preview.jpg",
           "title": "Thumbnail",
           "type": "image/png"
          },
          "visual": {
           "href": "https://sentinel-cogs.s3.us-west-2.amazonaws.com/sentinel-s2-l2a-cogs/13/S/EV/2020/4/S2B_13SEV_20200408_0_L2A/TCI.tif",
           "proj:shape": [
            10980,
            10980
           ],
           "proj:transform": [
            10,
            0,
            499980,
            0,
            -10,
            4000020,
            0,
            0,
            1
           ],
           "title": "True color image",
           "type": "image/tiff; application=geotiff; profile=cloud-optimized"
          }
         },
         "bbox": [
          -105.00021119917817,
          35.14890483642906,
          -103.77984908303581,
          36.14488939742409
         ],
         "collection": "sentinel-s2-l2a-cogs",
         "geometry": {
          "coordinates": [
           [
            [
             -103.79480708990562,
             35.14890483642906
            ],
            [
             -105.00020860928824,
             35.15489904955579
            ],
            [
             -105.00021119917817,
             36.14488939742409
            ],
            [
             -103.77984908303581,
             36.138673826567555
            ],
            [
             -103.79480708990562,
             35.14890483642906
            ]
           ]
          ],
          "type": "Polygon"
         },
         "id": "S2B_13SEV_20200408_0_L2A",
         "links": [
          {
           "href": "https://earth-search.aws.element84.com/v0/collections/sentinel-s2-l2a-cogs/items/S2B_13SEV_20200408_0_L2A",
           "rel": "self"
          },
          {
           "href": "https://sentinel-cogs.s3.us-west-2.amazonaws.com/sentinel-s2-l2a-cogs/13/S/EV/2020/4/S2B_13SEV_20200408_0_L2A/S2B_13SEV_20200408_0_L2A.json",
           "rel": "canonical",
           "type": "application/json"
          },
          {
           "href": "https://earth-search.aws.element84.com/v0/collections/sentinel-s2-l2a/items/S2B_13SEV_20200408_0_L2A",
           "rel": "derived_from",
           "title": "Source STAC Item",
           "type": "application/json"
          },
          {
           "href": "https://earth-search.aws.element84.com/v0/collections/sentinel-s2-l2a-cogs",
           "rel": "parent"
          },
          {
           "href": "https://earth-search.aws.element84.com/v0/collections/sentinel-s2-l2a-cogs",
           "rel": "collection"
          },
          {
           "href": "https://earth-search.aws.element84.com/v0",
           "rel": "root",
           "title": "Earth Search",
           "type": "application/json"
          }
         ],
         "properties": {
          "constellation": "sentinel-2",
          "created": "2020-09-19T03:34:37.813Z",
          "data_coverage": 100,
          "datetime": "2020-04-08T17:54:04Z",
          "eo:cloud_cover": 0,
          "gsd": 10,
          "instruments": [
           "msi"
          ],
          "platform": "sentinel-2b",
          "proj:epsg": 32613,
          "sentinel:data_coverage": 100,
          "sentinel:grid_square": "EV",
          "sentinel:latitude_band": "S",
          "sentinel:product_id": "S2B_MSIL2A_20200408T173859_N0214_R098_T13SEV_20200408T215856",
          "sentinel:sequence": "0",
          "sentinel:utm_zone": 13,
          "sentinel:valid_cloud_cover": true,
          "updated": "2020-09-19T03:34:37.813Z",
          "view:off_nadir": 0
         },
         "properties.sentinel:boa_offset_applied": false,
         "stac_extensions": [
          "eo",
          "view",
          "proj"
         ],
         "stac_version": "1.0.0",
         "type": "Feature"
        },
        {
         "assets": {
          "AOT": {
           "href": "https://sentinel-cogs.s3.us-west-2.amazonaws.com/sentinel-s2-l2a-cogs/13/S/CA/2020/4/S2B_13SCA_20200408_0_L2A/AOT.tif",
           "proj:shape": [
            1830,
            1830
           ],
           "proj:transform": [
            60,
            0,
            300000,
            0,
            -60,
            4100040,
            0,
            0,
            1
           ],
           "title": "Aerosol Optical Thickness (AOT)",
           "type": "image/tiff; application=geotiff; profile=cloud-optimized"
          },
          "B01": {
           "href": "https://sentinel-cogs.s3.us-west-2.amazonaws.com/sentinel-s2-l2a-cogs/13/S/CA/2020/4/S2B_13SCA_20200408_0_L2A/B01.tif",
           "proj:shape": [
            1830,
            1830
           ],
           "proj:transform": [
            60,
            0,
            300000,
            0,
            -60,
            4100040,
            0,
            0,
            1
           ],
           "title": "Band 1 (coastal)",
           "type": "image/tiff; application=geotiff; profile=cloud-optimized"
          },
          "B02": {
           "href": "https://sentinel-cogs.s3.us-west-2.amazonaws.com/sentinel-s2-l2a-cogs/13/S/CA/2020/4/S2B_13SCA_20200408_0_L2A/B02.tif",
           "proj:shape": [
            10980,
            10980
           ],
           "proj:transform": [
            10,
            0,
            300000,
            0,
            -10,
            4100040,
            0,
            0,
            1
           ],
           "title": "Band 2 (blue)",
           "type": "image/tiff; application=geotiff; profile=cloud-optimized"
          },
          "B03": {
           "href": "https://sentinel-cogs.s3.us-west-2.amazonaws.com/sentinel-s2-l2a-cogs/13/S/CA/2020/4/S2B_13SCA_20200408_0_L2A/B03.tif",
           "proj:shape": [
            10980,
            10980
           ],
           "proj:transform": [
            10,
            0,
            300000,
            0,
            -10,
            4100040,
            0,
            0,
            1
           ],
           "title": "Band 3 (green)",
           "type": "image/tiff; application=geotiff; profile=cloud-optimized"
          },
          "B04": {
           "href": "https://sentinel-cogs.s3.us-west-2.amazonaws.com/sentinel-s2-l2a-cogs/13/S/CA/2020/4/S2B_13SCA_20200408_0_L2A/B04.tif",
           "proj:shape": [
            10980,
            10980
           ],
           "proj:transform": [
            10,
            0,
            300000,
            0,
            -10,
            4100040,
            0,
            0,
            1
           ],
           "title": "Band 4 (red)",
           "type": "image/tiff; application=geotiff; profile=cloud-optimized"
          },
          "B05": {
           "href": "https://sentinel-cogs.s3.us-west-2.amazonaws.com/sentinel-s2-l2a-cogs/13/S/CA/2020/4/S2B_13SCA_20200408_0_L2A/B05.tif",
           "proj:shape": [
            5490,
            5490
           ],
           "proj:transform": [
            20,
            0,
            300000,
            0,
            -20,
            4100040,
            0,
            0,
            1
           ],
           "title": "Band 5",
           "type": "image/tiff; application=geotiff; profile=cloud-optimized"
          },
          "B06": {
           "href": "https://sentinel-cogs.s3.us-west-2.amazonaws.com/sentinel-s2-l2a-cogs/13/S/CA/2020/4/S2B_13SCA_20200408_0_L2A/B06.tif",
           "proj:shape": [
            5490,
            5490
           ],
           "proj:transform": [
            20,
            0,
            300000,
            0,
            -20,
            4100040,
            0,
            0,
            1
           ],
           "title": "Band 6",
           "type": "image/tiff; application=geotiff; profile=cloud-optimized"
          },
          "B07": {
           "href": "https://sentinel-cogs.s3.us-west-2.amazonaws.com/sentinel-s2-l2a-cogs/13/S/CA/2020/4/S2B_13SCA_20200408_0_L2A/B07.tif",
           "proj:shape": [
            5490,
            5490
           ],
           "proj:transform": [
            20,
            0,
            300000,
            0,
            -20,
            4100040,
            0,
            0,
            1
           ],
           "title": "Band 7",
           "type": "image/tiff; application=geotiff; profile=cloud-optimized"
          },
          "B08": {
           "href": "https://sentinel-cogs.s3.us-west-2.amazonaws.com/sentinel-s2-l2a-cogs/13/S/CA/2020/4/S2B_13SCA_20200408_0_L2A/B08.tif",
           "proj:shape": [
            10980,
            10980
           ],
           "proj:transform": [
            10,
            0,
            300000,
            0,
            -10,
            4100040,
            0,
            0,
            1
           ],
           "title": "Band 8 (nir)",
           "type": "image/tiff; application=geotiff; profile=cloud-optimized"
          },
          "B09": {
           "href": "https://sentinel-cogs.s3.us-west-2.amazonaws.com/sentinel-s2-l2a-cogs/13/S/CA/2020/4/S2B_13SCA_20200408_0_L2A/B09.tif",
           "proj:shape": [
            1830,
            1830
           ],
           "proj:transform": [
            60,
            0,
            300000,
            0,
            -60,
            4100040,
            0,
            0,
            1
           ],
           "title": "Band 9",
           "type": "image/tiff; application=geotiff; profile=cloud-optimized"
          },
          "B11": {
           "href": "https://sentinel-cogs.s3.us-west-2.amazonaws.com/sentinel-s2-l2a-cogs/13/S/CA/2020/4/S2B_13SCA_20200408_0_L2A/B11.tif",
           "proj:shape": [
            5490,
            5490
           ],
           "proj:transform": [
            20,
            0,
            300000,
            0,
            -20,
            4100040,
            0,
            0,
            1
           ],
           "title": "Band 11 (swir16)",
           "type": "image/tiff; application=geotiff; profile=cloud-optimized"
          },
          "B12": {
           "href": "https://sentinel-cogs.s3.us-west-2.amazonaws.com/sentinel-s2-l2a-cogs/13/S/CA/2020/4/S2B_13SCA_20200408_0_L2A/B12.tif",
           "proj:shape": [
            5490,
            5490
           ],
           "proj:transform": [
            20,
            0,
            300000,
            0,
            -20,
            4100040,
            0,
            0,
            1
           ],
           "title": "Band 12 (swir22)",
           "type": "image/tiff; application=geotiff; profile=cloud-optimized"
          },
          "B8A": {
           "href": "https://sentinel-cogs.s3.us-west-2.amazonaws.com/sentinel-s2-l2a-cogs/13/S/CA/2020/4/S2B_13SCA_20200408_0_L2A/B8A.tif",
           "proj:shape": [
            5490,
            5490
           ],
           "proj:transform": [
            20,
            0,
            300000,
            0,
            -20,
            4100040,
            0,
            0,
            1
           ],
           "title": "Band 8A",
           "type": "image/tiff; application=geotiff; profile=cloud-optimized"
          },
          "SCL": {
           "href": "https://sentinel-cogs.s3.us-west-2.amazonaws.com/sentinel-s2-l2a-cogs/13/S/CA/2020/4/S2B_13SCA_20200408_0_L2A/SCL.tif",
           "proj:shape": [
            5490,
            5490
           ],
           "proj:transform": [
            20,
            0,
            300000,
            0,
            -20,
            4100040,
            0,
            0,
            1
           ],
           "title": "Scene Classification Map (SCL)",
           "type": "image/tiff; application=geotiff; profile=cloud-optimized"
          },
          "WVP": {
           "href": "https://sentinel-cogs.s3.us-west-2.amazonaws.com/sentinel-s2-l2a-cogs/13/S/CA/2020/4/S2B_13SCA_20200408_0_L2A/WVP.tif",
           "proj:shape": [
            10980,
            10980
           ],
           "proj:transform": [
            10,
            0,
            300000,
            0,
            -10,
            4100040,
            0,
            0,
            1
           ],
           "title": "Water Vapour (WVP)",
           "type": "image/tiff; application=geotiff; profile=cloud-optimized"
          },
          "info": {
           "href": "https://roda.sentinel-hub.com/sentinel-s2-l2a/tiles/13/S/CA/2020/4/8/0/tileInfo.json",
           "title": "Original JSON metadata",
           "type": "application/json"
          },
          "metadata": {
           "href": "https://roda.sentinel-hub.com/sentinel-s2-l2a/tiles/13/S/CA/2020/4/8/0/metadata.xml",
           "title": "Original XML metadata",
           "type": "application/xml"
          },
          "overview": {
           "href": "https://sentinel-cogs.s3.us-west-2.amazonaws.com/sentinel-s2-l2a-cogs/13/S/CA/2020/4/S2B_13SCA_20200408_0_L2A/L2A_PVI.tif",
           "proj:shape": [
            343,
            343
           ],
           "proj:transform": [
            320,
            0,
            300000,
            0,
            -320,
            4100040,
            0,
            0,
            1
           ],
           "title": "True color image",
           "type": "image/tiff; application=geotiff; profile=cloud-optimized"
          },
          "thumbnail": {
           "href": "https://roda.sentinel-hub.com/sentinel-s2-l1c/tiles/13/S/CA/2020/4/8/0/preview.jpg",
           "title": "Thumbnail",
           "type": "image/png"
          },
          "visual": {
           "href": "https://sentinel-cogs.s3.us-west-2.amazonaws.com/sentinel-s2-l2a-cogs/13/S/CA/2020/4/S2B_13SCA_20200408_0_L2A/TCI.tif",
           "proj:shape": [
            10980,
            10980
           ],
           "proj:transform": [
            10,
            0,
            300000,
            0,
            -10,
            4100040,
            0,
            0,
            1
           ],
           "title": "True color image",
           "type": "image/tiff; application=geotiff; profile=cloud-optimized"
          }
         },
         "bbox": [
          -106.3952391725672,
          36.048613431917055,
          -106.00146317821304,
          37.042238132699175
         ],
         "collection": "sentinel-s2-l2a-cogs",
         "geometry": {
          "coordinates": [
           [
            [
             -106.3952391725672,
             36.048613431917055
            ],
            [
             -106.35551195711123,
             36.201022422197305
            ],
            [
             -106.1172492860791,
             37.04131340172323
            ],
            [
             -106.0143136619799,
             37.042238132699175
            ],
            [
             -106.00146317821304,
             36.052549930385496
            ],
            [
             -106.3952391725672,
             36.048613431917055
            ]
           ]
          ],
          "type": "Polygon"
         },
         "id": "S2B_13SCA_20200408_0_L2A",
         "links": [
          {
           "href": "https://earth-search.aws.element84.com/v0/collections/sentinel-s2-l2a-cogs/items/S2B_13SCA_20200408_0_L2A",
           "rel": "self"
          },
          {
           "href": "https://sentinel-cogs.s3.us-west-2.amazonaws.com/sentinel-s2-l2a-cogs/13/S/CA/2020/4/S2B_13SCA_20200408_0_L2A/S2B_13SCA_20200408_0_L2A.json",
           "rel": "canonical",
           "type": "application/json"
          },
          {
           "href": "https://earth-search.aws.element84.com/v0/collections/sentinel-s2-l2a/items/S2B_13SCA_20200408_0_L2A",
           "rel": "derived_from",
           "title": "Source STAC Item",
           "type": "application/json"
          },
          {
           "href": "https://earth-search.aws.element84.com/v0/collections/sentinel-s2-l2a-cogs",
           "rel": "parent"
          },
          {
           "href": "https://earth-search.aws.element84.com/v0/collections/sentinel-s2-l2a-cogs",
           "rel": "collection"
          },
          {
           "href": "https://earth-search.aws.element84.com/v0",
           "rel": "root",
           "title": "Earth Search",
           "type": "application/json"
          }
         ],
         "properties": {
          "constellation": "sentinel-2",
          "created": "2020-09-19T00:17:08.540Z",
          "data_coverage": 20.36,
          "datetime": "2020-04-08T17:53:57Z",
          "eo:cloud_cover": 0.53,
          "gsd": 10,
          "instruments": [
           "msi"
          ],
          "platform": "sentinel-2b",
          "proj:epsg": 32613,
          "sentinel:data_coverage": 20.36,
          "sentinel:grid_square": "CA",
          "sentinel:latitude_band": "S",
          "sentinel:product_id": "S2B_MSIL2A_20200408T173859_N0214_R098_T13SCA_20200408T215856",
          "sentinel:sequence": "0",
          "sentinel:utm_zone": 13,
          "sentinel:valid_cloud_cover": true,
          "updated": "2020-09-19T00:17:08.540Z",
          "view:off_nadir": 0
         },
         "properties.sentinel:boa_offset_applied": false,
         "stac_extensions": [
          "eo",
          "view",
          "proj"
         ],
         "stac_version": "1.0.0",
         "type": "Feature"
        },
        {
         "assets": {
          "AOT": {
           "href": "https://sentinel-cogs.s3.us-west-2.amazonaws.com/sentinel-s2-l2a-cogs/13/S/DA/2020/4/S2B_13SDA_20200408_0_L2A/AOT.tif",
           "proj:shape": [
            1830,
            1830
           ],
           "proj:transform": [
            60,
            0,
            399960,
            0,
            -60,
            4100040,
            0,
            0,
            1
           ],
           "title": "Aerosol Optical Thickness (AOT)",
           "type": "image/tiff; application=geotiff; profile=cloud-optimized"
          },
          "B01": {
           "href": "https://sentinel-cogs.s3.us-west-2.amazonaws.com/sentinel-s2-l2a-cogs/13/S/DA/2020/4/S2B_13SDA_20200408_0_L2A/B01.tif",
           "proj:shape": [
            1830,
            1830
           ],
           "proj:transform": [
            60,
            0,
            399960,
            0,
            -60,
            4100040,
            0,
            0,
            1
           ],
           "title": "Band 1 (coastal)",
           "type": "image/tiff; application=geotiff; profile=cloud-optimized"
          },
          "B02": {
           "href": "https://sentinel-cogs.s3.us-west-2.amazonaws.com/sentinel-s2-l2a-cogs/13/S/DA/2020/4/S2B_13SDA_20200408_0_L2A/B02.tif",
           "proj:shape": [
            10980,
            10980
           ],
           "proj:transform": [
            10,
            0,
            399960,
            0,
            -10,
            4100040,
            0,
            0,
            1
           ],
           "title": "Band 2 (blue)",
           "type": "image/tiff; application=geotiff; profile=cloud-optimized"
          },
          "B03": {
           "href": "https://sentinel-cogs.s3.us-west-2.amazonaws.com/sentinel-s2-l2a-cogs/13/S/DA/2020/4/S2B_13SDA_20200408_0_L2A/B03.tif",
           "proj:shape": [
            10980,
            10980
           ],
           "proj:transform": [
            10,
            0,
            399960,
            0,
            -10,
            4100040,
            0,
            0,
            1
           ],
           "title": "Band 3 (green)",
           "type": "image/tiff; application=geotiff; profile=cloud-optimized"
          },
          "B04": {
           "href": "https://sentinel-cogs.s3.us-west-2.amazonaws.com/sentinel-s2-l2a-cogs/13/S/DA/2020/4/S2B_13SDA_20200408_0_L2A/B04.tif",
           "proj:shape": [
            10980,
            10980
           ],
           "proj:transform": [
            10,
            0,
            399960,
            0,
            -10,
            4100040,
            0,
            0,
            1
           ],
           "title": "Band 4 (red)",
           "type": "image/tiff; application=geotiff; profile=cloud-optimized"
          },
          "B05": {
           "href": "https://sentinel-cogs.s3.us-west-2.amazonaws.com/sentinel-s2-l2a-cogs/13/S/DA/2020/4/S2B_13SDA_20200408_0_L2A/B05.tif",
           "proj:shape": [
            5490,
            5490
           ],
           "proj:transform": [
            20,
            0,
            399960,
            0,
            -20,
            4100040,
            0,
            0,
            1
           ],
           "title": "Band 5",
           "type": "image/tiff; application=geotiff; profile=cloud-optimized"
          },
          "B06": {
           "href": "https://sentinel-cogs.s3.us-west-2.amazonaws.com/sentinel-s2-l2a-cogs/13/S/DA/2020/4/S2B_13SDA_20200408_0_L2A/B06.tif",
           "proj:shape": [
            5490,
            5490
           ],
           "proj:transform": [
            20,
            0,
            399960,
            0,
            -20,
            4100040,
            0,
            0,
            1
           ],
           "title": "Band 6",
           "type": "image/tiff; application=geotiff; profile=cloud-optimized"
          },
          "B07": {
           "href": "https://sentinel-cogs.s3.us-west-2.amazonaws.com/sentinel-s2-l2a-cogs/13/S/DA/2020/4/S2B_13SDA_20200408_0_L2A/B07.tif",
           "proj:shape": [
            5490,
            5490
           ],
           "proj:transform": [
            20,
            0,
            399960,
            0,
            -20,
            4100040,
            0,
            0,
            1
           ],
           "title": "Band 7",
           "type": "image/tiff; application=geotiff; profile=cloud-optimized"
          },
          "B08": {
           "href": "https://sentinel-cogs.s3.us-west-2.amazonaws.com/sentinel-s2-l2a-cogs/13/S/DA/2020/4/S2B_13SDA_20200408_0_L2A/B08.tif",
           "proj:shape": [
            10980,
            10980
           ],
           "proj:transform": [
            10,
            0,
            399960,
            0,
            -10,
            4100040,
            0,
            0,
            1
           ],
           "title": "Band 8 (nir)",
           "type": "image/tiff; application=geotiff; profile=cloud-optimized"
          },
          "B09": {
           "href": "https://sentinel-cogs.s3.us-west-2.amazonaws.com/sentinel-s2-l2a-cogs/13/S/DA/2020/4/S2B_13SDA_20200408_0_L2A/B09.tif",
           "proj:shape": [
            1830,
            1830
           ],
           "proj:transform": [
            60,
            0,
            399960,
            0,
            -60,
            4100040,
            0,
            0,
            1
           ],
           "title": "Band 9",
           "type": "image/tiff; application=geotiff; profile=cloud-optimized"
          },
          "B11": {
           "href": "https://sentinel-cogs.s3.us-west-2.amazonaws.com/sentinel-s2-l2a-cogs/13/S/DA/2020/4/S2B_13SDA_20200408_0_L2A/B11.tif",
           "proj:shape": [
            5490,
            5490
           ],
           "proj:transform": [
            20,
            0,
            399960,
            0,
            -20,
            4100040,
            0,
            0,
            1
           ],
           "title": "Band 11 (swir16)",
           "type": "image/tiff; application=geotiff; profile=cloud-optimized"
          },
          "B12": {
           "href": "https://sentinel-cogs.s3.us-west-2.amazonaws.com/sentinel-s2-l2a-cogs/13/S/DA/2020/4/S2B_13SDA_20200408_0_L2A/B12.tif",
           "proj:shape": [
            5490,
            5490
           ],
           "proj:transform": [
            20,
            0,
            399960,
            0,
            -20,
            4100040,
            0,
            0,
            1
           ],
           "title": "Band 12 (swir22)",
           "type": "image/tiff; application=geotiff; profile=cloud-optimized"
          },
          "B8A": {
           "href": "https://sentinel-cogs.s3.us-west-2.amazonaws.com/sentinel-s2-l2a-cogs/13/S/DA/2020/4/S2B_13SDA_20200408_0_L2A/B8A.tif",
           "proj:shape": [
            5490,
            5490
           ],
           "proj:transform": [
            20,
            0,
            399960,
            0,
            -20,
            4100040,
            0,
            0,
            1
           ],
           "title": "Band 8A",
           "type": "image/tiff; application=geotiff; profile=cloud-optimized"
          },
          "SCL": {
           "href": "https://sentinel-cogs.s3.us-west-2.amazonaws.com/sentinel-s2-l2a-cogs/13/S/DA/2020/4/S2B_13SDA_20200408_0_L2A/SCL.tif",
           "proj:shape": [
            5490,
            5490
           ],
           "proj:transform": [
            20,
            0,
            399960,
            0,
            -20,
            4100040,
            0,
            0,
            1
           ],
           "title": "Scene Classification Map (SCL)",
           "type": "image/tiff; application=geotiff; profile=cloud-optimized"
          },
          "WVP": {
           "href": "https://sentinel-cogs.s3.us-west-2.amazonaws.com/sentinel-s2-l2a-cogs/13/S/DA/2020/4/S2B_13SDA_20200408_0_L2A/WVP.tif",
           "proj:shape": [
            10980,
            10980
           ],
           "proj:transform": [
            10,
            0,
            399960,
            0,
            -10,
            4100040,
            0,
            0,
            1
           ],
           "title": "Water Vapour (WVP)",
           "type": "image/tiff; application=geotiff; profile=cloud-optimized"
          },
          "info": {
           "href": "https://roda.sentinel-hub.com/sentinel-s2-l2a/tiles/13/S/DA/2020/4/8/0/tileInfo.json",
           "title": "Original JSON metadata",
           "type": "application/json"
          },
          "metadata": {
           "href": "https://roda.sentinel-hub.com/sentinel-s2-l2a/tiles/13/S/DA/2020/4/8/0/metadata.xml",
           "title": "Original XML metadata",
           "type": "application/xml"
          },
          "overview": {
           "href": "https://sentinel-cogs.s3.us-west-2.amazonaws.com/sentinel-s2-l2a-cogs/13/S/DA/2020/4/S2B_13SDA_20200408_0_L2A/L2A_PVI.tif",
           "proj:shape": [
            343,
            343
           ],
           "proj:transform": [
            320,
            0,
            399960,
            0,
            -320,
            4100040,
            0,
            0,
            1
           ],
           "title": "True color image",
           "type": "image/tiff; application=geotiff; profile=cloud-optimized"
          },
          "thumbnail": {
           "href": "https://roda.sentinel-hub.com/sentinel-s2-l1c/tiles/13/S/DA/2020/4/8/0/preview.jpg",
           "title": "Thumbnail",
           "type": "image/png"
          },
          "visual": {
           "href": "https://sentinel-cogs.s3.us-west-2.amazonaws.com/sentinel-s2-l2a-cogs/13/S/DA/2020/4/S2B_13SDA_20200408_0_L2A/TCI.tif",
           "proj:shape": [
            10980,
            10980
           ],
           "proj:transform": [
            10,
            0,
            399960,
            0,
            -10,
            4100040,
            0,
            0,
            1
           ],
           "title": "True color image",
           "type": "image/tiff; application=geotiff; profile=cloud-optimized"
          }
         },
         "bbox": [
          -106.12454845546677,
          36.05158782950058,
          -104.89025193801255,
          37.0465232766518
         ],
         "collection": "sentinel-s2-l2a-cogs",
         "geometry": {
          "coordinates": [
           [
            [
             -106.11067273828671,
             36.05158782950058
            ],
            [
             -106.12454845546677,
             37.015781741844805
            ],
            [
             -106.11724874291815,
             37.04131340683844
            ],
            [
             -104.89025193801255,
             37.0465232766518
            ],
            [
             -104.89164263349547,
             36.05668401100348
            ],
            [
             -106.11067273828671,
             36.05158782950058
            ]
           ]
          ],
          "type": "Polygon"
         },
         "id": "S2B_13SDA_20200408_0_L2A",
         "links": [
          {
           "href": "https://earth-search.aws.element84.com/v0/collections/sentinel-s2-l2a-cogs/items/S2B_13SDA_20200408_0_L2A",
           "rel": "self"
          },
          {
           "href": "https://sentinel-cogs.s3.us-west-2.amazonaws.com/sentinel-s2-l2a-cogs/13/S/DA/2020/4/S2B_13SDA_20200408_0_L2A/S2B_13SDA_20200408_0_L2A.json",
           "rel": "canonical",
           "type": "application/json"
          },
          {
           "href": "https://earth-search.aws.element84.com/v0/collections/sentinel-s2-l2a/items/S2B_13SDA_20200408_0_L2A",
           "rel": "derived_from",
           "title": "Source STAC Item",
           "type": "application/json"
          },
          {
           "href": "https://earth-search.aws.element84.com/v0/collections/sentinel-s2-l2a-cogs",
           "rel": "parent"
          },
          {
           "href": "https://earth-search.aws.element84.com/v0/collections/sentinel-s2-l2a-cogs",
           "rel": "collection"
          },
          {
           "href": "https://earth-search.aws.element84.com/v0",
           "rel": "root",
           "title": "Earth Search",
           "type": "application/json"
          }
         ],
         "properties": {
          "constellation": "sentinel-2",
          "created": "2020-08-31T15:02:43.771Z",
          "data_coverage": 99.99,
          "datetime": "2020-04-08T17:53:53Z",
          "eo:cloud_cover": 2.74,
          "gsd": 10,
          "instruments": [
           "msi"
          ],
          "platform": "sentinel-2b",
          "proj:epsg": 32613,
          "sentinel:data_coverage": 99.99,
          "sentinel:grid_square": "DA",
          "sentinel:latitude_band": "S",
          "sentinel:product_id": "S2B_MSIL2A_20200408T173859_N0214_R098_T13SDA_20200408T215856",
          "sentinel:sequence": "0",
          "sentinel:utm_zone": 13,
          "sentinel:valid_cloud_cover": true,
          "updated": "2020-08-31T15:02:43.771Z",
          "view:off_nadir": 0
         },
         "properties.sentinel:boa_offset_applied": false,
         "stac_extensions": [
          "eo",
          "view",
          "proj"
         ],
         "stac_version": "1.0.0",
         "type": "Feature"
        },
        {
         "assets": {
          "AOT": {
           "href": "https://sentinel-cogs.s3.us-west-2.amazonaws.com/sentinel-s2-l2a-cogs/13/S/EA/2020/4/S2B_13SEA_20200408_0_L2A/AOT.tif",
           "proj:shape": [
            1830,
            1830
           ],
           "proj:transform": [
            60,
            0,
            499980,
            0,
            -60,
            4100040,
            0,
            0,
            1
           ],
           "title": "Aerosol Optical Thickness (AOT)",
           "type": "image/tiff; application=geotiff; profile=cloud-optimized"
          },
          "B01": {
           "href": "https://sentinel-cogs.s3.us-west-2.amazonaws.com/sentinel-s2-l2a-cogs/13/S/EA/2020/4/S2B_13SEA_20200408_0_L2A/B01.tif",
           "proj:shape": [
            1830,
            1830
           ],
           "proj:transform": [
            60,
            0,
            499980,
            0,
            -60,
            4100040,
            0,
            0,
            1
           ],
           "title": "Band 1 (coastal)",
           "type": "image/tiff; application=geotiff; profile=cloud-optimized"
          },
          "B02": {
           "href": "https://sentinel-cogs.s3.us-west-2.amazonaws.com/sentinel-s2-l2a-cogs/13/S/EA/2020/4/S2B_13SEA_20200408_0_L2A/B02.tif",
           "proj:shape": [
            10980,
            10980
           ],
           "proj:transform": [
            10,
            0,
            499980,
            0,
            -10,
            4100040,
            0,
            0,
            1
           ],
           "title": "Band 2 (blue)",
           "type": "image/tiff; application=geotiff; profile=cloud-optimized"
          },
          "B03": {
           "href": "https://sentinel-cogs.s3.us-west-2.amazonaws.com/sentinel-s2-l2a-cogs/13/S/EA/2020/4/S2B_13SEA_20200408_0_L2A/B03.tif",
           "proj:shape": [
            10980,
            10980
           ],
           "proj:transform": [
            10,
            0,
            499980,
            0,
            -10,
            4100040,
            0,
            0,
            1
           ],
           "title": "Band 3 (green)",
           "type": "image/tiff; application=geotiff; profile=cloud-optimized"
          },
          "B04": {
           "href": "https://sentinel-cogs.s3.us-west-2.amazonaws.com/sentinel-s2-l2a-cogs/13/S/EA/2020/4/S2B_13SEA_20200408_0_L2A/B04.tif",
           "proj:shape": [
            10980,
            10980
           ],
           "proj:transform": [
            10,
            0,
            499980,
            0,
            -10,
            4100040,
            0,
            0,
            1
           ],
           "title": "Band 4 (red)",
           "type": "image/tiff; application=geotiff; profile=cloud-optimized"
          },
          "B05": {
           "href": "https://sentinel-cogs.s3.us-west-2.amazonaws.com/sentinel-s2-l2a-cogs/13/S/EA/2020/4/S2B_13SEA_20200408_0_L2A/B05.tif",
           "proj:shape": [
            5490,
            5490
           ],
           "proj:transform": [
            20,
            0,
            499980,
            0,
            -20,
            4100040,
            0,
            0,
            1
           ],
           "title": "Band 5",
           "type": "image/tiff; application=geotiff; profile=cloud-optimized"
          },
          "B06": {
           "href": "https://sentinel-cogs.s3.us-west-2.amazonaws.com/sentinel-s2-l2a-cogs/13/S/EA/2020/4/S2B_13SEA_20200408_0_L2A/B06.tif",
           "proj:shape": [
            5490,
            5490
           ],
           "proj:transform": [
            20,
            0,
            499980,
            0,
            -20,
            4100040,
            0,
            0,
            1
           ],
           "title": "Band 6",
           "type": "image/tiff; application=geotiff; profile=cloud-optimized"
          },
          "B07": {
           "href": "https://sentinel-cogs.s3.us-west-2.amazonaws.com/sentinel-s2-l2a-cogs/13/S/EA/2020/4/S2B_13SEA_20200408_0_L2A/B07.tif",
           "proj:shape": [
            5490,
            5490
           ],
           "proj:transform": [
            20,
            0,
            499980,
            0,
            -20,
            4100040,
            0,
            0,
            1
           ],
           "title": "Band 7",
           "type": "image/tiff; application=geotiff; profile=cloud-optimized"
          },
          "B08": {
           "href": "https://sentinel-cogs.s3.us-west-2.amazonaws.com/sentinel-s2-l2a-cogs/13/S/EA/2020/4/S2B_13SEA_20200408_0_L2A/B08.tif",
           "proj:shape": [
            10980,
            10980
           ],
           "proj:transform": [
            10,
            0,
            499980,
            0,
            -10,
            4100040,
            0,
            0,
            1
           ],
           "title": "Band 8 (nir)",
           "type": "image/tiff; application=geotiff; profile=cloud-optimized"
          },
          "B09": {
           "href": "https://sentinel-cogs.s3.us-west-2.amazonaws.com/sentinel-s2-l2a-cogs/13/S/EA/2020/4/S2B_13SEA_20200408_0_L2A/B09.tif",
           "proj:shape": [
            1830,
            1830
           ],
           "proj:transform": [
            60,
            0,
            499980,
            0,
            -60,
            4100040,
            0,
            0,
            1
           ],
           "title": "Band 9",
           "type": "image/tiff; application=geotiff; profile=cloud-optimized"
          },
          "B11": {
           "href": "https://sentinel-cogs.s3.us-west-2.amazonaws.com/sentinel-s2-l2a-cogs/13/S/EA/2020/4/S2B_13SEA_20200408_0_L2A/B11.tif",
           "proj:shape": [
            5490,
            5490
           ],
           "proj:transform": [
            20,
            0,
            499980,
            0,
            -20,
            4100040,
            0,
            0,
            1
           ],
           "title": "Band 11 (swir16)",
           "type": "image/tiff; application=geotiff; profile=cloud-optimized"
          },
          "B12": {
           "href": "https://sentinel-cogs.s3.us-west-2.amazonaws.com/sentinel-s2-l2a-cogs/13/S/EA/2020/4/S2B_13SEA_20200408_0_L2A/B12.tif",
           "proj:shape": [
            5490,
            5490
           ],
           "proj:transform": [
            20,
            0,
            499980,
            0,
            -20,
            4100040,
            0,
            0,
            1
           ],
           "title": "Band 12 (swir22)",
           "type": "image/tiff; application=geotiff; profile=cloud-optimized"
          },
          "B8A": {
           "href": "https://sentinel-cogs.s3.us-west-2.amazonaws.com/sentinel-s2-l2a-cogs/13/S/EA/2020/4/S2B_13SEA_20200408_0_L2A/B8A.tif",
           "proj:shape": [
            5490,
            5490
           ],
           "proj:transform": [
            20,
            0,
            499980,
            0,
            -20,
            4100040,
            0,
            0,
            1
           ],
           "title": "Band 8A",
           "type": "image/tiff; application=geotiff; profile=cloud-optimized"
          },
          "SCL": {
           "href": "https://sentinel-cogs.s3.us-west-2.amazonaws.com/sentinel-s2-l2a-cogs/13/S/EA/2020/4/S2B_13SEA_20200408_0_L2A/SCL.tif",
           "proj:shape": [
            5490,
            5490
           ],
           "proj:transform": [
            20,
            0,
            499980,
            0,
            -20,
            4100040,
            0,
            0,
            1
           ],
           "title": "Scene Classification Map (SCL)",
           "type": "image/tiff; application=geotiff; profile=cloud-optimized"
          },
          "WVP": {
           "href": "https://sentinel-cogs.s3.us-west-2.amazonaws.com/sentinel-s2-l2a-cogs/13/S/EA/2020/4/S2B_13SEA_20200408_0_L2A/WVP.tif",
           "proj:shape": [
            10980,
            10980
           ],
           "proj:transform": [
            10,
            0,
            499980,
            0,
            -10,
            4100040,
            0,
            0,
            1
           ],
           "title": "Water Vapour (WVP)",
           "type": "image/tiff; application=geotiff; profile=cloud-optimized"
          },
          "info": {
           "href": "https://roda.sentinel-hub.com/sentinel-s2-l2a/tiles/13/S/EA/2020/4/8/0/tileInfo.json",
           "title": "Original JSON metadata",
           "type": "application/json"
          },
          "metadata": {
           "href": "https://roda.sentinel-hub.com/sentinel-s2-l2a/tiles/13/S/EA/2020/4/8/0/metadata.xml",
           "title": "Original XML metadata",
           "type": "application/xml"
          },
          "overview": {
           "href": "https://sentinel-cogs.s3.us-west-2.amazonaws.com/sentinel-s2-l2a-cogs/13/S/EA/2020/4/S2B_13SEA_20200408_0_L2A/L2A_PVI.tif",
           "proj:shape": [
            343,
            343
           ],
           "proj:transform": [
            320,
            0,
            499980,
            0,
            -320,
            4100040,
            0,
            0,
            1
           ],
           "title": "True color image",
           "type": "image/tiff; application=geotiff; profile=cloud-optimized"
          },
          "thumbnail": {
           "href": "https://roda.sentinel-hub.com/sentinel-s2-l1c/tiles/13/S/EA/2020/4/8/0/preview.jpg",
           "title": "Thumbnail",
           "type": "image/png"
          },
          "visual": {
           "href": "https://sentinel-cogs.s3.us-west-2.amazonaws.com/sentinel-s2-l2a-cogs/13/S/EA/2020/4/S2B_13SEA_20200408_0_L2A/TCI.tif",
           "proj:shape": [
            10980,
            10980
           ],
           "proj:transform": [
            10,
            0,
            499980,
            0,
            -10,
            4100040,
            0,
            0,
            1
           ],
           "title": "True color image",
           "type": "image/tiff; application=geotiff; profile=cloud-optimized"
          }
         },
         "bbox": [
          -105.0002136709621,
          36.05053734221329,
          -103.76557335686445,
          37.046574035721214
         ],
         "collection": "sentinel-s2-l2a-cogs",
         "geometry": {
          "coordinates": [
           [
            [
             -103.78121094088331,
             36.05053734221329
            ],
            [
             -105.00021096337939,
             36.056732980577884
            ],
            [
             -105.0002136709621,
             37.046574035721214
            ],
            [
             -103.76557335686445,
             37.04015200857309
            ],
            [
             -103.78121094088331,
             36.05053734221329
            ]
           ]
          ],
          "type": "Polygon"
         },
         "id": "S2B_13SEA_20200408_0_L2A",
         "links": [
          {
           "href": "https://earth-search.aws.element84.com/v0/collections/sentinel-s2-l2a-cogs/items/S2B_13SEA_20200408_0_L2A",
           "rel": "self"
          },
          {
           "href": "https://sentinel-cogs.s3.us-west-2.amazonaws.com/sentinel-s2-l2a-cogs/13/S/EA/2020/4/S2B_13SEA_20200408_0_L2A/S2B_13SEA_20200408_0_L2A.json",
           "rel": "canonical",
           "type": "application/json"
          },
          {
           "href": "https://earth-search.aws.element84.com/v0/collections/sentinel-s2-l2a/items/S2B_13SEA_20200408_0_L2A",
           "rel": "derived_from",
           "title": "Source STAC Item",
           "type": "application/json"
          },
          {
           "href": "https://earth-search.aws.element84.com/v0/collections/sentinel-s2-l2a-cogs",
           "rel": "parent"
          },
          {
           "href": "https://earth-search.aws.element84.com/v0/collections/sentinel-s2-l2a-cogs",
           "rel": "collection"
          },
          {
           "href": "https://earth-search.aws.element84.com/v0",
           "rel": "root",
           "title": "Earth Search",
           "type": "application/json"
          }
         ],
         "properties": {
          "constellation": "sentinel-2",
          "created": "2020-09-18T23:24:23.215Z",
          "data_coverage": 100,
          "datetime": "2020-04-08T17:53:50Z",
          "eo:cloud_cover": 2.9,
          "gsd": 10,
          "instruments": [
           "msi"
          ],
          "platform": "sentinel-2b",
          "proj:epsg": 32613,
          "sentinel:data_coverage": 100,
          "sentinel:grid_square": "EA",
          "sentinel:latitude_band": "S",
          "sentinel:product_id": "S2B_MSIL2A_20200408T173859_N0214_R098_T13SEA_20200408T215856",
          "sentinel:sequence": "0",
          "sentinel:utm_zone": 13,
          "sentinel:valid_cloud_cover": true,
          "updated": "2020-09-18T23:24:23.215Z",
          "view:off_nadir": 0
         },
         "properties.sentinel:boa_offset_applied": false,
         "stac_extensions": [
          "eo",
          "view",
          "proj"
         ],
         "stac_version": "1.0.0",
         "type": "Feature"
        },
        {
         "assets": {
          "AOT": {
           "href": "https://sentinel-cogs.s3.us-west-2.amazonaws.com/sentinel-s2-l2a-cogs/13/S/CV/2020/4/S2A_13SCV_20200406_0_L2A/AOT.tif",
           "proj:shape": [
            1830,
            1830
           ],
           "proj:transform": [
            60,
            0,
            300000,
            0,
            -60,
            4000020,
            0,
            0,
            1
           ],
           "title": "Aerosol Optical Thickness (AOT)",
           "type": "image/tiff; application=geotiff; profile=cloud-optimized"
          },
          "B01": {
           "href": "https://sentinel-cogs.s3.us-west-2.amazonaws.com/sentinel-s2-l2a-cogs/13/S/CV/2020/4/S2A_13SCV_20200406_0_L2A/B01.tif",
           "proj:shape": [
            1830,
            1830
           ],
           "proj:transform": [
            60,
            0,
            300000,
            0,
            -60,
            4000020,
            0,
            0,
            1
           ],
           "title": "Band 1 (coastal)",
           "type": "image/tiff; application=geotiff; profile=cloud-optimized"
          },
          "B02": {
           "href": "https://sentinel-cogs.s3.us-west-2.amazonaws.com/sentinel-s2-l2a-cogs/13/S/CV/2020/4/S2A_13SCV_20200406_0_L2A/B02.tif",
           "proj:shape": [
            10980,
            10980
           ],
           "proj:transform": [
            10,
            0,
            300000,
            0,
            -10,
            4000020,
            0,
            0,
            1
           ],
           "title": "Band 2 (blue)",
           "type": "image/tiff; application=geotiff; profile=cloud-optimized"
          },
          "B03": {
           "href": "https://sentinel-cogs.s3.us-west-2.amazonaws.com/sentinel-s2-l2a-cogs/13/S/CV/2020/4/S2A_13SCV_20200406_0_L2A/B03.tif",
           "proj:shape": [
            10980,
            10980
           ],
           "proj:transform": [
            10,
            0,
            300000,
            0,
            -10,
            4000020,
            0,
            0,
            1
           ],
           "title": "Band 3 (green)",
           "type": "image/tiff; application=geotiff; profile=cloud-optimized"
          },
          "B04": {
           "href": "https://sentinel-cogs.s3.us-west-2.amazonaws.com/sentinel-s2-l2a-cogs/13/S/CV/2020/4/S2A_13SCV_20200406_0_L2A/B04.tif",
           "proj:shape": [
            10980,
            10980
           ],
           "proj:transform": [
            10,
            0,
            300000,
            0,
            -10,
            4000020,
            0,
            0,
            1
           ],
           "title": "Band 4 (red)",
           "type": "image/tiff; application=geotiff; profile=cloud-optimized"
          },
          "B05": {
           "href": "https://sentinel-cogs.s3.us-west-2.amazonaws.com/sentinel-s2-l2a-cogs/13/S/CV/2020/4/S2A_13SCV_20200406_0_L2A/B05.tif",
           "proj:shape": [
            5490,
            5490
           ],
           "proj:transform": [
            20,
            0,
            300000,
            0,
            -20,
            4000020,
            0,
            0,
            1
           ],
           "title": "Band 5",
           "type": "image/tiff; application=geotiff; profile=cloud-optimized"
          },
          "B06": {
           "href": "https://sentinel-cogs.s3.us-west-2.amazonaws.com/sentinel-s2-l2a-cogs/13/S/CV/2020/4/S2A_13SCV_20200406_0_L2A/B06.tif",
           "proj:shape": [
            5490,
            5490
           ],
           "proj:transform": [
            20,
            0,
            300000,
            0,
            -20,
            4000020,
            0,
            0,
            1
           ],
           "title": "Band 6",
           "type": "image/tiff; application=geotiff; profile=cloud-optimized"
          },
          "B07": {
           "href": "https://sentinel-cogs.s3.us-west-2.amazonaws.com/sentinel-s2-l2a-cogs/13/S/CV/2020/4/S2A_13SCV_20200406_0_L2A/B07.tif",
           "proj:shape": [
            5490,
            5490
           ],
           "proj:transform": [
            20,
            0,
            300000,
            0,
            -20,
            4000020,
            0,
            0,
            1
           ],
           "title": "Band 7",
           "type": "image/tiff; application=geotiff; profile=cloud-optimized"
          },
          "B08": {
           "href": "https://sentinel-cogs.s3.us-west-2.amazonaws.com/sentinel-s2-l2a-cogs/13/S/CV/2020/4/S2A_13SCV_20200406_0_L2A/B08.tif",
           "proj:shape": [
            10980,
            10980
           ],
           "proj:transform": [
            10,
            0,
            300000,
            0,
            -10,
            4000020,
            0,
            0,
            1
           ],
           "title": "Band 8 (nir)",
           "type": "image/tiff; application=geotiff; profile=cloud-optimized"
          },
          "B09": {
           "href": "https://sentinel-cogs.s3.us-west-2.amazonaws.com/sentinel-s2-l2a-cogs/13/S/CV/2020/4/S2A_13SCV_20200406_0_L2A/B09.tif",
           "proj:shape": [
            1830,
            1830
           ],
           "proj:transform": [
            60,
            0,
            300000,
            0,
            -60,
            4000020,
            0,
            0,
            1
           ],
           "title": "Band 9",
           "type": "image/tiff; application=geotiff; profile=cloud-optimized"
          },
          "B11": {
           "href": "https://sentinel-cogs.s3.us-west-2.amazonaws.com/sentinel-s2-l2a-cogs/13/S/CV/2020/4/S2A_13SCV_20200406_0_L2A/B11.tif",
           "proj:shape": [
            5490,
            5490
           ],
           "proj:transform": [
            20,
            0,
            300000,
            0,
            -20,
            4000020,
            0,
            0,
            1
           ],
           "title": "Band 11 (swir16)",
           "type": "image/tiff; application=geotiff; profile=cloud-optimized"
          },
          "B12": {
           "href": "https://sentinel-cogs.s3.us-west-2.amazonaws.com/sentinel-s2-l2a-cogs/13/S/CV/2020/4/S2A_13SCV_20200406_0_L2A/B12.tif",
           "proj:shape": [
            5490,
            5490
           ],
           "proj:transform": [
            20,
            0,
            300000,
            0,
            -20,
            4000020,
            0,
            0,
            1
           ],
           "title": "Band 12 (swir22)",
           "type": "image/tiff; application=geotiff; profile=cloud-optimized"
          },
          "B8A": {
           "href": "https://sentinel-cogs.s3.us-west-2.amazonaws.com/sentinel-s2-l2a-cogs/13/S/CV/2020/4/S2A_13SCV_20200406_0_L2A/B8A.tif",
           "proj:shape": [
            5490,
            5490
           ],
           "proj:transform": [
            20,
            0,
            300000,
            0,
            -20,
            4000020,
            0,
            0,
            1
           ],
           "title": "Band 8A",
           "type": "image/tiff; application=geotiff; profile=cloud-optimized"
          },
          "SCL": {
           "href": "https://sentinel-cogs.s3.us-west-2.amazonaws.com/sentinel-s2-l2a-cogs/13/S/CV/2020/4/S2A_13SCV_20200406_0_L2A/SCL.tif",
           "proj:shape": [
            5490,
            5490
           ],
           "proj:transform": [
            20,
            0,
            300000,
            0,
            -20,
            4000020,
            0,
            0,
            1
           ],
           "title": "Scene Classification Map (SCL)",
           "type": "image/tiff; application=geotiff; profile=cloud-optimized"
          },
          "WVP": {
           "href": "https://sentinel-cogs.s3.us-west-2.amazonaws.com/sentinel-s2-l2a-cogs/13/S/CV/2020/4/S2A_13SCV_20200406_0_L2A/WVP.tif",
           "proj:shape": [
            10980,
            10980
           ],
           "proj:transform": [
            10,
            0,
            300000,
            0,
            -10,
            4000020,
            0,
            0,
            1
           ],
           "title": "Water Vapour (WVP)",
           "type": "image/tiff; application=geotiff; profile=cloud-optimized"
          },
          "info": {
           "href": "https://roda.sentinel-hub.com/sentinel-s2-l2a/tiles/13/S/CV/2020/4/6/0/tileInfo.json",
           "title": "Original JSON metadata",
           "type": "application/json"
          },
          "metadata": {
           "href": "https://roda.sentinel-hub.com/sentinel-s2-l2a/tiles/13/S/CV/2020/4/6/0/metadata.xml",
           "title": "Original XML metadata",
           "type": "application/xml"
          },
          "overview": {
           "href": "https://sentinel-cogs.s3.us-west-2.amazonaws.com/sentinel-s2-l2a-cogs/13/S/CV/2020/4/S2A_13SCV_20200406_0_L2A/L2A_PVI.tif",
           "proj:shape": [
            343,
            343
           ],
           "proj:transform": [
            320,
            0,
            300000,
            0,
            -320,
            4000020,
            0,
            0,
            1
           ],
           "title": "True color image",
           "type": "image/tiff; application=geotiff; profile=cloud-optimized"
          },
          "thumbnail": {
           "href": "https://roda.sentinel-hub.com/sentinel-s2-l1c/tiles/13/S/CV/2020/4/6/0/preview.jpg",
           "title": "Thumbnail",
           "type": "image/png"
          },
          "visual": {
           "href": "https://sentinel-cogs.s3.us-west-2.amazonaws.com/sentinel-s2-l2a-cogs/13/S/CV/2020/4/S2A_13SCV_20200406_0_L2A/TCI.tif",
           "proj:shape": [
            10980,
            10980
           ],
           "proj:transform": [
            10,
            0,
            300000,
            0,
            -10,
            4000020,
            0,
            0,
            1
           ],
           "title": "True color image",
           "type": "image/tiff; application=geotiff; profile=cloud-optimized"
          }
         },
         "bbox": [
          -107.22238510800922,
          35.135011161377925,
          -105.99029032211578,
          36.14069288925992
         ],
         "collection": "sentinel-s2-l2a-cogs",
         "geometry": {
          "coordinates": [
           [
            [
             -107.19515930513214,
             35.135011161377925
            ],
            [
             -107.22238510800922,
             36.124267208418296
            ],
            [
             -106.00258230901163,
             36.14069288925992
            ],
            [
             -105.99029032211578,
             35.15085199698541
            ],
            [
             -107.19515930513214,
             35.135011161377925
            ]
           ]
          ],
          "type": "Polygon"
         },
         "id": "S2A_13SCV_20200406_0_L2A",
         "links": [
          {
           "href": "https://earth-search.aws.element84.com/v0/collections/sentinel-s2-l2a-cogs/items/S2A_13SCV_20200406_0_L2A",
           "rel": "self"
          },
          {
           "href": "https://sentinel-cogs.s3.us-west-2.amazonaws.com/sentinel-s2-l2a-cogs/13/S/CV/2020/4/S2A_13SCV_20200406_0_L2A/S2A_13SCV_20200406_0_L2A.json",
           "rel": "canonical",
           "type": "application/json"
          },
          {
           "href": "https://earth-search.aws.element84.com/v0/collections/sentinel-s2-l2a/items/S2A_13SCV_20200406_0_L2A",
           "rel": "derived_from",
           "title": "Source STAC Item",
           "type": "application/json"
          },
          {
           "href": "https://earth-search.aws.element84.com/v0/collections/sentinel-s2-l2a-cogs",
           "rel": "parent"
          },
          {
           "href": "https://earth-search.aws.element84.com/v0/collections/sentinel-s2-l2a-cogs",
           "rel": "collection"
          },
          {
           "href": "https://earth-search.aws.element84.com/v0",
           "rel": "root",
           "title": "Earth Search",
           "type": "application/json"
          }
         ],
         "properties": {
          "constellation": "sentinel-2",
          "created": "2020-08-31T15:12:49.407Z",
          "data_coverage": 100,
          "datetime": "2020-04-06T18:04:08Z",
          "eo:cloud_cover": 15.75,
          "gsd": 10,
          "instruments": [
           "msi"
          ],
          "platform": "sentinel-2a",
          "proj:epsg": 32613,
          "sentinel:data_coverage": 100,
          "sentinel:grid_square": "CV",
          "sentinel:latitude_band": "S",
          "sentinel:product_id": "S2A_MSIL2A_20200406T174901_N0214_R141_T13SCV_20200406T221027",
          "sentinel:sequence": "0",
          "sentinel:utm_zone": 13,
          "sentinel:valid_cloud_cover": true,
          "updated": "2020-08-31T15:12:49.407Z",
          "view:off_nadir": 0
         },
         "properties.sentinel:boa_offset_applied": false,
         "stac_extensions": [
          "eo",
          "view",
          "proj"
         ],
         "stac_version": "1.0.0",
         "type": "Feature"
        },
        {
         "assets": {
          "AOT": {
           "href": "https://sentinel-cogs.s3.us-west-2.amazonaws.com/sentinel-s2-l2a-cogs/13/S/DV/2020/4/S2A_13SDV_20200406_0_L2A/AOT.tif",
           "proj:shape": [
            1830,
            1830
           ],
           "proj:transform": [
            60,
            0,
            399960,
            0,
            -60,
            4000020,
            0,
            0,
            1
           ],
           "title": "Aerosol Optical Thickness (AOT)",
           "type": "image/tiff; application=geotiff; profile=cloud-optimized"
          },
          "B01": {
           "href": "https://sentinel-cogs.s3.us-west-2.amazonaws.com/sentinel-s2-l2a-cogs/13/S/DV/2020/4/S2A_13SDV_20200406_0_L2A/B01.tif",
           "proj:shape": [
            1830,
            1830
           ],
           "proj:transform": [
            60,
            0,
            399960,
            0,
            -60,
            4000020,
            0,
            0,
            1
           ],
           "title": "Band 1 (coastal)",
           "type": "image/tiff; application=geotiff; profile=cloud-optimized"
          },
          "B02": {
           "href": "https://sentinel-cogs.s3.us-west-2.amazonaws.com/sentinel-s2-l2a-cogs/13/S/DV/2020/4/S2A_13SDV_20200406_0_L2A/B02.tif",
           "proj:shape": [
            10980,
            10980
           ],
           "proj:transform": [
            10,
            0,
            399960,
            0,
            -10,
            4000020,
            0,
            0,
            1
           ],
           "title": "Band 2 (blue)",
           "type": "image/tiff; application=geotiff; profile=cloud-optimized"
          },
          "B03": {
           "href": "https://sentinel-cogs.s3.us-west-2.amazonaws.com/sentinel-s2-l2a-cogs/13/S/DV/2020/4/S2A_13SDV_20200406_0_L2A/B03.tif",
           "proj:shape": [
            10980,
            10980
           ],
           "proj:transform": [
            10,
            0,
            399960,
            0,
            -10,
            4000020,
            0,
            0,
            1
           ],
           "title": "Band 3 (green)",
           "type": "image/tiff; application=geotiff; profile=cloud-optimized"
          },
          "B04": {
           "href": "https://sentinel-cogs.s3.us-west-2.amazonaws.com/sentinel-s2-l2a-cogs/13/S/DV/2020/4/S2A_13SDV_20200406_0_L2A/B04.tif",
           "proj:shape": [
            10980,
            10980
           ],
           "proj:transform": [
            10,
            0,
            399960,
            0,
            -10,
            4000020,
            0,
            0,
            1
           ],
           "title": "Band 4 (red)",
           "type": "image/tiff; application=geotiff; profile=cloud-optimized"
          },
          "B05": {
           "href": "https://sentinel-cogs.s3.us-west-2.amazonaws.com/sentinel-s2-l2a-cogs/13/S/DV/2020/4/S2A_13SDV_20200406_0_L2A/B05.tif",
           "proj:shape": [
            5490,
            5490
           ],
           "proj:transform": [
            20,
            0,
            399960,
            0,
            -20,
            4000020,
            0,
            0,
            1
           ],
           "title": "Band 5",
           "type": "image/tiff; application=geotiff; profile=cloud-optimized"
          },
          "B06": {
           "href": "https://sentinel-cogs.s3.us-west-2.amazonaws.com/sentinel-s2-l2a-cogs/13/S/DV/2020/4/S2A_13SDV_20200406_0_L2A/B06.tif",
           "proj:shape": [
            5490,
            5490
           ],
           "proj:transform": [
            20,
            0,
            399960,
            0,
            -20,
            4000020,
            0,
            0,
            1
           ],
           "title": "Band 6",
           "type": "image/tiff; application=geotiff; profile=cloud-optimized"
          },
          "B07": {
           "href": "https://sentinel-cogs.s3.us-west-2.amazonaws.com/sentinel-s2-l2a-cogs/13/S/DV/2020/4/S2A_13SDV_20200406_0_L2A/B07.tif",
           "proj:shape": [
            5490,
            5490
           ],
           "proj:transform": [
            20,
            0,
            399960,
            0,
            -20,
            4000020,
            0,
            0,
            1
           ],
           "title": "Band 7",
           "type": "image/tiff; application=geotiff; profile=cloud-optimized"
          },
          "B08": {
           "href": "https://sentinel-cogs.s3.us-west-2.amazonaws.com/sentinel-s2-l2a-cogs/13/S/DV/2020/4/S2A_13SDV_20200406_0_L2A/B08.tif",
           "proj:shape": [
            10980,
            10980
           ],
           "proj:transform": [
            10,
            0,
            399960,
            0,
            -10,
            4000020,
            0,
            0,
            1
           ],
           "title": "Band 8 (nir)",
           "type": "image/tiff; application=geotiff; profile=cloud-optimized"
          },
          "B09": {
           "href": "https://sentinel-cogs.s3.us-west-2.amazonaws.com/sentinel-s2-l2a-cogs/13/S/DV/2020/4/S2A_13SDV_20200406_0_L2A/B09.tif",
           "proj:shape": [
            1830,
            1830
           ],
           "proj:transform": [
            60,
            0,
            399960,
            0,
            -60,
            4000020,
            0,
            0,
            1
           ],
           "title": "Band 9",
           "type": "image/tiff; application=geotiff; profile=cloud-optimized"
          },
          "B11": {
           "href": "https://sentinel-cogs.s3.us-west-2.amazonaws.com/sentinel-s2-l2a-cogs/13/S/DV/2020/4/S2A_13SDV_20200406_0_L2A/B11.tif",
           "proj:shape": [
            5490,
            5490
           ],
           "proj:transform": [
            20,
            0,
            399960,
            0,
            -20,
            4000020,
            0,
            0,
            1
           ],
           "title": "Band 11 (swir16)",
           "type": "image/tiff; application=geotiff; profile=cloud-optimized"
          },
          "B12": {
           "href": "https://sentinel-cogs.s3.us-west-2.amazonaws.com/sentinel-s2-l2a-cogs/13/S/DV/2020/4/S2A_13SDV_20200406_0_L2A/B12.tif",
           "proj:shape": [
            5490,
            5490
           ],
           "proj:transform": [
            20,
            0,
            399960,
            0,
            -20,
            4000020,
            0,
            0,
            1
           ],
           "title": "Band 12 (swir22)",
           "type": "image/tiff; application=geotiff; profile=cloud-optimized"
          },
          "B8A": {
           "href": "https://sentinel-cogs.s3.us-west-2.amazonaws.com/sentinel-s2-l2a-cogs/13/S/DV/2020/4/S2A_13SDV_20200406_0_L2A/B8A.tif",
           "proj:shape": [
            5490,
            5490
           ],
           "proj:transform": [
            20,
            0,
            399960,
            0,
            -20,
            4000020,
            0,
            0,
            1
           ],
           "title": "Band 8A",
           "type": "image/tiff; application=geotiff; profile=cloud-optimized"
          },
          "SCL": {
           "href": "https://sentinel-cogs.s3.us-west-2.amazonaws.com/sentinel-s2-l2a-cogs/13/S/DV/2020/4/S2A_13SDV_20200406_0_L2A/SCL.tif",
           "proj:shape": [
            5490,
            5490
           ],
           "proj:transform": [
            20,
            0,
            399960,
            0,
            -20,
            4000020,
            0,
            0,
            1
           ],
           "title": "Scene Classification Map (SCL)",
           "type": "image/tiff; application=geotiff; profile=cloud-optimized"
          },
          "WVP": {
           "href": "https://sentinel-cogs.s3.us-west-2.amazonaws.com/sentinel-s2-l2a-cogs/13/S/DV/2020/4/S2A_13SDV_20200406_0_L2A/WVP.tif",
           "proj:shape": [
            10980,
            10980
           ],
           "proj:transform": [
            10,
            0,
            399960,
            0,
            -10,
            4000020,
            0,
            0,
            1
           ],
           "title": "Water Vapour (WVP)",
           "type": "image/tiff; application=geotiff; profile=cloud-optimized"
          },
          "info": {
           "href": "https://roda.sentinel-hub.com/sentinel-s2-l2a/tiles/13/S/DV/2020/4/6/0/tileInfo.json",
           "title": "Original JSON metadata",
           "type": "application/json"
          },
          "metadata": {
           "href": "https://roda.sentinel-hub.com/sentinel-s2-l2a/tiles/13/S/DV/2020/4/6/0/metadata.xml",
           "title": "Original XML metadata",
           "type": "application/xml"
          },
          "overview": {
           "href": "https://sentinel-cogs.s3.us-west-2.amazonaws.com/sentinel-s2-l2a-cogs/13/S/DV/2020/4/S2A_13SDV_20200406_0_L2A/L2A_PVI.tif",
           "proj:shape": [
            343,
            343
           ],
           "proj:transform": [
            320,
            0,
            399960,
            0,
            -320,
            4000020,
            0,
            0,
            1
           ],
           "title": "True color image",
           "type": "image/tiff; application=geotiff; profile=cloud-optimized"
          },
          "thumbnail": {
           "href": "https://roda.sentinel-hub.com/sentinel-s2-l1c/tiles/13/S/DV/2020/4/6/0/preview.jpg",
           "title": "Thumbnail",
           "type": "image/png"
          },
          "visual": {
           "href": "https://sentinel-cogs.s3.us-west-2.amazonaws.com/sentinel-s2-l2a-cogs/13/S/DV/2020/4/S2A_13SDV_20200406_0_L2A/TCI.tif",
           "proj:shape": [
            10980,
            10980
           ],
           "proj:transform": [
            10,
            0,
            399960,
            0,
            -10,
            4000020,
            0,
            0,
            1
           ],
           "title": "True color image",
           "type": "image/tiff; application=geotiff; profile=cloud-optimized"
          }
         },
         "bbox": [
          -106.11191385205835,
          35.1499211736146,
          -105.53427404327522,
          36.143697696447624
         ],
         "collection": "sentinel-s2-l2a-cogs",
         "geometry": {
          "coordinates": [
           [
            [
             -106.09828205302668,
             35.1499211736146
            ],
            [
             -106.11191385205835,
             36.139727693244055
            ],
            [
             -105.53427404327522,
             36.143697696447624
            ],
            [
             -105.85036280159669,
             35.15191490810575
            ],
            [
             -106.09828205302668,
             35.1499211736146
            ]
           ]
          ],
          "type": "Polygon"
         },
         "id": "S2A_13SDV_20200406_0_L2A",
         "links": [
          {
           "href": "https://earth-search.aws.element84.com/v0/collections/sentinel-s2-l2a-cogs/items/S2A_13SDV_20200406_0_L2A",
           "rel": "self"
          },
          {
           "href": "https://sentinel-cogs.s3.us-west-2.amazonaws.com/sentinel-s2-l2a-cogs/13/S/DV/2020/4/S2A_13SDV_20200406_0_L2A/S2A_13SDV_20200406_0_L2A.json",
           "rel": "canonical",
           "type": "application/json"
          },
          {
           "href": "https://earth-search.aws.element84.com/v0/collections/sentinel-s2-l2a/items/S2A_13SDV_20200406_0_L2A",
           "rel": "derived_from",
           "title": "Source STAC Item",
           "type": "application/json"
          },
          {
           "href": "https://earth-search.aws.element84.com/v0/collections/sentinel-s2-l2a-cogs",
           "rel": "parent"
          },
          {
           "href": "https://earth-search.aws.element84.com/v0/collections/sentinel-s2-l2a-cogs",
           "rel": "collection"
          },
          {
           "href": "https://earth-search.aws.element84.com/v0",
           "rel": "root",
           "title": "Earth Search",
           "type": "application/json"
          }
         ],
         "properties": {
          "constellation": "sentinel-2",
          "created": "2020-09-05T11:18:48.722Z",
          "data_coverage": 33.9,
          "datetime": "2020-04-06T18:04:04Z",
          "eo:cloud_cover": 27.26,
          "gsd": 10,
          "instruments": [
           "msi"
          ],
          "platform": "sentinel-2a",
          "proj:epsg": 32613,
          "sentinel:data_coverage": 33.9,
          "sentinel:grid_square": "DV",
          "sentinel:latitude_band": "S",
          "sentinel:product_id": "S2A_MSIL2A_20200406T174901_N0214_R141_T13SDV_20200406T221027",
          "sentinel:sequence": "0",
          "sentinel:utm_zone": 13,
          "sentinel:valid_cloud_cover": true,
          "updated": "2020-09-05T11:18:48.722Z",
          "view:off_nadir": 0
         },
         "properties.sentinel:boa_offset_applied": false,
         "stac_extensions": [
          "eo",
          "view",
          "proj"
         ],
         "stac_version": "1.0.0",
         "type": "Feature"
        },
        {
         "assets": {
          "AOT": {
           "href": "https://sentinel-cogs.s3.us-west-2.amazonaws.com/sentinel-s2-l2a-cogs/13/S/CA/2020/4/S2A_13SCA_20200406_0_L2A/AOT.tif",
           "proj:shape": [
            1830,
            1830
           ],
           "proj:transform": [
            60,
            0,
            300000,
            0,
            -60,
            4100040,
            0,
            0,
            1
           ],
           "title": "Aerosol Optical Thickness (AOT)",
           "type": "image/tiff; application=geotiff; profile=cloud-optimized"
          },
          "B01": {
           "href": "https://sentinel-cogs.s3.us-west-2.amazonaws.com/sentinel-s2-l2a-cogs/13/S/CA/2020/4/S2A_13SCA_20200406_0_L2A/B01.tif",
           "proj:shape": [
            1830,
            1830
           ],
           "proj:transform": [
            60,
            0,
            300000,
            0,
            -60,
            4100040,
            0,
            0,
            1
           ],
           "title": "Band 1 (coastal)",
           "type": "image/tiff; application=geotiff; profile=cloud-optimized"
          },
          "B02": {
           "href": "https://sentinel-cogs.s3.us-west-2.amazonaws.com/sentinel-s2-l2a-cogs/13/S/CA/2020/4/S2A_13SCA_20200406_0_L2A/B02.tif",
           "proj:shape": [
            10980,
            10980
           ],
           "proj:transform": [
            10,
            0,
            300000,
            0,
            -10,
            4100040,
            0,
            0,
            1
           ],
           "title": "Band 2 (blue)",
           "type": "image/tiff; application=geotiff; profile=cloud-optimized"
          },
          "B03": {
           "href": "https://sentinel-cogs.s3.us-west-2.amazonaws.com/sentinel-s2-l2a-cogs/13/S/CA/2020/4/S2A_13SCA_20200406_0_L2A/B03.tif",
           "proj:shape": [
            10980,
            10980
           ],
           "proj:transform": [
            10,
            0,
            300000,
            0,
            -10,
            4100040,
            0,
            0,
            1
           ],
           "title": "Band 3 (green)",
           "type": "image/tiff; application=geotiff; profile=cloud-optimized"
          },
          "B04": {
           "href": "https://sentinel-cogs.s3.us-west-2.amazonaws.com/sentinel-s2-l2a-cogs/13/S/CA/2020/4/S2A_13SCA_20200406_0_L2A/B04.tif",
           "proj:shape": [
            10980,
            10980
           ],
           "proj:transform": [
            10,
            0,
            300000,
            0,
            -10,
            4100040,
            0,
            0,
            1
           ],
           "title": "Band 4 (red)",
           "type": "image/tiff; application=geotiff; profile=cloud-optimized"
          },
          "B05": {
           "href": "https://sentinel-cogs.s3.us-west-2.amazonaws.com/sentinel-s2-l2a-cogs/13/S/CA/2020/4/S2A_13SCA_20200406_0_L2A/B05.tif",
           "proj:shape": [
            5490,
            5490
           ],
           "proj:transform": [
            20,
            0,
            300000,
            0,
            -20,
            4100040,
            0,
            0,
            1
           ],
           "title": "Band 5",
           "type": "image/tiff; application=geotiff; profile=cloud-optimized"
          },
          "B06": {
           "href": "https://sentinel-cogs.s3.us-west-2.amazonaws.com/sentinel-s2-l2a-cogs/13/S/CA/2020/4/S2A_13SCA_20200406_0_L2A/B06.tif",
           "proj:shape": [
            5490,
            5490
           ],
           "proj:transform": [
            20,
            0,
            300000,
            0,
            -20,
            4100040,
            0,
            0,
            1
           ],
           "title": "Band 6",
           "type": "image/tiff; application=geotiff; profile=cloud-optimized"
          },
          "B07": {
           "href": "https://sentinel-cogs.s3.us-west-2.amazonaws.com/sentinel-s2-l2a-cogs/13/S/CA/2020/4/S2A_13SCA_20200406_0_L2A/B07.tif",
           "proj:shape": [
            5490,
            5490
           ],
           "proj:transform": [
            20,
            0,
            300000,
            0,
            -20,
            4100040,
            0,
            0,
            1
           ],
           "title": "Band 7",
           "type": "image/tiff; application=geotiff; profile=cloud-optimized"
          },
          "B08": {
           "href": "https://sentinel-cogs.s3.us-west-2.amazonaws.com/sentinel-s2-l2a-cogs/13/S/CA/2020/4/S2A_13SCA_20200406_0_L2A/B08.tif",
           "proj:shape": [
            10980,
            10980
           ],
           "proj:transform": [
            10,
            0,
            300000,
            0,
            -10,
            4100040,
            0,
            0,
            1
           ],
           "title": "Band 8 (nir)",
           "type": "image/tiff; application=geotiff; profile=cloud-optimized"
          },
          "B09": {
           "href": "https://sentinel-cogs.s3.us-west-2.amazonaws.com/sentinel-s2-l2a-cogs/13/S/CA/2020/4/S2A_13SCA_20200406_0_L2A/B09.tif",
           "proj:shape": [
            1830,
            1830
           ],
           "proj:transform": [
            60,
            0,
            300000,
            0,
            -60,
            4100040,
            0,
            0,
            1
           ],
           "title": "Band 9",
           "type": "image/tiff; application=geotiff; profile=cloud-optimized"
          },
          "B11": {
           "href": "https://sentinel-cogs.s3.us-west-2.amazonaws.com/sentinel-s2-l2a-cogs/13/S/CA/2020/4/S2A_13SCA_20200406_0_L2A/B11.tif",
           "proj:shape": [
            5490,
            5490
           ],
           "proj:transform": [
            20,
            0,
            300000,
            0,
            -20,
            4100040,
            0,
            0,
            1
           ],
           "title": "Band 11 (swir16)",
           "type": "image/tiff; application=geotiff; profile=cloud-optimized"
          },
          "B12": {
           "href": "https://sentinel-cogs.s3.us-west-2.amazonaws.com/sentinel-s2-l2a-cogs/13/S/CA/2020/4/S2A_13SCA_20200406_0_L2A/B12.tif",
           "proj:shape": [
            5490,
            5490
           ],
           "proj:transform": [
            20,
            0,
            300000,
            0,
            -20,
            4100040,
            0,
            0,
            1
           ],
           "title": "Band 12 (swir22)",
           "type": "image/tiff; application=geotiff; profile=cloud-optimized"
          },
          "B8A": {
           "href": "https://sentinel-cogs.s3.us-west-2.amazonaws.com/sentinel-s2-l2a-cogs/13/S/CA/2020/4/S2A_13SCA_20200406_0_L2A/B8A.tif",
           "proj:shape": [
            5490,
            5490
           ],
           "proj:transform": [
            20,
            0,
            300000,
            0,
            -20,
            4100040,
            0,
            0,
            1
           ],
           "title": "Band 8A",
           "type": "image/tiff; application=geotiff; profile=cloud-optimized"
          },
          "SCL": {
           "href": "https://sentinel-cogs.s3.us-west-2.amazonaws.com/sentinel-s2-l2a-cogs/13/S/CA/2020/4/S2A_13SCA_20200406_0_L2A/SCL.tif",
           "proj:shape": [
            5490,
            5490
           ],
           "proj:transform": [
            20,
            0,
            300000,
            0,
            -20,
            4100040,
            0,
            0,
            1
           ],
           "title": "Scene Classification Map (SCL)",
           "type": "image/tiff; application=geotiff; profile=cloud-optimized"
          },
          "WVP": {
           "href": "https://sentinel-cogs.s3.us-west-2.amazonaws.com/sentinel-s2-l2a-cogs/13/S/CA/2020/4/S2A_13SCA_20200406_0_L2A/WVP.tif",
           "proj:shape": [
            10980,
            10980
           ],
           "proj:transform": [
            10,
            0,
            300000,
            0,
            -10,
            4100040,
            0,
            0,
            1
           ],
           "title": "Water Vapour (WVP)",
           "type": "image/tiff; application=geotiff; profile=cloud-optimized"
          },
          "info": {
           "href": "https://roda.sentinel-hub.com/sentinel-s2-l2a/tiles/13/S/CA/2020/4/6/0/tileInfo.json",
           "title": "Original JSON metadata",
           "type": "application/json"
          },
          "metadata": {
           "href": "https://roda.sentinel-hub.com/sentinel-s2-l2a/tiles/13/S/CA/2020/4/6/0/metadata.xml",
           "title": "Original XML metadata",
           "type": "application/xml"
          },
          "overview": {
           "href": "https://sentinel-cogs.s3.us-west-2.amazonaws.com/sentinel-s2-l2a-cogs/13/S/CA/2020/4/S2A_13SCA_20200406_0_L2A/L2A_PVI.tif",
           "proj:shape": [
            343,
            343
           ],
           "proj:transform": [
            320,
            0,
            300000,
            0,
            -320,
            4100040,
            0,
            0,
            1
           ],
           "title": "True color image",
           "type": "image/tiff; application=geotiff; profile=cloud-optimized"
          },
          "thumbnail": {
           "href": "https://roda.sentinel-hub.com/sentinel-s2-l1c/tiles/13/S/CA/2020/4/6/0/preview.jpg",
           "title": "Thumbnail",
           "type": "image/png"
          },
          "visual": {
           "href": "https://sentinel-cogs.s3.us-west-2.amazonaws.com/sentinel-s2-l2a-cogs/13/S/CA/2020/4/S2A_13SCA_20200406_0_L2A/TCI.tif",
           "proj:shape": [
            10980,
            10980
           ],
           "proj:transform": [
            10,
            0,
            300000,
            0,
            -10,
            4100040,
            0,
            0,
            1
           ],
           "title": "True color image",
           "type": "image/tiff; application=geotiff; profile=cloud-optimized"
          }
         },
         "bbox": [
          -107.24836840432948,
          36.03617691222184,
          -106.00146317821304,
          37.042238132699175
         ],
         "collection": "sentinel-s2-l2a-cogs",
         "geometry": {
          "coordinates": [
           [
            [
             -107.21990635255229,
             36.03617691222184
            ],
            [
             -107.24836840432948,
             37.025266990733755
            ],
            [
             -106.0143136619799,
             37.042238132699175
            ],
            [
             -106.00146317821304,
             36.052549930385496
            ],
            [
             -107.21990635255229,
             36.03617691222184
            ]
           ]
          ],
          "type": "Polygon"
         },
         "id": "S2A_13SCA_20200406_0_L2A",
         "links": [
          {
           "href": "https://earth-search.aws.element84.com/v0/collections/sentinel-s2-l2a-cogs/items/S2A_13SCA_20200406_0_L2A",
           "rel": "self"
          },
          {
           "href": "https://sentinel-cogs.s3.us-west-2.amazonaws.com/sentinel-s2-l2a-cogs/13/S/CA/2020/4/S2A_13SCA_20200406_0_L2A/S2A_13SCA_20200406_0_L2A.json",
           "rel": "canonical",
           "type": "application/json"
          },
          {
           "href": "https://earth-search.aws.element84.com/v0/collections/sentinel-s2-l2a/items/S2A_13SCA_20200406_0_L2A",
           "rel": "derived_from",
           "title": "Source STAC Item",
           "type": "application/json"
          },
          {
           "href": "https://earth-search.aws.element84.com/v0/collections/sentinel-s2-l2a-cogs",
           "rel": "parent"
          },
          {
           "href": "https://earth-search.aws.element84.com/v0/collections/sentinel-s2-l2a-cogs",
           "rel": "collection"
          },
          {
           "href": "https://earth-search.aws.element84.com/v0",
           "rel": "root",
           "title": "Earth Search",
           "type": "application/json"
          }
         ],
         "properties": {
          "constellation": "sentinel-2",
          "created": "2020-09-05T10:00:19.229Z",
          "data_coverage": 100,
          "datetime": "2020-04-06T18:03:53Z",
          "eo:cloud_cover": 1.01,
          "gsd": 10,
          "instruments": [
           "msi"
          ],
          "platform": "sentinel-2a",
          "proj:epsg": 32613,
          "sentinel:data_coverage": 100,
          "sentinel:grid_square": "CA",
          "sentinel:latitude_band": "S",
          "sentinel:product_id": "S2A_MSIL2A_20200406T174901_N0214_R141_T13SCA_20200406T221027",
          "sentinel:sequence": "0",
          "sentinel:utm_zone": 13,
          "sentinel:valid_cloud_cover": true,
          "updated": "2020-09-05T10:00:19.229Z",
          "view:off_nadir": 0
         },
         "properties.sentinel:boa_offset_applied": false,
         "stac_extensions": [
          "eo",
          "view",
          "proj"
         ],
         "stac_version": "1.0.0",
         "type": "Feature"
        },
        {
         "assets": {
          "AOT": {
           "href": "https://sentinel-cogs.s3.us-west-2.amazonaws.com/sentinel-s2-l2a-cogs/13/S/DA/2020/4/S2A_13SDA_20200406_0_L2A/AOT.tif",
           "proj:shape": [
            1830,
            1830
           ],
           "proj:transform": [
            60,
            0,
            399960,
            0,
            -60,
            4100040,
            0,
            0,
            1
           ],
           "title": "Aerosol Optical Thickness (AOT)",
           "type": "image/tiff; application=geotiff; profile=cloud-optimized"
          },
          "B01": {
           "href": "https://sentinel-cogs.s3.us-west-2.amazonaws.com/sentinel-s2-l2a-cogs/13/S/DA/2020/4/S2A_13SDA_20200406_0_L2A/B01.tif",
           "proj:shape": [
            1830,
            1830
           ],
           "proj:transform": [
            60,
            0,
            399960,
            0,
            -60,
            4100040,
            0,
            0,
            1
           ],
           "title": "Band 1 (coastal)",
           "type": "image/tiff; application=geotiff; profile=cloud-optimized"
          },
          "B02": {
           "href": "https://sentinel-cogs.s3.us-west-2.amazonaws.com/sentinel-s2-l2a-cogs/13/S/DA/2020/4/S2A_13SDA_20200406_0_L2A/B02.tif",
           "proj:shape": [
            10980,
            10980
           ],
           "proj:transform": [
            10,
            0,
            399960,
            0,
            -10,
            4100040,
            0,
            0,
            1
           ],
           "title": "Band 2 (blue)",
           "type": "image/tiff; application=geotiff; profile=cloud-optimized"
          },
          "B03": {
           "href": "https://sentinel-cogs.s3.us-west-2.amazonaws.com/sentinel-s2-l2a-cogs/13/S/DA/2020/4/S2A_13SDA_20200406_0_L2A/B03.tif",
           "proj:shape": [
            10980,
            10980
           ],
           "proj:transform": [
            10,
            0,
            399960,
            0,
            -10,
            4100040,
            0,
            0,
            1
           ],
           "title": "Band 3 (green)",
           "type": "image/tiff; application=geotiff; profile=cloud-optimized"
          },
          "B04": {
           "href": "https://sentinel-cogs.s3.us-west-2.amazonaws.com/sentinel-s2-l2a-cogs/13/S/DA/2020/4/S2A_13SDA_20200406_0_L2A/B04.tif",
           "proj:shape": [
            10980,
            10980
           ],
           "proj:transform": [
            10,
            0,
            399960,
            0,
            -10,
            4100040,
            0,
            0,
            1
           ],
           "title": "Band 4 (red)",
           "type": "image/tiff; application=geotiff; profile=cloud-optimized"
          },
          "B05": {
           "href": "https://sentinel-cogs.s3.us-west-2.amazonaws.com/sentinel-s2-l2a-cogs/13/S/DA/2020/4/S2A_13SDA_20200406_0_L2A/B05.tif",
           "proj:shape": [
            5490,
            5490
           ],
           "proj:transform": [
            20,
            0,
            399960,
            0,
            -20,
            4100040,
            0,
            0,
            1
           ],
           "title": "Band 5",
           "type": "image/tiff; application=geotiff; profile=cloud-optimized"
          },
          "B06": {
           "href": "https://sentinel-cogs.s3.us-west-2.amazonaws.com/sentinel-s2-l2a-cogs/13/S/DA/2020/4/S2A_13SDA_20200406_0_L2A/B06.tif",
           "proj:shape": [
            5490,
            5490
           ],
           "proj:transform": [
            20,
            0,
            399960,
            0,
            -20,
            4100040,
            0,
            0,
            1
           ],
           "title": "Band 6",
           "type": "image/tiff; application=geotiff; profile=cloud-optimized"
          },
          "B07": {
           "href": "https://sentinel-cogs.s3.us-west-2.amazonaws.com/sentinel-s2-l2a-cogs/13/S/DA/2020/4/S2A_13SDA_20200406_0_L2A/B07.tif",
           "proj:shape": [
            5490,
            5490
           ],
           "proj:transform": [
            20,
            0,
            399960,
            0,
            -20,
            4100040,
            0,
            0,
            1
           ],
           "title": "Band 7",
           "type": "image/tiff; application=geotiff; profile=cloud-optimized"
          },
          "B08": {
           "href": "https://sentinel-cogs.s3.us-west-2.amazonaws.com/sentinel-s2-l2a-cogs/13/S/DA/2020/4/S2A_13SDA_20200406_0_L2A/B08.tif",
           "proj:shape": [
            10980,
            10980
           ],
           "proj:transform": [
            10,
            0,
            399960,
            0,
            -10,
            4100040,
            0,
            0,
            1
           ],
           "title": "Band 8 (nir)",
           "type": "image/tiff; application=geotiff; profile=cloud-optimized"
          },
          "B09": {
           "href": "https://sentinel-cogs.s3.us-west-2.amazonaws.com/sentinel-s2-l2a-cogs/13/S/DA/2020/4/S2A_13SDA_20200406_0_L2A/B09.tif",
           "proj:shape": [
            1830,
            1830
           ],
           "proj:transform": [
            60,
            0,
            399960,
            0,
            -60,
            4100040,
            0,
            0,
            1
           ],
           "title": "Band 9",
           "type": "image/tiff; application=geotiff; profile=cloud-optimized"
          },
          "B11": {
           "href": "https://sentinel-cogs.s3.us-west-2.amazonaws.com/sentinel-s2-l2a-cogs/13/S/DA/2020/4/S2A_13SDA_20200406_0_L2A/B11.tif",
           "proj:shape": [
            5490,
            5490
           ],
           "proj:transform": [
            20,
            0,
            399960,
            0,
            -20,
            4100040,
            0,
            0,
            1
           ],
           "title": "Band 11 (swir16)",
           "type": "image/tiff; application=geotiff; profile=cloud-optimized"
          },
          "B12": {
           "href": "https://sentinel-cogs.s3.us-west-2.amazonaws.com/sentinel-s2-l2a-cogs/13/S/DA/2020/4/S2A_13SDA_20200406_0_L2A/B12.tif",
           "proj:shape": [
            5490,
            5490
           ],
           "proj:transform": [
            20,
            0,
            399960,
            0,
            -20,
            4100040,
            0,
            0,
            1
           ],
           "title": "Band 12 (swir22)",
           "type": "image/tiff; application=geotiff; profile=cloud-optimized"
          },
          "B8A": {
           "href": "https://sentinel-cogs.s3.us-west-2.amazonaws.com/sentinel-s2-l2a-cogs/13/S/DA/2020/4/S2A_13SDA_20200406_0_L2A/B8A.tif",
           "proj:shape": [
            5490,
            5490
           ],
           "proj:transform": [
            20,
            0,
            399960,
            0,
            -20,
            4100040,
            0,
            0,
            1
           ],
           "title": "Band 8A",
           "type": "image/tiff; application=geotiff; profile=cloud-optimized"
          },
          "SCL": {
           "href": "https://sentinel-cogs.s3.us-west-2.amazonaws.com/sentinel-s2-l2a-cogs/13/S/DA/2020/4/S2A_13SDA_20200406_0_L2A/SCL.tif",
           "proj:shape": [
            5490,
            5490
           ],
           "proj:transform": [
            20,
            0,
            399960,
            0,
            -20,
            4100040,
            0,
            0,
            1
           ],
           "title": "Scene Classification Map (SCL)",
           "type": "image/tiff; application=geotiff; profile=cloud-optimized"
          },
          "WVP": {
           "href": "https://sentinel-cogs.s3.us-west-2.amazonaws.com/sentinel-s2-l2a-cogs/13/S/DA/2020/4/S2A_13SDA_20200406_0_L2A/WVP.tif",
           "proj:shape": [
            10980,
            10980
           ],
           "proj:transform": [
            10,
            0,
            399960,
            0,
            -10,
            4100040,
            0,
            0,
            1
           ],
           "title": "Water Vapour (WVP)",
           "type": "image/tiff; application=geotiff; profile=cloud-optimized"
          },
          "info": {
           "href": "https://roda.sentinel-hub.com/sentinel-s2-l2a/tiles/13/S/DA/2020/4/6/0/tileInfo.json",
           "title": "Original JSON metadata",
           "type": "application/json"
          },
          "metadata": {
           "href": "https://roda.sentinel-hub.com/sentinel-s2-l2a/tiles/13/S/DA/2020/4/6/0/metadata.xml",
           "title": "Original XML metadata",
           "type": "application/xml"
          },
          "overview": {
           "href": "https://sentinel-cogs.s3.us-west-2.amazonaws.com/sentinel-s2-l2a-cogs/13/S/DA/2020/4/S2A_13SDA_20200406_0_L2A/L2A_PVI.tif",
           "proj:shape": [
            343,
            343
           ],
           "proj:transform": [
            320,
            0,
            399960,
            0,
            -320,
            4100040,
            0,
            0,
            1
           ],
           "title": "True color image",
           "type": "image/tiff; application=geotiff; profile=cloud-optimized"
          },
          "thumbnail": {
           "href": "https://roda.sentinel-hub.com/sentinel-s2-l1c/tiles/13/S/DA/2020/4/6/0/preview.jpg",
           "title": "Thumbnail",
           "type": "image/png"
          },
          "visual": {
           "href": "https://sentinel-cogs.s3.us-west-2.amazonaws.com/sentinel-s2-l2a-cogs/13/S/DA/2020/4/S2A_13SDA_20200406_0_L2A/TCI.tif",
           "proj:shape": [
            10980,
            10980
           ],
           "proj:transform": [
            10,
            0,
            399960,
            0,
            -10,
            4100040,
            0,
            0,
            1
           ],
           "title": "True color image",
           "type": "image/tiff; application=geotiff; profile=cloud-optimized"
          }
         },
         "bbox": [
          -106.12492388677381,
          36.05158782950058,
          -105.23936289251856,
          37.04633258112375
         ],
         "collection": "sentinel-s2-l2a-cogs",
         "geometry": {
          "coordinates": [
           [
            [
             -106.11067273828671,
             36.05158782950058
            ],
            [
             -106.12492388677381,
             37.0412408780802
            ],
            [
             -105.23936289251856,
             37.04633258112375
            ],
            [
             -105.31091357460875,
             36.82402684200529
            ],
            [
             -105.45981229791258,
             36.36963458071993
            ],
            [
             -105.54017126038973,
             36.12578833215387
            ],
            [
             -105.56542581184956,
             36.05539956344477
            ],
            [
             -106.11067273828671,
             36.05158782950058
            ]
           ]
          ],
          "type": "Polygon"
         },
         "id": "S2A_13SDA_20200406_0_L2A",
         "links": [
          {
           "href": "https://earth-search.aws.element84.com/v0/collections/sentinel-s2-l2a-cogs/items/S2A_13SDA_20200406_0_L2A",
           "rel": "self"
          },
          {
           "href": "https://sentinel-cogs.s3.us-west-2.amazonaws.com/sentinel-s2-l2a-cogs/13/S/DA/2020/4/S2A_13SDA_20200406_0_L2A/S2A_13SDA_20200406_0_L2A.json",
           "rel": "canonical",
           "type": "application/json"
          },
          {
           "href": "https://earth-search.aws.element84.com/v0/collections/sentinel-s2-l2a/items/S2A_13SDA_20200406_0_L2A",
           "rel": "derived_from",
           "title": "Source STAC Item",
           "type": "application/json"
          },
          {
           "href": "https://earth-search.aws.element84.com/v0/collections/sentinel-s2-l2a-cogs",
           "rel": "parent"
          },
          {
           "href": "https://earth-search.aws.element84.com/v0/collections/sentinel-s2-l2a-cogs",
           "rel": "collection"
          },
          {
           "href": "https://earth-search.aws.element84.com/v0",
           "rel": "root",
           "title": "Earth Search",
           "type": "application/json"
          }
         ],
         "properties": {
          "constellation": "sentinel-2",
          "created": "2020-09-19T03:48:23.504Z",
          "data_coverage": 58.36,
          "datetime": "2020-04-06T18:03:49Z",
          "eo:cloud_cover": 2.09,
          "gsd": 10,
          "instruments": [
           "msi"
          ],
          "platform": "sentinel-2a",
          "proj:epsg": 32613,
          "sentinel:data_coverage": 58.36,
          "sentinel:grid_square": "DA",
          "sentinel:latitude_band": "S",
          "sentinel:product_id": "S2A_MSIL2A_20200406T174901_N0214_R141_T13SDA_20200406T221027",
          "sentinel:sequence": "0",
          "sentinel:utm_zone": 13,
          "sentinel:valid_cloud_cover": true,
          "updated": "2020-09-19T03:48:23.504Z",
          "view:off_nadir": 0
         },
         "properties.sentinel:boa_offset_applied": false,
         "stac_extensions": [
          "eo",
          "view",
          "proj"
         ],
         "stac_version": "1.0.0",
         "type": "Feature"
        },
        {
         "assets": {
          "AOT": {
           "href": "https://sentinel-cogs.s3.us-west-2.amazonaws.com/sentinel-s2-l2a-cogs/13/S/CV/2020/4/S2A_13SCV_20200403_0_L2A/AOT.tif",
           "proj:shape": [
            1830,
            1830
           ],
           "proj:transform": [
            60,
            0,
            300000,
            0,
            -60,
            4000020,
            0,
            0,
            1
           ],
           "title": "Aerosol Optical Thickness (AOT)",
           "type": "image/tiff; application=geotiff; profile=cloud-optimized"
          },
          "B01": {
           "href": "https://sentinel-cogs.s3.us-west-2.amazonaws.com/sentinel-s2-l2a-cogs/13/S/CV/2020/4/S2A_13SCV_20200403_0_L2A/B01.tif",
           "proj:shape": [
            1830,
            1830
           ],
           "proj:transform": [
            60,
            0,
            300000,
            0,
            -60,
            4000020,
            0,
            0,
            1
           ],
           "title": "Band 1 (coastal)",
           "type": "image/tiff; application=geotiff; profile=cloud-optimized"
          },
          "B02": {
           "href": "https://sentinel-cogs.s3.us-west-2.amazonaws.com/sentinel-s2-l2a-cogs/13/S/CV/2020/4/S2A_13SCV_20200403_0_L2A/B02.tif",
           "proj:shape": [
            10980,
            10980
           ],
           "proj:transform": [
            10,
            0,
            300000,
            0,
            -10,
            4000020,
            0,
            0,
            1
           ],
           "title": "Band 2 (blue)",
           "type": "image/tiff; application=geotiff; profile=cloud-optimized"
          },
          "B03": {
           "href": "https://sentinel-cogs.s3.us-west-2.amazonaws.com/sentinel-s2-l2a-cogs/13/S/CV/2020/4/S2A_13SCV_20200403_0_L2A/B03.tif",
           "proj:shape": [
            10980,
            10980
           ],
           "proj:transform": [
            10,
            0,
            300000,
            0,
            -10,
            4000020,
            0,
            0,
            1
           ],
           "title": "Band 3 (green)",
           "type": "image/tiff; application=geotiff; profile=cloud-optimized"
          },
          "B04": {
           "href": "https://sentinel-cogs.s3.us-west-2.amazonaws.com/sentinel-s2-l2a-cogs/13/S/CV/2020/4/S2A_13SCV_20200403_0_L2A/B04.tif",
           "proj:shape": [
            10980,
            10980
           ],
           "proj:transform": [
            10,
            0,
            300000,
            0,
            -10,
            4000020,
            0,
            0,
            1
           ],
           "title": "Band 4 (red)",
           "type": "image/tiff; application=geotiff; profile=cloud-optimized"
          },
          "B05": {
           "href": "https://sentinel-cogs.s3.us-west-2.amazonaws.com/sentinel-s2-l2a-cogs/13/S/CV/2020/4/S2A_13SCV_20200403_0_L2A/B05.tif",
           "proj:shape": [
            5490,
            5490
           ],
           "proj:transform": [
            20,
            0,
            300000,
            0,
            -20,
            4000020,
            0,
            0,
            1
           ],
           "title": "Band 5",
           "type": "image/tiff; application=geotiff; profile=cloud-optimized"
          },
          "B06": {
           "href": "https://sentinel-cogs.s3.us-west-2.amazonaws.com/sentinel-s2-l2a-cogs/13/S/CV/2020/4/S2A_13SCV_20200403_0_L2A/B06.tif",
           "proj:shape": [
            5490,
            5490
           ],
           "proj:transform": [
            20,
            0,
            300000,
            0,
            -20,
            4000020,
            0,
            0,
            1
           ],
           "title": "Band 6",
           "type": "image/tiff; application=geotiff; profile=cloud-optimized"
          },
          "B07": {
           "href": "https://sentinel-cogs.s3.us-west-2.amazonaws.com/sentinel-s2-l2a-cogs/13/S/CV/2020/4/S2A_13SCV_20200403_0_L2A/B07.tif",
           "proj:shape": [
            5490,
            5490
           ],
           "proj:transform": [
            20,
            0,
            300000,
            0,
            -20,
            4000020,
            0,
            0,
            1
           ],
           "title": "Band 7",
           "type": "image/tiff; application=geotiff; profile=cloud-optimized"
          },
          "B08": {
           "href": "https://sentinel-cogs.s3.us-west-2.amazonaws.com/sentinel-s2-l2a-cogs/13/S/CV/2020/4/S2A_13SCV_20200403_0_L2A/B08.tif",
           "proj:shape": [
            10980,
            10980
           ],
           "proj:transform": [
            10,
            0,
            300000,
            0,
            -10,
            4000020,
            0,
            0,
            1
           ],
           "title": "Band 8 (nir)",
           "type": "image/tiff; application=geotiff; profile=cloud-optimized"
          },
          "B09": {
           "href": "https://sentinel-cogs.s3.us-west-2.amazonaws.com/sentinel-s2-l2a-cogs/13/S/CV/2020/4/S2A_13SCV_20200403_0_L2A/B09.tif",
           "proj:shape": [
            1830,
            1830
           ],
           "proj:transform": [
            60,
            0,
            300000,
            0,
            -60,
            4000020,
            0,
            0,
            1
           ],
           "title": "Band 9",
           "type": "image/tiff; application=geotiff; profile=cloud-optimized"
          },
          "B11": {
           "href": "https://sentinel-cogs.s3.us-west-2.amazonaws.com/sentinel-s2-l2a-cogs/13/S/CV/2020/4/S2A_13SCV_20200403_0_L2A/B11.tif",
           "proj:shape": [
            5490,
            5490
           ],
           "proj:transform": [
            20,
            0,
            300000,
            0,
            -20,
            4000020,
            0,
            0,
            1
           ],
           "title": "Band 11 (swir16)",
           "type": "image/tiff; application=geotiff; profile=cloud-optimized"
          },
          "B12": {
           "href": "https://sentinel-cogs.s3.us-west-2.amazonaws.com/sentinel-s2-l2a-cogs/13/S/CV/2020/4/S2A_13SCV_20200403_0_L2A/B12.tif",
           "proj:shape": [
            5490,
            5490
           ],
           "proj:transform": [
            20,
            0,
            300000,
            0,
            -20,
            4000020,
            0,
            0,
            1
           ],
           "title": "Band 12 (swir22)",
           "type": "image/tiff; application=geotiff; profile=cloud-optimized"
          },
          "B8A": {
           "href": "https://sentinel-cogs.s3.us-west-2.amazonaws.com/sentinel-s2-l2a-cogs/13/S/CV/2020/4/S2A_13SCV_20200403_0_L2A/B8A.tif",
           "proj:shape": [
            5490,
            5490
           ],
           "proj:transform": [
            20,
            0,
            300000,
            0,
            -20,
            4000020,
            0,
            0,
            1
           ],
           "title": "Band 8A",
           "type": "image/tiff; application=geotiff; profile=cloud-optimized"
          },
          "SCL": {
           "href": "https://sentinel-cogs.s3.us-west-2.amazonaws.com/sentinel-s2-l2a-cogs/13/S/CV/2020/4/S2A_13SCV_20200403_0_L2A/SCL.tif",
           "proj:shape": [
            5490,
            5490
           ],
           "proj:transform": [
            20,
            0,
            300000,
            0,
            -20,
            4000020,
            0,
            0,
            1
           ],
           "title": "Scene Classification Map (SCL)",
           "type": "image/tiff; application=geotiff; profile=cloud-optimized"
          },
          "WVP": {
           "href": "https://sentinel-cogs.s3.us-west-2.amazonaws.com/sentinel-s2-l2a-cogs/13/S/CV/2020/4/S2A_13SCV_20200403_0_L2A/WVP.tif",
           "proj:shape": [
            10980,
            10980
           ],
           "proj:transform": [
            10,
            0,
            300000,
            0,
            -10,
            4000020,
            0,
            0,
            1
           ],
           "title": "Water Vapour (WVP)",
           "type": "image/tiff; application=geotiff; profile=cloud-optimized"
          },
          "info": {
           "href": "https://roda.sentinel-hub.com/sentinel-s2-l2a/tiles/13/S/CV/2020/4/3/0/tileInfo.json",
           "title": "Original JSON metadata",
           "type": "application/json"
          },
          "metadata": {
           "href": "https://roda.sentinel-hub.com/sentinel-s2-l2a/tiles/13/S/CV/2020/4/3/0/metadata.xml",
           "title": "Original XML metadata",
           "type": "application/xml"
          },
          "overview": {
           "href": "https://sentinel-cogs.s3.us-west-2.amazonaws.com/sentinel-s2-l2a-cogs/13/S/CV/2020/4/S2A_13SCV_20200403_0_L2A/L2A_PVI.tif",
           "proj:shape": [
            343,
            343
           ],
           "proj:transform": [
            320,
            0,
            300000,
            0,
            -320,
            4000020,
            0,
            0,
            1
           ],
           "title": "True color image",
           "type": "image/tiff; application=geotiff; profile=cloud-optimized"
          },
          "thumbnail": {
           "href": "https://roda.sentinel-hub.com/sentinel-s2-l1c/tiles/13/S/CV/2020/4/3/0/preview.jpg",
           "title": "Thumbnail",
           "type": "image/png"
          },
          "visual": {
           "href": "https://sentinel-cogs.s3.us-west-2.amazonaws.com/sentinel-s2-l2a-cogs/13/S/CV/2020/4/S2A_13SCV_20200403_0_L2A/TCI.tif",
           "proj:shape": [
            10980,
            10980
           ],
           "proj:transform": [
            10,
            0,
            300000,
            0,
            -10,
            4000020,
            0,
            0,
            1
           ],
           "title": "True color image",
           "type": "image/tiff; application=geotiff; profile=cloud-optimized"
          }
         },
         "bbox": [
          -106.6456892962618,
          35.14372195970763,
          -105.99029032211578,
          36.14069288925992
         ],
         "collection": "sentinel-s2-l2a-cogs",
         "geometry": {
          "coordinates": [
           [
            [
             -106.6456892962618,
             35.14372195970763
            ],
            [
             -106.57437734157652,
             35.403380015840604
            ],
            [
             -106.36835816486537,
             36.13707207199316
            ],
            [
             -106.00258230901163,
             36.14069288925992
            ],
            [
             -105.99029032211578,
             35.15085199698541
            ],
            [
             -106.6456892962618,
             35.14372195970763
            ]
           ]
          ],
          "type": "Polygon"
         },
         "id": "S2A_13SCV_20200403_0_L2A",
         "links": [
          {
           "href": "https://earth-search.aws.element84.com/v0/collections/sentinel-s2-l2a-cogs/items/S2A_13SCV_20200403_0_L2A",
           "rel": "self"
          },
          {
           "href": "https://sentinel-cogs.s3.us-west-2.amazonaws.com/sentinel-s2-l2a-cogs/13/S/CV/2020/4/S2A_13SCV_20200403_0_L2A/S2A_13SCV_20200403_0_L2A.json",
           "rel": "canonical",
           "type": "application/json"
          },
          {
           "href": "https://earth-search.aws.element84.com/v0/collections/sentinel-s2-l2a/items/S2A_13SCV_20200403_0_L2A",
           "rel": "derived_from",
           "title": "Source STAC Item",
           "type": "application/json"
          },
          {
           "href": "https://earth-search.aws.element84.com/v0/collections/sentinel-s2-l2a-cogs",
           "rel": "parent"
          },
          {
           "href": "https://earth-search.aws.element84.com/v0/collections/sentinel-s2-l2a-cogs",
           "rel": "collection"
          },
          {
           "href": "https://earth-search.aws.element84.com/v0",
           "rel": "root",
           "title": "Earth Search",
           "type": "application/json"
          }
         ],
         "properties": {
          "constellation": "sentinel-2",
          "created": "2020-08-31T15:57:36.461Z",
          "data_coverage": 42.12,
          "datetime": "2020-04-03T17:54:10Z",
          "eo:cloud_cover": 1.58,
          "gsd": 10,
          "instruments": [
           "msi"
          ],
          "platform": "sentinel-2a",
          "proj:epsg": 32613,
          "sentinel:data_coverage": 42.12,
          "sentinel:grid_square": "CV",
          "sentinel:latitude_band": "S",
          "sentinel:product_id": "S2A_MSIL2A_20200403T173901_N0214_R098_T13SCV_20200403T220105",
          "sentinel:sequence": "0",
          "sentinel:utm_zone": 13,
          "sentinel:valid_cloud_cover": true,
          "updated": "2020-08-31T15:57:36.461Z",
          "view:off_nadir": 0
         },
         "properties.sentinel:boa_offset_applied": false,
         "stac_extensions": [
          "eo",
          "view",
          "proj"
         ],
         "stac_version": "1.0.0",
         "type": "Feature"
        },
        {
         "assets": {
          "AOT": {
           "href": "https://sentinel-cogs.s3.us-west-2.amazonaws.com/sentinel-s2-l2a-cogs/13/S/DV/2020/4/S2A_13SDV_20200403_0_L2A/AOT.tif",
           "proj:shape": [
            1830,
            1830
           ],
           "proj:transform": [
            60,
            0,
            399960,
            0,
            -60,
            4000020,
            0,
            0,
            1
           ],
           "title": "Aerosol Optical Thickness (AOT)",
           "type": "image/tiff; application=geotiff; profile=cloud-optimized"
          },
          "B01": {
           "href": "https://sentinel-cogs.s3.us-west-2.amazonaws.com/sentinel-s2-l2a-cogs/13/S/DV/2020/4/S2A_13SDV_20200403_0_L2A/B01.tif",
           "proj:shape": [
            1830,
            1830
           ],
           "proj:transform": [
            60,
            0,
            399960,
            0,
            -60,
            4000020,
            0,
            0,
            1
           ],
           "title": "Band 1 (coastal)",
           "type": "image/tiff; application=geotiff; profile=cloud-optimized"
          },
          "B02": {
           "href": "https://sentinel-cogs.s3.us-west-2.amazonaws.com/sentinel-s2-l2a-cogs/13/S/DV/2020/4/S2A_13SDV_20200403_0_L2A/B02.tif",
           "proj:shape": [
            10980,
            10980
           ],
           "proj:transform": [
            10,
            0,
            399960,
            0,
            -10,
            4000020,
            0,
            0,
            1
           ],
           "title": "Band 2 (blue)",
           "type": "image/tiff; application=geotiff; profile=cloud-optimized"
          },
          "B03": {
           "href": "https://sentinel-cogs.s3.us-west-2.amazonaws.com/sentinel-s2-l2a-cogs/13/S/DV/2020/4/S2A_13SDV_20200403_0_L2A/B03.tif",
           "proj:shape": [
            10980,
            10980
           ],
           "proj:transform": [
            10,
            0,
            399960,
            0,
            -10,
            4000020,
            0,
            0,
            1
           ],
           "title": "Band 3 (green)",
           "type": "image/tiff; application=geotiff; profile=cloud-optimized"
          },
          "B04": {
           "href": "https://sentinel-cogs.s3.us-west-2.amazonaws.com/sentinel-s2-l2a-cogs/13/S/DV/2020/4/S2A_13SDV_20200403_0_L2A/B04.tif",
           "proj:shape": [
            10980,
            10980
           ],
           "proj:transform": [
            10,
            0,
            399960,
            0,
            -10,
            4000020,
            0,
            0,
            1
           ],
           "title": "Band 4 (red)",
           "type": "image/tiff; application=geotiff; profile=cloud-optimized"
          },
          "B05": {
           "href": "https://sentinel-cogs.s3.us-west-2.amazonaws.com/sentinel-s2-l2a-cogs/13/S/DV/2020/4/S2A_13SDV_20200403_0_L2A/B05.tif",
           "proj:shape": [
            5490,
            5490
           ],
           "proj:transform": [
            20,
            0,
            399960,
            0,
            -20,
            4000020,
            0,
            0,
            1
           ],
           "title": "Band 5",
           "type": "image/tiff; application=geotiff; profile=cloud-optimized"
          },
          "B06": {
           "href": "https://sentinel-cogs.s3.us-west-2.amazonaws.com/sentinel-s2-l2a-cogs/13/S/DV/2020/4/S2A_13SDV_20200403_0_L2A/B06.tif",
           "proj:shape": [
            5490,
            5490
           ],
           "proj:transform": [
            20,
            0,
            399960,
            0,
            -20,
            4000020,
            0,
            0,
            1
           ],
           "title": "Band 6",
           "type": "image/tiff; application=geotiff; profile=cloud-optimized"
          },
          "B07": {
           "href": "https://sentinel-cogs.s3.us-west-2.amazonaws.com/sentinel-s2-l2a-cogs/13/S/DV/2020/4/S2A_13SDV_20200403_0_L2A/B07.tif",
           "proj:shape": [
            5490,
            5490
           ],
           "proj:transform": [
            20,
            0,
            399960,
            0,
            -20,
            4000020,
            0,
            0,
            1
           ],
           "title": "Band 7",
           "type": "image/tiff; application=geotiff; profile=cloud-optimized"
          },
          "B08": {
           "href": "https://sentinel-cogs.s3.us-west-2.amazonaws.com/sentinel-s2-l2a-cogs/13/S/DV/2020/4/S2A_13SDV_20200403_0_L2A/B08.tif",
           "proj:shape": [
            10980,
            10980
           ],
           "proj:transform": [
            10,
            0,
            399960,
            0,
            -10,
            4000020,
            0,
            0,
            1
           ],
           "title": "Band 8 (nir)",
           "type": "image/tiff; application=geotiff; profile=cloud-optimized"
          },
          "B09": {
           "href": "https://sentinel-cogs.s3.us-west-2.amazonaws.com/sentinel-s2-l2a-cogs/13/S/DV/2020/4/S2A_13SDV_20200403_0_L2A/B09.tif",
           "proj:shape": [
            1830,
            1830
           ],
           "proj:transform": [
            60,
            0,
            399960,
            0,
            -60,
            4000020,
            0,
            0,
            1
           ],
           "title": "Band 9",
           "type": "image/tiff; application=geotiff; profile=cloud-optimized"
          },
          "B11": {
           "href": "https://sentinel-cogs.s3.us-west-2.amazonaws.com/sentinel-s2-l2a-cogs/13/S/DV/2020/4/S2A_13SDV_20200403_0_L2A/B11.tif",
           "proj:shape": [
            5490,
            5490
           ],
           "proj:transform": [
            20,
            0,
            399960,
            0,
            -20,
            4000020,
            0,
            0,
            1
           ],
           "title": "Band 11 (swir16)",
           "type": "image/tiff; application=geotiff; profile=cloud-optimized"
          },
          "B12": {
           "href": "https://sentinel-cogs.s3.us-west-2.amazonaws.com/sentinel-s2-l2a-cogs/13/S/DV/2020/4/S2A_13SDV_20200403_0_L2A/B12.tif",
           "proj:shape": [
            5490,
            5490
           ],
           "proj:transform": [
            20,
            0,
            399960,
            0,
            -20,
            4000020,
            0,
            0,
            1
           ],
           "title": "Band 12 (swir22)",
           "type": "image/tiff; application=geotiff; profile=cloud-optimized"
          },
          "B8A": {
           "href": "https://sentinel-cogs.s3.us-west-2.amazonaws.com/sentinel-s2-l2a-cogs/13/S/DV/2020/4/S2A_13SDV_20200403_0_L2A/B8A.tif",
           "proj:shape": [
            5490,
            5490
           ],
           "proj:transform": [
            20,
            0,
            399960,
            0,
            -20,
            4000020,
            0,
            0,
            1
           ],
           "title": "Band 8A",
           "type": "image/tiff; application=geotiff; profile=cloud-optimized"
          },
          "SCL": {
           "href": "https://sentinel-cogs.s3.us-west-2.amazonaws.com/sentinel-s2-l2a-cogs/13/S/DV/2020/4/S2A_13SDV_20200403_0_L2A/SCL.tif",
           "proj:shape": [
            5490,
            5490
           ],
           "proj:transform": [
            20,
            0,
            399960,
            0,
            -20,
            4000020,
            0,
            0,
            1
           ],
           "title": "Scene Classification Map (SCL)",
           "type": "image/tiff; application=geotiff; profile=cloud-optimized"
          },
          "WVP": {
           "href": "https://sentinel-cogs.s3.us-west-2.amazonaws.com/sentinel-s2-l2a-cogs/13/S/DV/2020/4/S2A_13SDV_20200403_0_L2A/WVP.tif",
           "proj:shape": [
            10980,
            10980
           ],
           "proj:transform": [
            10,
            0,
            399960,
            0,
            -10,
            4000020,
            0,
            0,
            1
           ],
           "title": "Water Vapour (WVP)",
           "type": "image/tiff; application=geotiff; profile=cloud-optimized"
          },
          "info": {
           "href": "https://roda.sentinel-hub.com/sentinel-s2-l2a/tiles/13/S/DV/2020/4/3/0/tileInfo.json",
           "title": "Original JSON metadata",
           "type": "application/json"
          },
          "metadata": {
           "href": "https://roda.sentinel-hub.com/sentinel-s2-l2a/tiles/13/S/DV/2020/4/3/0/metadata.xml",
           "title": "Original XML metadata",
           "type": "application/xml"
          },
          "overview": {
           "href": "https://sentinel-cogs.s3.us-west-2.amazonaws.com/sentinel-s2-l2a-cogs/13/S/DV/2020/4/S2A_13SDV_20200403_0_L2A/L2A_PVI.tif",
           "proj:shape": [
            343,
            343
           ],
           "proj:transform": [
            320,
            0,
            399960,
            0,
            -320,
            4000020,
            0,
            0,
            1
           ],
           "title": "True color image",
           "type": "image/tiff; application=geotiff; profile=cloud-optimized"
          },
          "thumbnail": {
           "href": "https://roda.sentinel-hub.com/sentinel-s2-l1c/tiles/13/S/DV/2020/4/3/0/preview.jpg",
           "title": "Thumbnail",
           "type": "image/png"
          },
          "visual": {
           "href": "https://sentinel-cogs.s3.us-west-2.amazonaws.com/sentinel-s2-l2a-cogs/13/S/DV/2020/4/S2A_13SDV_20200403_0_L2A/TCI.tif",
           "proj:shape": [
            10980,
            10980
           ],
           "proj:transform": [
            10,
            0,
            399960,
            0,
            -10,
            4000020,
            0,
            0,
            1
           ],
           "title": "True color image",
           "type": "image/tiff; application=geotiff; profile=cloud-optimized"
          }
         },
         "bbox": [
          -106.11191385205835,
          35.1499211736146,
          -104.89152152018616,
          36.14484027029348
         ],
         "collection": "sentinel-s2-l2a-cogs",
         "geometry": {
          "coordinates": [
           [
            [
             -106.09828205302668,
             35.1499211736146
            ],
            [
             -106.11191385205835,
             36.139727693244055
            ],
            [
             -104.89152152018616,
             36.14484027029348
            ],
            [
             -104.89285176524281,
             35.154851672138626
            ],
            [
             -106.09828205302668,
             35.1499211736146
            ]
           ]
          ],
          "type": "Polygon"
         },
         "id": "S2A_13SDV_20200403_0_L2A",
         "links": [
          {
           "href": "https://earth-search.aws.element84.com/v0/collections/sentinel-s2-l2a-cogs/items/S2A_13SDV_20200403_0_L2A",
           "rel": "self"
          },
          {
           "href": "https://sentinel-cogs.s3.us-west-2.amazonaws.com/sentinel-s2-l2a-cogs/13/S/DV/2020/4/S2A_13SDV_20200403_0_L2A/S2A_13SDV_20200403_0_L2A.json",
           "rel": "canonical",
           "type": "application/json"
          },
          {
           "href": "https://earth-search.aws.element84.com/v0/collections/sentinel-s2-l2a/items/S2A_13SDV_20200403_0_L2A",
           "rel": "derived_from",
           "title": "Source STAC Item",
           "type": "application/json"
          },
          {
           "href": "https://earth-search.aws.element84.com/v0/collections/sentinel-s2-l2a-cogs",
           "rel": "parent"
          },
          {
           "href": "https://earth-search.aws.element84.com/v0/collections/sentinel-s2-l2a-cogs",
           "rel": "collection"
          },
          {
           "href": "https://earth-search.aws.element84.com/v0",
           "rel": "root",
           "title": "Earth Search",
           "type": "application/json"
          }
         ],
         "properties": {
          "constellation": "sentinel-2",
          "created": "2020-09-23T15:43:10.502Z",
          "data_coverage": 100,
          "datetime": "2020-04-03T17:54:07Z",
          "eo:cloud_cover": 1.16,
          "gsd": 10,
          "instruments": [
           "msi"
          ],
          "platform": "sentinel-2a",
          "proj:epsg": 32613,
          "sentinel:data_coverage": 100,
          "sentinel:grid_square": "DV",
          "sentinel:latitude_band": "S",
          "sentinel:product_id": "S2A_MSIL2A_20200403T173901_N0214_R098_T13SDV_20200403T220105",
          "sentinel:sequence": "0",
          "sentinel:utm_zone": 13,
          "sentinel:valid_cloud_cover": true,
          "updated": "2020-09-23T15:43:10.502Z",
          "view:off_nadir": 0
         },
         "properties.sentinel:boa_offset_applied": false,
         "stac_extensions": [
          "eo",
          "view",
          "proj"
         ],
         "stac_version": "1.0.0",
         "type": "Feature"
        },
        {
         "assets": {
          "AOT": {
           "href": "https://sentinel-cogs.s3.us-west-2.amazonaws.com/sentinel-s2-l2a-cogs/13/S/EV/2020/4/S2A_13SEV_20200403_0_L2A/AOT.tif",
           "proj:shape": [
            1830,
            1830
           ],
           "proj:transform": [
            60,
            0,
            499980,
            0,
            -60,
            4000020,
            0,
            0,
            1
           ],
           "title": "Aerosol Optical Thickness (AOT)",
           "type": "image/tiff; application=geotiff; profile=cloud-optimized"
          },
          "B01": {
           "href": "https://sentinel-cogs.s3.us-west-2.amazonaws.com/sentinel-s2-l2a-cogs/13/S/EV/2020/4/S2A_13SEV_20200403_0_L2A/B01.tif",
           "proj:shape": [
            1830,
            1830
           ],
           "proj:transform": [
            60,
            0,
            499980,
            0,
            -60,
            4000020,
            0,
            0,
            1
           ],
           "title": "Band 1 (coastal)",
           "type": "image/tiff; application=geotiff; profile=cloud-optimized"
          },
          "B02": {
           "href": "https://sentinel-cogs.s3.us-west-2.amazonaws.com/sentinel-s2-l2a-cogs/13/S/EV/2020/4/S2A_13SEV_20200403_0_L2A/B02.tif",
           "proj:shape": [
            10980,
            10980
           ],
           "proj:transform": [
            10,
            0,
            499980,
            0,
            -10,
            4000020,
            0,
            0,
            1
           ],
           "title": "Band 2 (blue)",
           "type": "image/tiff; application=geotiff; profile=cloud-optimized"
          },
          "B03": {
           "href": "https://sentinel-cogs.s3.us-west-2.amazonaws.com/sentinel-s2-l2a-cogs/13/S/EV/2020/4/S2A_13SEV_20200403_0_L2A/B03.tif",
           "proj:shape": [
            10980,
            10980
           ],
           "proj:transform": [
            10,
            0,
            499980,
            0,
            -10,
            4000020,
            0,
            0,
            1
           ],
           "title": "Band 3 (green)",
           "type": "image/tiff; application=geotiff; profile=cloud-optimized"
          },
          "B04": {
           "href": "https://sentinel-cogs.s3.us-west-2.amazonaws.com/sentinel-s2-l2a-cogs/13/S/EV/2020/4/S2A_13SEV_20200403_0_L2A/B04.tif",
           "proj:shape": [
            10980,
            10980
           ],
           "proj:transform": [
            10,
            0,
            499980,
            0,
            -10,
            4000020,
            0,
            0,
            1
           ],
           "title": "Band 4 (red)",
           "type": "image/tiff; application=geotiff; profile=cloud-optimized"
          },
          "B05": {
           "href": "https://sentinel-cogs.s3.us-west-2.amazonaws.com/sentinel-s2-l2a-cogs/13/S/EV/2020/4/S2A_13SEV_20200403_0_L2A/B05.tif",
           "proj:shape": [
            5490,
            5490
           ],
           "proj:transform": [
            20,
            0,
            499980,
            0,
            -20,
            4000020,
            0,
            0,
            1
           ],
           "title": "Band 5",
           "type": "image/tiff; application=geotiff; profile=cloud-optimized"
          },
          "B06": {
           "href": "https://sentinel-cogs.s3.us-west-2.amazonaws.com/sentinel-s2-l2a-cogs/13/S/EV/2020/4/S2A_13SEV_20200403_0_L2A/B06.tif",
           "proj:shape": [
            5490,
            5490
           ],
           "proj:transform": [
            20,
            0,
            499980,
            0,
            -20,
            4000020,
            0,
            0,
            1
           ],
           "title": "Band 6",
           "type": "image/tiff; application=geotiff; profile=cloud-optimized"
          },
          "B07": {
           "href": "https://sentinel-cogs.s3.us-west-2.amazonaws.com/sentinel-s2-l2a-cogs/13/S/EV/2020/4/S2A_13SEV_20200403_0_L2A/B07.tif",
           "proj:shape": [
            5490,
            5490
           ],
           "proj:transform": [
            20,
            0,
            499980,
            0,
            -20,
            4000020,
            0,
            0,
            1
           ],
           "title": "Band 7",
           "type": "image/tiff; application=geotiff; profile=cloud-optimized"
          },
          "B08": {
           "href": "https://sentinel-cogs.s3.us-west-2.amazonaws.com/sentinel-s2-l2a-cogs/13/S/EV/2020/4/S2A_13SEV_20200403_0_L2A/B08.tif",
           "proj:shape": [
            10980,
            10980
           ],
           "proj:transform": [
            10,
            0,
            499980,
            0,
            -10,
            4000020,
            0,
            0,
            1
           ],
           "title": "Band 8 (nir)",
           "type": "image/tiff; application=geotiff; profile=cloud-optimized"
          },
          "B09": {
           "href": "https://sentinel-cogs.s3.us-west-2.amazonaws.com/sentinel-s2-l2a-cogs/13/S/EV/2020/4/S2A_13SEV_20200403_0_L2A/B09.tif",
           "proj:shape": [
            1830,
            1830
           ],
           "proj:transform": [
            60,
            0,
            499980,
            0,
            -60,
            4000020,
            0,
            0,
            1
           ],
           "title": "Band 9",
           "type": "image/tiff; application=geotiff; profile=cloud-optimized"
          },
          "B11": {
           "href": "https://sentinel-cogs.s3.us-west-2.amazonaws.com/sentinel-s2-l2a-cogs/13/S/EV/2020/4/S2A_13SEV_20200403_0_L2A/B11.tif",
           "proj:shape": [
            5490,
            5490
           ],
           "proj:transform": [
            20,
            0,
            499980,
            0,
            -20,
            4000020,
            0,
            0,
            1
           ],
           "title": "Band 11 (swir16)",
           "type": "image/tiff; application=geotiff; profile=cloud-optimized"
          },
          "B12": {
           "href": "https://sentinel-cogs.s3.us-west-2.amazonaws.com/sentinel-s2-l2a-cogs/13/S/EV/2020/4/S2A_13SEV_20200403_0_L2A/B12.tif",
           "proj:shape": [
            5490,
            5490
           ],
           "proj:transform": [
            20,
            0,
            499980,
            0,
            -20,
            4000020,
            0,
            0,
            1
           ],
           "title": "Band 12 (swir22)",
           "type": "image/tiff; application=geotiff; profile=cloud-optimized"
          },
          "B8A": {
           "href": "https://sentinel-cogs.s3.us-west-2.amazonaws.com/sentinel-s2-l2a-cogs/13/S/EV/2020/4/S2A_13SEV_20200403_0_L2A/B8A.tif",
           "proj:shape": [
            5490,
            5490
           ],
           "proj:transform": [
            20,
            0,
            499980,
            0,
            -20,
            4000020,
            0,
            0,
            1
           ],
           "title": "Band 8A",
           "type": "image/tiff; application=geotiff; profile=cloud-optimized"
          },
          "SCL": {
           "href": "https://sentinel-cogs.s3.us-west-2.amazonaws.com/sentinel-s2-l2a-cogs/13/S/EV/2020/4/S2A_13SEV_20200403_0_L2A/SCL.tif",
           "proj:shape": [
            5490,
            5490
           ],
           "proj:transform": [
            20,
            0,
            499980,
            0,
            -20,
            4000020,
            0,
            0,
            1
           ],
           "title": "Scene Classification Map (SCL)",
           "type": "image/tiff; application=geotiff; profile=cloud-optimized"
          },
          "WVP": {
           "href": "https://sentinel-cogs.s3.us-west-2.amazonaws.com/sentinel-s2-l2a-cogs/13/S/EV/2020/4/S2A_13SEV_20200403_0_L2A/WVP.tif",
           "proj:shape": [
            10980,
            10980
           ],
           "proj:transform": [
            10,
            0,
            499980,
            0,
            -10,
            4000020,
            0,
            0,
            1
           ],
           "title": "Water Vapour (WVP)",
           "type": "image/tiff; application=geotiff; profile=cloud-optimized"
          },
          "info": {
           "href": "https://roda.sentinel-hub.com/sentinel-s2-l2a/tiles/13/S/EV/2020/4/3/0/tileInfo.json",
           "title": "Original JSON metadata",
           "type": "application/json"
          },
          "metadata": {
           "href": "https://roda.sentinel-hub.com/sentinel-s2-l2a/tiles/13/S/EV/2020/4/3/0/metadata.xml",
           "title": "Original XML metadata",
           "type": "application/xml"
          },
          "overview": {
           "href": "https://sentinel-cogs.s3.us-west-2.amazonaws.com/sentinel-s2-l2a-cogs/13/S/EV/2020/4/S2A_13SEV_20200403_0_L2A/L2A_PVI.tif",
           "proj:shape": [
            343,
            343
           ],
           "proj:transform": [
            320,
            0,
            499980,
            0,
            -320,
            4000020,
            0,
            0,
            1
           ],
           "title": "True color image",
           "type": "image/tiff; application=geotiff; profile=cloud-optimized"
          },
          "thumbnail": {
           "href": "https://roda.sentinel-hub.com/sentinel-s2-l1c/tiles/13/S/EV/2020/4/3/0/preview.jpg",
           "title": "Thumbnail",
           "type": "image/png"
          },
          "visual": {
           "href": "https://sentinel-cogs.s3.us-west-2.amazonaws.com/sentinel-s2-l2a-cogs/13/S/EV/2020/4/S2A_13SEV_20200403_0_L2A/TCI.tif",
           "proj:shape": [
            10980,
            10980
           ],
           "proj:transform": [
            10,
            0,
            499980,
            0,
            -10,
            4000020,
            0,
            0,
            1
           ],
           "title": "True color image",
           "type": "image/tiff; application=geotiff; profile=cloud-optimized"
          }
         },
         "bbox": [
          -105.00021119917817,
          35.14890483642906,
          -103.77984908303581,
          36.14488939742409
         ],
         "collection": "sentinel-s2-l2a-cogs",
         "geometry": {
          "coordinates": [
           [
            [
             -103.79480708990562,
             35.14890483642906
            ],
            [
             -105.00020860928824,
             35.15489904955579
            ],
            [
             -105.00021119917817,
             36.14488939742409
            ],
            [
             -103.77984908303581,
             36.138673826567555
            ],
            [
             -103.79480708990562,
             35.14890483642906
            ]
           ]
          ],
          "type": "Polygon"
         },
         "id": "S2A_13SEV_20200403_0_L2A",
         "links": [
          {
           "href": "https://earth-search.aws.element84.com/v0/collections/sentinel-s2-l2a-cogs/items/S2A_13SEV_20200403_0_L2A",
           "rel": "self"
          },
          {
           "href": "https://sentinel-cogs.s3.us-west-2.amazonaws.com/sentinel-s2-l2a-cogs/13/S/EV/2020/4/S2A_13SEV_20200403_0_L2A/S2A_13SEV_20200403_0_L2A.json",
           "rel": "canonical",
           "type": "application/json"
          },
          {
           "href": "https://earth-search.aws.element84.com/v0/collections/sentinel-s2-l2a/items/S2A_13SEV_20200403_0_L2A",
           "rel": "derived_from",
           "title": "Source STAC Item",
           "type": "application/json"
          },
          {
           "href": "https://earth-search.aws.element84.com/v0/collections/sentinel-s2-l2a-cogs",
           "rel": "parent"
          },
          {
           "href": "https://earth-search.aws.element84.com/v0/collections/sentinel-s2-l2a-cogs",
           "rel": "collection"
          },
          {
           "href": "https://earth-search.aws.element84.com/v0",
           "rel": "root",
           "title": "Earth Search",
           "type": "application/json"
          }
         ],
         "properties": {
          "constellation": "sentinel-2",
          "created": "2020-09-19T04:10:35.549Z",
          "data_coverage": 100,
          "datetime": "2020-04-03T17:54:04Z",
          "eo:cloud_cover": 0,
          "gsd": 10,
          "instruments": [
           "msi"
          ],
          "platform": "sentinel-2a",
          "proj:epsg": 32613,
          "sentinel:data_coverage": 100,
          "sentinel:grid_square": "EV",
          "sentinel:latitude_band": "S",
          "sentinel:product_id": "S2A_MSIL2A_20200403T173901_N0214_R098_T13SEV_20200403T220105",
          "sentinel:sequence": "0",
          "sentinel:utm_zone": 13,
          "sentinel:valid_cloud_cover": true,
          "updated": "2020-09-19T04:10:35.549Z",
          "view:off_nadir": 0
         },
         "properties.sentinel:boa_offset_applied": false,
         "stac_extensions": [
          "eo",
          "view",
          "proj"
         ],
         "stac_version": "1.0.0",
         "type": "Feature"
        },
        {
         "assets": {
          "AOT": {
           "href": "https://sentinel-cogs.s3.us-west-2.amazonaws.com/sentinel-s2-l2a-cogs/13/S/CA/2020/4/S2A_13SCA_20200403_0_L2A/AOT.tif",
           "proj:shape": [
            1830,
            1830
           ],
           "proj:transform": [
            60,
            0,
            300000,
            0,
            -60,
            4100040,
            0,
            0,
            1
           ],
           "title": "Aerosol Optical Thickness (AOT)",
           "type": "image/tiff; application=geotiff; profile=cloud-optimized"
          },
          "B01": {
           "href": "https://sentinel-cogs.s3.us-west-2.amazonaws.com/sentinel-s2-l2a-cogs/13/S/CA/2020/4/S2A_13SCA_20200403_0_L2A/B01.tif",
           "proj:shape": [
            1830,
            1830
           ],
           "proj:transform": [
            60,
            0,
            300000,
            0,
            -60,
            4100040,
            0,
            0,
            1
           ],
           "title": "Band 1 (coastal)",
           "type": "image/tiff; application=geotiff; profile=cloud-optimized"
          },
          "B02": {
           "href": "https://sentinel-cogs.s3.us-west-2.amazonaws.com/sentinel-s2-l2a-cogs/13/S/CA/2020/4/S2A_13SCA_20200403_0_L2A/B02.tif",
           "proj:shape": [
            10980,
            10980
           ],
           "proj:transform": [
            10,
            0,
            300000,
            0,
            -10,
            4100040,
            0,
            0,
            1
           ],
           "title": "Band 2 (blue)",
           "type": "image/tiff; application=geotiff; profile=cloud-optimized"
          },
          "B03": {
           "href": "https://sentinel-cogs.s3.us-west-2.amazonaws.com/sentinel-s2-l2a-cogs/13/S/CA/2020/4/S2A_13SCA_20200403_0_L2A/B03.tif",
           "proj:shape": [
            10980,
            10980
           ],
           "proj:transform": [
            10,
            0,
            300000,
            0,
            -10,
            4100040,
            0,
            0,
            1
           ],
           "title": "Band 3 (green)",
           "type": "image/tiff; application=geotiff; profile=cloud-optimized"
          },
          "B04": {
           "href": "https://sentinel-cogs.s3.us-west-2.amazonaws.com/sentinel-s2-l2a-cogs/13/S/CA/2020/4/S2A_13SCA_20200403_0_L2A/B04.tif",
           "proj:shape": [
            10980,
            10980
           ],
           "proj:transform": [
            10,
            0,
            300000,
            0,
            -10,
            4100040,
            0,
            0,
            1
           ],
           "title": "Band 4 (red)",
           "type": "image/tiff; application=geotiff; profile=cloud-optimized"
          },
          "B05": {
           "href": "https://sentinel-cogs.s3.us-west-2.amazonaws.com/sentinel-s2-l2a-cogs/13/S/CA/2020/4/S2A_13SCA_20200403_0_L2A/B05.tif",
           "proj:shape": [
            5490,
            5490
           ],
           "proj:transform": [
            20,
            0,
            300000,
            0,
            -20,
            4100040,
            0,
            0,
            1
           ],
           "title": "Band 5",
           "type": "image/tiff; application=geotiff; profile=cloud-optimized"
          },
          "B06": {
           "href": "https://sentinel-cogs.s3.us-west-2.amazonaws.com/sentinel-s2-l2a-cogs/13/S/CA/2020/4/S2A_13SCA_20200403_0_L2A/B06.tif",
           "proj:shape": [
            5490,
            5490
           ],
           "proj:transform": [
            20,
            0,
            300000,
            0,
            -20,
            4100040,
            0,
            0,
            1
           ],
           "title": "Band 6",
           "type": "image/tiff; application=geotiff; profile=cloud-optimized"
          },
          "B07": {
           "href": "https://sentinel-cogs.s3.us-west-2.amazonaws.com/sentinel-s2-l2a-cogs/13/S/CA/2020/4/S2A_13SCA_20200403_0_L2A/B07.tif",
           "proj:shape": [
            5490,
            5490
           ],
           "proj:transform": [
            20,
            0,
            300000,
            0,
            -20,
            4100040,
            0,
            0,
            1
           ],
           "title": "Band 7",
           "type": "image/tiff; application=geotiff; profile=cloud-optimized"
          },
          "B08": {
           "href": "https://sentinel-cogs.s3.us-west-2.amazonaws.com/sentinel-s2-l2a-cogs/13/S/CA/2020/4/S2A_13SCA_20200403_0_L2A/B08.tif",
           "proj:shape": [
            10980,
            10980
           ],
           "proj:transform": [
            10,
            0,
            300000,
            0,
            -10,
            4100040,
            0,
            0,
            1
           ],
           "title": "Band 8 (nir)",
           "type": "image/tiff; application=geotiff; profile=cloud-optimized"
          },
          "B09": {
           "href": "https://sentinel-cogs.s3.us-west-2.amazonaws.com/sentinel-s2-l2a-cogs/13/S/CA/2020/4/S2A_13SCA_20200403_0_L2A/B09.tif",
           "proj:shape": [
            1830,
            1830
           ],
           "proj:transform": [
            60,
            0,
            300000,
            0,
            -60,
            4100040,
            0,
            0,
            1
           ],
           "title": "Band 9",
           "type": "image/tiff; application=geotiff; profile=cloud-optimized"
          },
          "B11": {
           "href": "https://sentinel-cogs.s3.us-west-2.amazonaws.com/sentinel-s2-l2a-cogs/13/S/CA/2020/4/S2A_13SCA_20200403_0_L2A/B11.tif",
           "proj:shape": [
            5490,
            5490
           ],
           "proj:transform": [
            20,
            0,
            300000,
            0,
            -20,
            4100040,
            0,
            0,
            1
           ],
           "title": "Band 11 (swir16)",
           "type": "image/tiff; application=geotiff; profile=cloud-optimized"
          },
          "B12": {
           "href": "https://sentinel-cogs.s3.us-west-2.amazonaws.com/sentinel-s2-l2a-cogs/13/S/CA/2020/4/S2A_13SCA_20200403_0_L2A/B12.tif",
           "proj:shape": [
            5490,
            5490
           ],
           "proj:transform": [
            20,
            0,
            300000,
            0,
            -20,
            4100040,
            0,
            0,
            1
           ],
           "title": "Band 12 (swir22)",
           "type": "image/tiff; application=geotiff; profile=cloud-optimized"
          },
          "B8A": {
           "href": "https://sentinel-cogs.s3.us-west-2.amazonaws.com/sentinel-s2-l2a-cogs/13/S/CA/2020/4/S2A_13SCA_20200403_0_L2A/B8A.tif",
           "proj:shape": [
            5490,
            5490
           ],
           "proj:transform": [
            20,
            0,
            300000,
            0,
            -20,
            4100040,
            0,
            0,
            1
           ],
           "title": "Band 8A",
           "type": "image/tiff; application=geotiff; profile=cloud-optimized"
          },
          "SCL": {
           "href": "https://sentinel-cogs.s3.us-west-2.amazonaws.com/sentinel-s2-l2a-cogs/13/S/CA/2020/4/S2A_13SCA_20200403_0_L2A/SCL.tif",
           "proj:shape": [
            5490,
            5490
           ],
           "proj:transform": [
            20,
            0,
            300000,
            0,
            -20,
            4100040,
            0,
            0,
            1
           ],
           "title": "Scene Classification Map (SCL)",
           "type": "image/tiff; application=geotiff; profile=cloud-optimized"
          },
          "WVP": {
           "href": "https://sentinel-cogs.s3.us-west-2.amazonaws.com/sentinel-s2-l2a-cogs/13/S/CA/2020/4/S2A_13SCA_20200403_0_L2A/WVP.tif",
           "proj:shape": [
            10980,
            10980
           ],
           "proj:transform": [
            10,
            0,
            300000,
            0,
            -10,
            4100040,
            0,
            0,
            1
           ],
           "title": "Water Vapour (WVP)",
           "type": "image/tiff; application=geotiff; profile=cloud-optimized"
          },
          "info": {
           "href": "https://roda.sentinel-hub.com/sentinel-s2-l2a/tiles/13/S/CA/2020/4/3/0/tileInfo.json",
           "title": "Original JSON metadata",
           "type": "application/json"
          },
          "metadata": {
           "href": "https://roda.sentinel-hub.com/sentinel-s2-l2a/tiles/13/S/CA/2020/4/3/0/metadata.xml",
           "title": "Original XML metadata",
           "type": "application/xml"
          },
          "overview": {
           "href": "https://sentinel-cogs.s3.us-west-2.amazonaws.com/sentinel-s2-l2a-cogs/13/S/CA/2020/4/S2A_13SCA_20200403_0_L2A/L2A_PVI.tif",
           "proj:shape": [
            343,
            343
           ],
           "proj:transform": [
            320,
            0,
            300000,
            0,
            -320,
            4100040,
            0,
            0,
            1
           ],
           "title": "True color image",
           "type": "image/tiff; application=geotiff; profile=cloud-optimized"
          },
          "thumbnail": {
           "href": "https://roda.sentinel-hub.com/sentinel-s2-l1c/tiles/13/S/CA/2020/4/3/0/preview.jpg",
           "title": "Thumbnail",
           "type": "image/png"
          },
          "visual": {
           "href": "https://sentinel-cogs.s3.us-west-2.amazonaws.com/sentinel-s2-l2a-cogs/13/S/CA/2020/4/S2A_13SCA_20200403_0_L2A/TCI.tif",
           "proj:shape": [
            10980,
            10980
           ],
           "proj:transform": [
            10,
            0,
            300000,
            0,
            -10,
            4100040,
            0,
            0,
            1
           ],
           "title": "True color image",
           "type": "image/tiff; application=geotiff; profile=cloud-optimized"
          }
         },
         "bbox": [
          -106.39146526661429,
          36.04865729913121,
          -106.00146317821304,
          37.042238132699175
         ],
         "collection": "sentinel-s2-l2a-cogs",
         "geometry": {
          "coordinates": [
           [
            [
             -106.39146526661429,
             36.04865729913121
            ],
            [
             -106.34963126971039,
             36.208298488464564
            ],
            [
             -106.1125279021925,
             37.04135777127952
            ],
            [
             -106.0143136619799,
             37.042238132699175
            ],
            [
             -106.00146317821304,
             36.052549930385496
            ],
            [
             -106.39146526661429,
             36.04865729913121
            ]
           ]
          ],
          "type": "Polygon"
         },
         "id": "S2A_13SCA_20200403_0_L2A",
         "links": [
          {
           "href": "https://earth-search.aws.element84.com/v0/collections/sentinel-s2-l2a-cogs/items/S2A_13SCA_20200403_0_L2A",
           "rel": "self"
          },
          {
           "href": "https://sentinel-cogs.s3.us-west-2.amazonaws.com/sentinel-s2-l2a-cogs/13/S/CA/2020/4/S2A_13SCA_20200403_0_L2A/S2A_13SCA_20200403_0_L2A.json",
           "rel": "canonical",
           "type": "application/json"
          },
          {
           "href": "https://earth-search.aws.element84.com/v0/collections/sentinel-s2-l2a/items/S2A_13SCA_20200403_0_L2A",
           "rel": "derived_from",
           "title": "Source STAC Item",
           "type": "application/json"
          },
          {
           "href": "https://earth-search.aws.element84.com/v0/collections/sentinel-s2-l2a-cogs",
           "rel": "parent"
          },
          {
           "href": "https://earth-search.aws.element84.com/v0/collections/sentinel-s2-l2a-cogs",
           "rel": "collection"
          },
          {
           "href": "https://earth-search.aws.element84.com/v0",
           "rel": "root",
           "title": "Earth Search",
           "type": "application/json"
          }
         ],
         "properties": {
          "constellation": "sentinel-2",
          "created": "2020-09-18T22:58:28.920Z",
          "data_coverage": 19.96,
          "datetime": "2020-04-03T17:53:57Z",
          "eo:cloud_cover": 7.4,
          "gsd": 10,
          "instruments": [
           "msi"
          ],
          "platform": "sentinel-2a",
          "proj:epsg": 32613,
          "sentinel:data_coverage": 19.96,
          "sentinel:grid_square": "CA",
          "sentinel:latitude_band": "S",
          "sentinel:product_id": "S2A_MSIL2A_20200403T173901_N0214_R098_T13SCA_20200403T220105",
          "sentinel:sequence": "0",
          "sentinel:utm_zone": 13,
          "sentinel:valid_cloud_cover": true,
          "updated": "2020-09-18T22:58:28.920Z",
          "view:off_nadir": 0
         },
         "properties.sentinel:boa_offset_applied": false,
         "stac_extensions": [
          "eo",
          "view",
          "proj"
         ],
         "stac_version": "1.0.0",
         "type": "Feature"
        },
        {
         "assets": {
          "AOT": {
           "href": "https://sentinel-cogs.s3.us-west-2.amazonaws.com/sentinel-s2-l2a-cogs/13/S/DA/2020/4/S2A_13SDA_20200403_0_L2A/AOT.tif",
           "proj:shape": [
            1830,
            1830
           ],
           "proj:transform": [
            60,
            0,
            399960,
            0,
            -60,
            4100040,
            0,
            0,
            1
           ],
           "title": "Aerosol Optical Thickness (AOT)",
           "type": "image/tiff; application=geotiff; profile=cloud-optimized"
          },
          "B01": {
           "href": "https://sentinel-cogs.s3.us-west-2.amazonaws.com/sentinel-s2-l2a-cogs/13/S/DA/2020/4/S2A_13SDA_20200403_0_L2A/B01.tif",
           "proj:shape": [
            1830,
            1830
           ],
           "proj:transform": [
            60,
            0,
            399960,
            0,
            -60,
            4100040,
            0,
            0,
            1
           ],
           "title": "Band 1 (coastal)",
           "type": "image/tiff; application=geotiff; profile=cloud-optimized"
          },
          "B02": {
           "href": "https://sentinel-cogs.s3.us-west-2.amazonaws.com/sentinel-s2-l2a-cogs/13/S/DA/2020/4/S2A_13SDA_20200403_0_L2A/B02.tif",
           "proj:shape": [
            10980,
            10980
           ],
           "proj:transform": [
            10,
            0,
            399960,
            0,
            -10,
            4100040,
            0,
            0,
            1
           ],
           "title": "Band 2 (blue)",
           "type": "image/tiff; application=geotiff; profile=cloud-optimized"
          },
          "B03": {
           "href": "https://sentinel-cogs.s3.us-west-2.amazonaws.com/sentinel-s2-l2a-cogs/13/S/DA/2020/4/S2A_13SDA_20200403_0_L2A/B03.tif",
           "proj:shape": [
            10980,
            10980
           ],
           "proj:transform": [
            10,
            0,
            399960,
            0,
            -10,
            4100040,
            0,
            0,
            1
           ],
           "title": "Band 3 (green)",
           "type": "image/tiff; application=geotiff; profile=cloud-optimized"
          },
          "B04": {
           "href": "https://sentinel-cogs.s3.us-west-2.amazonaws.com/sentinel-s2-l2a-cogs/13/S/DA/2020/4/S2A_13SDA_20200403_0_L2A/B04.tif",
           "proj:shape": [
            10980,
            10980
           ],
           "proj:transform": [
            10,
            0,
            399960,
            0,
            -10,
            4100040,
            0,
            0,
            1
           ],
           "title": "Band 4 (red)",
           "type": "image/tiff; application=geotiff; profile=cloud-optimized"
          },
          "B05": {
           "href": "https://sentinel-cogs.s3.us-west-2.amazonaws.com/sentinel-s2-l2a-cogs/13/S/DA/2020/4/S2A_13SDA_20200403_0_L2A/B05.tif",
           "proj:shape": [
            5490,
            5490
           ],
           "proj:transform": [
            20,
            0,
            399960,
            0,
            -20,
            4100040,
            0,
            0,
            1
           ],
           "title": "Band 5",
           "type": "image/tiff; application=geotiff; profile=cloud-optimized"
          },
          "B06": {
           "href": "https://sentinel-cogs.s3.us-west-2.amazonaws.com/sentinel-s2-l2a-cogs/13/S/DA/2020/4/S2A_13SDA_20200403_0_L2A/B06.tif",
           "proj:shape": [
            5490,
            5490
           ],
           "proj:transform": [
            20,
            0,
            399960,
            0,
            -20,
            4100040,
            0,
            0,
            1
           ],
           "title": "Band 6",
           "type": "image/tiff; application=geotiff; profile=cloud-optimized"
          },
          "B07": {
           "href": "https://sentinel-cogs.s3.us-west-2.amazonaws.com/sentinel-s2-l2a-cogs/13/S/DA/2020/4/S2A_13SDA_20200403_0_L2A/B07.tif",
           "proj:shape": [
            5490,
            5490
           ],
           "proj:transform": [
            20,
            0,
            399960,
            0,
            -20,
            4100040,
            0,
            0,
            1
           ],
           "title": "Band 7",
           "type": "image/tiff; application=geotiff; profile=cloud-optimized"
          },
          "B08": {
           "href": "https://sentinel-cogs.s3.us-west-2.amazonaws.com/sentinel-s2-l2a-cogs/13/S/DA/2020/4/S2A_13SDA_20200403_0_L2A/B08.tif",
           "proj:shape": [
            10980,
            10980
           ],
           "proj:transform": [
            10,
            0,
            399960,
            0,
            -10,
            4100040,
            0,
            0,
            1
           ],
           "title": "Band 8 (nir)",
           "type": "image/tiff; application=geotiff; profile=cloud-optimized"
          },
          "B09": {
           "href": "https://sentinel-cogs.s3.us-west-2.amazonaws.com/sentinel-s2-l2a-cogs/13/S/DA/2020/4/S2A_13SDA_20200403_0_L2A/B09.tif",
           "proj:shape": [
            1830,
            1830
           ],
           "proj:transform": [
            60,
            0,
            399960,
            0,
            -60,
            4100040,
            0,
            0,
            1
           ],
           "title": "Band 9",
           "type": "image/tiff; application=geotiff; profile=cloud-optimized"
          },
          "B11": {
           "href": "https://sentinel-cogs.s3.us-west-2.amazonaws.com/sentinel-s2-l2a-cogs/13/S/DA/2020/4/S2A_13SDA_20200403_0_L2A/B11.tif",
           "proj:shape": [
            5490,
            5490
           ],
           "proj:transform": [
            20,
            0,
            399960,
            0,
            -20,
            4100040,
            0,
            0,
            1
           ],
           "title": "Band 11 (swir16)",
           "type": "image/tiff; application=geotiff; profile=cloud-optimized"
          },
          "B12": {
           "href": "https://sentinel-cogs.s3.us-west-2.amazonaws.com/sentinel-s2-l2a-cogs/13/S/DA/2020/4/S2A_13SDA_20200403_0_L2A/B12.tif",
           "proj:shape": [
            5490,
            5490
           ],
           "proj:transform": [
            20,
            0,
            399960,
            0,
            -20,
            4100040,
            0,
            0,
            1
           ],
           "title": "Band 12 (swir22)",
           "type": "image/tiff; application=geotiff; profile=cloud-optimized"
          },
          "B8A": {
           "href": "https://sentinel-cogs.s3.us-west-2.amazonaws.com/sentinel-s2-l2a-cogs/13/S/DA/2020/4/S2A_13SDA_20200403_0_L2A/B8A.tif",
           "proj:shape": [
            5490,
            5490
           ],
           "proj:transform": [
            20,
            0,
            399960,
            0,
            -20,
            4100040,
            0,
            0,
            1
           ],
           "title": "Band 8A",
           "type": "image/tiff; application=geotiff; profile=cloud-optimized"
          },
          "SCL": {
           "href": "https://sentinel-cogs.s3.us-west-2.amazonaws.com/sentinel-s2-l2a-cogs/13/S/DA/2020/4/S2A_13SDA_20200403_0_L2A/SCL.tif",
           "proj:shape": [
            5490,
            5490
           ],
           "proj:transform": [
            20,
            0,
            399960,
            0,
            -20,
            4100040,
            0,
            0,
            1
           ],
           "title": "Scene Classification Map (SCL)",
           "type": "image/tiff; application=geotiff; profile=cloud-optimized"
          },
          "WVP": {
           "href": "https://sentinel-cogs.s3.us-west-2.amazonaws.com/sentinel-s2-l2a-cogs/13/S/DA/2020/4/S2A_13SDA_20200403_0_L2A/WVP.tif",
           "proj:shape": [
            10980,
            10980
           ],
           "proj:transform": [
            10,
            0,
            399960,
            0,
            -10,
            4100040,
            0,
            0,
            1
           ],
           "title": "Water Vapour (WVP)",
           "type": "image/tiff; application=geotiff; profile=cloud-optimized"
          },
          "info": {
           "href": "https://roda.sentinel-hub.com/sentinel-s2-l2a/tiles/13/S/DA/2020/4/3/0/tileInfo.json",
           "title": "Original JSON metadata",
           "type": "application/json"
          },
          "metadata": {
           "href": "https://roda.sentinel-hub.com/sentinel-s2-l2a/tiles/13/S/DA/2020/4/3/0/metadata.xml",
           "title": "Original XML metadata",
           "type": "application/xml"
          },
          "overview": {
           "href": "https://sentinel-cogs.s3.us-west-2.amazonaws.com/sentinel-s2-l2a-cogs/13/S/DA/2020/4/S2A_13SDA_20200403_0_L2A/L2A_PVI.tif",
           "proj:shape": [
            343,
            343
           ],
           "proj:transform": [
            320,
            0,
            399960,
            0,
            -320,
            4100040,
            0,
            0,
            1
           ],
           "title": "True color image",
           "type": "image/tiff; application=geotiff; profile=cloud-optimized"
          },
          "thumbnail": {
           "href": "https://roda.sentinel-hub.com/sentinel-s2-l1c/tiles/13/S/DA/2020/4/3/0/preview.jpg",
           "title": "Thumbnail",
           "type": "image/png"
          },
          "visual": {
           "href": "https://sentinel-cogs.s3.us-west-2.amazonaws.com/sentinel-s2-l2a-cogs/13/S/DA/2020/4/S2A_13SDA_20200403_0_L2A/TCI.tif",
           "proj:shape": [
            10980,
            10980
           ],
           "proj:transform": [
            10,
            0,
            399960,
            0,
            -10,
            4100040,
            0,
            0,
            1
           ],
           "title": "True color image",
           "type": "image/tiff; application=geotiff; profile=cloud-optimized"
          }
         },
         "bbox": [
          -106.1243028479439,
          36.05158782950058,
          -104.89025193801255,
          37.0465232766518
         ],
         "collection": "sentinel-s2-l2a-cogs",
         "geometry": {
          "coordinates": [
           [
            [
             -106.11067273828671,
             36.05158782950058
            ],
            [
             -106.1243028479439,
             36.99910896292801
            ],
            [
             -106.11252817987095,
             37.04135776867554
            ],
            [
             -104.89025193801255,
             37.0465232766518
            ],
            [
             -104.89164263349547,
             36.05668401100348
            ],
            [
             -106.11067273828671,
             36.05158782950058
            ]
           ]
          ],
          "type": "Polygon"
         },
         "id": "S2A_13SDA_20200403_0_L2A",
         "links": [
          {
           "href": "https://earth-search.aws.element84.com/v0/collections/sentinel-s2-l2a-cogs/items/S2A_13SDA_20200403_0_L2A",
           "rel": "self"
          },
          {
           "href": "https://sentinel-cogs.s3.us-west-2.amazonaws.com/sentinel-s2-l2a-cogs/13/S/DA/2020/4/S2A_13SDA_20200403_0_L2A/S2A_13SDA_20200403_0_L2A.json",
           "rel": "canonical",
           "type": "application/json"
          },
          {
           "href": "https://earth-search.aws.element84.com/v0/collections/sentinel-s2-l2a/items/S2A_13SDA_20200403_0_L2A",
           "rel": "derived_from",
           "title": "Source STAC Item",
           "type": "application/json"
          },
          {
           "href": "https://earth-search.aws.element84.com/v0/collections/sentinel-s2-l2a-cogs",
           "rel": "parent"
          },
          {
           "href": "https://earth-search.aws.element84.com/v0/collections/sentinel-s2-l2a-cogs",
           "rel": "collection"
          },
          {
           "href": "https://earth-search.aws.element84.com/v0",
           "rel": "root",
           "title": "Earth Search",
           "type": "application/json"
          }
         ],
         "properties": {
          "constellation": "sentinel-2",
          "created": "2020-09-05T10:35:08.576Z",
          "data_coverage": 99.97,
          "datetime": "2020-04-03T17:53:53Z",
          "eo:cloud_cover": 12.33,
          "gsd": 10,
          "instruments": [
           "msi"
          ],
          "platform": "sentinel-2a",
          "proj:epsg": 32613,
          "sentinel:data_coverage": 99.97,
          "sentinel:grid_square": "DA",
          "sentinel:latitude_band": "S",
          "sentinel:product_id": "S2A_MSIL2A_20200403T173901_N0214_R098_T13SDA_20200403T220105",
          "sentinel:sequence": "0",
          "sentinel:utm_zone": 13,
          "sentinel:valid_cloud_cover": true,
          "updated": "2020-09-05T10:35:08.576Z",
          "view:off_nadir": 0
         },
         "properties.sentinel:boa_offset_applied": false,
         "stac_extensions": [
          "eo",
          "view",
          "proj"
         ],
         "stac_version": "1.0.0",
         "type": "Feature"
        },
        {
         "assets": {
          "AOT": {
           "href": "https://sentinel-cogs.s3.us-west-2.amazonaws.com/sentinel-s2-l2a-cogs/13/S/EA/2020/4/S2A_13SEA_20200403_0_L2A/AOT.tif",
           "proj:shape": [
            1830,
            1830
           ],
           "proj:transform": [
            60,
            0,
            499980,
            0,
            -60,
            4100040,
            0,
            0,
            1
           ],
           "title": "Aerosol Optical Thickness (AOT)",
           "type": "image/tiff; application=geotiff; profile=cloud-optimized"
          },
          "B01": {
           "href": "https://sentinel-cogs.s3.us-west-2.amazonaws.com/sentinel-s2-l2a-cogs/13/S/EA/2020/4/S2A_13SEA_20200403_0_L2A/B01.tif",
           "proj:shape": [
            1830,
            1830
           ],
           "proj:transform": [
            60,
            0,
            499980,
            0,
            -60,
            4100040,
            0,
            0,
            1
           ],
           "title": "Band 1 (coastal)",
           "type": "image/tiff; application=geotiff; profile=cloud-optimized"
          },
          "B02": {
           "href": "https://sentinel-cogs.s3.us-west-2.amazonaws.com/sentinel-s2-l2a-cogs/13/S/EA/2020/4/S2A_13SEA_20200403_0_L2A/B02.tif",
           "proj:shape": [
            10980,
            10980
           ],
           "proj:transform": [
            10,
            0,
            499980,
            0,
            -10,
            4100040,
            0,
            0,
            1
           ],
           "title": "Band 2 (blue)",
           "type": "image/tiff; application=geotiff; profile=cloud-optimized"
          },
          "B03": {
           "href": "https://sentinel-cogs.s3.us-west-2.amazonaws.com/sentinel-s2-l2a-cogs/13/S/EA/2020/4/S2A_13SEA_20200403_0_L2A/B03.tif",
           "proj:shape": [
            10980,
            10980
           ],
           "proj:transform": [
            10,
            0,
            499980,
            0,
            -10,
            4100040,
            0,
            0,
            1
           ],
           "title": "Band 3 (green)",
           "type": "image/tiff; application=geotiff; profile=cloud-optimized"
          },
          "B04": {
           "href": "https://sentinel-cogs.s3.us-west-2.amazonaws.com/sentinel-s2-l2a-cogs/13/S/EA/2020/4/S2A_13SEA_20200403_0_L2A/B04.tif",
           "proj:shape": [
            10980,
            10980
           ],
           "proj:transform": [
            10,
            0,
            499980,
            0,
            -10,
            4100040,
            0,
            0,
            1
           ],
           "title": "Band 4 (red)",
           "type": "image/tiff; application=geotiff; profile=cloud-optimized"
          },
          "B05": {
           "href": "https://sentinel-cogs.s3.us-west-2.amazonaws.com/sentinel-s2-l2a-cogs/13/S/EA/2020/4/S2A_13SEA_20200403_0_L2A/B05.tif",
           "proj:shape": [
            5490,
            5490
           ],
           "proj:transform": [
            20,
            0,
            499980,
            0,
            -20,
            4100040,
            0,
            0,
            1
           ],
           "title": "Band 5",
           "type": "image/tiff; application=geotiff; profile=cloud-optimized"
          },
          "B06": {
           "href": "https://sentinel-cogs.s3.us-west-2.amazonaws.com/sentinel-s2-l2a-cogs/13/S/EA/2020/4/S2A_13SEA_20200403_0_L2A/B06.tif",
           "proj:shape": [
            5490,
            5490
           ],
           "proj:transform": [
            20,
            0,
            499980,
            0,
            -20,
            4100040,
            0,
            0,
            1
           ],
           "title": "Band 6",
           "type": "image/tiff; application=geotiff; profile=cloud-optimized"
          },
          "B07": {
           "href": "https://sentinel-cogs.s3.us-west-2.amazonaws.com/sentinel-s2-l2a-cogs/13/S/EA/2020/4/S2A_13SEA_20200403_0_L2A/B07.tif",
           "proj:shape": [
            5490,
            5490
           ],
           "proj:transform": [
            20,
            0,
            499980,
            0,
            -20,
            4100040,
            0,
            0,
            1
           ],
           "title": "Band 7",
           "type": "image/tiff; application=geotiff; profile=cloud-optimized"
          },
          "B08": {
           "href": "https://sentinel-cogs.s3.us-west-2.amazonaws.com/sentinel-s2-l2a-cogs/13/S/EA/2020/4/S2A_13SEA_20200403_0_L2A/B08.tif",
           "proj:shape": [
            10980,
            10980
           ],
           "proj:transform": [
            10,
            0,
            499980,
            0,
            -10,
            4100040,
            0,
            0,
            1
           ],
           "title": "Band 8 (nir)",
           "type": "image/tiff; application=geotiff; profile=cloud-optimized"
          },
          "B09": {
           "href": "https://sentinel-cogs.s3.us-west-2.amazonaws.com/sentinel-s2-l2a-cogs/13/S/EA/2020/4/S2A_13SEA_20200403_0_L2A/B09.tif",
           "proj:shape": [
            1830,
            1830
           ],
           "proj:transform": [
            60,
            0,
            499980,
            0,
            -60,
            4100040,
            0,
            0,
            1
           ],
           "title": "Band 9",
           "type": "image/tiff; application=geotiff; profile=cloud-optimized"
          },
          "B11": {
           "href": "https://sentinel-cogs.s3.us-west-2.amazonaws.com/sentinel-s2-l2a-cogs/13/S/EA/2020/4/S2A_13SEA_20200403_0_L2A/B11.tif",
           "proj:shape": [
            5490,
            5490
           ],
           "proj:transform": [
            20,
            0,
            499980,
            0,
            -20,
            4100040,
            0,
            0,
            1
           ],
           "title": "Band 11 (swir16)",
           "type": "image/tiff; application=geotiff; profile=cloud-optimized"
          },
          "B12": {
           "href": "https://sentinel-cogs.s3.us-west-2.amazonaws.com/sentinel-s2-l2a-cogs/13/S/EA/2020/4/S2A_13SEA_20200403_0_L2A/B12.tif",
           "proj:shape": [
            5490,
            5490
           ],
           "proj:transform": [
            20,
            0,
            499980,
            0,
            -20,
            4100040,
            0,
            0,
            1
           ],
           "title": "Band 12 (swir22)",
           "type": "image/tiff; application=geotiff; profile=cloud-optimized"
          },
          "B8A": {
           "href": "https://sentinel-cogs.s3.us-west-2.amazonaws.com/sentinel-s2-l2a-cogs/13/S/EA/2020/4/S2A_13SEA_20200403_0_L2A/B8A.tif",
           "proj:shape": [
            5490,
            5490
           ],
           "proj:transform": [
            20,
            0,
            499980,
            0,
            -20,
            4100040,
            0,
            0,
            1
           ],
           "title": "Band 8A",
           "type": "image/tiff; application=geotiff; profile=cloud-optimized"
          },
          "SCL": {
           "href": "https://sentinel-cogs.s3.us-west-2.amazonaws.com/sentinel-s2-l2a-cogs/13/S/EA/2020/4/S2A_13SEA_20200403_0_L2A/SCL.tif",
           "proj:shape": [
            5490,
            5490
           ],
           "proj:transform": [
            20,
            0,
            499980,
            0,
            -20,
            4100040,
            0,
            0,
            1
           ],
           "title": "Scene Classification Map (SCL)",
           "type": "image/tiff; application=geotiff; profile=cloud-optimized"
          },
          "WVP": {
           "href": "https://sentinel-cogs.s3.us-west-2.amazonaws.com/sentinel-s2-l2a-cogs/13/S/EA/2020/4/S2A_13SEA_20200403_0_L2A/WVP.tif",
           "proj:shape": [
            10980,
            10980
           ],
           "proj:transform": [
            10,
            0,
            499980,
            0,
            -10,
            4100040,
            0,
            0,
            1
           ],
           "title": "Water Vapour (WVP)",
           "type": "image/tiff; application=geotiff; profile=cloud-optimized"
          },
          "info": {
           "href": "https://roda.sentinel-hub.com/sentinel-s2-l2a/tiles/13/S/EA/2020/4/3/0/tileInfo.json",
           "title": "Original JSON metadata",
           "type": "application/json"
          },
          "metadata": {
           "href": "https://roda.sentinel-hub.com/sentinel-s2-l2a/tiles/13/S/EA/2020/4/3/0/metadata.xml",
           "title": "Original XML metadata",
           "type": "application/xml"
          },
          "overview": {
           "href": "https://sentinel-cogs.s3.us-west-2.amazonaws.com/sentinel-s2-l2a-cogs/13/S/EA/2020/4/S2A_13SEA_20200403_0_L2A/L2A_PVI.tif",
           "proj:shape": [
            343,
            343
           ],
           "proj:transform": [
            320,
            0,
            499980,
            0,
            -320,
            4100040,
            0,
            0,
            1
           ],
           "title": "True color image",
           "type": "image/tiff; application=geotiff; profile=cloud-optimized"
          },
          "thumbnail": {
           "href": "https://roda.sentinel-hub.com/sentinel-s2-l1c/tiles/13/S/EA/2020/4/3/0/preview.jpg",
           "title": "Thumbnail",
           "type": "image/png"
          },
          "visual": {
           "href": "https://sentinel-cogs.s3.us-west-2.amazonaws.com/sentinel-s2-l2a-cogs/13/S/EA/2020/4/S2A_13SEA_20200403_0_L2A/TCI.tif",
           "proj:shape": [
            10980,
            10980
           ],
           "proj:transform": [
            10,
            0,
            499980,
            0,
            -10,
            4100040,
            0,
            0,
            1
           ],
           "title": "True color image",
           "type": "image/tiff; application=geotiff; profile=cloud-optimized"
          }
         },
         "bbox": [
          -105.0002136709621,
          36.05053734221329,
          -103.76557335686445,
          37.046574035721214
         ],
         "collection": "sentinel-s2-l2a-cogs",
         "geometry": {
          "coordinates": [
           [
            [
             -103.78121094088331,
             36.05053734221329
            ],
            [
             -105.00021096337939,
             36.056732980577884
            ],
            [
             -105.0002136709621,
             37.046574035721214
            ],
            [
             -103.76557335686445,
             37.04015200857309
            ],
            [
             -103.78121094088331,
             36.05053734221329
            ]
           ]
          ],
          "type": "Polygon"
         },
         "id": "S2A_13SEA_20200403_0_L2A",
         "links": [
          {
           "href": "https://earth-search.aws.element84.com/v0/collections/sentinel-s2-l2a-cogs/items/S2A_13SEA_20200403_0_L2A",
           "rel": "self"
          },
          {
           "href": "https://sentinel-cogs.s3.us-west-2.amazonaws.com/sentinel-s2-l2a-cogs/13/S/EA/2020/4/S2A_13SEA_20200403_0_L2A/S2A_13SEA_20200403_0_L2A.json",
           "rel": "canonical",
           "type": "application/json"
          },
          {
           "href": "https://earth-search.aws.element84.com/v0/collections/sentinel-s2-l2a/items/S2A_13SEA_20200403_0_L2A",
           "rel": "derived_from",
           "title": "Source STAC Item",
           "type": "application/json"
          },
          {
           "href": "https://earth-search.aws.element84.com/v0/collections/sentinel-s2-l2a-cogs",
           "rel": "parent"
          },
          {
           "href": "https://earth-search.aws.element84.com/v0/collections/sentinel-s2-l2a-cogs",
           "rel": "collection"
          },
          {
           "href": "https://earth-search.aws.element84.com/v0",
           "rel": "root",
           "title": "Earth Search",
           "type": "application/json"
          }
         ],
         "properties": {
          "constellation": "sentinel-2",
          "created": "2020-08-31T18:12:41.217Z",
          "data_coverage": 100,
          "datetime": "2020-04-03T17:53:49Z",
          "eo:cloud_cover": 43.25,
          "gsd": 10,
          "instruments": [
           "msi"
          ],
          "platform": "sentinel-2a",
          "proj:epsg": 32613,
          "sentinel:data_coverage": 100,
          "sentinel:grid_square": "EA",
          "sentinel:latitude_band": "S",
          "sentinel:product_id": "S2A_MSIL2A_20200403T173901_N0214_R098_T13SEA_20200403T220105",
          "sentinel:sequence": "0",
          "sentinel:utm_zone": 13,
          "sentinel:valid_cloud_cover": true,
          "updated": "2020-08-31T18:12:41.217Z",
          "view:off_nadir": 0
         },
         "properties.sentinel:boa_offset_applied": false,
         "stac_extensions": [
          "eo",
          "view",
          "proj"
         ],
         "stac_version": "1.0.0",
         "type": "Feature"
        },
        {
         "assets": {
          "AOT": {
           "href": "https://sentinel-cogs.s3.us-west-2.amazonaws.com/sentinel-s2-l2a-cogs/13/S/CV/2020/4/S2B_13SCV_20200401_0_L2A/AOT.tif",
           "proj:shape": [
            1830,
            1830
           ],
           "proj:transform": [
            60,
            0,
            300000,
            0,
            -60,
            4000020,
            0,
            0,
            1
           ],
           "title": "Aerosol Optical Thickness (AOT)",
           "type": "image/tiff; application=geotiff; profile=cloud-optimized"
          },
          "B01": {
           "href": "https://sentinel-cogs.s3.us-west-2.amazonaws.com/sentinel-s2-l2a-cogs/13/S/CV/2020/4/S2B_13SCV_20200401_0_L2A/B01.tif",
           "proj:shape": [
            1830,
            1830
           ],
           "proj:transform": [
            60,
            0,
            300000,
            0,
            -60,
            4000020,
            0,
            0,
            1
           ],
           "title": "Band 1 (coastal)",
           "type": "image/tiff; application=geotiff; profile=cloud-optimized"
          },
          "B02": {
           "href": "https://sentinel-cogs.s3.us-west-2.amazonaws.com/sentinel-s2-l2a-cogs/13/S/CV/2020/4/S2B_13SCV_20200401_0_L2A/B02.tif",
           "proj:shape": [
            10980,
            10980
           ],
           "proj:transform": [
            10,
            0,
            300000,
            0,
            -10,
            4000020,
            0,
            0,
            1
           ],
           "title": "Band 2 (blue)",
           "type": "image/tiff; application=geotiff; profile=cloud-optimized"
          },
          "B03": {
           "href": "https://sentinel-cogs.s3.us-west-2.amazonaws.com/sentinel-s2-l2a-cogs/13/S/CV/2020/4/S2B_13SCV_20200401_0_L2A/B03.tif",
           "proj:shape": [
            10980,
            10980
           ],
           "proj:transform": [
            10,
            0,
            300000,
            0,
            -10,
            4000020,
            0,
            0,
            1
           ],
           "title": "Band 3 (green)",
           "type": "image/tiff; application=geotiff; profile=cloud-optimized"
          },
          "B04": {
           "href": "https://sentinel-cogs.s3.us-west-2.amazonaws.com/sentinel-s2-l2a-cogs/13/S/CV/2020/4/S2B_13SCV_20200401_0_L2A/B04.tif",
           "proj:shape": [
            10980,
            10980
           ],
           "proj:transform": [
            10,
            0,
            300000,
            0,
            -10,
            4000020,
            0,
            0,
            1
           ],
           "title": "Band 4 (red)",
           "type": "image/tiff; application=geotiff; profile=cloud-optimized"
          },
          "B05": {
           "href": "https://sentinel-cogs.s3.us-west-2.amazonaws.com/sentinel-s2-l2a-cogs/13/S/CV/2020/4/S2B_13SCV_20200401_0_L2A/B05.tif",
           "proj:shape": [
            5490,
            5490
           ],
           "proj:transform": [
            20,
            0,
            300000,
            0,
            -20,
            4000020,
            0,
            0,
            1
           ],
           "title": "Band 5",
           "type": "image/tiff; application=geotiff; profile=cloud-optimized"
          },
          "B06": {
           "href": "https://sentinel-cogs.s3.us-west-2.amazonaws.com/sentinel-s2-l2a-cogs/13/S/CV/2020/4/S2B_13SCV_20200401_0_L2A/B06.tif",
           "proj:shape": [
            5490,
            5490
           ],
           "proj:transform": [
            20,
            0,
            300000,
            0,
            -20,
            4000020,
            0,
            0,
            1
           ],
           "title": "Band 6",
           "type": "image/tiff; application=geotiff; profile=cloud-optimized"
          },
          "B07": {
           "href": "https://sentinel-cogs.s3.us-west-2.amazonaws.com/sentinel-s2-l2a-cogs/13/S/CV/2020/4/S2B_13SCV_20200401_0_L2A/B07.tif",
           "proj:shape": [
            5490,
            5490
           ],
           "proj:transform": [
            20,
            0,
            300000,
            0,
            -20,
            4000020,
            0,
            0,
            1
           ],
           "title": "Band 7",
           "type": "image/tiff; application=geotiff; profile=cloud-optimized"
          },
          "B08": {
           "href": "https://sentinel-cogs.s3.us-west-2.amazonaws.com/sentinel-s2-l2a-cogs/13/S/CV/2020/4/S2B_13SCV_20200401_0_L2A/B08.tif",
           "proj:shape": [
            10980,
            10980
           ],
           "proj:transform": [
            10,
            0,
            300000,
            0,
            -10,
            4000020,
            0,
            0,
            1
           ],
           "title": "Band 8 (nir)",
           "type": "image/tiff; application=geotiff; profile=cloud-optimized"
          },
          "B09": {
           "href": "https://sentinel-cogs.s3.us-west-2.amazonaws.com/sentinel-s2-l2a-cogs/13/S/CV/2020/4/S2B_13SCV_20200401_0_L2A/B09.tif",
           "proj:shape": [
            1830,
            1830
           ],
           "proj:transform": [
            60,
            0,
            300000,
            0,
            -60,
            4000020,
            0,
            0,
            1
           ],
           "title": "Band 9",
           "type": "image/tiff; application=geotiff; profile=cloud-optimized"
          },
          "B11": {
           "href": "https://sentinel-cogs.s3.us-west-2.amazonaws.com/sentinel-s2-l2a-cogs/13/S/CV/2020/4/S2B_13SCV_20200401_0_L2A/B11.tif",
           "proj:shape": [
            5490,
            5490
           ],
           "proj:transform": [
            20,
            0,
            300000,
            0,
            -20,
            4000020,
            0,
            0,
            1
           ],
           "title": "Band 11 (swir16)",
           "type": "image/tiff; application=geotiff; profile=cloud-optimized"
          },
          "B12": {
           "href": "https://sentinel-cogs.s3.us-west-2.amazonaws.com/sentinel-s2-l2a-cogs/13/S/CV/2020/4/S2B_13SCV_20200401_0_L2A/B12.tif",
           "proj:shape": [
            5490,
            5490
           ],
           "proj:transform": [
            20,
            0,
            300000,
            0,
            -20,
            4000020,
            0,
            0,
            1
           ],
           "title": "Band 12 (swir22)",
           "type": "image/tiff; application=geotiff; profile=cloud-optimized"
          },
          "B8A": {
           "href": "https://sentinel-cogs.s3.us-west-2.amazonaws.com/sentinel-s2-l2a-cogs/13/S/CV/2020/4/S2B_13SCV_20200401_0_L2A/B8A.tif",
           "proj:shape": [
            5490,
            5490
           ],
           "proj:transform": [
            20,
            0,
            300000,
            0,
            -20,
            4000020,
            0,
            0,
            1
           ],
           "title": "Band 8A",
           "type": "image/tiff; application=geotiff; profile=cloud-optimized"
          },
          "SCL": {
           "href": "https://sentinel-cogs.s3.us-west-2.amazonaws.com/sentinel-s2-l2a-cogs/13/S/CV/2020/4/S2B_13SCV_20200401_0_L2A/SCL.tif",
           "proj:shape": [
            5490,
            5490
           ],
           "proj:transform": [
            20,
            0,
            300000,
            0,
            -20,
            4000020,
            0,
            0,
            1
           ],
           "title": "Scene Classification Map (SCL)",
           "type": "image/tiff; application=geotiff; profile=cloud-optimized"
          },
          "WVP": {
           "href": "https://sentinel-cogs.s3.us-west-2.amazonaws.com/sentinel-s2-l2a-cogs/13/S/CV/2020/4/S2B_13SCV_20200401_0_L2A/WVP.tif",
           "proj:shape": [
            10980,
            10980
           ],
           "proj:transform": [
            10,
            0,
            300000,
            0,
            -10,
            4000020,
            0,
            0,
            1
           ],
           "title": "Water Vapour (WVP)",
           "type": "image/tiff; application=geotiff; profile=cloud-optimized"
          },
          "info": {
           "href": "https://roda.sentinel-hub.com/sentinel-s2-l2a/tiles/13/S/CV/2020/4/1/0/tileInfo.json",
           "title": "Original JSON metadata",
           "type": "application/json"
          },
          "metadata": {
           "href": "https://roda.sentinel-hub.com/sentinel-s2-l2a/tiles/13/S/CV/2020/4/1/0/metadata.xml",
           "title": "Original XML metadata",
           "type": "application/xml"
          },
          "overview": {
           "href": "https://sentinel-cogs.s3.us-west-2.amazonaws.com/sentinel-s2-l2a-cogs/13/S/CV/2020/4/S2B_13SCV_20200401_0_L2A/L2A_PVI.tif",
           "proj:shape": [
            343,
            343
           ],
           "proj:transform": [
            320,
            0,
            300000,
            0,
            -320,
            4000020,
            0,
            0,
            1
           ],
           "title": "True color image",
           "type": "image/tiff; application=geotiff; profile=cloud-optimized"
          },
          "thumbnail": {
           "href": "https://roda.sentinel-hub.com/sentinel-s2-l1c/tiles/13/S/CV/2020/4/1/0/preview.jpg",
           "title": "Thumbnail",
           "type": "image/png"
          },
          "visual": {
           "href": "https://sentinel-cogs.s3.us-west-2.amazonaws.com/sentinel-s2-l2a-cogs/13/S/CV/2020/4/S2B_13SCV_20200401_0_L2A/TCI.tif",
           "proj:shape": [
            10980,
            10980
           ],
           "proj:transform": [
            10,
            0,
            300000,
            0,
            -10,
            4000020,
            0,
            0,
            1
           ],
           "title": "True color image",
           "type": "image/tiff; application=geotiff; profile=cloud-optimized"
          }
         },
         "bbox": [
          -107.22238510800922,
          35.135011161377925,
          -105.99029032211578,
          36.14069288925992
         ],
         "collection": "sentinel-s2-l2a-cogs",
         "geometry": {
          "coordinates": [
           [
            [
             -107.19515930513214,
             35.135011161377925
            ],
            [
             -107.22238510800922,
             36.124267208418296
            ],
            [
             -106.00258230901163,
             36.14069288925992
            ],
            [
             -105.99029032211578,
             35.15085199698541
            ],
            [
             -107.19515930513214,
             35.135011161377925
            ]
           ]
          ],
          "type": "Polygon"
         },
         "id": "S2B_13SCV_20200401_0_L2A",
         "links": [
          {
           "href": "https://earth-search.aws.element84.com/v0/collections/sentinel-s2-l2a-cogs/items/S2B_13SCV_20200401_0_L2A",
           "rel": "self"
          },
          {
           "href": "https://sentinel-cogs.s3.us-west-2.amazonaws.com/sentinel-s2-l2a-cogs/13/S/CV/2020/4/S2B_13SCV_20200401_0_L2A/S2B_13SCV_20200401_0_L2A.json",
           "rel": "canonical",
           "type": "application/json"
          },
          {
           "href": "https://earth-search.aws.element84.com/v0/collections/sentinel-s2-l2a/items/S2B_13SCV_20200401_0_L2A",
           "rel": "derived_from",
           "title": "Source STAC Item",
           "type": "application/json"
          },
          {
           "href": "https://earth-search.aws.element84.com/v0/collections/sentinel-s2-l2a-cogs",
           "rel": "parent"
          },
          {
           "href": "https://earth-search.aws.element84.com/v0/collections/sentinel-s2-l2a-cogs",
           "rel": "collection"
          },
          {
           "href": "https://earth-search.aws.element84.com/v0",
           "rel": "root",
           "title": "Earth Search",
           "type": "application/json"
          }
         ],
         "properties": {
          "constellation": "sentinel-2",
          "created": "2020-09-18T23:33:57.593Z",
          "data_coverage": 100,
          "datetime": "2020-04-01T18:04:08Z",
          "eo:cloud_cover": 42.53,
          "gsd": 10,
          "instruments": [
           "msi"
          ],
          "platform": "sentinel-2b",
          "proj:epsg": 32613,
          "sentinel:data_coverage": 100,
          "sentinel:grid_square": "CV",
          "sentinel:latitude_band": "S",
          "sentinel:product_id": "S2B_MSIL2A_20200401T174909_N0214_R141_T13SCV_20200401T220155",
          "sentinel:sequence": "0",
          "sentinel:utm_zone": 13,
          "sentinel:valid_cloud_cover": true,
          "updated": "2020-09-18T23:33:57.593Z",
          "view:off_nadir": 0
         },
         "properties.sentinel:boa_offset_applied": false,
         "stac_extensions": [
          "eo",
          "view",
          "proj"
         ],
         "stac_version": "1.0.0",
         "type": "Feature"
        },
        {
         "assets": {
          "AOT": {
           "href": "https://sentinel-cogs.s3.us-west-2.amazonaws.com/sentinel-s2-l2a-cogs/13/S/DV/2020/4/S2B_13SDV_20200401_0_L2A/AOT.tif",
           "proj:shape": [
            1830,
            1830
           ],
           "proj:transform": [
            60,
            0,
            399960,
            0,
            -60,
            4000020,
            0,
            0,
            1
           ],
           "title": "Aerosol Optical Thickness (AOT)",
           "type": "image/tiff; application=geotiff; profile=cloud-optimized"
          },
          "B01": {
           "href": "https://sentinel-cogs.s3.us-west-2.amazonaws.com/sentinel-s2-l2a-cogs/13/S/DV/2020/4/S2B_13SDV_20200401_0_L2A/B01.tif",
           "proj:shape": [
            1830,
            1830
           ],
           "proj:transform": [
            60,
            0,
            399960,
            0,
            -60,
            4000020,
            0,
            0,
            1
           ],
           "title": "Band 1 (coastal)",
           "type": "image/tiff; application=geotiff; profile=cloud-optimized"
          },
          "B02": {
           "href": "https://sentinel-cogs.s3.us-west-2.amazonaws.com/sentinel-s2-l2a-cogs/13/S/DV/2020/4/S2B_13SDV_20200401_0_L2A/B02.tif",
           "proj:shape": [
            10980,
            10980
           ],
           "proj:transform": [
            10,
            0,
            399960,
            0,
            -10,
            4000020,
            0,
            0,
            1
           ],
           "title": "Band 2 (blue)",
           "type": "image/tiff; application=geotiff; profile=cloud-optimized"
          },
          "B03": {
           "href": "https://sentinel-cogs.s3.us-west-2.amazonaws.com/sentinel-s2-l2a-cogs/13/S/DV/2020/4/S2B_13SDV_20200401_0_L2A/B03.tif",
           "proj:shape": [
            10980,
            10980
           ],
           "proj:transform": [
            10,
            0,
            399960,
            0,
            -10,
            4000020,
            0,
            0,
            1
           ],
           "title": "Band 3 (green)",
           "type": "image/tiff; application=geotiff; profile=cloud-optimized"
          },
          "B04": {
           "href": "https://sentinel-cogs.s3.us-west-2.amazonaws.com/sentinel-s2-l2a-cogs/13/S/DV/2020/4/S2B_13SDV_20200401_0_L2A/B04.tif",
           "proj:shape": [
            10980,
            10980
           ],
           "proj:transform": [
            10,
            0,
            399960,
            0,
            -10,
            4000020,
            0,
            0,
            1
           ],
           "title": "Band 4 (red)",
           "type": "image/tiff; application=geotiff; profile=cloud-optimized"
          },
          "B05": {
           "href": "https://sentinel-cogs.s3.us-west-2.amazonaws.com/sentinel-s2-l2a-cogs/13/S/DV/2020/4/S2B_13SDV_20200401_0_L2A/B05.tif",
           "proj:shape": [
            5490,
            5490
           ],
           "proj:transform": [
            20,
            0,
            399960,
            0,
            -20,
            4000020,
            0,
            0,
            1
           ],
           "title": "Band 5",
           "type": "image/tiff; application=geotiff; profile=cloud-optimized"
          },
          "B06": {
           "href": "https://sentinel-cogs.s3.us-west-2.amazonaws.com/sentinel-s2-l2a-cogs/13/S/DV/2020/4/S2B_13SDV_20200401_0_L2A/B06.tif",
           "proj:shape": [
            5490,
            5490
           ],
           "proj:transform": [
            20,
            0,
            399960,
            0,
            -20,
            4000020,
            0,
            0,
            1
           ],
           "title": "Band 6",
           "type": "image/tiff; application=geotiff; profile=cloud-optimized"
          },
          "B07": {
           "href": "https://sentinel-cogs.s3.us-west-2.amazonaws.com/sentinel-s2-l2a-cogs/13/S/DV/2020/4/S2B_13SDV_20200401_0_L2A/B07.tif",
           "proj:shape": [
            5490,
            5490
           ],
           "proj:transform": [
            20,
            0,
            399960,
            0,
            -20,
            4000020,
            0,
            0,
            1
           ],
           "title": "Band 7",
           "type": "image/tiff; application=geotiff; profile=cloud-optimized"
          },
          "B08": {
           "href": "https://sentinel-cogs.s3.us-west-2.amazonaws.com/sentinel-s2-l2a-cogs/13/S/DV/2020/4/S2B_13SDV_20200401_0_L2A/B08.tif",
           "proj:shape": [
            10980,
            10980
           ],
           "proj:transform": [
            10,
            0,
            399960,
            0,
            -10,
            4000020,
            0,
            0,
            1
           ],
           "title": "Band 8 (nir)",
           "type": "image/tiff; application=geotiff; profile=cloud-optimized"
          },
          "B09": {
           "href": "https://sentinel-cogs.s3.us-west-2.amazonaws.com/sentinel-s2-l2a-cogs/13/S/DV/2020/4/S2B_13SDV_20200401_0_L2A/B09.tif",
           "proj:shape": [
            1830,
            1830
           ],
           "proj:transform": [
            60,
            0,
            399960,
            0,
            -60,
            4000020,
            0,
            0,
            1
           ],
           "title": "Band 9",
           "type": "image/tiff; application=geotiff; profile=cloud-optimized"
          },
          "B11": {
           "href": "https://sentinel-cogs.s3.us-west-2.amazonaws.com/sentinel-s2-l2a-cogs/13/S/DV/2020/4/S2B_13SDV_20200401_0_L2A/B11.tif",
           "proj:shape": [
            5490,
            5490
           ],
           "proj:transform": [
            20,
            0,
            399960,
            0,
            -20,
            4000020,
            0,
            0,
            1
           ],
           "title": "Band 11 (swir16)",
           "type": "image/tiff; application=geotiff; profile=cloud-optimized"
          },
          "B12": {
           "href": "https://sentinel-cogs.s3.us-west-2.amazonaws.com/sentinel-s2-l2a-cogs/13/S/DV/2020/4/S2B_13SDV_20200401_0_L2A/B12.tif",
           "proj:shape": [
            5490,
            5490
           ],
           "proj:transform": [
            20,
            0,
            399960,
            0,
            -20,
            4000020,
            0,
            0,
            1
           ],
           "title": "Band 12 (swir22)",
           "type": "image/tiff; application=geotiff; profile=cloud-optimized"
          },
          "B8A": {
           "href": "https://sentinel-cogs.s3.us-west-2.amazonaws.com/sentinel-s2-l2a-cogs/13/S/DV/2020/4/S2B_13SDV_20200401_0_L2A/B8A.tif",
           "proj:shape": [
            5490,
            5490
           ],
           "proj:transform": [
            20,
            0,
            399960,
            0,
            -20,
            4000020,
            0,
            0,
            1
           ],
           "title": "Band 8A",
           "type": "image/tiff; application=geotiff; profile=cloud-optimized"
          },
          "SCL": {
           "href": "https://sentinel-cogs.s3.us-west-2.amazonaws.com/sentinel-s2-l2a-cogs/13/S/DV/2020/4/S2B_13SDV_20200401_0_L2A/SCL.tif",
           "proj:shape": [
            5490,
            5490
           ],
           "proj:transform": [
            20,
            0,
            399960,
            0,
            -20,
            4000020,
            0,
            0,
            1
           ],
           "title": "Scene Classification Map (SCL)",
           "type": "image/tiff; application=geotiff; profile=cloud-optimized"
          },
          "WVP": {
           "href": "https://sentinel-cogs.s3.us-west-2.amazonaws.com/sentinel-s2-l2a-cogs/13/S/DV/2020/4/S2B_13SDV_20200401_0_L2A/WVP.tif",
           "proj:shape": [
            10980,
            10980
           ],
           "proj:transform": [
            10,
            0,
            399960,
            0,
            -10,
            4000020,
            0,
            0,
            1
           ],
           "title": "Water Vapour (WVP)",
           "type": "image/tiff; application=geotiff; profile=cloud-optimized"
          },
          "info": {
           "href": "https://roda.sentinel-hub.com/sentinel-s2-l2a/tiles/13/S/DV/2020/4/1/0/tileInfo.json",
           "title": "Original JSON metadata",
           "type": "application/json"
          },
          "metadata": {
           "href": "https://roda.sentinel-hub.com/sentinel-s2-l2a/tiles/13/S/DV/2020/4/1/0/metadata.xml",
           "title": "Original XML metadata",
           "type": "application/xml"
          },
          "overview": {
           "href": "https://sentinel-cogs.s3.us-west-2.amazonaws.com/sentinel-s2-l2a-cogs/13/S/DV/2020/4/S2B_13SDV_20200401_0_L2A/L2A_PVI.tif",
           "proj:shape": [
            343,
            343
           ],
           "proj:transform": [
            320,
            0,
            399960,
            0,
            -320,
            4000020,
            0,
            0,
            1
           ],
           "title": "True color image",
           "type": "image/tiff; application=geotiff; profile=cloud-optimized"
          },
          "thumbnail": {
           "href": "https://roda.sentinel-hub.com/sentinel-s2-l1c/tiles/13/S/DV/2020/4/1/0/preview.jpg",
           "title": "Thumbnail",
           "type": "image/png"
          },
          "visual": {
           "href": "https://sentinel-cogs.s3.us-west-2.amazonaws.com/sentinel-s2-l2a-cogs/13/S/DV/2020/4/S2B_13SDV_20200401_0_L2A/TCI.tif",
           "proj:shape": [
            10980,
            10980
           ],
           "proj:transform": [
            10,
            0,
            399960,
            0,
            -10,
            4000020,
            0,
            0,
            1
           ],
           "title": "True color image",
           "type": "image/tiff; application=geotiff; profile=cloud-optimized"
          }
         },
         "bbox": [
          -106.11191385205835,
          35.1499211736146,
          -105.53527335203748,
          36.14369323431527
         ],
         "collection": "sentinel-s2-l2a-cogs",
         "geometry": {
          "coordinates": [
           [
            [
             -106.09828205302668,
             35.1499211736146
            ],
            [
             -106.11191385205835,
             36.139727693244055
            ],
            [
             -105.53527335203748,
             36.14369323431527
            ],
            [
             -105.68980719734964,
             35.65911233853863
            ],
            [
             -105.85157080324588,
             35.15190642354914
            ],
            [
             -106.09828205302668,
             35.1499211736146
            ]
           ]
          ],
          "type": "Polygon"
         },
         "id": "S2B_13SDV_20200401_0_L2A",
         "links": [
          {
           "href": "https://earth-search.aws.element84.com/v0/collections/sentinel-s2-l2a-cogs/items/S2B_13SDV_20200401_0_L2A",
           "rel": "self"
          },
          {
           "href": "https://sentinel-cogs.s3.us-west-2.amazonaws.com/sentinel-s2-l2a-cogs/13/S/DV/2020/4/S2B_13SDV_20200401_0_L2A/S2B_13SDV_20200401_0_L2A.json",
           "rel": "canonical",
           "type": "application/json"
          },
          {
           "href": "https://earth-search.aws.element84.com/v0/collections/sentinel-s2-l2a/items/S2B_13SDV_20200401_0_L2A",
           "rel": "derived_from",
           "title": "Source STAC Item",
           "type": "application/json"
          },
          {
           "href": "https://earth-search.aws.element84.com/v0/collections/sentinel-s2-l2a-cogs",
           "rel": "parent"
          },
          {
           "href": "https://earth-search.aws.element84.com/v0/collections/sentinel-s2-l2a-cogs",
           "rel": "collection"
          },
          {
           "href": "https://earth-search.aws.element84.com/v0",
           "rel": "root",
           "title": "Earth Search",
           "type": "application/json"
          }
         ],
         "properties": {
          "constellation": "sentinel-2",
          "created": "2020-09-05T06:23:47.836Z",
          "data_coverage": 33.85,
          "datetime": "2020-04-01T18:04:04Z",
          "eo:cloud_cover": 29.24,
          "gsd": 10,
          "instruments": [
           "msi"
          ],
          "platform": "sentinel-2b",
          "proj:epsg": 32613,
          "sentinel:data_coverage": 33.85,
          "sentinel:grid_square": "DV",
          "sentinel:latitude_band": "S",
          "sentinel:product_id": "S2B_MSIL2A_20200401T174909_N0214_R141_T13SDV_20200401T220155",
          "sentinel:sequence": "0",
          "sentinel:utm_zone": 13,
          "sentinel:valid_cloud_cover": true,
          "updated": "2020-09-05T06:23:47.836Z",
          "view:off_nadir": 0
         },
         "properties.sentinel:boa_offset_applied": false,
         "stac_extensions": [
          "eo",
          "view",
          "proj"
         ],
         "stac_version": "1.0.0",
         "type": "Feature"
        },
        {
         "assets": {
          "AOT": {
           "href": "https://sentinel-cogs.s3.us-west-2.amazonaws.com/sentinel-s2-l2a-cogs/13/S/CA/2020/4/S2B_13SCA_20200401_0_L2A/AOT.tif",
           "proj:shape": [
            1830,
            1830
           ],
           "proj:transform": [
            60,
            0,
            300000,
            0,
            -60,
            4100040,
            0,
            0,
            1
           ],
           "title": "Aerosol Optical Thickness (AOT)",
           "type": "image/tiff; application=geotiff; profile=cloud-optimized"
          },
          "B01": {
           "href": "https://sentinel-cogs.s3.us-west-2.amazonaws.com/sentinel-s2-l2a-cogs/13/S/CA/2020/4/S2B_13SCA_20200401_0_L2A/B01.tif",
           "proj:shape": [
            1830,
            1830
           ],
           "proj:transform": [
            60,
            0,
            300000,
            0,
            -60,
            4100040,
            0,
            0,
            1
           ],
           "title": "Band 1 (coastal)",
           "type": "image/tiff; application=geotiff; profile=cloud-optimized"
          },
          "B02": {
           "href": "https://sentinel-cogs.s3.us-west-2.amazonaws.com/sentinel-s2-l2a-cogs/13/S/CA/2020/4/S2B_13SCA_20200401_0_L2A/B02.tif",
           "proj:shape": [
            10980,
            10980
           ],
           "proj:transform": [
            10,
            0,
            300000,
            0,
            -10,
            4100040,
            0,
            0,
            1
           ],
           "title": "Band 2 (blue)",
           "type": "image/tiff; application=geotiff; profile=cloud-optimized"
          },
          "B03": {
           "href": "https://sentinel-cogs.s3.us-west-2.amazonaws.com/sentinel-s2-l2a-cogs/13/S/CA/2020/4/S2B_13SCA_20200401_0_L2A/B03.tif",
           "proj:shape": [
            10980,
            10980
           ],
           "proj:transform": [
            10,
            0,
            300000,
            0,
            -10,
            4100040,
            0,
            0,
            1
           ],
           "title": "Band 3 (green)",
           "type": "image/tiff; application=geotiff; profile=cloud-optimized"
          },
          "B04": {
           "href": "https://sentinel-cogs.s3.us-west-2.amazonaws.com/sentinel-s2-l2a-cogs/13/S/CA/2020/4/S2B_13SCA_20200401_0_L2A/B04.tif",
           "proj:shape": [
            10980,
            10980
           ],
           "proj:transform": [
            10,
            0,
            300000,
            0,
            -10,
            4100040,
            0,
            0,
            1
           ],
           "title": "Band 4 (red)",
           "type": "image/tiff; application=geotiff; profile=cloud-optimized"
          },
          "B05": {
           "href": "https://sentinel-cogs.s3.us-west-2.amazonaws.com/sentinel-s2-l2a-cogs/13/S/CA/2020/4/S2B_13SCA_20200401_0_L2A/B05.tif",
           "proj:shape": [
            5490,
            5490
           ],
           "proj:transform": [
            20,
            0,
            300000,
            0,
            -20,
            4100040,
            0,
            0,
            1
           ],
           "title": "Band 5",
           "type": "image/tiff; application=geotiff; profile=cloud-optimized"
          },
          "B06": {
           "href": "https://sentinel-cogs.s3.us-west-2.amazonaws.com/sentinel-s2-l2a-cogs/13/S/CA/2020/4/S2B_13SCA_20200401_0_L2A/B06.tif",
           "proj:shape": [
            5490,
            5490
           ],
           "proj:transform": [
            20,
            0,
            300000,
            0,
            -20,
            4100040,
            0,
            0,
            1
           ],
           "title": "Band 6",
           "type": "image/tiff; application=geotiff; profile=cloud-optimized"
          },
          "B07": {
           "href": "https://sentinel-cogs.s3.us-west-2.amazonaws.com/sentinel-s2-l2a-cogs/13/S/CA/2020/4/S2B_13SCA_20200401_0_L2A/B07.tif",
           "proj:shape": [
            5490,
            5490
           ],
           "proj:transform": [
            20,
            0,
            300000,
            0,
            -20,
            4100040,
            0,
            0,
            1
           ],
           "title": "Band 7",
           "type": "image/tiff; application=geotiff; profile=cloud-optimized"
          },
          "B08": {
           "href": "https://sentinel-cogs.s3.us-west-2.amazonaws.com/sentinel-s2-l2a-cogs/13/S/CA/2020/4/S2B_13SCA_20200401_0_L2A/B08.tif",
           "proj:shape": [
            10980,
            10980
           ],
           "proj:transform": [
            10,
            0,
            300000,
            0,
            -10,
            4100040,
            0,
            0,
            1
           ],
           "title": "Band 8 (nir)",
           "type": "image/tiff; application=geotiff; profile=cloud-optimized"
          },
          "B09": {
           "href": "https://sentinel-cogs.s3.us-west-2.amazonaws.com/sentinel-s2-l2a-cogs/13/S/CA/2020/4/S2B_13SCA_20200401_0_L2A/B09.tif",
           "proj:shape": [
            1830,
            1830
           ],
           "proj:transform": [
            60,
            0,
            300000,
            0,
            -60,
            4100040,
            0,
            0,
            1
           ],
           "title": "Band 9",
           "type": "image/tiff; application=geotiff; profile=cloud-optimized"
          },
          "B11": {
           "href": "https://sentinel-cogs.s3.us-west-2.amazonaws.com/sentinel-s2-l2a-cogs/13/S/CA/2020/4/S2B_13SCA_20200401_0_L2A/B11.tif",
           "proj:shape": [
            5490,
            5490
           ],
           "proj:transform": [
            20,
            0,
            300000,
            0,
            -20,
            4100040,
            0,
            0,
            1
           ],
           "title": "Band 11 (swir16)",
           "type": "image/tiff; application=geotiff; profile=cloud-optimized"
          },
          "B12": {
           "href": "https://sentinel-cogs.s3.us-west-2.amazonaws.com/sentinel-s2-l2a-cogs/13/S/CA/2020/4/S2B_13SCA_20200401_0_L2A/B12.tif",
           "proj:shape": [
            5490,
            5490
           ],
           "proj:transform": [
            20,
            0,
            300000,
            0,
            -20,
            4100040,
            0,
            0,
            1
           ],
           "title": "Band 12 (swir22)",
           "type": "image/tiff; application=geotiff; profile=cloud-optimized"
          },
          "B8A": {
           "href": "https://sentinel-cogs.s3.us-west-2.amazonaws.com/sentinel-s2-l2a-cogs/13/S/CA/2020/4/S2B_13SCA_20200401_0_L2A/B8A.tif",
           "proj:shape": [
            5490,
            5490
           ],
           "proj:transform": [
            20,
            0,
            300000,
            0,
            -20,
            4100040,
            0,
            0,
            1
           ],
           "title": "Band 8A",
           "type": "image/tiff; application=geotiff; profile=cloud-optimized"
          },
          "SCL": {
           "href": "https://sentinel-cogs.s3.us-west-2.amazonaws.com/sentinel-s2-l2a-cogs/13/S/CA/2020/4/S2B_13SCA_20200401_0_L2A/SCL.tif",
           "proj:shape": [
            5490,
            5490
           ],
           "proj:transform": [
            20,
            0,
            300000,
            0,
            -20,
            4100040,
            0,
            0,
            1
           ],
           "title": "Scene Classification Map (SCL)",
           "type": "image/tiff; application=geotiff; profile=cloud-optimized"
          },
          "WVP": {
           "href": "https://sentinel-cogs.s3.us-west-2.amazonaws.com/sentinel-s2-l2a-cogs/13/S/CA/2020/4/S2B_13SCA_20200401_0_L2A/WVP.tif",
           "proj:shape": [
            10980,
            10980
           ],
           "proj:transform": [
            10,
            0,
            300000,
            0,
            -10,
            4100040,
            0,
            0,
            1
           ],
           "title": "Water Vapour (WVP)",
           "type": "image/tiff; application=geotiff; profile=cloud-optimized"
          },
          "info": {
           "href": "https://roda.sentinel-hub.com/sentinel-s2-l2a/tiles/13/S/CA/2020/4/1/0/tileInfo.json",
           "title": "Original JSON metadata",
           "type": "application/json"
          },
          "metadata": {
           "href": "https://roda.sentinel-hub.com/sentinel-s2-l2a/tiles/13/S/CA/2020/4/1/0/metadata.xml",
           "title": "Original XML metadata",
           "type": "application/xml"
          },
          "overview": {
           "href": "https://sentinel-cogs.s3.us-west-2.amazonaws.com/sentinel-s2-l2a-cogs/13/S/CA/2020/4/S2B_13SCA_20200401_0_L2A/L2A_PVI.tif",
           "proj:shape": [
            343,
            343
           ],
           "proj:transform": [
            320,
            0,
            300000,
            0,
            -320,
            4100040,
            0,
            0,
            1
           ],
           "title": "True color image",
           "type": "image/tiff; application=geotiff; profile=cloud-optimized"
          },
          "thumbnail": {
           "href": "https://roda.sentinel-hub.com/sentinel-s2-l1c/tiles/13/S/CA/2020/4/1/0/preview.jpg",
           "title": "Thumbnail",
           "type": "image/png"
          },
          "visual": {
           "href": "https://sentinel-cogs.s3.us-west-2.amazonaws.com/sentinel-s2-l2a-cogs/13/S/CA/2020/4/S2B_13SCA_20200401_0_L2A/TCI.tif",
           "proj:shape": [
            10980,
            10980
           ],
           "proj:transform": [
            10,
            0,
            300000,
            0,
            -10,
            4100040,
            0,
            0,
            1
           ],
           "title": "True color image",
           "type": "image/tiff; application=geotiff; profile=cloud-optimized"
          }
         },
         "bbox": [
          -107.24836840432948,
          36.03617691222184,
          -106.00146317821304,
          37.042238132699175
         ],
         "collection": "sentinel-s2-l2a-cogs",
         "geometry": {
          "coordinates": [
           [
            [
             -107.21990635255229,
             36.03617691222184
            ],
            [
             -107.24836840432948,
             37.025266990733755
            ],
            [
             -106.0143136619799,
             37.042238132699175
            ],
            [
             -106.00146317821304,
             36.052549930385496
            ],
            [
             -107.21990635255229,
             36.03617691222184
            ]
           ]
          ],
          "type": "Polygon"
         },
         "id": "S2B_13SCA_20200401_0_L2A",
         "links": [
          {
           "href": "https://earth-search.aws.element84.com/v0/collections/sentinel-s2-l2a-cogs/items/S2B_13SCA_20200401_0_L2A",
           "rel": "self"
          },
          {
           "href": "https://sentinel-cogs.s3.us-west-2.amazonaws.com/sentinel-s2-l2a-cogs/13/S/CA/2020/4/S2B_13SCA_20200401_0_L2A/S2B_13SCA_20200401_0_L2A.json",
           "rel": "canonical",
           "type": "application/json"
          },
          {
           "href": "https://earth-search.aws.element84.com/v0/collections/sentinel-s2-l2a/items/S2B_13SCA_20200401_0_L2A",
           "rel": "derived_from",
           "title": "Source STAC Item",
           "type": "application/json"
          },
          {
           "href": "https://earth-search.aws.element84.com/v0/collections/sentinel-s2-l2a-cogs",
           "rel": "parent"
          },
          {
           "href": "https://earth-search.aws.element84.com/v0/collections/sentinel-s2-l2a-cogs",
           "rel": "collection"
          },
          {
           "href": "https://earth-search.aws.element84.com/v0",
           "rel": "root",
           "title": "Earth Search",
           "type": "application/json"
          }
         ],
         "properties": {
          "constellation": "sentinel-2",
          "created": "2020-09-05T06:24:19.862Z",
          "data_coverage": 100,
          "datetime": "2020-04-01T18:03:54Z",
          "eo:cloud_cover": 28.71,
          "gsd": 10,
          "instruments": [
           "msi"
          ],
          "platform": "sentinel-2b",
          "proj:epsg": 32613,
          "sentinel:data_coverage": 100,
          "sentinel:grid_square": "CA",
          "sentinel:latitude_band": "S",
          "sentinel:product_id": "S2B_MSIL2A_20200401T174909_N0214_R141_T13SCA_20200401T220155",
          "sentinel:sequence": "0",
          "sentinel:utm_zone": 13,
          "sentinel:valid_cloud_cover": true,
          "updated": "2020-09-05T06:24:19.862Z",
          "view:off_nadir": 0
         },
         "properties.sentinel:boa_offset_applied": false,
         "stac_extensions": [
          "eo",
          "view",
          "proj"
         ],
         "stac_version": "1.0.0",
         "type": "Feature"
        },
        {
         "assets": {
          "AOT": {
           "href": "https://sentinel-cogs.s3.us-west-2.amazonaws.com/sentinel-s2-l2a-cogs/13/S/DA/2020/4/S2B_13SDA_20200401_0_L2A/AOT.tif",
           "proj:shape": [
            1830,
            1830
           ],
           "proj:transform": [
            60,
            0,
            399960,
            0,
            -60,
            4100040,
            0,
            0,
            1
           ],
           "title": "Aerosol Optical Thickness (AOT)",
           "type": "image/tiff; application=geotiff; profile=cloud-optimized"
          },
          "B01": {
           "href": "https://sentinel-cogs.s3.us-west-2.amazonaws.com/sentinel-s2-l2a-cogs/13/S/DA/2020/4/S2B_13SDA_20200401_0_L2A/B01.tif",
           "proj:shape": [
            1830,
            1830
           ],
           "proj:transform": [
            60,
            0,
            399960,
            0,
            -60,
            4100040,
            0,
            0,
            1
           ],
           "title": "Band 1 (coastal)",
           "type": "image/tiff; application=geotiff; profile=cloud-optimized"
          },
          "B02": {
           "href": "https://sentinel-cogs.s3.us-west-2.amazonaws.com/sentinel-s2-l2a-cogs/13/S/DA/2020/4/S2B_13SDA_20200401_0_L2A/B02.tif",
           "proj:shape": [
            10980,
            10980
           ],
           "proj:transform": [
            10,
            0,
            399960,
            0,
            -10,
            4100040,
            0,
            0,
            1
           ],
           "title": "Band 2 (blue)",
           "type": "image/tiff; application=geotiff; profile=cloud-optimized"
          },
          "B03": {
           "href": "https://sentinel-cogs.s3.us-west-2.amazonaws.com/sentinel-s2-l2a-cogs/13/S/DA/2020/4/S2B_13SDA_20200401_0_L2A/B03.tif",
           "proj:shape": [
            10980,
            10980
           ],
           "proj:transform": [
            10,
            0,
            399960,
            0,
            -10,
            4100040,
            0,
            0,
            1
           ],
           "title": "Band 3 (green)",
           "type": "image/tiff; application=geotiff; profile=cloud-optimized"
          },
          "B04": {
           "href": "https://sentinel-cogs.s3.us-west-2.amazonaws.com/sentinel-s2-l2a-cogs/13/S/DA/2020/4/S2B_13SDA_20200401_0_L2A/B04.tif",
           "proj:shape": [
            10980,
            10980
           ],
           "proj:transform": [
            10,
            0,
            399960,
            0,
            -10,
            4100040,
            0,
            0,
            1
           ],
           "title": "Band 4 (red)",
           "type": "image/tiff; application=geotiff; profile=cloud-optimized"
          },
          "B05": {
           "href": "https://sentinel-cogs.s3.us-west-2.amazonaws.com/sentinel-s2-l2a-cogs/13/S/DA/2020/4/S2B_13SDA_20200401_0_L2A/B05.tif",
           "proj:shape": [
            5490,
            5490
           ],
           "proj:transform": [
            20,
            0,
            399960,
            0,
            -20,
            4100040,
            0,
            0,
            1
           ],
           "title": "Band 5",
           "type": "image/tiff; application=geotiff; profile=cloud-optimized"
          },
          "B06": {
           "href": "https://sentinel-cogs.s3.us-west-2.amazonaws.com/sentinel-s2-l2a-cogs/13/S/DA/2020/4/S2B_13SDA_20200401_0_L2A/B06.tif",
           "proj:shape": [
            5490,
            5490
           ],
           "proj:transform": [
            20,
            0,
            399960,
            0,
            -20,
            4100040,
            0,
            0,
            1
           ],
           "title": "Band 6",
           "type": "image/tiff; application=geotiff; profile=cloud-optimized"
          },
          "B07": {
           "href": "https://sentinel-cogs.s3.us-west-2.amazonaws.com/sentinel-s2-l2a-cogs/13/S/DA/2020/4/S2B_13SDA_20200401_0_L2A/B07.tif",
           "proj:shape": [
            5490,
            5490
           ],
           "proj:transform": [
            20,
            0,
            399960,
            0,
            -20,
            4100040,
            0,
            0,
            1
           ],
           "title": "Band 7",
           "type": "image/tiff; application=geotiff; profile=cloud-optimized"
          },
          "B08": {
           "href": "https://sentinel-cogs.s3.us-west-2.amazonaws.com/sentinel-s2-l2a-cogs/13/S/DA/2020/4/S2B_13SDA_20200401_0_L2A/B08.tif",
           "proj:shape": [
            10980,
            10980
           ],
           "proj:transform": [
            10,
            0,
            399960,
            0,
            -10,
            4100040,
            0,
            0,
            1
           ],
           "title": "Band 8 (nir)",
           "type": "image/tiff; application=geotiff; profile=cloud-optimized"
          },
          "B09": {
           "href": "https://sentinel-cogs.s3.us-west-2.amazonaws.com/sentinel-s2-l2a-cogs/13/S/DA/2020/4/S2B_13SDA_20200401_0_L2A/B09.tif",
           "proj:shape": [
            1830,
            1830
           ],
           "proj:transform": [
            60,
            0,
            399960,
            0,
            -60,
            4100040,
            0,
            0,
            1
           ],
           "title": "Band 9",
           "type": "image/tiff; application=geotiff; profile=cloud-optimized"
          },
          "B11": {
           "href": "https://sentinel-cogs.s3.us-west-2.amazonaws.com/sentinel-s2-l2a-cogs/13/S/DA/2020/4/S2B_13SDA_20200401_0_L2A/B11.tif",
           "proj:shape": [
            5490,
            5490
           ],
           "proj:transform": [
            20,
            0,
            399960,
            0,
            -20,
            4100040,
            0,
            0,
            1
           ],
           "title": "Band 11 (swir16)",
           "type": "image/tiff; application=geotiff; profile=cloud-optimized"
          },
          "B12": {
           "href": "https://sentinel-cogs.s3.us-west-2.amazonaws.com/sentinel-s2-l2a-cogs/13/S/DA/2020/4/S2B_13SDA_20200401_0_L2A/B12.tif",
           "proj:shape": [
            5490,
            5490
           ],
           "proj:transform": [
            20,
            0,
            399960,
            0,
            -20,
            4100040,
            0,
            0,
            1
           ],
           "title": "Band 12 (swir22)",
           "type": "image/tiff; application=geotiff; profile=cloud-optimized"
          },
          "B8A": {
           "href": "https://sentinel-cogs.s3.us-west-2.amazonaws.com/sentinel-s2-l2a-cogs/13/S/DA/2020/4/S2B_13SDA_20200401_0_L2A/B8A.tif",
           "proj:shape": [
            5490,
            5490
           ],
           "proj:transform": [
            20,
            0,
            399960,
            0,
            -20,
            4100040,
            0,
            0,
            1
           ],
           "title": "Band 8A",
           "type": "image/tiff; application=geotiff; profile=cloud-optimized"
          },
          "SCL": {
           "href": "https://sentinel-cogs.s3.us-west-2.amazonaws.com/sentinel-s2-l2a-cogs/13/S/DA/2020/4/S2B_13SDA_20200401_0_L2A/SCL.tif",
           "proj:shape": [
            5490,
            5490
           ],
           "proj:transform": [
            20,
            0,
            399960,
            0,
            -20,
            4100040,
            0,
            0,
            1
           ],
           "title": "Scene Classification Map (SCL)",
           "type": "image/tiff; application=geotiff; profile=cloud-optimized"
          },
          "WVP": {
           "href": "https://sentinel-cogs.s3.us-west-2.amazonaws.com/sentinel-s2-l2a-cogs/13/S/DA/2020/4/S2B_13SDA_20200401_0_L2A/WVP.tif",
           "proj:shape": [
            10980,
            10980
           ],
           "proj:transform": [
            10,
            0,
            399960,
            0,
            -10,
            4100040,
            0,
            0,
            1
           ],
           "title": "Water Vapour (WVP)",
           "type": "image/tiff; application=geotiff; profile=cloud-optimized"
          },
          "info": {
           "href": "https://roda.sentinel-hub.com/sentinel-s2-l2a/tiles/13/S/DA/2020/4/1/0/tileInfo.json",
           "title": "Original JSON metadata",
           "type": "application/json"
          },
          "metadata": {
           "href": "https://roda.sentinel-hub.com/sentinel-s2-l2a/tiles/13/S/DA/2020/4/1/0/metadata.xml",
           "title": "Original XML metadata",
           "type": "application/xml"
          },
          "overview": {
           "href": "https://sentinel-cogs.s3.us-west-2.amazonaws.com/sentinel-s2-l2a-cogs/13/S/DA/2020/4/S2B_13SDA_20200401_0_L2A/L2A_PVI.tif",
           "proj:shape": [
            343,
            343
           ],
           "proj:transform": [
            320,
            0,
            399960,
            0,
            -320,
            4100040,
            0,
            0,
            1
           ],
           "title": "True color image",
           "type": "image/tiff; application=geotiff; profile=cloud-optimized"
          },
          "thumbnail": {
           "href": "https://roda.sentinel-hub.com/sentinel-s2-l1c/tiles/13/S/DA/2020/4/1/0/preview.jpg",
           "title": "Thumbnail",
           "type": "image/png"
          },
          "visual": {
           "href": "https://sentinel-cogs.s3.us-west-2.amazonaws.com/sentinel-s2-l2a-cogs/13/S/DA/2020/4/S2B_13SDA_20200401_0_L2A/TCI.tif",
           "proj:shape": [
            10980,
            10980
           ],
           "proj:transform": [
            10,
            0,
            399960,
            0,
            -10,
            4100040,
            0,
            0,
            1
           ],
           "title": "True color image",
           "type": "image/tiff; application=geotiff; profile=cloud-optimized"
          }
         },
         "bbox": [
          -106.12492388677381,
          36.05158782950058,
          -105.2407136090396,
          37.04632984838822
         ],
         "collection": "sentinel-s2-l2a-cogs",
         "geometry": {
          "coordinates": [
           [
            [
             -106.11067273828671,
             36.05158782950058
            ],
            [
             -106.12492388677381,
             37.0412408780802
            ],
            [
             -105.2407136090396,
             37.04632984838822
            ],
            [
             -105.46179514905535,
             36.36630430675473
            ],
            [
             -105.54018729311437,
             36.1279690058575
            ],
            [
             -105.56609150580448,
             36.055396421818365
            ],
            [
             -106.11067273828671,
             36.05158782950058
            ]
           ]
          ],
          "type": "Polygon"
         },
         "id": "S2B_13SDA_20200401_0_L2A",
         "links": [
          {
           "href": "https://earth-search.aws.element84.com/v0/collections/sentinel-s2-l2a-cogs/items/S2B_13SDA_20200401_0_L2A",
           "rel": "self"
          },
          {
           "href": "https://sentinel-cogs.s3.us-west-2.amazonaws.com/sentinel-s2-l2a-cogs/13/S/DA/2020/4/S2B_13SDA_20200401_0_L2A/S2B_13SDA_20200401_0_L2A.json",
           "rel": "canonical",
           "type": "application/json"
          },
          {
           "href": "https://earth-search.aws.element84.com/v0/collections/sentinel-s2-l2a/items/S2B_13SDA_20200401_0_L2A",
           "rel": "derived_from",
           "title": "Source STAC Item",
           "type": "application/json"
          },
          {
           "href": "https://earth-search.aws.element84.com/v0/collections/sentinel-s2-l2a-cogs",
           "rel": "parent"
          },
          {
           "href": "https://earth-search.aws.element84.com/v0/collections/sentinel-s2-l2a-cogs",
           "rel": "collection"
          },
          {
           "href": "https://earth-search.aws.element84.com/v0",
           "rel": "root",
           "title": "Earth Search",
           "type": "application/json"
          }
         ],
         "properties": {
          "constellation": "sentinel-2",
          "created": "2020-09-05T12:39:12.865Z",
          "data_coverage": 58.22,
          "datetime": "2020-04-01T18:03:50Z",
          "eo:cloud_cover": 27.36,
          "gsd": 10,
          "instruments": [
           "msi"
          ],
          "platform": "sentinel-2b",
          "proj:epsg": 32613,
          "sentinel:data_coverage": 58.22,
          "sentinel:grid_square": "DA",
          "sentinel:latitude_band": "S",
          "sentinel:product_id": "S2B_MSIL2A_20200401T174909_N0214_R141_T13SDA_20200401T220155",
          "sentinel:sequence": "0",
          "sentinel:utm_zone": 13,
          "sentinel:valid_cloud_cover": true,
          "updated": "2020-09-05T12:39:12.865Z",
          "view:off_nadir": 0
         },
         "properties.sentinel:boa_offset_applied": false,
         "stac_extensions": [
          "eo",
          "view",
          "proj"
         ],
         "stac_version": "1.0.0",
         "type": "Feature"
        }
       ],
       "type": "FeatureCollection"
      },
      "text/plain": [
       "<IPython.display.GeoJSON object>"
      ]
     },
     "metadata": {
      "application/geo+json": {
       "expanded": false,
       "root": "root"
      }
     },
     "output_type": "display_data"
    }
   ],
   "source": [
    "dsp.GeoJSON(stac_items.to_dict())"
   ]
  },
  {
   "cell_type": "markdown",
   "id": "75e2293a-f61a-416f-9b2f-edc096cf5705",
   "metadata": {},
   "source": [
    "## Create the time stack\n",
    "\n",
    "**Important: the resolution you pick here is what the map will use, regardless of zoom level!** When you zoom in/out on the map, the data _won't_ be loaded at lower or higher resolutions. (In the future, we hope to support this.)\n",
    "\n",
    "Beware of zooming out on high-resolution data; you could trigger a massive amount of compute!"
   ]
  },
  {
   "cell_type": "code",
   "execution_count": 7,
   "id": "professional-contractor",
   "metadata": {},
   "outputs": [
    {
     "name": "stdout",
     "output_type": "stream",
     "text": [
      "CPU times: user 21.3 ms, sys: 1.38 ms, total: 22.7 ms\n",
      "Wall time: 21.6 ms\n"
     ]
    }
   ],
   "source": [
    "%time stack = stackstac.stack(stac_items, resolution=80)"
   ]
  },
  {
   "cell_type": "markdown",
   "id": "91e2e104-a084-4311-9d98-92caac62057e",
   "metadata": {},
   "source": [
    "## Persist the data we want to view\n",
    "\n",
    "By [persisting](https://docs.dask.org/en/latest/user-interfaces.html#persist-into-distributed-memory) all the RGB data, Dask will pre-load it and store it in memory, ready to use. That way, we can tweak what we show on the map (different composite operations, scaling, etc.) without having to re-fetch the original data every time. It also means tiles will load much faster as we pan around, since they're already mostly computed.\n",
    "\n",
    "It's generally a good idea to persist somewhere before `stackstac.show`. Typically you'd do this after a reduction step (like a temporal composite), but our data here is small, so it doesn't matter much.\n",
    "\n",
    "As a rule of thumb, try to persist after the biggest, slowest steps of your analysis, but before the steps you might want to tweak (like thresholds, scaling, etc.). If you want to tweak your big slow steps, well... be prepared to wait (and maybe don't persist)."
   ]
  },
  {
   "cell_type": "code",
   "execution_count": 8,
   "id": "0d7070e0-86e0-4fa8-8462-4482439f331e",
   "metadata": {},
   "outputs": [],
   "source": [
    "client.wait_for_workers(22)"
   ]
  },
  {
   "cell_type": "code",
   "execution_count": 9,
   "id": "94ec50ab-1cf2-4dca-8a92-93f1fad65cfe",
   "metadata": {},
   "outputs": [
    {
     "data": {
      "text/html": [
       "<div><svg style=\"position: absolute; width: 0; height: 0; overflow: hidden\">\n",
       "<defs>\n",
       "<symbol id=\"icon-database\" viewBox=\"0 0 32 32\">\n",
       "<path d=\"M16 0c-8.837 0-16 2.239-16 5v4c0 2.761 7.163 5 16 5s16-2.239 16-5v-4c0-2.761-7.163-5-16-5z\"></path>\n",
       "<path d=\"M16 17c-8.837 0-16-2.239-16-5v6c0 2.761 7.163 5 16 5s16-2.239 16-5v-6c0 2.761-7.163 5-16 5z\"></path>\n",
       "<path d=\"M16 26c-8.837 0-16-2.239-16-5v6c0 2.761 7.163 5 16 5s16-2.239 16-5v-6c0 2.761-7.163 5-16 5z\"></path>\n",
       "</symbol>\n",
       "<symbol id=\"icon-file-text2\" viewBox=\"0 0 32 32\">\n",
       "<path d=\"M28.681 7.159c-0.694-0.947-1.662-2.053-2.724-3.116s-2.169-2.030-3.116-2.724c-1.612-1.182-2.393-1.319-2.841-1.319h-15.5c-1.378 0-2.5 1.121-2.5 2.5v27c0 1.378 1.122 2.5 2.5 2.5h23c1.378 0 2.5-1.122 2.5-2.5v-19.5c0-0.448-0.137-1.23-1.319-2.841zM24.543 5.457c0.959 0.959 1.712 1.825 2.268 2.543h-4.811v-4.811c0.718 0.556 1.584 1.309 2.543 2.268zM28 29.5c0 0.271-0.229 0.5-0.5 0.5h-23c-0.271 0-0.5-0.229-0.5-0.5v-27c0-0.271 0.229-0.5 0.5-0.5 0 0 15.499-0 15.5 0v7c0 0.552 0.448 1 1 1h7v19.5z\"></path>\n",
       "<path d=\"M23 26h-14c-0.552 0-1-0.448-1-1s0.448-1 1-1h14c0.552 0 1 0.448 1 1s-0.448 1-1 1z\"></path>\n",
       "<path d=\"M23 22h-14c-0.552 0-1-0.448-1-1s0.448-1 1-1h14c0.552 0 1 0.448 1 1s-0.448 1-1 1z\"></path>\n",
       "<path d=\"M23 18h-14c-0.552 0-1-0.448-1-1s0.448-1 1-1h14c0.552 0 1 0.448 1 1s-0.448 1-1 1z\"></path>\n",
       "</symbol>\n",
       "</defs>\n",
       "</svg>\n",
       "<style>/* CSS stylesheet for displaying xarray objects in jupyterlab.\n",
       " *\n",
       " */\n",
       "\n",
       ":root {\n",
       "  --xr-font-color0: var(--jp-content-font-color0, rgba(0, 0, 0, 1));\n",
       "  --xr-font-color2: var(--jp-content-font-color2, rgba(0, 0, 0, 0.54));\n",
       "  --xr-font-color3: var(--jp-content-font-color3, rgba(0, 0, 0, 0.38));\n",
       "  --xr-border-color: var(--jp-border-color2, #e0e0e0);\n",
       "  --xr-disabled-color: var(--jp-layout-color3, #bdbdbd);\n",
       "  --xr-background-color: var(--jp-layout-color0, white);\n",
       "  --xr-background-color-row-even: var(--jp-layout-color1, white);\n",
       "  --xr-background-color-row-odd: var(--jp-layout-color2, #eeeeee);\n",
       "}\n",
       "\n",
       "html[theme=dark],\n",
       "body.vscode-dark {\n",
       "  --xr-font-color0: rgba(255, 255, 255, 1);\n",
       "  --xr-font-color2: rgba(255, 255, 255, 0.54);\n",
       "  --xr-font-color3: rgba(255, 255, 255, 0.38);\n",
       "  --xr-border-color: #1F1F1F;\n",
       "  --xr-disabled-color: #515151;\n",
       "  --xr-background-color: #111111;\n",
       "  --xr-background-color-row-even: #111111;\n",
       "  --xr-background-color-row-odd: #313131;\n",
       "}\n",
       "\n",
       ".xr-wrap {\n",
       "  display: block !important;\n",
       "  min-width: 300px;\n",
       "  max-width: 700px;\n",
       "}\n",
       "\n",
       ".xr-text-repr-fallback {\n",
       "  /* fallback to plain text repr when CSS is not injected (untrusted notebook) */\n",
       "  display: none;\n",
       "}\n",
       "\n",
       ".xr-header {\n",
       "  padding-top: 6px;\n",
       "  padding-bottom: 6px;\n",
       "  margin-bottom: 4px;\n",
       "  border-bottom: solid 1px var(--xr-border-color);\n",
       "}\n",
       "\n",
       ".xr-header > div,\n",
       ".xr-header > ul {\n",
       "  display: inline;\n",
       "  margin-top: 0;\n",
       "  margin-bottom: 0;\n",
       "}\n",
       "\n",
       ".xr-obj-type,\n",
       ".xr-array-name {\n",
       "  margin-left: 2px;\n",
       "  margin-right: 10px;\n",
       "}\n",
       "\n",
       ".xr-obj-type {\n",
       "  color: var(--xr-font-color2);\n",
       "}\n",
       "\n",
       ".xr-sections {\n",
       "  padding-left: 0 !important;\n",
       "  display: grid;\n",
       "  grid-template-columns: 150px auto auto 1fr 20px 20px;\n",
       "}\n",
       "\n",
       ".xr-section-item {\n",
       "  display: contents;\n",
       "}\n",
       "\n",
       ".xr-section-item input {\n",
       "  display: none;\n",
       "}\n",
       "\n",
       ".xr-section-item input + label {\n",
       "  color: var(--xr-disabled-color);\n",
       "}\n",
       "\n",
       ".xr-section-item input:enabled + label {\n",
       "  cursor: pointer;\n",
       "  color: var(--xr-font-color2);\n",
       "}\n",
       "\n",
       ".xr-section-item input:enabled + label:hover {\n",
       "  color: var(--xr-font-color0);\n",
       "}\n",
       "\n",
       ".xr-section-summary {\n",
       "  grid-column: 1;\n",
       "  color: var(--xr-font-color2);\n",
       "  font-weight: 500;\n",
       "}\n",
       "\n",
       ".xr-section-summary > span {\n",
       "  display: inline-block;\n",
       "  padding-left: 0.5em;\n",
       "}\n",
       "\n",
       ".xr-section-summary-in:disabled + label {\n",
       "  color: var(--xr-font-color2);\n",
       "}\n",
       "\n",
       ".xr-section-summary-in + label:before {\n",
       "  display: inline-block;\n",
       "  content: '►';\n",
       "  font-size: 11px;\n",
       "  width: 15px;\n",
       "  text-align: center;\n",
       "}\n",
       "\n",
       ".xr-section-summary-in:disabled + label:before {\n",
       "  color: var(--xr-disabled-color);\n",
       "}\n",
       "\n",
       ".xr-section-summary-in:checked + label:before {\n",
       "  content: '▼';\n",
       "}\n",
       "\n",
       ".xr-section-summary-in:checked + label > span {\n",
       "  display: none;\n",
       "}\n",
       "\n",
       ".xr-section-summary,\n",
       ".xr-section-inline-details {\n",
       "  padding-top: 4px;\n",
       "  padding-bottom: 4px;\n",
       "}\n",
       "\n",
       ".xr-section-inline-details {\n",
       "  grid-column: 2 / -1;\n",
       "}\n",
       "\n",
       ".xr-section-details {\n",
       "  display: none;\n",
       "  grid-column: 1 / -1;\n",
       "  margin-bottom: 5px;\n",
       "}\n",
       "\n",
       ".xr-section-summary-in:checked ~ .xr-section-details {\n",
       "  display: contents;\n",
       "}\n",
       "\n",
       ".xr-array-wrap {\n",
       "  grid-column: 1 / -1;\n",
       "  display: grid;\n",
       "  grid-template-columns: 20px auto;\n",
       "}\n",
       "\n",
       ".xr-array-wrap > label {\n",
       "  grid-column: 1;\n",
       "  vertical-align: top;\n",
       "}\n",
       "\n",
       ".xr-preview {\n",
       "  color: var(--xr-font-color3);\n",
       "}\n",
       "\n",
       ".xr-array-preview,\n",
       ".xr-array-data {\n",
       "  padding: 0 5px !important;\n",
       "  grid-column: 2;\n",
       "}\n",
       "\n",
       ".xr-array-data,\n",
       ".xr-array-in:checked ~ .xr-array-preview {\n",
       "  display: none;\n",
       "}\n",
       "\n",
       ".xr-array-in:checked ~ .xr-array-data,\n",
       ".xr-array-preview {\n",
       "  display: inline-block;\n",
       "}\n",
       "\n",
       ".xr-dim-list {\n",
       "  display: inline-block !important;\n",
       "  list-style: none;\n",
       "  padding: 0 !important;\n",
       "  margin: 0;\n",
       "}\n",
       "\n",
       ".xr-dim-list li {\n",
       "  display: inline-block;\n",
       "  padding: 0;\n",
       "  margin: 0;\n",
       "}\n",
       "\n",
       ".xr-dim-list:before {\n",
       "  content: '(';\n",
       "}\n",
       "\n",
       ".xr-dim-list:after {\n",
       "  content: ')';\n",
       "}\n",
       "\n",
       ".xr-dim-list li:not(:last-child):after {\n",
       "  content: ',';\n",
       "  padding-right: 5px;\n",
       "}\n",
       "\n",
       ".xr-has-index {\n",
       "  font-weight: bold;\n",
       "}\n",
       "\n",
       ".xr-var-list,\n",
       ".xr-var-item {\n",
       "  display: contents;\n",
       "}\n",
       "\n",
       ".xr-var-item > div,\n",
       ".xr-var-item label,\n",
       ".xr-var-item > .xr-var-name span {\n",
       "  background-color: var(--xr-background-color-row-even);\n",
       "  margin-bottom: 0;\n",
       "}\n",
       "\n",
       ".xr-var-item > .xr-var-name:hover span {\n",
       "  padding-right: 5px;\n",
       "}\n",
       "\n",
       ".xr-var-list > li:nth-child(odd) > div,\n",
       ".xr-var-list > li:nth-child(odd) > label,\n",
       ".xr-var-list > li:nth-child(odd) > .xr-var-name span {\n",
       "  background-color: var(--xr-background-color-row-odd);\n",
       "}\n",
       "\n",
       ".xr-var-name {\n",
       "  grid-column: 1;\n",
       "}\n",
       "\n",
       ".xr-var-dims {\n",
       "  grid-column: 2;\n",
       "}\n",
       "\n",
       ".xr-var-dtype {\n",
       "  grid-column: 3;\n",
       "  text-align: right;\n",
       "  color: var(--xr-font-color2);\n",
       "}\n",
       "\n",
       ".xr-var-preview {\n",
       "  grid-column: 4;\n",
       "}\n",
       "\n",
       ".xr-var-name,\n",
       ".xr-var-dims,\n",
       ".xr-var-dtype,\n",
       ".xr-preview,\n",
       ".xr-attrs dt {\n",
       "  white-space: nowrap;\n",
       "  overflow: hidden;\n",
       "  text-overflow: ellipsis;\n",
       "  padding-right: 10px;\n",
       "}\n",
       "\n",
       ".xr-var-name:hover,\n",
       ".xr-var-dims:hover,\n",
       ".xr-var-dtype:hover,\n",
       ".xr-attrs dt:hover {\n",
       "  overflow: visible;\n",
       "  width: auto;\n",
       "  z-index: 1;\n",
       "}\n",
       "\n",
       ".xr-var-attrs,\n",
       ".xr-var-data {\n",
       "  display: none;\n",
       "  background-color: var(--xr-background-color) !important;\n",
       "  padding-bottom: 5px !important;\n",
       "}\n",
       "\n",
       ".xr-var-attrs-in:checked ~ .xr-var-attrs,\n",
       ".xr-var-data-in:checked ~ .xr-var-data {\n",
       "  display: block;\n",
       "}\n",
       "\n",
       ".xr-var-data > table {\n",
       "  float: right;\n",
       "}\n",
       "\n",
       ".xr-var-name span,\n",
       ".xr-var-data,\n",
       ".xr-attrs {\n",
       "  padding-left: 25px !important;\n",
       "}\n",
       "\n",
       ".xr-attrs,\n",
       ".xr-var-attrs,\n",
       ".xr-var-data {\n",
       "  grid-column: 1 / -1;\n",
       "}\n",
       "\n",
       "dl.xr-attrs {\n",
       "  padding: 0;\n",
       "  margin: 0;\n",
       "  display: grid;\n",
       "  grid-template-columns: 125px auto;\n",
       "}\n",
       "\n",
       ".xr-attrs dt,\n",
       ".xr-attrs dd {\n",
       "  padding: 0;\n",
       "  margin: 0;\n",
       "  float: left;\n",
       "  padding-right: 10px;\n",
       "  width: auto;\n",
       "}\n",
       "\n",
       ".xr-attrs dt {\n",
       "  font-weight: normal;\n",
       "  grid-column: 1;\n",
       "}\n",
       "\n",
       ".xr-attrs dt:hover span {\n",
       "  display: inline-block;\n",
       "  background: var(--xr-background-color);\n",
       "  padding-right: 10px;\n",
       "}\n",
       "\n",
       ".xr-attrs dd {\n",
       "  grid-column: 2;\n",
       "  white-space: pre-wrap;\n",
       "  word-break: break-all;\n",
       "}\n",
       "\n",
       ".xr-icon-database,\n",
       ".xr-icon-file-text2 {\n",
       "  display: inline-block;\n",
       "  vertical-align: middle;\n",
       "  width: 1em;\n",
       "  height: 1.5em !important;\n",
       "  stroke-width: 0;\n",
       "  stroke: currentColor;\n",
       "  fill: currentColor;\n",
       "}\n",
       "</style><pre class='xr-text-repr-fallback'>&lt;xarray.DataArray &#x27;stackstac-fdd78299750662e62a074264b1a026cd&#x27; (time: 30,\n",
       "                                                                band: 3,\n",
       "                                                                y: 2624, x: 3873)&gt;\n",
       "dask.array&lt;getitem, shape=(30, 3, 2624, 3873), dtype=float64, chunksize=(1, 1, 1024, 1024), chunktype=numpy.ndarray&gt;\n",
       "Coordinates: (12/24)\n",
       "  * time                        (time) datetime64[ns] 2020-04-01T18:03:50 ......\n",
       "    id                          (time) &lt;U24 &#x27;S2B_13SDA_20200401_0_L2A&#x27; ... &#x27;S...\n",
       "  * band                        (band) &lt;U8 &#x27;B04&#x27; &#x27;B03&#x27; &#x27;B02&#x27;\n",
       "  * x                           (x) float64 3e+05 3.001e+05 ... 6.098e+05\n",
       "  * y                           (y) float64 4.1e+06 4.1e+06 ... 3.89e+06\n",
       "    view:off_nadir              int64 0\n",
       "    ...                          ...\n",
       "    constellation               &lt;U10 &#x27;sentinel-2&#x27;\n",
       "    instruments                 &lt;U3 &#x27;msi&#x27;\n",
       "    sentinel:sequence           &lt;U1 &#x27;0&#x27;\n",
       "    created                     (time) &lt;U24 &#x27;2020-09-05T12:39:12.865Z&#x27; ... &#x27;2...\n",
       "    title                       (band) &lt;U31 &#x27;Band 4 (red)&#x27; ... &#x27;Band 2 (blue)&#x27;\n",
       "    epsg                        int64 32613\n",
       "Attributes:\n",
       "    spec:        RasterSpec(epsg=32613, bounds=(300000, 3890160, 609840, 4100...\n",
       "    crs:         epsg:32613\n",
       "    transform:   | 80.00, 0.00, 300000.00|\\n| 0.00,-80.00, 4100080.00|\\n| 0.0...\n",
       "    resolution:  80</pre><div class='xr-wrap' style='display:none'><div class='xr-header'><div class='xr-obj-type'>xarray.DataArray</div><div class='xr-array-name'>'stackstac-fdd78299750662e62a074264b1a026cd'</div><ul class='xr-dim-list'><li><span class='xr-has-index'>time</span>: 30</li><li><span class='xr-has-index'>band</span>: 3</li><li><span class='xr-has-index'>y</span>: 2624</li><li><span class='xr-has-index'>x</span>: 3873</li></ul></div><ul class='xr-sections'><li class='xr-section-item'><div class='xr-array-wrap'><input id='section-9e24600b-d95e-4a61-82c1-3cbad3795b8a' class='xr-array-in' type='checkbox' checked><label for='section-9e24600b-d95e-4a61-82c1-3cbad3795b8a' title='Show/hide data repr'><svg class='icon xr-icon-database'><use xlink:href='#icon-database'></use></svg></label><div class='xr-array-preview xr-preview'><span>dask.array&lt;chunksize=(1, 1, 1024, 1024), meta=np.ndarray&gt;</span></div><div class='xr-array-data'><table>\n",
       "    <tr>\n",
       "        <td>\n",
       "            <table>\n",
       "                <thead>\n",
       "                    <tr>\n",
       "                        <td> </td>\n",
       "                        <th> Array </th>\n",
       "                        <th> Chunk </th>\n",
       "                    </tr>\n",
       "                </thead>\n",
       "                <tbody>\n",
       "                    \n",
       "                    <tr>\n",
       "                        <th> Bytes </th>\n",
       "                        <td> 6.81 GiB </td>\n",
       "                        <td> 8.00 MiB </td>\n",
       "                    </tr>\n",
       "                    \n",
       "                    <tr>\n",
       "                        <th> Shape </th>\n",
       "                        <td> (30, 3, 2624, 3873) </td>\n",
       "                        <td> (1, 1, 1024, 1024) </td>\n",
       "                    </tr>\n",
       "                    <tr>\n",
       "                        <th> Count </th>\n",
       "                        <td> 1080 Tasks </td>\n",
       "                        <td> 1080 Chunks </td>\n",
       "                    </tr>\n",
       "                    <tr>\n",
       "                    <th> Type </th>\n",
       "                    <td> float64 </td>\n",
       "                    <td> numpy.ndarray </td>\n",
       "                    </tr>\n",
       "                </tbody>\n",
       "            </table>\n",
       "        </td>\n",
       "        <td>\n",
       "        <svg width=\"374\" height=\"146\" style=\"stroke:rgb(0,0,0);stroke-width:1\" >\n",
       "\n",
       "  <!-- Horizontal lines -->\n",
       "  <line x1=\"0\" y1=\"0\" x2=\"25\" y2=\"0\" style=\"stroke-width:2\" />\n",
       "  <line x1=\"0\" y1=\"25\" x2=\"25\" y2=\"25\" style=\"stroke-width:2\" />\n",
       "\n",
       "  <!-- Vertical lines -->\n",
       "  <line x1=\"0\" y1=\"0\" x2=\"0\" y2=\"25\" style=\"stroke-width:2\" />\n",
       "  <line x1=\"0\" y1=\"0\" x2=\"0\" y2=\"25\" />\n",
       "  <line x1=\"1\" y1=\"0\" x2=\"1\" y2=\"25\" />\n",
       "  <line x1=\"2\" y1=\"0\" x2=\"2\" y2=\"25\" />\n",
       "  <line x1=\"3\" y1=\"0\" x2=\"3\" y2=\"25\" />\n",
       "  <line x1=\"4\" y1=\"0\" x2=\"4\" y2=\"25\" />\n",
       "  <line x1=\"5\" y1=\"0\" x2=\"5\" y2=\"25\" />\n",
       "  <line x1=\"5\" y1=\"0\" x2=\"5\" y2=\"25\" />\n",
       "  <line x1=\"6\" y1=\"0\" x2=\"6\" y2=\"25\" />\n",
       "  <line x1=\"7\" y1=\"0\" x2=\"7\" y2=\"25\" />\n",
       "  <line x1=\"8\" y1=\"0\" x2=\"8\" y2=\"25\" />\n",
       "  <line x1=\"9\" y1=\"0\" x2=\"9\" y2=\"25\" />\n",
       "  <line x1=\"10\" y1=\"0\" x2=\"10\" y2=\"25\" />\n",
       "  <line x1=\"11\" y1=\"0\" x2=\"11\" y2=\"25\" />\n",
       "  <line x1=\"11\" y1=\"0\" x2=\"11\" y2=\"25\" />\n",
       "  <line x1=\"12\" y1=\"0\" x2=\"12\" y2=\"25\" />\n",
       "  <line x1=\"13\" y1=\"0\" x2=\"13\" y2=\"25\" />\n",
       "  <line x1=\"14\" y1=\"0\" x2=\"14\" y2=\"25\" />\n",
       "  <line x1=\"15\" y1=\"0\" x2=\"15\" y2=\"25\" />\n",
       "  <line x1=\"16\" y1=\"0\" x2=\"16\" y2=\"25\" />\n",
       "  <line x1=\"16\" y1=\"0\" x2=\"16\" y2=\"25\" />\n",
       "  <line x1=\"17\" y1=\"0\" x2=\"17\" y2=\"25\" />\n",
       "  <line x1=\"18\" y1=\"0\" x2=\"18\" y2=\"25\" />\n",
       "  <line x1=\"19\" y1=\"0\" x2=\"19\" y2=\"25\" />\n",
       "  <line x1=\"20\" y1=\"0\" x2=\"20\" y2=\"25\" />\n",
       "  <line x1=\"21\" y1=\"0\" x2=\"21\" y2=\"25\" />\n",
       "  <line x1=\"22\" y1=\"0\" x2=\"22\" y2=\"25\" />\n",
       "  <line x1=\"22\" y1=\"0\" x2=\"22\" y2=\"25\" />\n",
       "  <line x1=\"23\" y1=\"0\" x2=\"23\" y2=\"25\" />\n",
       "  <line x1=\"24\" y1=\"0\" x2=\"24\" y2=\"25\" />\n",
       "  <line x1=\"25\" y1=\"0\" x2=\"25\" y2=\"25\" style=\"stroke-width:2\" />\n",
       "\n",
       "  <!-- Colored Rectangle -->\n",
       "  <polygon points=\"0.0,0.0 25.412616514582485,0.0 25.412616514582485,25.412616514582485 0.0,25.412616514582485\" style=\"fill:#ECB172A0;stroke-width:0\"/>\n",
       "\n",
       "  <!-- Text -->\n",
       "  <text x=\"12.706308\" y=\"45.412617\" font-size=\"1.0rem\" font-weight=\"100\" text-anchor=\"middle\" >30</text>\n",
       "  <text x=\"45.412617\" y=\"12.706308\" font-size=\"1.0rem\" font-weight=\"100\" text-anchor=\"middle\" transform=\"rotate(0,45.412617,12.706308)\">1</text>\n",
       "\n",
       "\n",
       "  <!-- Horizontal lines -->\n",
       "  <line x1=\"95\" y1=\"0\" x2=\"109\" y2=\"14\" style=\"stroke-width:2\" />\n",
       "  <line x1=\"95\" y1=\"31\" x2=\"109\" y2=\"46\" />\n",
       "  <line x1=\"95\" y1=\"63\" x2=\"109\" y2=\"78\" />\n",
       "  <line x1=\"95\" y1=\"81\" x2=\"109\" y2=\"96\" style=\"stroke-width:2\" />\n",
       "\n",
       "  <!-- Vertical lines -->\n",
       "  <line x1=\"95\" y1=\"0\" x2=\"95\" y2=\"81\" style=\"stroke-width:2\" />\n",
       "  <line x1=\"99\" y1=\"4\" x2=\"99\" y2=\"86\" />\n",
       "  <line x1=\"104\" y1=\"9\" x2=\"104\" y2=\"91\" />\n",
       "  <line x1=\"109\" y1=\"14\" x2=\"109\" y2=\"96\" style=\"stroke-width:2\" />\n",
       "\n",
       "  <!-- Colored Rectangle -->\n",
       "  <polygon points=\"95.0,0.0 109.9485979497544,14.948597949754403 109.9485979497544,96.24991475842984 95.0,81.30131680867544\" style=\"fill:#ECB172A0;stroke-width:0\"/>\n",
       "\n",
       "  <!-- Horizontal lines -->\n",
       "  <line x1=\"95\" y1=\"0\" x2=\"215\" y2=\"0\" style=\"stroke-width:2\" />\n",
       "  <line x1=\"99\" y1=\"4\" x2=\"219\" y2=\"4\" />\n",
       "  <line x1=\"104\" y1=\"9\" x2=\"224\" y2=\"9\" />\n",
       "  <line x1=\"109\" y1=\"14\" x2=\"229\" y2=\"14\" style=\"stroke-width:2\" />\n",
       "\n",
       "  <!-- Vertical lines -->\n",
       "  <line x1=\"95\" y1=\"0\" x2=\"109\" y2=\"14\" style=\"stroke-width:2\" />\n",
       "  <line x1=\"126\" y1=\"0\" x2=\"141\" y2=\"14\" />\n",
       "  <line x1=\"158\" y1=\"0\" x2=\"173\" y2=\"14\" />\n",
       "  <line x1=\"190\" y1=\"0\" x2=\"205\" y2=\"14\" />\n",
       "  <line x1=\"215\" y1=\"0\" x2=\"229\" y2=\"14\" style=\"stroke-width:2\" />\n",
       "\n",
       "  <!-- Colored Rectangle -->\n",
       "  <polygon points=\"95.0,0.0 215.0,0.0 229.9485979497544,14.948597949754403 109.9485979497544,14.948597949754403\" style=\"fill:#ECB172A0;stroke-width:0\"/>\n",
       "\n",
       "  <!-- Horizontal lines -->\n",
       "  <line x1=\"109\" y1=\"14\" x2=\"229\" y2=\"14\" style=\"stroke-width:2\" />\n",
       "  <line x1=\"109\" y1=\"46\" x2=\"229\" y2=\"46\" />\n",
       "  <line x1=\"109\" y1=\"78\" x2=\"229\" y2=\"78\" />\n",
       "  <line x1=\"109\" y1=\"96\" x2=\"229\" y2=\"96\" style=\"stroke-width:2\" />\n",
       "\n",
       "  <!-- Vertical lines -->\n",
       "  <line x1=\"109\" y1=\"14\" x2=\"109\" y2=\"96\" style=\"stroke-width:2\" />\n",
       "  <line x1=\"141\" y1=\"14\" x2=\"141\" y2=\"96\" />\n",
       "  <line x1=\"173\" y1=\"14\" x2=\"173\" y2=\"96\" />\n",
       "  <line x1=\"205\" y1=\"14\" x2=\"205\" y2=\"96\" />\n",
       "  <line x1=\"229\" y1=\"14\" x2=\"229\" y2=\"96\" style=\"stroke-width:2\" />\n",
       "\n",
       "  <!-- Colored Rectangle -->\n",
       "  <polygon points=\"109.9485979497544,14.948597949754403 229.9485979497544,14.948597949754403 229.9485979497544,96.24991475842984 109.9485979497544,96.24991475842984\" style=\"fill:#ECB172A0;stroke-width:0\"/>\n",
       "\n",
       "  <!-- Text -->\n",
       "  <text x=\"169.948598\" y=\"116.249915\" font-size=\"1.0rem\" font-weight=\"100\" text-anchor=\"middle\" >3873</text>\n",
       "  <text x=\"249.948598\" y=\"55.599256\" font-size=\"1.0rem\" font-weight=\"100\" text-anchor=\"middle\" transform=\"rotate(-90,249.948598,55.599256)\">2624</text>\n",
       "  <text x=\"92.474299\" y=\"108.775616\" font-size=\"1.0rem\" font-weight=\"100\" text-anchor=\"middle\" transform=\"rotate(45,92.474299,108.775616)\">3</text>\n",
       "</svg>\n",
       "        </td>\n",
       "    </tr>\n",
       "</table></div></div></li><li class='xr-section-item'><input id='section-3cc3cfe9-396f-4e87-84fc-99c7f388f6cc' class='xr-section-summary-in' type='checkbox'  checked><label for='section-3cc3cfe9-396f-4e87-84fc-99c7f388f6cc' class='xr-section-summary' >Coordinates: <span>(24)</span></label><div class='xr-section-inline-details'></div><div class='xr-section-details'><ul class='xr-var-list'><li class='xr-var-item'><div class='xr-var-name'><span class='xr-has-index'>time</span></div><div class='xr-var-dims'>(time)</div><div class='xr-var-dtype'>datetime64[ns]</div><div class='xr-var-preview xr-preview'>2020-04-01T18:03:50 ... 2020-04-...</div><input id='attrs-ec3a1c96-9eac-4921-82e4-256784ea6ce6' class='xr-var-attrs-in' type='checkbox' disabled><label for='attrs-ec3a1c96-9eac-4921-82e4-256784ea6ce6' title='Show/Hide attributes'><svg class='icon xr-icon-file-text2'><use xlink:href='#icon-file-text2'></use></svg></label><input id='data-026703ee-53e2-481b-a1f0-d6d37d4ad53e' class='xr-var-data-in' type='checkbox'><label for='data-026703ee-53e2-481b-a1f0-d6d37d4ad53e' title='Show/Hide data repr'><svg class='icon xr-icon-database'><use xlink:href='#icon-database'></use></svg></label><div class='xr-var-attrs'><dl class='xr-attrs'></dl></div><div class='xr-var-data'><pre>array([&#x27;2020-04-01T18:03:50.000000000&#x27;, &#x27;2020-04-01T18:03:54.000000000&#x27;,\n",
       "       &#x27;2020-04-01T18:04:04.000000000&#x27;, &#x27;2020-04-01T18:04:08.000000000&#x27;,\n",
       "       &#x27;2020-04-03T17:53:49.000000000&#x27;, &#x27;2020-04-03T17:53:53.000000000&#x27;,\n",
       "       &#x27;2020-04-03T17:53:57.000000000&#x27;, &#x27;2020-04-03T17:54:04.000000000&#x27;,\n",
       "       &#x27;2020-04-03T17:54:07.000000000&#x27;, &#x27;2020-04-03T17:54:10.000000000&#x27;,\n",
       "       &#x27;2020-04-06T18:03:49.000000000&#x27;, &#x27;2020-04-06T18:03:53.000000000&#x27;,\n",
       "       &#x27;2020-04-06T18:04:04.000000000&#x27;, &#x27;2020-04-06T18:04:08.000000000&#x27;,\n",
       "       &#x27;2020-04-08T17:53:50.000000000&#x27;, &#x27;2020-04-08T17:53:53.000000000&#x27;,\n",
       "       &#x27;2020-04-08T17:53:57.000000000&#x27;, &#x27;2020-04-08T17:54:04.000000000&#x27;,\n",
       "       &#x27;2020-04-08T17:54:08.000000000&#x27;, &#x27;2020-04-08T17:54:11.000000000&#x27;,\n",
       "       &#x27;2020-04-11T18:03:49.000000000&#x27;, &#x27;2020-04-11T18:03:53.000000000&#x27;,\n",
       "       &#x27;2020-04-11T18:04:03.000000000&#x27;, &#x27;2020-04-11T18:04:07.000000000&#x27;,\n",
       "       &#x27;2020-04-13T17:53:52.000000000&#x27;, &#x27;2020-04-13T17:53:56.000000000&#x27;,\n",
       "       &#x27;2020-04-13T17:54:00.000000000&#x27;, &#x27;2020-04-13T17:54:07.000000000&#x27;,\n",
       "       &#x27;2020-04-13T17:54:10.000000000&#x27;, &#x27;2020-04-13T17:54:13.000000000&#x27;],\n",
       "      dtype=&#x27;datetime64[ns]&#x27;)</pre></div></li><li class='xr-var-item'><div class='xr-var-name'><span>id</span></div><div class='xr-var-dims'>(time)</div><div class='xr-var-dtype'>&lt;U24</div><div class='xr-var-preview xr-preview'>&#x27;S2B_13SDA_20200401_0_L2A&#x27; ... &#x27;...</div><input id='attrs-fd3bcda0-7e4f-4104-87d7-badd52ad37e7' class='xr-var-attrs-in' type='checkbox' disabled><label for='attrs-fd3bcda0-7e4f-4104-87d7-badd52ad37e7' title='Show/Hide attributes'><svg class='icon xr-icon-file-text2'><use xlink:href='#icon-file-text2'></use></svg></label><input id='data-67cff0a2-2578-428f-9f67-b5e037276a08' class='xr-var-data-in' type='checkbox'><label for='data-67cff0a2-2578-428f-9f67-b5e037276a08' title='Show/Hide data repr'><svg class='icon xr-icon-database'><use xlink:href='#icon-database'></use></svg></label><div class='xr-var-attrs'><dl class='xr-attrs'></dl></div><div class='xr-var-data'><pre>array([&#x27;S2B_13SDA_20200401_0_L2A&#x27;, &#x27;S2B_13SCA_20200401_0_L2A&#x27;,\n",
       "       &#x27;S2B_13SDV_20200401_0_L2A&#x27;, &#x27;S2B_13SCV_20200401_0_L2A&#x27;,\n",
       "       &#x27;S2A_13SEA_20200403_0_L2A&#x27;, &#x27;S2A_13SDA_20200403_0_L2A&#x27;,\n",
       "       &#x27;S2A_13SCA_20200403_0_L2A&#x27;, &#x27;S2A_13SEV_20200403_0_L2A&#x27;,\n",
       "       &#x27;S2A_13SDV_20200403_0_L2A&#x27;, &#x27;S2A_13SCV_20200403_0_L2A&#x27;,\n",
       "       &#x27;S2A_13SDA_20200406_0_L2A&#x27;, &#x27;S2A_13SCA_20200406_0_L2A&#x27;,\n",
       "       &#x27;S2A_13SDV_20200406_0_L2A&#x27;, &#x27;S2A_13SCV_20200406_0_L2A&#x27;,\n",
       "       &#x27;S2B_13SEA_20200408_0_L2A&#x27;, &#x27;S2B_13SDA_20200408_0_L2A&#x27;,\n",
       "       &#x27;S2B_13SCA_20200408_0_L2A&#x27;, &#x27;S2B_13SEV_20200408_0_L2A&#x27;,\n",
       "       &#x27;S2B_13SDV_20200408_0_L2A&#x27;, &#x27;S2B_13SCV_20200408_0_L2A&#x27;,\n",
       "       &#x27;S2B_13SDA_20200411_0_L2A&#x27;, &#x27;S2B_13SCA_20200411_0_L2A&#x27;,\n",
       "       &#x27;S2B_13SDV_20200411_0_L2A&#x27;, &#x27;S2B_13SCV_20200411_0_L2A&#x27;,\n",
       "       &#x27;S2A_13SEA_20200413_0_L2A&#x27;, &#x27;S2A_13SDA_20200413_0_L2A&#x27;,\n",
       "       &#x27;S2A_13SCA_20200413_0_L2A&#x27;, &#x27;S2A_13SEV_20200413_0_L2A&#x27;,\n",
       "       &#x27;S2A_13SDV_20200413_0_L2A&#x27;, &#x27;S2A_13SCV_20200413_0_L2A&#x27;],\n",
       "      dtype=&#x27;&lt;U24&#x27;)</pre></div></li><li class='xr-var-item'><div class='xr-var-name'><span class='xr-has-index'>band</span></div><div class='xr-var-dims'>(band)</div><div class='xr-var-dtype'>&lt;U8</div><div class='xr-var-preview xr-preview'>&#x27;B04&#x27; &#x27;B03&#x27; &#x27;B02&#x27;</div><input id='attrs-afb82b62-a622-4723-8676-0763717172fa' class='xr-var-attrs-in' type='checkbox' disabled><label for='attrs-afb82b62-a622-4723-8676-0763717172fa' title='Show/Hide attributes'><svg class='icon xr-icon-file-text2'><use xlink:href='#icon-file-text2'></use></svg></label><input id='data-b4c69840-0d5a-4a25-8eb1-d333f39fa088' class='xr-var-data-in' type='checkbox'><label for='data-b4c69840-0d5a-4a25-8eb1-d333f39fa088' title='Show/Hide data repr'><svg class='icon xr-icon-database'><use xlink:href='#icon-database'></use></svg></label><div class='xr-var-attrs'><dl class='xr-attrs'></dl></div><div class='xr-var-data'><pre>array([&#x27;B04&#x27;, &#x27;B03&#x27;, &#x27;B02&#x27;], dtype=&#x27;&lt;U8&#x27;)</pre></div></li><li class='xr-var-item'><div class='xr-var-name'><span class='xr-has-index'>x</span></div><div class='xr-var-dims'>(x)</div><div class='xr-var-dtype'>float64</div><div class='xr-var-preview xr-preview'>3e+05 3.001e+05 ... 6.098e+05</div><input id='attrs-1b7d077f-022a-4150-80db-877308a7a542' class='xr-var-attrs-in' type='checkbox' disabled><label for='attrs-1b7d077f-022a-4150-80db-877308a7a542' title='Show/Hide attributes'><svg class='icon xr-icon-file-text2'><use xlink:href='#icon-file-text2'></use></svg></label><input id='data-b32fe96a-c273-4fbe-8040-a8d76c8c6275' class='xr-var-data-in' type='checkbox'><label for='data-b32fe96a-c273-4fbe-8040-a8d76c8c6275' title='Show/Hide data repr'><svg class='icon xr-icon-database'><use xlink:href='#icon-database'></use></svg></label><div class='xr-var-attrs'><dl class='xr-attrs'></dl></div><div class='xr-var-data'><pre>array([300000., 300080., 300160., ..., 609600., 609680., 609760.])</pre></div></li><li class='xr-var-item'><div class='xr-var-name'><span class='xr-has-index'>y</span></div><div class='xr-var-dims'>(y)</div><div class='xr-var-dtype'>float64</div><div class='xr-var-preview xr-preview'>4.1e+06 4.1e+06 ... 3.89e+06</div><input id='attrs-354c9c70-a31e-4566-a891-330e2afedb0a' class='xr-var-attrs-in' type='checkbox' disabled><label for='attrs-354c9c70-a31e-4566-a891-330e2afedb0a' title='Show/Hide attributes'><svg class='icon xr-icon-file-text2'><use xlink:href='#icon-file-text2'></use></svg></label><input id='data-1267bf36-f022-40b6-8cab-a5a43d2d322f' class='xr-var-data-in' type='checkbox'><label for='data-1267bf36-f022-40b6-8cab-a5a43d2d322f' title='Show/Hide data repr'><svg class='icon xr-icon-database'><use xlink:href='#icon-database'></use></svg></label><div class='xr-var-attrs'><dl class='xr-attrs'></dl></div><div class='xr-var-data'><pre>array([4100080., 4100000., 4099920., ..., 3890400., 3890320., 3890240.])</pre></div></li><li class='xr-var-item'><div class='xr-var-name'><span>view:off_nadir</span></div><div class='xr-var-dims'>()</div><div class='xr-var-dtype'>int64</div><div class='xr-var-preview xr-preview'>0</div><input id='attrs-ab64c87a-119a-4a6c-999e-7405c830500e' class='xr-var-attrs-in' type='checkbox' disabled><label for='attrs-ab64c87a-119a-4a6c-999e-7405c830500e' title='Show/Hide attributes'><svg class='icon xr-icon-file-text2'><use xlink:href='#icon-file-text2'></use></svg></label><input id='data-e6cb9424-4f0a-4c0a-a959-a0bcbf55d2b4' class='xr-var-data-in' type='checkbox'><label for='data-e6cb9424-4f0a-4c0a-a959-a0bcbf55d2b4' title='Show/Hide data repr'><svg class='icon xr-icon-database'><use xlink:href='#icon-database'></use></svg></label><div class='xr-var-attrs'><dl class='xr-attrs'></dl></div><div class='xr-var-data'><pre>array(0)</pre></div></li><li class='xr-var-item'><div class='xr-var-name'><span>updated</span></div><div class='xr-var-dims'>(time)</div><div class='xr-var-dtype'>&lt;U24</div><div class='xr-var-preview xr-preview'>&#x27;2020-09-05T12:39:12.865Z&#x27; ... &#x27;...</div><input id='attrs-fd3ea024-4d6f-48ce-b47a-e22f60f1ea3b' class='xr-var-attrs-in' type='checkbox' disabled><label for='attrs-fd3ea024-4d6f-48ce-b47a-e22f60f1ea3b' title='Show/Hide attributes'><svg class='icon xr-icon-file-text2'><use xlink:href='#icon-file-text2'></use></svg></label><input id='data-52fc283d-8929-4b09-b2de-f0b0bb14b4c1' class='xr-var-data-in' type='checkbox'><label for='data-52fc283d-8929-4b09-b2de-f0b0bb14b4c1' title='Show/Hide data repr'><svg class='icon xr-icon-database'><use xlink:href='#icon-database'></use></svg></label><div class='xr-var-attrs'><dl class='xr-attrs'></dl></div><div class='xr-var-data'><pre>array([&#x27;2020-09-05T12:39:12.865Z&#x27;, &#x27;2020-09-05T06:24:19.862Z&#x27;,\n",
       "       &#x27;2020-09-05T06:23:47.836Z&#x27;, &#x27;2020-09-18T23:33:57.593Z&#x27;,\n",
       "       &#x27;2020-08-31T18:12:41.217Z&#x27;, &#x27;2020-09-05T10:35:08.576Z&#x27;,\n",
       "       &#x27;2020-09-18T22:58:28.920Z&#x27;, &#x27;2020-09-19T04:10:35.549Z&#x27;,\n",
       "       &#x27;2020-09-23T15:43:10.502Z&#x27;, &#x27;2020-08-31T15:57:36.461Z&#x27;,\n",
       "       &#x27;2020-09-19T03:48:23.504Z&#x27;, &#x27;2020-09-05T10:00:19.229Z&#x27;,\n",
       "       &#x27;2020-09-05T11:18:48.722Z&#x27;, &#x27;2020-08-31T15:12:49.407Z&#x27;,\n",
       "       &#x27;2020-09-18T23:24:23.215Z&#x27;, &#x27;2020-08-31T15:02:43.771Z&#x27;,\n",
       "       &#x27;2020-09-19T00:17:08.540Z&#x27;, &#x27;2020-09-19T03:34:37.813Z&#x27;,\n",
       "       &#x27;2020-08-31T15:23:56.855Z&#x27;, &#x27;2020-09-05T12:50:14.783Z&#x27;,\n",
       "       &#x27;2020-09-23T09:12:42.490Z&#x27;, &#x27;2020-09-18T23:11:12.399Z&#x27;,\n",
       "       &#x27;2020-09-23T16:16:43.693Z&#x27;, &#x27;2020-09-23T09:09:25.619Z&#x27;,\n",
       "       &#x27;2020-09-23T16:37:20.438Z&#x27;, &#x27;2020-09-19T01:38:56.112Z&#x27;,\n",
       "       &#x27;2020-09-19T10:28:14.469Z&#x27;, &#x27;2020-09-19T01:38:37.672Z&#x27;,\n",
       "       &#x27;2020-09-24T06:31:45.567Z&#x27;, &#x27;2020-09-19T03:49:30.360Z&#x27;],\n",
       "      dtype=&#x27;&lt;U24&#x27;)</pre></div></li><li class='xr-var-item'><div class='xr-var-name'><span>gsd</span></div><div class='xr-var-dims'>()</div><div class='xr-var-dtype'>int64</div><div class='xr-var-preview xr-preview'>10</div><input id='attrs-c12e0833-824f-4f39-bd46-7c976e9b48fd' class='xr-var-attrs-in' type='checkbox' disabled><label for='attrs-c12e0833-824f-4f39-bd46-7c976e9b48fd' title='Show/Hide attributes'><svg class='icon xr-icon-file-text2'><use xlink:href='#icon-file-text2'></use></svg></label><input id='data-be59d671-edc4-4b8c-a22e-d96b54fd0a3d' class='xr-var-data-in' type='checkbox'><label for='data-be59d671-edc4-4b8c-a22e-d96b54fd0a3d' title='Show/Hide data repr'><svg class='icon xr-icon-database'><use xlink:href='#icon-database'></use></svg></label><div class='xr-var-attrs'><dl class='xr-attrs'></dl></div><div class='xr-var-data'><pre>array(10)</pre></div></li><li class='xr-var-item'><div class='xr-var-name'><span>sentinel:latitude_band</span></div><div class='xr-var-dims'>()</div><div class='xr-var-dtype'>&lt;U1</div><div class='xr-var-preview xr-preview'>&#x27;S&#x27;</div><input id='attrs-507f58fc-8693-42b6-91f9-7d0985ef6b6b' class='xr-var-attrs-in' type='checkbox' disabled><label for='attrs-507f58fc-8693-42b6-91f9-7d0985ef6b6b' title='Show/Hide attributes'><svg class='icon xr-icon-file-text2'><use xlink:href='#icon-file-text2'></use></svg></label><input id='data-33f2b151-cf10-483e-b0d1-4dcc3ec3f9d5' class='xr-var-data-in' type='checkbox'><label for='data-33f2b151-cf10-483e-b0d1-4dcc3ec3f9d5' title='Show/Hide data repr'><svg class='icon xr-icon-database'><use xlink:href='#icon-database'></use></svg></label><div class='xr-var-attrs'><dl class='xr-attrs'></dl></div><div class='xr-var-data'><pre>array(&#x27;S&#x27;, dtype=&#x27;&lt;U1&#x27;)</pre></div></li><li class='xr-var-item'><div class='xr-var-name'><span>data_coverage</span></div><div class='xr-var-dims'>(time)</div><div class='xr-var-dtype'>float64</div><div class='xr-var-preview xr-preview'>58.22 100.0 33.85 ... 100.0 42.69</div><input id='attrs-26938466-8fb5-404c-ac2e-c860201be7a1' class='xr-var-attrs-in' type='checkbox' disabled><label for='attrs-26938466-8fb5-404c-ac2e-c860201be7a1' title='Show/Hide attributes'><svg class='icon xr-icon-file-text2'><use xlink:href='#icon-file-text2'></use></svg></label><input id='data-06984d46-2eaf-4da7-92d1-711975c64190' class='xr-var-data-in' type='checkbox'><label for='data-06984d46-2eaf-4da7-92d1-711975c64190' title='Show/Hide data repr'><svg class='icon xr-icon-database'><use xlink:href='#icon-database'></use></svg></label><div class='xr-var-attrs'><dl class='xr-attrs'></dl></div><div class='xr-var-data'><pre>array([ 58.22, 100.  ,  33.85, 100.  , 100.  ,  99.97,  19.96, 100.  ,\n",
       "       100.  ,  42.12,  58.36, 100.  ,  33.9 , 100.  , 100.  ,  99.99,\n",
       "        20.36, 100.  , 100.  ,  42.4 ,  58.27, 100.  ,  33.87, 100.  ,\n",
       "       100.  ,  99.99,  20.57, 100.  , 100.  ,  42.69])</pre></div></li><li class='xr-var-item'><div class='xr-var-name'><span>eo:cloud_cover</span></div><div class='xr-var-dims'>(time)</div><div class='xr-var-dtype'>float64</div><div class='xr-var-preview xr-preview'>27.36 28.71 29.24 ... 100.0 100.0</div><input id='attrs-bdfc191d-2543-44c5-a1b0-96247bddff75' class='xr-var-attrs-in' type='checkbox' disabled><label for='attrs-bdfc191d-2543-44c5-a1b0-96247bddff75' title='Show/Hide attributes'><svg class='icon xr-icon-file-text2'><use xlink:href='#icon-file-text2'></use></svg></label><input id='data-3751d545-87ac-4db2-92d6-c2fb177d9f8b' class='xr-var-data-in' type='checkbox'><label for='data-3751d545-87ac-4db2-92d6-c2fb177d9f8b' title='Show/Hide data repr'><svg class='icon xr-icon-database'><use xlink:href='#icon-database'></use></svg></label><div class='xr-var-attrs'><dl class='xr-attrs'></dl></div><div class='xr-var-data'><pre>array([ 27.36,  28.71,  29.24,  42.53,  43.25,  12.33,   7.4 ,   0.  ,\n",
       "         1.16,   1.58,   2.09,   1.01,  27.26,  15.75,   2.9 ,   2.74,\n",
       "         0.53,   0.  ,   1.15,   0.11,  15.67,  11.07,   9.37,  17.83,\n",
       "       100.  ,  99.96,  99.97,  98.7 , 100.  , 100.  ])</pre></div></li><li class='xr-var-item'><div class='xr-var-name'><span>sentinel:utm_zone</span></div><div class='xr-var-dims'>()</div><div class='xr-var-dtype'>int64</div><div class='xr-var-preview xr-preview'>13</div><input id='attrs-540f14bf-ca8d-44c8-96a3-2ef5d14586dc' class='xr-var-attrs-in' type='checkbox' disabled><label for='attrs-540f14bf-ca8d-44c8-96a3-2ef5d14586dc' title='Show/Hide attributes'><svg class='icon xr-icon-file-text2'><use xlink:href='#icon-file-text2'></use></svg></label><input id='data-62ab91fe-7cf2-4fdd-859e-8e5899fa58f8' class='xr-var-data-in' type='checkbox'><label for='data-62ab91fe-7cf2-4fdd-859e-8e5899fa58f8' title='Show/Hide data repr'><svg class='icon xr-icon-database'><use xlink:href='#icon-database'></use></svg></label><div class='xr-var-attrs'><dl class='xr-attrs'></dl></div><div class='xr-var-data'><pre>array(13)</pre></div></li><li class='xr-var-item'><div class='xr-var-name'><span>sentinel:grid_square</span></div><div class='xr-var-dims'>(time)</div><div class='xr-var-dtype'>&lt;U2</div><div class='xr-var-preview xr-preview'>&#x27;DA&#x27; &#x27;CA&#x27; &#x27;DV&#x27; ... &#x27;EV&#x27; &#x27;DV&#x27; &#x27;CV&#x27;</div><input id='attrs-03610771-7cf8-49e5-a14b-9c6baf055445' class='xr-var-attrs-in' type='checkbox' disabled><label for='attrs-03610771-7cf8-49e5-a14b-9c6baf055445' title='Show/Hide attributes'><svg class='icon xr-icon-file-text2'><use xlink:href='#icon-file-text2'></use></svg></label><input id='data-f07293a0-dae9-4187-a4b8-db1ff38065ab' class='xr-var-data-in' type='checkbox'><label for='data-f07293a0-dae9-4187-a4b8-db1ff38065ab' title='Show/Hide data repr'><svg class='icon xr-icon-database'><use xlink:href='#icon-database'></use></svg></label><div class='xr-var-attrs'><dl class='xr-attrs'></dl></div><div class='xr-var-data'><pre>array([&#x27;DA&#x27;, &#x27;CA&#x27;, &#x27;DV&#x27;, &#x27;CV&#x27;, &#x27;EA&#x27;, &#x27;DA&#x27;, &#x27;CA&#x27;, &#x27;EV&#x27;, &#x27;DV&#x27;, &#x27;CV&#x27;, &#x27;DA&#x27;,\n",
       "       &#x27;CA&#x27;, &#x27;DV&#x27;, &#x27;CV&#x27;, &#x27;EA&#x27;, &#x27;DA&#x27;, &#x27;CA&#x27;, &#x27;EV&#x27;, &#x27;DV&#x27;, &#x27;CV&#x27;, &#x27;DA&#x27;, &#x27;CA&#x27;,\n",
       "       &#x27;DV&#x27;, &#x27;CV&#x27;, &#x27;EA&#x27;, &#x27;DA&#x27;, &#x27;CA&#x27;, &#x27;EV&#x27;, &#x27;DV&#x27;, &#x27;CV&#x27;], dtype=&#x27;&lt;U2&#x27;)</pre></div></li><li class='xr-var-item'><div class='xr-var-name'><span>sentinel:data_coverage</span></div><div class='xr-var-dims'>(time)</div><div class='xr-var-dtype'>float64</div><div class='xr-var-preview xr-preview'>58.22 100.0 33.85 ... 100.0 42.69</div><input id='attrs-a695011e-6fb9-443b-b2e2-3b5161d3a1a6' class='xr-var-attrs-in' type='checkbox' disabled><label for='attrs-a695011e-6fb9-443b-b2e2-3b5161d3a1a6' title='Show/Hide attributes'><svg class='icon xr-icon-file-text2'><use xlink:href='#icon-file-text2'></use></svg></label><input id='data-cadda7cb-1d9a-4d74-9faa-b88621d91f43' class='xr-var-data-in' type='checkbox'><label for='data-cadda7cb-1d9a-4d74-9faa-b88621d91f43' title='Show/Hide data repr'><svg class='icon xr-icon-database'><use xlink:href='#icon-database'></use></svg></label><div class='xr-var-attrs'><dl class='xr-attrs'></dl></div><div class='xr-var-data'><pre>array([ 58.22, 100.  ,  33.85, 100.  , 100.  ,  99.97,  19.96, 100.  ,\n",
       "       100.  ,  42.12,  58.36, 100.  ,  33.9 , 100.  , 100.  ,  99.99,\n",
       "        20.36, 100.  , 100.  ,  42.4 ,  58.27, 100.  ,  33.87, 100.  ,\n",
       "       100.  ,  99.99,  20.57, 100.  , 100.  ,  42.69])</pre></div></li><li class='xr-var-item'><div class='xr-var-name'><span>platform</span></div><div class='xr-var-dims'>(time)</div><div class='xr-var-dtype'>&lt;U11</div><div class='xr-var-preview xr-preview'>&#x27;sentinel-2b&#x27; ... &#x27;sentinel-2a&#x27;</div><input id='attrs-cbcc971c-e3f1-4941-bca0-d953d72541ed' class='xr-var-attrs-in' type='checkbox' disabled><label for='attrs-cbcc971c-e3f1-4941-bca0-d953d72541ed' title='Show/Hide attributes'><svg class='icon xr-icon-file-text2'><use xlink:href='#icon-file-text2'></use></svg></label><input id='data-514e70a5-582f-49ea-9af2-29eacbd1c30e' class='xr-var-data-in' type='checkbox'><label for='data-514e70a5-582f-49ea-9af2-29eacbd1c30e' title='Show/Hide data repr'><svg class='icon xr-icon-database'><use xlink:href='#icon-database'></use></svg></label><div class='xr-var-attrs'><dl class='xr-attrs'></dl></div><div class='xr-var-data'><pre>array([&#x27;sentinel-2b&#x27;, &#x27;sentinel-2b&#x27;, &#x27;sentinel-2b&#x27;, &#x27;sentinel-2b&#x27;,\n",
       "       &#x27;sentinel-2a&#x27;, &#x27;sentinel-2a&#x27;, &#x27;sentinel-2a&#x27;, &#x27;sentinel-2a&#x27;,\n",
       "       &#x27;sentinel-2a&#x27;, &#x27;sentinel-2a&#x27;, &#x27;sentinel-2a&#x27;, &#x27;sentinel-2a&#x27;,\n",
       "       &#x27;sentinel-2a&#x27;, &#x27;sentinel-2a&#x27;, &#x27;sentinel-2b&#x27;, &#x27;sentinel-2b&#x27;,\n",
       "       &#x27;sentinel-2b&#x27;, &#x27;sentinel-2b&#x27;, &#x27;sentinel-2b&#x27;, &#x27;sentinel-2b&#x27;,\n",
       "       &#x27;sentinel-2b&#x27;, &#x27;sentinel-2b&#x27;, &#x27;sentinel-2b&#x27;, &#x27;sentinel-2b&#x27;,\n",
       "       &#x27;sentinel-2a&#x27;, &#x27;sentinel-2a&#x27;, &#x27;sentinel-2a&#x27;, &#x27;sentinel-2a&#x27;,\n",
       "       &#x27;sentinel-2a&#x27;, &#x27;sentinel-2a&#x27;], dtype=&#x27;&lt;U11&#x27;)</pre></div></li><li class='xr-var-item'><div class='xr-var-name'><span>sentinel:product_id</span></div><div class='xr-var-dims'>(time)</div><div class='xr-var-dtype'>&lt;U60</div><div class='xr-var-preview xr-preview'>&#x27;S2B_MSIL2A_20200401T174909_N021...</div><input id='attrs-ff3bc5e8-0f10-445f-9146-2b3bd7f98e47' class='xr-var-attrs-in' type='checkbox' disabled><label for='attrs-ff3bc5e8-0f10-445f-9146-2b3bd7f98e47' title='Show/Hide attributes'><svg class='icon xr-icon-file-text2'><use xlink:href='#icon-file-text2'></use></svg></label><input id='data-acc0aad7-dc86-48d4-8280-c945e8c75bb6' class='xr-var-data-in' type='checkbox'><label for='data-acc0aad7-dc86-48d4-8280-c945e8c75bb6' title='Show/Hide data repr'><svg class='icon xr-icon-database'><use xlink:href='#icon-database'></use></svg></label><div class='xr-var-attrs'><dl class='xr-attrs'></dl></div><div class='xr-var-data'><pre>array([&#x27;S2B_MSIL2A_20200401T174909_N0214_R141_T13SDA_20200401T220155&#x27;,\n",
       "       &#x27;S2B_MSIL2A_20200401T174909_N0214_R141_T13SCA_20200401T220155&#x27;,\n",
       "       &#x27;S2B_MSIL2A_20200401T174909_N0214_R141_T13SDV_20200401T220155&#x27;,\n",
       "       &#x27;S2B_MSIL2A_20200401T174909_N0214_R141_T13SCV_20200401T220155&#x27;,\n",
       "       &#x27;S2A_MSIL2A_20200403T173901_N0214_R098_T13SEA_20200403T220105&#x27;,\n",
       "       &#x27;S2A_MSIL2A_20200403T173901_N0214_R098_T13SDA_20200403T220105&#x27;,\n",
       "       &#x27;S2A_MSIL2A_20200403T173901_N0214_R098_T13SCA_20200403T220105&#x27;,\n",
       "       &#x27;S2A_MSIL2A_20200403T173901_N0214_R098_T13SEV_20200403T220105&#x27;,\n",
       "       &#x27;S2A_MSIL2A_20200403T173901_N0214_R098_T13SDV_20200403T220105&#x27;,\n",
       "       &#x27;S2A_MSIL2A_20200403T173901_N0214_R098_T13SCV_20200403T220105&#x27;,\n",
       "       &#x27;S2A_MSIL2A_20200406T174901_N0214_R141_T13SDA_20200406T221027&#x27;,\n",
       "       &#x27;S2A_MSIL2A_20200406T174901_N0214_R141_T13SCA_20200406T221027&#x27;,\n",
       "       &#x27;S2A_MSIL2A_20200406T174901_N0214_R141_T13SDV_20200406T221027&#x27;,\n",
       "       &#x27;S2A_MSIL2A_20200406T174901_N0214_R141_T13SCV_20200406T221027&#x27;,\n",
       "       &#x27;S2B_MSIL2A_20200408T173859_N0214_R098_T13SEA_20200408T215856&#x27;,\n",
       "       &#x27;S2B_MSIL2A_20200408T173859_N0214_R098_T13SDA_20200408T215856&#x27;,\n",
       "       &#x27;S2B_MSIL2A_20200408T173859_N0214_R098_T13SCA_20200408T215856&#x27;,\n",
       "       &#x27;S2B_MSIL2A_20200408T173859_N0214_R098_T13SEV_20200408T215856&#x27;,\n",
       "       &#x27;S2B_MSIL2A_20200408T173859_N0214_R098_T13SDV_20200408T215856&#x27;,\n",
       "       &#x27;S2B_MSIL2A_20200408T173859_N0214_R098_T13SCV_20200408T215856&#x27;,\n",
       "       &#x27;S2B_MSIL2A_20200411T174909_N0214_R141_T13SDA_20200411T220443&#x27;,\n",
       "       &#x27;S2B_MSIL2A_20200411T174909_N0214_R141_T13SCA_20200411T220443&#x27;,\n",
       "       &#x27;S2B_MSIL2A_20200411T174909_N0214_R141_T13SDV_20200411T220443&#x27;,\n",
       "       &#x27;S2B_MSIL2A_20200411T174909_N0214_R141_T13SCV_20200411T220443&#x27;,\n",
       "       &#x27;S2A_MSIL2A_20200413T173901_N0214_R098_T13SEA_20200413T235616&#x27;,\n",
       "       &#x27;S2A_MSIL2A_20200413T173901_N0214_R098_T13SDA_20200413T235616&#x27;,\n",
       "       &#x27;S2A_MSIL2A_20200413T173901_N0214_R098_T13SCA_20200413T235616&#x27;,\n",
       "       &#x27;S2A_MSIL2A_20200413T173901_N0214_R098_T13SEV_20200413T235616&#x27;,\n",
       "       &#x27;S2A_MSIL2A_20200413T173901_N0214_R098_T13SDV_20200413T235616&#x27;,\n",
       "       &#x27;S2A_MSIL2A_20200413T173901_N0214_R098_T13SCV_20200413T235616&#x27;],\n",
       "      dtype=&#x27;&lt;U60&#x27;)</pre></div></li><li class='xr-var-item'><div class='xr-var-name'><span>proj:epsg</span></div><div class='xr-var-dims'>()</div><div class='xr-var-dtype'>int64</div><div class='xr-var-preview xr-preview'>32613</div><input id='attrs-d922ad16-5cfd-43b8-a58f-b8683f841128' class='xr-var-attrs-in' type='checkbox' disabled><label for='attrs-d922ad16-5cfd-43b8-a58f-b8683f841128' title='Show/Hide attributes'><svg class='icon xr-icon-file-text2'><use xlink:href='#icon-file-text2'></use></svg></label><input id='data-48ac4834-ed87-41ba-8874-dd143e86ee03' class='xr-var-data-in' type='checkbox'><label for='data-48ac4834-ed87-41ba-8874-dd143e86ee03' title='Show/Hide data repr'><svg class='icon xr-icon-database'><use xlink:href='#icon-database'></use></svg></label><div class='xr-var-attrs'><dl class='xr-attrs'></dl></div><div class='xr-var-data'><pre>array(32613)</pre></div></li><li class='xr-var-item'><div class='xr-var-name'><span>sentinel:valid_cloud_cover</span></div><div class='xr-var-dims'>()</div><div class='xr-var-dtype'>bool</div><div class='xr-var-preview xr-preview'>True</div><input id='attrs-8027a7f9-3049-45f2-9737-4bfe0aa746d8' class='xr-var-attrs-in' type='checkbox' disabled><label for='attrs-8027a7f9-3049-45f2-9737-4bfe0aa746d8' title='Show/Hide attributes'><svg class='icon xr-icon-file-text2'><use xlink:href='#icon-file-text2'></use></svg></label><input id='data-44102f90-9fab-4db0-841f-c06d3d90d541' class='xr-var-data-in' type='checkbox'><label for='data-44102f90-9fab-4db0-841f-c06d3d90d541' title='Show/Hide data repr'><svg class='icon xr-icon-database'><use xlink:href='#icon-database'></use></svg></label><div class='xr-var-attrs'><dl class='xr-attrs'></dl></div><div class='xr-var-data'><pre>array(True)</pre></div></li><li class='xr-var-item'><div class='xr-var-name'><span>constellation</span></div><div class='xr-var-dims'>()</div><div class='xr-var-dtype'>&lt;U10</div><div class='xr-var-preview xr-preview'>&#x27;sentinel-2&#x27;</div><input id='attrs-38d76565-2d13-4b54-a1e8-408cc295cf92' class='xr-var-attrs-in' type='checkbox' disabled><label for='attrs-38d76565-2d13-4b54-a1e8-408cc295cf92' title='Show/Hide attributes'><svg class='icon xr-icon-file-text2'><use xlink:href='#icon-file-text2'></use></svg></label><input id='data-095629b3-5b81-41b8-bf56-a930098ab801' class='xr-var-data-in' type='checkbox'><label for='data-095629b3-5b81-41b8-bf56-a930098ab801' title='Show/Hide data repr'><svg class='icon xr-icon-database'><use xlink:href='#icon-database'></use></svg></label><div class='xr-var-attrs'><dl class='xr-attrs'></dl></div><div class='xr-var-data'><pre>array(&#x27;sentinel-2&#x27;, dtype=&#x27;&lt;U10&#x27;)</pre></div></li><li class='xr-var-item'><div class='xr-var-name'><span>instruments</span></div><div class='xr-var-dims'>()</div><div class='xr-var-dtype'>&lt;U3</div><div class='xr-var-preview xr-preview'>&#x27;msi&#x27;</div><input id='attrs-517b128f-59a6-48f1-8ea1-7aeae5bb4f7f' class='xr-var-attrs-in' type='checkbox' disabled><label for='attrs-517b128f-59a6-48f1-8ea1-7aeae5bb4f7f' title='Show/Hide attributes'><svg class='icon xr-icon-file-text2'><use xlink:href='#icon-file-text2'></use></svg></label><input id='data-4f188ec1-7f0e-4307-bf4b-46bf7e3086a6' class='xr-var-data-in' type='checkbox'><label for='data-4f188ec1-7f0e-4307-bf4b-46bf7e3086a6' title='Show/Hide data repr'><svg class='icon xr-icon-database'><use xlink:href='#icon-database'></use></svg></label><div class='xr-var-attrs'><dl class='xr-attrs'></dl></div><div class='xr-var-data'><pre>array(&#x27;msi&#x27;, dtype=&#x27;&lt;U3&#x27;)</pre></div></li><li class='xr-var-item'><div class='xr-var-name'><span>sentinel:sequence</span></div><div class='xr-var-dims'>()</div><div class='xr-var-dtype'>&lt;U1</div><div class='xr-var-preview xr-preview'>&#x27;0&#x27;</div><input id='attrs-5d224e6b-5321-4b4a-912c-770faf3842a7' class='xr-var-attrs-in' type='checkbox' disabled><label for='attrs-5d224e6b-5321-4b4a-912c-770faf3842a7' title='Show/Hide attributes'><svg class='icon xr-icon-file-text2'><use xlink:href='#icon-file-text2'></use></svg></label><input id='data-0149be82-90c7-4470-9ae0-7865406d4f3e' class='xr-var-data-in' type='checkbox'><label for='data-0149be82-90c7-4470-9ae0-7865406d4f3e' title='Show/Hide data repr'><svg class='icon xr-icon-database'><use xlink:href='#icon-database'></use></svg></label><div class='xr-var-attrs'><dl class='xr-attrs'></dl></div><div class='xr-var-data'><pre>array(&#x27;0&#x27;, dtype=&#x27;&lt;U1&#x27;)</pre></div></li><li class='xr-var-item'><div class='xr-var-name'><span>created</span></div><div class='xr-var-dims'>(time)</div><div class='xr-var-dtype'>&lt;U24</div><div class='xr-var-preview xr-preview'>&#x27;2020-09-05T12:39:12.865Z&#x27; ... &#x27;...</div><input id='attrs-cfb2eb00-57bc-439e-8dfa-5c8d0edf0e6a' class='xr-var-attrs-in' type='checkbox' disabled><label for='attrs-cfb2eb00-57bc-439e-8dfa-5c8d0edf0e6a' title='Show/Hide attributes'><svg class='icon xr-icon-file-text2'><use xlink:href='#icon-file-text2'></use></svg></label><input id='data-d0e67cdf-811e-43e6-ad22-ba555fc478cf' class='xr-var-data-in' type='checkbox'><label for='data-d0e67cdf-811e-43e6-ad22-ba555fc478cf' title='Show/Hide data repr'><svg class='icon xr-icon-database'><use xlink:href='#icon-database'></use></svg></label><div class='xr-var-attrs'><dl class='xr-attrs'></dl></div><div class='xr-var-data'><pre>array([&#x27;2020-09-05T12:39:12.865Z&#x27;, &#x27;2020-09-05T06:24:19.862Z&#x27;,\n",
       "       &#x27;2020-09-05T06:23:47.836Z&#x27;, &#x27;2020-09-18T23:33:57.593Z&#x27;,\n",
       "       &#x27;2020-08-31T18:12:41.217Z&#x27;, &#x27;2020-09-05T10:35:08.576Z&#x27;,\n",
       "       &#x27;2020-09-18T22:58:28.920Z&#x27;, &#x27;2020-09-19T04:10:35.549Z&#x27;,\n",
       "       &#x27;2020-09-23T15:43:10.502Z&#x27;, &#x27;2020-08-31T15:57:36.461Z&#x27;,\n",
       "       &#x27;2020-09-19T03:48:23.504Z&#x27;, &#x27;2020-09-05T10:00:19.229Z&#x27;,\n",
       "       &#x27;2020-09-05T11:18:48.722Z&#x27;, &#x27;2020-08-31T15:12:49.407Z&#x27;,\n",
       "       &#x27;2020-09-18T23:24:23.215Z&#x27;, &#x27;2020-08-31T15:02:43.771Z&#x27;,\n",
       "       &#x27;2020-09-19T00:17:08.540Z&#x27;, &#x27;2020-09-19T03:34:37.813Z&#x27;,\n",
       "       &#x27;2020-08-31T15:23:56.855Z&#x27;, &#x27;2020-09-05T12:50:14.783Z&#x27;,\n",
       "       &#x27;2020-09-23T09:12:42.490Z&#x27;, &#x27;2020-09-18T23:11:12.399Z&#x27;,\n",
       "       &#x27;2020-09-23T16:16:43.693Z&#x27;, &#x27;2020-09-23T09:09:25.619Z&#x27;,\n",
       "       &#x27;2020-09-23T16:37:20.438Z&#x27;, &#x27;2020-09-19T01:38:56.112Z&#x27;,\n",
       "       &#x27;2020-09-19T10:28:14.469Z&#x27;, &#x27;2020-09-19T01:38:37.672Z&#x27;,\n",
       "       &#x27;2020-09-24T06:31:45.567Z&#x27;, &#x27;2020-09-19T03:49:30.360Z&#x27;],\n",
       "      dtype=&#x27;&lt;U24&#x27;)</pre></div></li><li class='xr-var-item'><div class='xr-var-name'><span>title</span></div><div class='xr-var-dims'>(band)</div><div class='xr-var-dtype'>&lt;U31</div><div class='xr-var-preview xr-preview'>&#x27;Band 4 (red)&#x27; ... &#x27;Band 2 (blue)&#x27;</div><input id='attrs-4e7cde00-43e9-4fbd-8959-50922a936627' class='xr-var-attrs-in' type='checkbox' disabled><label for='attrs-4e7cde00-43e9-4fbd-8959-50922a936627' title='Show/Hide attributes'><svg class='icon xr-icon-file-text2'><use xlink:href='#icon-file-text2'></use></svg></label><input id='data-69dda98e-0576-4ffc-9b37-bc2e57be548a' class='xr-var-data-in' type='checkbox'><label for='data-69dda98e-0576-4ffc-9b37-bc2e57be548a' title='Show/Hide data repr'><svg class='icon xr-icon-database'><use xlink:href='#icon-database'></use></svg></label><div class='xr-var-attrs'><dl class='xr-attrs'></dl></div><div class='xr-var-data'><pre>array([&#x27;Band 4 (red)&#x27;, &#x27;Band 3 (green)&#x27;, &#x27;Band 2 (blue)&#x27;], dtype=&#x27;&lt;U31&#x27;)</pre></div></li><li class='xr-var-item'><div class='xr-var-name'><span>epsg</span></div><div class='xr-var-dims'>()</div><div class='xr-var-dtype'>int64</div><div class='xr-var-preview xr-preview'>32613</div><input id='attrs-c988642b-b25a-4174-aec9-27a2835baa36' class='xr-var-attrs-in' type='checkbox' disabled><label for='attrs-c988642b-b25a-4174-aec9-27a2835baa36' title='Show/Hide attributes'><svg class='icon xr-icon-file-text2'><use xlink:href='#icon-file-text2'></use></svg></label><input id='data-baab3ad8-4238-41e3-996d-0e5b6c18fb66' class='xr-var-data-in' type='checkbox'><label for='data-baab3ad8-4238-41e3-996d-0e5b6c18fb66' title='Show/Hide data repr'><svg class='icon xr-icon-database'><use xlink:href='#icon-database'></use></svg></label><div class='xr-var-attrs'><dl class='xr-attrs'></dl></div><div class='xr-var-data'><pre>array(32613)</pre></div></li></ul></div></li><li class='xr-section-item'><input id='section-aabf3d93-0b62-4cc3-8e29-7cc74adce2d7' class='xr-section-summary-in' type='checkbox'  checked><label for='section-aabf3d93-0b62-4cc3-8e29-7cc74adce2d7' class='xr-section-summary' >Attributes: <span>(4)</span></label><div class='xr-section-inline-details'></div><div class='xr-section-details'><dl class='xr-attrs'><dt><span>spec :</span></dt><dd>RasterSpec(epsg=32613, bounds=(300000, 3890160, 609840, 4100080), resolutions_xy=(80, 80))</dd><dt><span>crs :</span></dt><dd>epsg:32613</dd><dt><span>transform :</span></dt><dd>| 80.00, 0.00, 300000.00|\n",
       "| 0.00,-80.00, 4100080.00|\n",
       "| 0.00, 0.00, 1.00|</dd><dt><span>resolution :</span></dt><dd>80</dd></dl></div></li></ul></div></div>"
      ],
      "text/plain": [
       "<xarray.DataArray 'stackstac-fdd78299750662e62a074264b1a026cd' (time: 30,\n",
       "                                                                band: 3,\n",
       "                                                                y: 2624, x: 3873)>\n",
       "dask.array<getitem, shape=(30, 3, 2624, 3873), dtype=float64, chunksize=(1, 1, 1024, 1024), chunktype=numpy.ndarray>\n",
       "Coordinates: (12/24)\n",
       "  * time                        (time) datetime64[ns] 2020-04-01T18:03:50 ......\n",
       "    id                          (time) <U24 'S2B_13SDA_20200401_0_L2A' ... 'S...\n",
       "  * band                        (band) <U8 'B04' 'B03' 'B02'\n",
       "  * x                           (x) float64 3e+05 3.001e+05 ... 6.098e+05\n",
       "  * y                           (y) float64 4.1e+06 4.1e+06 ... 3.89e+06\n",
       "    view:off_nadir              int64 0\n",
       "    ...                          ...\n",
       "    constellation               <U10 'sentinel-2'\n",
       "    instruments                 <U3 'msi'\n",
       "    sentinel:sequence           <U1 '0'\n",
       "    created                     (time) <U24 '2020-09-05T12:39:12.865Z' ... '2...\n",
       "    title                       (band) <U31 'Band 4 (red)' ... 'Band 2 (blue)'\n",
       "    epsg                        int64 32613\n",
       "Attributes:\n",
       "    spec:        RasterSpec(epsg=32613, bounds=(300000, 3890160, 609840, 4100...\n",
       "    crs:         epsg:32613\n",
       "    transform:   | 80.00, 0.00, 300000.00|\\n| 0.00,-80.00, 4100080.00|\\n| 0.0...\n",
       "    resolution:  80"
      ]
     },
     "execution_count": 9,
     "metadata": {},
     "output_type": "execute_result"
    }
   ],
   "source": [
    "rgb = stack.sel(band=[\"B04\", \"B03\", \"B02\"]).persist()\n",
    "rgb"
   ]
  },
  {
   "cell_type": "markdown",
   "id": "f7af0f6e-29c1-41a3-9b77-1141a1d79e4d",
   "metadata": {},
   "source": [
    "## `stackstac.add_to_map`\n",
    "\n",
    "`stackstac.add_to_map` displays a DataArray on an existing ipyleaflet map. You give it a layer name—if a layer with this name already exists, it's replaced; otherwise, it's added. This is nice for working in notebooks, since you can re-run an `add_to_map` cell to adjust it, without piling up new layers.\n",
    "\n",
    "Before continuing, you should open the distributed dashboard in another window (or use the [dask-jupyterlab](https://github.com/dask/dask-labextension) extension) in order to watch its progress."
   ]
  },
  {
   "cell_type": "code",
   "execution_count": 10,
   "id": "573b589d-2d16-4c26-a3ae-96c951af09e1",
   "metadata": {},
   "outputs": [
    {
     "data": {
      "application/vnd.jupyter.widget-view+json": {
       "model_id": "2173b58f764147cda75f1f36281d46d6",
       "version_major": 2,
       "version_minor": 0
      },
      "text/plain": [
       "Map(bottom=103580.0, center=[35.677153763176115, -105.8485489524901], controls=(ZoomControl(options=['position…"
      ]
     },
     "metadata": {},
     "output_type": "display_data"
    }
   ],
   "source": [
    "m.zoom = 10\n",
    "m"
   ]
  },
  {
   "cell_type": "raw",
   "id": "8c6b4691-6a35-495b-8a9a-db542f30f971",
   "metadata": {
    "raw_mimetype": "text/restructuredtext",
    "tags": []
   },
   "source": [
    "*Static screenshot for docs (delete this cell if running the notebook):*\n",
    "\n",
    ".. image:: images/show-s2-median.png\n",
    "  :width: 100%"
   ]
  },
  {
   "cell_type": "markdown",
   "id": "40a250ea-d63e-4231-b9f2-054a06d9c25f",
   "metadata": {},
   "source": [
    "`stackstac.server_stats` is a widget showing some under-the-hood stats about the computations currently running to generate your tiles. It shows \"work bars\"—like the inverse of progress bars—indicating the tasks it's currently waiting on."
   ]
  },
  {
   "cell_type": "code",
   "execution_count": 11,
   "id": "3f037b53-54eb-4269-a7a1-c5e53a0176a1",
   "metadata": {},
   "outputs": [
    {
     "data": {
      "application/vnd.jupyter.widget-view+json": {
       "model_id": "844517f3bf5a4de6b6de3563beca8eb8",
       "version_major": 2,
       "version_minor": 0
      },
      "text/plain": [
       "VBox()"
      ]
     },
     "metadata": {},
     "output_type": "display_data"
    }
   ],
   "source": [
    "stackstac.server_stats"
   ]
  },
  {
   "cell_type": "markdown",
   "id": "6e2b1638-66b7-4ad0-b8cb-e7856b2b5f43",
   "metadata": {},
   "source": [
    "Make a temporal median composite, and show that on the map `m` above! Pan around and notice how the dask dashboard shows your progress."
   ]
  },
  {
   "cell_type": "code",
   "execution_count": 12,
   "id": "dated-motivation",
   "metadata": {},
   "outputs": [
    {
     "data": {
      "application/vnd.jupyter.widget-view+json": {
       "model_id": "be2ed73f36194977a74ecf025b7561b9",
       "version_major": 2,
       "version_minor": 0
      },
      "text/plain": [
       "TileLayer(name='s2', options=['attribution', 'detect_retina', 'max_native_zoom', 'max_zoom', 'min_native_zoom'…"
      ]
     },
     "metadata": {},
     "output_type": "display_data"
    }
   ],
   "source": [
    "comp = rgb.median(\"time\")\n",
    "stackstac.add_to_map(comp, m, \"s2\", range=[0, 3000])"
   ]
  },
  {
   "cell_type": "markdown",
   "id": "144586c3-90fe-4d99-9bfa-f5b12e61004b",
   "metadata": {},
   "source": [
    "Try changing `median` to `mean`, `min`, `max`, etc. in the cell above, and re-run. The map will update with the new layer contents (since you reused the name `\"s2\"`)."
   ]
  },
  {
   "cell_type": "markdown",
   "id": "f16c73e4-56d8-4c53-95a1-3586ba874435",
   "metadata": {},
   "source": [
    "## Showing computed values\n",
    "\n",
    "You can display anything you can compute with dask and xarray, not just raw data. Here, we'll compute NDVI (Normalized Difference Vegetation Index), which indicates the health of vegetation (and is kind of a \"hello world\" example for remote sensing)."
   ]
  },
  {
   "cell_type": "code",
   "execution_count": 13,
   "id": "played-wedding",
   "metadata": {},
   "outputs": [],
   "source": [
    "nir, red = stack.sel(band=\"B08\"), stack.sel(band=\"B04\")\n",
    "ndvi = (nir - red) / (nir + red)\n",
    "ndvi = ndvi.persist()"
   ]
  },
  {
   "cell_type": "markdown",
   "id": "8419cc93-ecd4-4931-9b88-3bd012955ad3",
   "metadata": {},
   "source": [
    "We'll show the temporal maximum NDVI (try changing to `min`, `median`, etc.)"
   ]
  },
  {
   "cell_type": "code",
   "execution_count": 14,
   "id": "a442669e-f06e-4d4c-993a-85d7eebb930d",
   "metadata": {},
   "outputs": [],
   "source": [
    "ndvi_comp = ndvi.max(\"time\")"
   ]
  },
  {
   "cell_type": "markdown",
   "id": "c6e1dede-bc74-4e3c-a98f-0095a74973fb",
   "metadata": {},
   "source": [
    "## `stackstac.show`\n",
    "\n",
    "`stackstac.show` creates a new map for you, centers it on your array, and displays it. It's very convenient."
   ]
  },
  {
   "cell_type": "code",
   "execution_count": 15,
   "id": "blessed-collectible",
   "metadata": {},
   "outputs": [
    {
     "data": {
      "application/vnd.jupyter.widget-view+json": {
       "model_id": "b48311e92e694eccb4bf063602bb15e8",
       "version_major": 2,
       "version_minor": 0
      },
      "text/plain": [
       "Map(center=[36.08748784479425, -105.50663605988711], controls=(ZoomControl(options=['position', 'zoom_in_text'…"
      ]
     },
     "metadata": {},
     "output_type": "display_data"
    }
   ],
   "source": [
    "stackstac.show(ndvi_comp, range=(0, 0.6), cmap=\"YlGn\")"
   ]
  },
  {
   "cell_type": "raw",
   "id": "280c5313-619d-483c-9a6e-a7af72deef2c",
   "metadata": {
    "raw_mimetype": "text/restructuredtext",
    "tags": []
   },
   "source": [
    "*Static screenshot for docs (delete this cell if running the notebook):*\n",
    "\n",
    ".. image:: images/show-ndvi.png\n",
    "  :width: 100%"
   ]
  },
  {
   "cell_type": "markdown",
   "id": "0c798c97-185c-475d-884b-da9c57fb75d7",
   "metadata": {},
   "source": [
    "To demonstrate more derived quantities: show each pixel's deviation from the mean NDVI of the whole array:"
   ]
  },
  {
   "cell_type": "code",
   "execution_count": 16,
   "id": "300a65c0-22ff-4e51-8e21-203009f3489c",
   "metadata": {},
   "outputs": [],
   "source": [
    "anomaly = ndvi_comp - ndvi.mean()"
   ]
  },
  {
   "cell_type": "code",
   "execution_count": 17,
   "id": "8470ff3b-004c-4181-bc65-8f7e7c0c2004",
   "metadata": {},
   "outputs": [
    {
     "name": "stderr",
     "output_type": "stream",
     "text": [
      "/Users/gabe/dev/stackstac/stackstac/show.py:484: UserWarning: Calculating 2nd and 98th percentile of the entire array, since no range was given. This could be expensive!\n",
      "  warnings.warn(\n"
     ]
    },
    {
     "data": {
      "application/vnd.jupyter.widget-view+json": {
       "model_id": "268a536f6aa84c4eba09f52400ddd927",
       "version_major": 2,
       "version_minor": 0
      },
      "text/plain": [
       "Map(center=[36.08748784479425, -105.50663605988711], controls=(ZoomControl(options=['position', 'zoom_in_text'…"
      ]
     },
     "metadata": {},
     "output_type": "display_data"
    }
   ],
   "source": [
    "stackstac.show(anomaly, cmap=\"RdYlGn\")"
   ]
  },
  {
   "cell_type": "raw",
   "id": "bb2d53bc-dc04-4ab3-8405-27ab744c67ed",
   "metadata": {
    "raw_mimetype": "text/restructuredtext",
    "tags": []
   },
   "source": [
    "*Static screenshot for docs (delete this cell if running the notebook):*\n",
    "\n",
    ".. image:: images/show-ndvi-anomaly.png\n",
    "  :width: 100%"
   ]
  },
  {
   "cell_type": "markdown",
   "id": "ce05b658-0079-4794-8398-9ab1144d654f",
   "metadata": {},
   "source": [
    "## Interactively explore data with widgets\n",
    "\n",
    "Using [ipywidgets.interact](https://ipywidgets.readthedocs.io/en/stable/examples/Using%20Interact.html#), you can interactively threshold the NDVI values by adjusting a slider. It's a bit clunky, and pretty slow to refresh, but still a nice demonstration of the powerful tools that become available by integrating with the Python ecosystem."
   ]
  },
  {
   "cell_type": "code",
   "execution_count": 18,
   "id": "81c97ce4-ce15-432d-8e5d-6e3ce58b1ddb",
   "metadata": {},
   "outputs": [
    {
     "data": {
      "application/vnd.jupyter.widget-view+json": {
       "model_id": "3bde940c96594d07ab7d9927530cf81f",
       "version_major": 2,
       "version_minor": 0
      },
      "text/plain": [
       "interactive(children=(FloatSlider(value=0.2, description='threshold', max=1.0), Output()), _dom_classes=('widg…"
      ]
     },
     "metadata": {},
     "output_type": "display_data"
    }
   ],
   "source": [
    "import ipywidgets\n",
    "\n",
    "ndvi_map = ipyleaflet.Map()\n",
    "ndvi_map.center = m.center\n",
    "ndvi_map.zoom = m.zoom\n",
    "\n",
    "@ipywidgets.interact(threshold=(0.0, 1.0, 0.1))\n",
    "def explore_ndvi(threshold=0.2):\n",
    "    high_ndvi = ndvi_comp.where(ndvi_comp > threshold)\n",
    "    stackstac.add_to_map(high_ndvi, ndvi_map, \"ndvi\", range=[0, 1], cmap=\"YlGn\")\n",
    "    return ndvi_map"
   ]
  },
  {
   "cell_type": "raw",
   "id": "59d6e0f4-9473-4787-a1af-e435b96ce00e",
   "metadata": {
    "raw_mimetype": "text/restructuredtext",
    "tags": []
   },
   "source": [
    "*Static screenshot for docs (delete this cell if running the notebook):*\n",
    "\n",
    ".. image:: images/show-ndvi-widget.png\n",
    "  :width: 100%"
   ]
  }
 ],
 "metadata": {
  "kernelspec": {
   "display_name": "Python 3 (ipykernel)",
   "language": "python",
   "name": "python3"
  },
  "language_info": {
   "codemirror_mode": {
    "name": "ipython",
    "version": 3
   },
   "file_extension": ".py",
   "mimetype": "text/x-python",
   "name": "python",
   "nbconvert_exporter": "python",
   "pygments_lexer": "ipython3",
   "version": "3.8.7"
  }
 },
 "nbformat": 4,
 "nbformat_minor": 5
}
