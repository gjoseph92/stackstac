{
 "cells": [
  {
   "cell_type": "markdown",
   "id": "068011e2-96cb-4c25-856f-7d6a5c4b3710",
   "metadata": {},
   "source": [
    "# Live visualization on a map\n",
    "\n",
    "With [stackstac.show](https://stackstac.readthedocs.io/en/stable/api/main/stackstac.show.html) or [stackstac.add_to_map](https://stackstac.readthedocs.io/en/stable/api/main/stackstac.add_to_map.html), you can display your data on an interactive [ipyleaflet](https://ipyleaflet.readthedocs.io/en/latest/) map within your notebook. As you pan and zoom, the portion of the dask array that's in view is computed on the fly.\n",
    "\n",
    "By running a Dask cluster colocated with the data, you can quickly aggregate hundreds of gigabytes of imagery on the backend, then only send a few megabytes of pixels back to your browser. This gives you a very simplified version of the [Google Earth Engine](https://developers.google.com/earth-engine/guides/playground) development experience, but with much more flexibility.\n",
    "\n",
    "## Limitations\n",
    "\n",
    "This functionality is still very much proof-of-concept, and there's a lot to be improved in the future:\n",
    "\n",
    "1. Doesn't work well on large arrays. Sadly, loading a giant global DataArray and using the map to just view small parts of it won't work—yet. Plan on only using an array of the area you actually want to look at (passing `bounds_latlon=` to `stackstac.stack` helps with this).\n",
    "2. Resolution doesn't change as you zoom in or out.\n",
    "3. Communication to Dask can be slow, or seem to hang temporarily."
   ]
  },
  {
   "cell_type": "code",
   "execution_count": 1,
   "id": "classified-brush",
   "metadata": {},
   "outputs": [],
   "source": [
    "import stackstac\n",
    "import pystac_client\n",
    "import ipyleaflet\n",
    "import xarray as xr\n",
    "import IPython.display as dsp"
   ]
  },
  {
   "cell_type": "code",
   "execution_count": 2,
   "id": "victorian-tractor",
   "metadata": {},
   "outputs": [],
   "source": [
    "import coiled\n",
    "import distributed"
   ]
  },
  {
   "cell_type": "markdown",
   "metadata": {},
   "source": [
    "You _definitely_ will need a cluster near the data for this (or to run on a beefy VM in `us-west-2`).\n",
    "\n",
    "You can sign up for a Coiled account and run clusters for free at https://cloud.coiled.io/ — no credit card or username required, just sign in with your GitHub or Google account."
   ]
  },
  {
   "cell_type": "code",
   "execution_count": 3,
   "id": "0888d93e-d3a2-427a-895a-2bed0b5b4d85",
   "metadata": {},
   "outputs": [
    {
     "data": {
      "application/vnd.jupyter.widget-view+json": {
       "model_id": "",
       "version_major": 2,
       "version_minor": 0
      },
      "text/plain": [
       "Output()"
      ]
     },
     "metadata": {},
     "output_type": "display_data"
    },
    {
     "name": "stdout",
     "output_type": "stream",
     "text": [
      "Found software environment build\n"
     ]
    },
    {
     "data": {
      "text/html": [
       "<pre style=\"white-space:pre;overflow-x:auto;line-height:normal;font-family:Menlo,'DejaVu Sans Mono',consolas,'Courier New',monospace\"></pre>\n"
      ],
      "text/plain": []
     },
     "metadata": {},
     "output_type": "display_data"
    },
    {
     "name": "stderr",
     "output_type": "stream",
     "text": [
      "/Users/gabe/Library/Caches/pypoetry/virtualenvs/stackstac-FdRcOknL-py3.8/lib/python3.8/site-packages/distributed/client.py:1140: VersionMismatchWarning: Mismatched versions found\n",
      "\n",
      "+---------+---------------+---------------+---------------+\n",
      "| Package | client        | scheduler     | workers       |\n",
      "+---------+---------------+---------------+---------------+\n",
      "| python  | 3.8.7.final.0 | 3.8.8.final.0 | 3.8.8.final.0 |\n",
      "+---------+---------------+---------------+---------------+\n",
      "  warnings.warn(version_module.VersionMismatchWarning(msg[0][\"warning\"]))\n"
     ]
    },
    {
     "data": {
      "text/html": [
       "<table style=\"border: 2px solid white;\">\n",
       "<tr>\n",
       "<td style=\"vertical-align: top; border: 0px solid white\">\n",
       "<h3 style=\"text-align: left;\">Client</h3>\n",
       "<ul style=\"text-align: left; list-style: none; margin: 0; padding: 0;\">\n",
       "  <li><b>Scheduler: </b>tls://ec2-54-183-80-8.us-west-1.compute.amazonaws.com:8786</li>\n",
       "  <li><b>Dashboard: </b><a href='http://ec2-54-183-80-8.us-west-1.compute.amazonaws.com:8787' target='_blank'>http://ec2-54-183-80-8.us-west-1.compute.amazonaws.com:8787</a></li>\n",
       "</ul>\n",
       "</td>\n",
       "<td style=\"vertical-align: top; border: 0px solid white\">\n",
       "<h3 style=\"text-align: left;\">Cluster</h3>\n",
       "<ul style=\"text-align: left; list-style:none; margin: 0; padding: 0;\">\n",
       "  <li><b>Workers: </b>25</li>\n",
       "  <li><b>Cores: </b>100</li>\n",
       "  <li><b>Memory: </b>400.00 GiB</li>\n",
       "</ul>\n",
       "</td>\n",
       "</tr>\n",
       "</table>"
      ],
      "text/plain": [
       "<Client: 'tls://10.4.11.199:8786' processes=25 threads=100, memory=400.00 GiB>"
      ]
     },
     "execution_count": 3,
     "metadata": {},
     "output_type": "execute_result"
    }
   ],
   "source": [
    "cluster = coiled.Cluster(\n",
    "    name=\"stackstac\",\n",
    "    software=\"gjoseph92/stackstac\",\n",
    "    n_workers=22,\n",
    "    scheduler_cpu=2,\n",
    "    backend_options={\"region\": \"us-west-2\"},\n",
    ")\n",
    "client = distributed.Client(cluster)\n",
    "client"
   ]
  },
  {
   "cell_type": "markdown",
   "id": "fbc22077-aa84-47dd-95a9-a22a59d74761",
   "metadata": {},
   "source": [
    "Search for Sentinel-2 data overlapping our map"
   ]
  },
  {
   "cell_type": "code",
   "execution_count": null,
   "id": "incorrect-vessel",
   "metadata": {},
   "outputs": [],
   "source": [
    "m = ipyleaflet.Map()\n",
    "m.center = 35.677153763176115, -105.8485489524901\n",
    "m.zoom = 10\n",
    "m.layout.height = \"700px\"\n",
    "m"
   ]
  },
  {
   "cell_type": "code",
   "execution_count": 5,
   "id": "moving-seating",
   "metadata": {},
   "outputs": [
    {
     "name": "stdout",
     "output_type": "stream",
     "text": [
      "CPU times: user 65.1 ms, sys: 8.61 ms, total: 73.7 ms\n",
      "Wall time: 4.08 s\n"
     ]
    },
    {
     "data": {
      "text/plain": [
       "24"
      ]
     },
     "execution_count": 5,
     "metadata": {},
     "output_type": "execute_result"
    }
   ],
   "source": [
    "%%time\n",
    "bbox=[m.west, m.south, m.east, m.north]\n",
    "stac_items = pystac_client.Client.open(\n",
    "    \"https://earth-search.aws.element84.com/v0\"\n",
    ").search(\n",
    "    bbox=bbox,\n",
    "    collections=[\"sentinel-s2-l2a-cogs\"],\n",
    "    datetime=\"2020-04-01/2020-04-15\"\n",
    ").get_all_items()\n",
    "len(stac_items)"
   ]
  },
  {
   "cell_type": "code",
   "execution_count": null,
   "id": "7f520eaf-a3cf-415b-884e-7962252ae3e3",
   "metadata": {},
   "outputs": [],
   "source": [
    "dsp.GeoJSON(stac_items.to_dict())"
   ]
  },
  {
   "cell_type": "markdown",
   "id": "75e2293a-f61a-416f-9b2f-edc096cf5705",
   "metadata": {},
   "source": [
    "## Create the time stack\n",
    "\n",
    "**Important: the resolution you pick here is what the map will use, regardless of zoom level!** When you zoom in/out on the map, the data _won't_ be loaded at lower or higher resolutions. (In the future, we hope to support this.)\n",
    "\n",
    "Beware of zooming out on high-resolution data; you could trigger a massive amount of compute!"
   ]
  },
  {
   "cell_type": "code",
   "execution_count": 7,
   "id": "professional-contractor",
   "metadata": {},
   "outputs": [
    {
     "name": "stdout",
     "output_type": "stream",
     "text": [
      "CPU times: user 14.7 ms, sys: 1.48 ms, total: 16.2 ms\n",
      "Wall time: 15.1 ms\n"
     ]
    }
   ],
   "source": [
    "%time stack = stackstac.stack(stac_items, resolution=80)"
   ]
  },
  {
   "cell_type": "markdown",
   "id": "91e2e104-a084-4311-9d98-92caac62057e",
   "metadata": {},
   "source": [
    "## Persist the data we want to view\n",
    "\n",
    "By [persisting](https://docs.dask.org/en/latest/user-interfaces.html#persist-into-distributed-memory) all the RGB data, Dask will pre-load it and store it in memory, ready to use. That way, we can tweak what we show on the map (different composite operations, scaling, etc.) without having to re-fetch the original data every time. It also means tiles will load much faster as we pan around, since they're already mostly computed.\n",
    "\n",
    "It's generally a good idea to persist somewhere before `stackstac.show`. Typically you'd do this after a reduction step (like a temporal composite), but our data here is small, so it doesn't matter much.\n",
    "\n",
    "As a rule of thumb, try to persist after the biggest, slowest steps of your analysis, but before the steps you might want to tweak (like thresholds, scaling, etc.). If you want to tweak your big slow steps, well... be prepared to wait (and maybe don't persist)."
   ]
  },
  {
   "cell_type": "code",
   "execution_count": 8,
   "id": "94ec50ab-1cf2-4dca-8a92-93f1fad65cfe",
   "metadata": {},
   "outputs": [
    {
     "data": {
      "text/html": [
       "<div><svg style=\"position: absolute; width: 0; height: 0; overflow: hidden\">\n",
       "<defs>\n",
       "<symbol id=\"icon-database\" viewBox=\"0 0 32 32\">\n",
       "<path d=\"M16 0c-8.837 0-16 2.239-16 5v4c0 2.761 7.163 5 16 5s16-2.239 16-5v-4c0-2.761-7.163-5-16-5z\"></path>\n",
       "<path d=\"M16 17c-8.837 0-16-2.239-16-5v6c0 2.761 7.163 5 16 5s16-2.239 16-5v-6c0 2.761-7.163 5-16 5z\"></path>\n",
       "<path d=\"M16 26c-8.837 0-16-2.239-16-5v6c0 2.761 7.163 5 16 5s16-2.239 16-5v-6c0 2.761-7.163 5-16 5z\"></path>\n",
       "</symbol>\n",
       "<symbol id=\"icon-file-text2\" viewBox=\"0 0 32 32\">\n",
       "<path d=\"M28.681 7.159c-0.694-0.947-1.662-2.053-2.724-3.116s-2.169-2.030-3.116-2.724c-1.612-1.182-2.393-1.319-2.841-1.319h-15.5c-1.378 0-2.5 1.121-2.5 2.5v27c0 1.378 1.122 2.5 2.5 2.5h23c1.378 0 2.5-1.122 2.5-2.5v-19.5c0-0.448-0.137-1.23-1.319-2.841zM24.543 5.457c0.959 0.959 1.712 1.825 2.268 2.543h-4.811v-4.811c0.718 0.556 1.584 1.309 2.543 2.268zM28 29.5c0 0.271-0.229 0.5-0.5 0.5h-23c-0.271 0-0.5-0.229-0.5-0.5v-27c0-0.271 0.229-0.5 0.5-0.5 0 0 15.499-0 15.5 0v7c0 0.552 0.448 1 1 1h7v19.5z\"></path>\n",
       "<path d=\"M23 26h-14c-0.552 0-1-0.448-1-1s0.448-1 1-1h14c0.552 0 1 0.448 1 1s-0.448 1-1 1z\"></path>\n",
       "<path d=\"M23 22h-14c-0.552 0-1-0.448-1-1s0.448-1 1-1h14c0.552 0 1 0.448 1 1s-0.448 1-1 1z\"></path>\n",
       "<path d=\"M23 18h-14c-0.552 0-1-0.448-1-1s0.448-1 1-1h14c0.552 0 1 0.448 1 1s-0.448 1-1 1z\"></path>\n",
       "</symbol>\n",
       "</defs>\n",
       "</svg>\n",
       "<style>/* CSS stylesheet for displaying xarray objects in jupyterlab.\n",
       " *\n",
       " */\n",
       "\n",
       ":root {\n",
       "  --xr-font-color0: var(--jp-content-font-color0, rgba(0, 0, 0, 1));\n",
       "  --xr-font-color2: var(--jp-content-font-color2, rgba(0, 0, 0, 0.54));\n",
       "  --xr-font-color3: var(--jp-content-font-color3, rgba(0, 0, 0, 0.38));\n",
       "  --xr-border-color: var(--jp-border-color2, #e0e0e0);\n",
       "  --xr-disabled-color: var(--jp-layout-color3, #bdbdbd);\n",
       "  --xr-background-color: var(--jp-layout-color0, white);\n",
       "  --xr-background-color-row-even: var(--jp-layout-color1, white);\n",
       "  --xr-background-color-row-odd: var(--jp-layout-color2, #eeeeee);\n",
       "}\n",
       "\n",
       "html[theme=dark],\n",
       "body.vscode-dark {\n",
       "  --xr-font-color0: rgba(255, 255, 255, 1);\n",
       "  --xr-font-color2: rgba(255, 255, 255, 0.54);\n",
       "  --xr-font-color3: rgba(255, 255, 255, 0.38);\n",
       "  --xr-border-color: #1F1F1F;\n",
       "  --xr-disabled-color: #515151;\n",
       "  --xr-background-color: #111111;\n",
       "  --xr-background-color-row-even: #111111;\n",
       "  --xr-background-color-row-odd: #313131;\n",
       "}\n",
       "\n",
       ".xr-wrap {\n",
       "  display: block;\n",
       "  min-width: 300px;\n",
       "  max-width: 700px;\n",
       "}\n",
       "\n",
       ".xr-text-repr-fallback {\n",
       "  /* fallback to plain text repr when CSS is not injected (untrusted notebook) */\n",
       "  display: none;\n",
       "}\n",
       "\n",
       ".xr-header {\n",
       "  padding-top: 6px;\n",
       "  padding-bottom: 6px;\n",
       "  margin-bottom: 4px;\n",
       "  border-bottom: solid 1px var(--xr-border-color);\n",
       "}\n",
       "\n",
       ".xr-header > div,\n",
       ".xr-header > ul {\n",
       "  display: inline;\n",
       "  margin-top: 0;\n",
       "  margin-bottom: 0;\n",
       "}\n",
       "\n",
       ".xr-obj-type,\n",
       ".xr-array-name {\n",
       "  margin-left: 2px;\n",
       "  margin-right: 10px;\n",
       "}\n",
       "\n",
       ".xr-obj-type {\n",
       "  color: var(--xr-font-color2);\n",
       "}\n",
       "\n",
       ".xr-sections {\n",
       "  padding-left: 0 !important;\n",
       "  display: grid;\n",
       "  grid-template-columns: 150px auto auto 1fr 20px 20px;\n",
       "}\n",
       "\n",
       ".xr-section-item {\n",
       "  display: contents;\n",
       "}\n",
       "\n",
       ".xr-section-item input {\n",
       "  display: none;\n",
       "}\n",
       "\n",
       ".xr-section-item input + label {\n",
       "  color: var(--xr-disabled-color);\n",
       "}\n",
       "\n",
       ".xr-section-item input:enabled + label {\n",
       "  cursor: pointer;\n",
       "  color: var(--xr-font-color2);\n",
       "}\n",
       "\n",
       ".xr-section-item input:enabled + label:hover {\n",
       "  color: var(--xr-font-color0);\n",
       "}\n",
       "\n",
       ".xr-section-summary {\n",
       "  grid-column: 1;\n",
       "  color: var(--xr-font-color2);\n",
       "  font-weight: 500;\n",
       "}\n",
       "\n",
       ".xr-section-summary > span {\n",
       "  display: inline-block;\n",
       "  padding-left: 0.5em;\n",
       "}\n",
       "\n",
       ".xr-section-summary-in:disabled + label {\n",
       "  color: var(--xr-font-color2);\n",
       "}\n",
       "\n",
       ".xr-section-summary-in + label:before {\n",
       "  display: inline-block;\n",
       "  content: '►';\n",
       "  font-size: 11px;\n",
       "  width: 15px;\n",
       "  text-align: center;\n",
       "}\n",
       "\n",
       ".xr-section-summary-in:disabled + label:before {\n",
       "  color: var(--xr-disabled-color);\n",
       "}\n",
       "\n",
       ".xr-section-summary-in:checked + label:before {\n",
       "  content: '▼';\n",
       "}\n",
       "\n",
       ".xr-section-summary-in:checked + label > span {\n",
       "  display: none;\n",
       "}\n",
       "\n",
       ".xr-section-summary,\n",
       ".xr-section-inline-details {\n",
       "  padding-top: 4px;\n",
       "  padding-bottom: 4px;\n",
       "}\n",
       "\n",
       ".xr-section-inline-details {\n",
       "  grid-column: 2 / -1;\n",
       "}\n",
       "\n",
       ".xr-section-details {\n",
       "  display: none;\n",
       "  grid-column: 1 / -1;\n",
       "  margin-bottom: 5px;\n",
       "}\n",
       "\n",
       ".xr-section-summary-in:checked ~ .xr-section-details {\n",
       "  display: contents;\n",
       "}\n",
       "\n",
       ".xr-array-wrap {\n",
       "  grid-column: 1 / -1;\n",
       "  display: grid;\n",
       "  grid-template-columns: 20px auto;\n",
       "}\n",
       "\n",
       ".xr-array-wrap > label {\n",
       "  grid-column: 1;\n",
       "  vertical-align: top;\n",
       "}\n",
       "\n",
       ".xr-preview {\n",
       "  color: var(--xr-font-color3);\n",
       "}\n",
       "\n",
       ".xr-array-preview,\n",
       ".xr-array-data {\n",
       "  padding: 0 5px !important;\n",
       "  grid-column: 2;\n",
       "}\n",
       "\n",
       ".xr-array-data,\n",
       ".xr-array-in:checked ~ .xr-array-preview {\n",
       "  display: none;\n",
       "}\n",
       "\n",
       ".xr-array-in:checked ~ .xr-array-data,\n",
       ".xr-array-preview {\n",
       "  display: inline-block;\n",
       "}\n",
       "\n",
       ".xr-dim-list {\n",
       "  display: inline-block !important;\n",
       "  list-style: none;\n",
       "  padding: 0 !important;\n",
       "  margin: 0;\n",
       "}\n",
       "\n",
       ".xr-dim-list li {\n",
       "  display: inline-block;\n",
       "  padding: 0;\n",
       "  margin: 0;\n",
       "}\n",
       "\n",
       ".xr-dim-list:before {\n",
       "  content: '(';\n",
       "}\n",
       "\n",
       ".xr-dim-list:after {\n",
       "  content: ')';\n",
       "}\n",
       "\n",
       ".xr-dim-list li:not(:last-child):after {\n",
       "  content: ',';\n",
       "  padding-right: 5px;\n",
       "}\n",
       "\n",
       ".xr-has-index {\n",
       "  font-weight: bold;\n",
       "}\n",
       "\n",
       ".xr-var-list,\n",
       ".xr-var-item {\n",
       "  display: contents;\n",
       "}\n",
       "\n",
       ".xr-var-item > div,\n",
       ".xr-var-item label,\n",
       ".xr-var-item > .xr-var-name span {\n",
       "  background-color: var(--xr-background-color-row-even);\n",
       "  margin-bottom: 0;\n",
       "}\n",
       "\n",
       ".xr-var-item > .xr-var-name:hover span {\n",
       "  padding-right: 5px;\n",
       "}\n",
       "\n",
       ".xr-var-list > li:nth-child(odd) > div,\n",
       ".xr-var-list > li:nth-child(odd) > label,\n",
       ".xr-var-list > li:nth-child(odd) > .xr-var-name span {\n",
       "  background-color: var(--xr-background-color-row-odd);\n",
       "}\n",
       "\n",
       ".xr-var-name {\n",
       "  grid-column: 1;\n",
       "}\n",
       "\n",
       ".xr-var-dims {\n",
       "  grid-column: 2;\n",
       "}\n",
       "\n",
       ".xr-var-dtype {\n",
       "  grid-column: 3;\n",
       "  text-align: right;\n",
       "  color: var(--xr-font-color2);\n",
       "}\n",
       "\n",
       ".xr-var-preview {\n",
       "  grid-column: 4;\n",
       "}\n",
       "\n",
       ".xr-var-name,\n",
       ".xr-var-dims,\n",
       ".xr-var-dtype,\n",
       ".xr-preview,\n",
       ".xr-attrs dt {\n",
       "  white-space: nowrap;\n",
       "  overflow: hidden;\n",
       "  text-overflow: ellipsis;\n",
       "  padding-right: 10px;\n",
       "}\n",
       "\n",
       ".xr-var-name:hover,\n",
       ".xr-var-dims:hover,\n",
       ".xr-var-dtype:hover,\n",
       ".xr-attrs dt:hover {\n",
       "  overflow: visible;\n",
       "  width: auto;\n",
       "  z-index: 1;\n",
       "}\n",
       "\n",
       ".xr-var-attrs,\n",
       ".xr-var-data {\n",
       "  display: none;\n",
       "  background-color: var(--xr-background-color) !important;\n",
       "  padding-bottom: 5px !important;\n",
       "}\n",
       "\n",
       ".xr-var-attrs-in:checked ~ .xr-var-attrs,\n",
       ".xr-var-data-in:checked ~ .xr-var-data {\n",
       "  display: block;\n",
       "}\n",
       "\n",
       ".xr-var-data > table {\n",
       "  float: right;\n",
       "}\n",
       "\n",
       ".xr-var-name span,\n",
       ".xr-var-data,\n",
       ".xr-attrs {\n",
       "  padding-left: 25px !important;\n",
       "}\n",
       "\n",
       ".xr-attrs,\n",
       ".xr-var-attrs,\n",
       ".xr-var-data {\n",
       "  grid-column: 1 / -1;\n",
       "}\n",
       "\n",
       "dl.xr-attrs {\n",
       "  padding: 0;\n",
       "  margin: 0;\n",
       "  display: grid;\n",
       "  grid-template-columns: 125px auto;\n",
       "}\n",
       "\n",
       ".xr-attrs dt,\n",
       ".xr-attrs dd {\n",
       "  padding: 0;\n",
       "  margin: 0;\n",
       "  float: left;\n",
       "  padding-right: 10px;\n",
       "  width: auto;\n",
       "}\n",
       "\n",
       ".xr-attrs dt {\n",
       "  font-weight: normal;\n",
       "  grid-column: 1;\n",
       "}\n",
       "\n",
       ".xr-attrs dt:hover span {\n",
       "  display: inline-block;\n",
       "  background: var(--xr-background-color);\n",
       "  padding-right: 10px;\n",
       "}\n",
       "\n",
       ".xr-attrs dd {\n",
       "  grid-column: 2;\n",
       "  white-space: pre-wrap;\n",
       "  word-break: break-all;\n",
       "}\n",
       "\n",
       ".xr-icon-database,\n",
       ".xr-icon-file-text2 {\n",
       "  display: inline-block;\n",
       "  vertical-align: middle;\n",
       "  width: 1em;\n",
       "  height: 1.5em !important;\n",
       "  stroke-width: 0;\n",
       "  stroke: currentColor;\n",
       "  fill: currentColor;\n",
       "}\n",
       "</style><pre class='xr-text-repr-fallback'>&lt;xarray.DataArray &#x27;stackstac-abf58c56690c9d257a569f7ef9290c29&#x27; (time: 24, band: 3, y: 2624, x: 2622)&gt;\n",
       "dask.array&lt;getitem, shape=(24, 3, 2624, 2622), dtype=float64, chunksize=(1, 1, 1024, 1024), chunktype=numpy.ndarray&gt;\n",
       "Coordinates: (12/24)\n",
       "  * time                        (time) datetime64[ns] 2020-04-01T18:03:50 ......\n",
       "    id                          (time) &lt;U24 &#x27;S2B_13SDA_20200401_0_L2A&#x27; ... &#x27;S...\n",
       "  * band                        (band) &lt;U8 &#x27;B04&#x27; &#x27;B03&#x27; &#x27;B02&#x27;\n",
       "  * x                           (x) float64 3e+05 3.001e+05 ... 5.097e+05\n",
       "  * y                           (y) float64 4.1e+06 4.1e+06 ... 3.89e+06\n",
       "    view:off_nadir              int64 0\n",
       "    ...                          ...\n",
       "    sentinel:sequence           &lt;U1 &#x27;0&#x27;\n",
       "    sentinel:data_coverage      (time) float64 58.22 100.0 33.85 ... 100.0 42.69\n",
       "    data_coverage               (time) float64 58.22 100.0 33.85 ... 100.0 42.69\n",
       "    created                     (time) &lt;U24 &#x27;2020-09-05T12:39:12.865Z&#x27; ... &#x27;2...\n",
       "    title                       (band) object &#x27;Band 4 (red)&#x27; ... &#x27;Band 2 (blue)&#x27;\n",
       "    epsg                        int64 32613\n",
       "Attributes:\n",
       "    spec:        RasterSpec(epsg=32613, bounds=(300000, 3890160, 509760, 4100...\n",
       "    crs:         epsg:32613\n",
       "    transform:   | 80.00, 0.00, 300000.00|\\n| 0.00,-80.00, 4100080.00|\\n| 0.0...\n",
       "    resolution:  80</pre><div class='xr-wrap' hidden><div class='xr-header'><div class='xr-obj-type'>xarray.DataArray</div><div class='xr-array-name'>'stackstac-abf58c56690c9d257a569f7ef9290c29'</div><ul class='xr-dim-list'><li><span class='xr-has-index'>time</span>: 24</li><li><span class='xr-has-index'>band</span>: 3</li><li><span class='xr-has-index'>y</span>: 2624</li><li><span class='xr-has-index'>x</span>: 2622</li></ul></div><ul class='xr-sections'><li class='xr-section-item'><div class='xr-array-wrap'><input id='section-e466ab8a-8ee2-45d6-8e7c-b43fc0406c9b' class='xr-array-in' type='checkbox' checked><label for='section-e466ab8a-8ee2-45d6-8e7c-b43fc0406c9b' title='Show/hide data repr'><svg class='icon xr-icon-database'><use xlink:href='#icon-database'></use></svg></label><div class='xr-array-preview xr-preview'><span>dask.array&lt;chunksize=(1, 1, 1024, 1024), meta=np.ndarray&gt;</span></div><div class='xr-array-data'><table>\n",
       "<tr>\n",
       "<td>\n",
       "<table>\n",
       "  <thead>\n",
       "    <tr><td> </td><th> Array </th><th> Chunk </th></tr>\n",
       "  </thead>\n",
       "  <tbody>\n",
       "    <tr><th> Bytes </th><td> 3.69 GiB </td> <td> 8.00 MiB </td></tr>\n",
       "    <tr><th> Shape </th><td> (24, 3, 2624, 2622) </td> <td> (1, 1, 1024, 1024) </td></tr>\n",
       "    <tr><th> Count </th><td> 648 Tasks </td><td> 648 Chunks </td></tr>\n",
       "    <tr><th> Type </th><td> float64 </td><td> numpy.ndarray </td></tr>\n",
       "  </tbody>\n",
       "</table>\n",
       "</td>\n",
       "<td>\n",
       "<svg width=\"374\" height=\"184\" style=\"stroke:rgb(0,0,0);stroke-width:1\" >\n",
       "\n",
       "  <!-- Horizontal lines -->\n",
       "  <line x1=\"0\" y1=\"0\" x2=\"25\" y2=\"0\" style=\"stroke-width:2\" />\n",
       "  <line x1=\"0\" y1=\"25\" x2=\"25\" y2=\"25\" style=\"stroke-width:2\" />\n",
       "\n",
       "  <!-- Vertical lines -->\n",
       "  <line x1=\"0\" y1=\"0\" x2=\"0\" y2=\"25\" style=\"stroke-width:2\" />\n",
       "  <line x1=\"1\" y1=\"0\" x2=\"1\" y2=\"25\" />\n",
       "  <line x1=\"2\" y1=\"0\" x2=\"2\" y2=\"25\" />\n",
       "  <line x1=\"3\" y1=\"0\" x2=\"3\" y2=\"25\" />\n",
       "  <line x1=\"4\" y1=\"0\" x2=\"4\" y2=\"25\" />\n",
       "  <line x1=\"5\" y1=\"0\" x2=\"5\" y2=\"25\" />\n",
       "  <line x1=\"6\" y1=\"0\" x2=\"6\" y2=\"25\" />\n",
       "  <line x1=\"7\" y1=\"0\" x2=\"7\" y2=\"25\" />\n",
       "  <line x1=\"8\" y1=\"0\" x2=\"8\" y2=\"25\" />\n",
       "  <line x1=\"9\" y1=\"0\" x2=\"9\" y2=\"25\" />\n",
       "  <line x1=\"10\" y1=\"0\" x2=\"10\" y2=\"25\" />\n",
       "  <line x1=\"11\" y1=\"0\" x2=\"11\" y2=\"25\" />\n",
       "  <line x1=\"12\" y1=\"0\" x2=\"12\" y2=\"25\" />\n",
       "  <line x1=\"13\" y1=\"0\" x2=\"13\" y2=\"25\" />\n",
       "  <line x1=\"14\" y1=\"0\" x2=\"14\" y2=\"25\" />\n",
       "  <line x1=\"15\" y1=\"0\" x2=\"15\" y2=\"25\" />\n",
       "  <line x1=\"16\" y1=\"0\" x2=\"16\" y2=\"25\" />\n",
       "  <line x1=\"18\" y1=\"0\" x2=\"18\" y2=\"25\" />\n",
       "  <line x1=\"19\" y1=\"0\" x2=\"19\" y2=\"25\" />\n",
       "  <line x1=\"20\" y1=\"0\" x2=\"20\" y2=\"25\" />\n",
       "  <line x1=\"21\" y1=\"0\" x2=\"21\" y2=\"25\" />\n",
       "  <line x1=\"22\" y1=\"0\" x2=\"22\" y2=\"25\" />\n",
       "  <line x1=\"23\" y1=\"0\" x2=\"23\" y2=\"25\" />\n",
       "  <line x1=\"24\" y1=\"0\" x2=\"24\" y2=\"25\" />\n",
       "  <line x1=\"25\" y1=\"0\" x2=\"25\" y2=\"25\" style=\"stroke-width:2\" />\n",
       "\n",
       "  <!-- Colored Rectangle -->\n",
       "  <polygon points=\"0.0,0.0 25.412616514582485,0.0 25.412616514582485,25.412616514582485 0.0,25.412616514582485\" style=\"fill:#ECB172A0;stroke-width:0\"/>\n",
       "\n",
       "  <!-- Text -->\n",
       "  <text x=\"12.706308\" y=\"45.412617\" font-size=\"1.0rem\" font-weight=\"100\" text-anchor=\"middle\" >24</text>\n",
       "  <text x=\"45.412617\" y=\"12.706308\" font-size=\"1.0rem\" font-weight=\"100\" text-anchor=\"middle\" transform=\"rotate(0,45.412617,12.706308)\">1</text>\n",
       "\n",
       "\n",
       "  <!-- Horizontal lines -->\n",
       "  <line x1=\"95\" y1=\"0\" x2=\"109\" y2=\"14\" style=\"stroke-width:2\" />\n",
       "  <line x1=\"95\" y1=\"46\" x2=\"109\" y2=\"61\" />\n",
       "  <line x1=\"95\" y1=\"93\" x2=\"109\" y2=\"108\" />\n",
       "  <line x1=\"95\" y1=\"120\" x2=\"109\" y2=\"134\" style=\"stroke-width:2\" />\n",
       "\n",
       "  <!-- Vertical lines -->\n",
       "  <line x1=\"95\" y1=\"0\" x2=\"95\" y2=\"120\" style=\"stroke-width:2\" />\n",
       "  <line x1=\"99\" y1=\"4\" x2=\"99\" y2=\"124\" />\n",
       "  <line x1=\"104\" y1=\"9\" x2=\"104\" y2=\"129\" />\n",
       "  <line x1=\"109\" y1=\"14\" x2=\"109\" y2=\"134\" style=\"stroke-width:2\" />\n",
       "\n",
       "  <!-- Colored Rectangle -->\n",
       "  <polygon points=\"95.0,0.0 109.9485979497544,14.948597949754403 109.9485979497544,134.9485979497544 95.0,120.0\" style=\"fill:#ECB172A0;stroke-width:0\"/>\n",
       "\n",
       "  <!-- Horizontal lines -->\n",
       "  <line x1=\"95\" y1=\"0\" x2=\"214\" y2=\"0\" style=\"stroke-width:2\" />\n",
       "  <line x1=\"99\" y1=\"4\" x2=\"219\" y2=\"4\" />\n",
       "  <line x1=\"104\" y1=\"9\" x2=\"224\" y2=\"9\" />\n",
       "  <line x1=\"109\" y1=\"14\" x2=\"229\" y2=\"14\" style=\"stroke-width:2\" />\n",
       "\n",
       "  <!-- Vertical lines -->\n",
       "  <line x1=\"95\" y1=\"0\" x2=\"109\" y2=\"14\" style=\"stroke-width:2\" />\n",
       "  <line x1=\"141\" y1=\"0\" x2=\"156\" y2=\"14\" />\n",
       "  <line x1=\"188\" y1=\"0\" x2=\"203\" y2=\"14\" />\n",
       "  <line x1=\"214\" y1=\"0\" x2=\"229\" y2=\"14\" style=\"stroke-width:2\" />\n",
       "\n",
       "  <!-- Colored Rectangle -->\n",
       "  <polygon points=\"95.0,0.0 214.90853658536582,0.0 229.85713453512022,14.948597949754403 109.9485979497544,14.948597949754403\" style=\"fill:#ECB172A0;stroke-width:0\"/>\n",
       "\n",
       "  <!-- Horizontal lines -->\n",
       "  <line x1=\"109\" y1=\"14\" x2=\"229\" y2=\"14\" style=\"stroke-width:2\" />\n",
       "  <line x1=\"109\" y1=\"61\" x2=\"229\" y2=\"61\" />\n",
       "  <line x1=\"109\" y1=\"108\" x2=\"229\" y2=\"108\" />\n",
       "  <line x1=\"109\" y1=\"134\" x2=\"229\" y2=\"134\" style=\"stroke-width:2\" />\n",
       "\n",
       "  <!-- Vertical lines -->\n",
       "  <line x1=\"109\" y1=\"14\" x2=\"109\" y2=\"134\" style=\"stroke-width:2\" />\n",
       "  <line x1=\"156\" y1=\"14\" x2=\"156\" y2=\"134\" />\n",
       "  <line x1=\"203\" y1=\"14\" x2=\"203\" y2=\"134\" />\n",
       "  <line x1=\"229\" y1=\"14\" x2=\"229\" y2=\"134\" style=\"stroke-width:2\" />\n",
       "\n",
       "  <!-- Colored Rectangle -->\n",
       "  <polygon points=\"109.9485979497544,14.948597949754403 229.85713453512022,14.948597949754403 229.85713453512022,134.9485979497544 109.9485979497544,134.9485979497544\" style=\"fill:#ECB172A0;stroke-width:0\"/>\n",
       "\n",
       "  <!-- Text -->\n",
       "  <text x=\"169.902866\" y=\"154.948598\" font-size=\"1.0rem\" font-weight=\"100\" text-anchor=\"middle\" >2622</text>\n",
       "  <text x=\"249.857135\" y=\"74.948598\" font-size=\"1.0rem\" font-weight=\"100\" text-anchor=\"middle\" transform=\"rotate(-90,249.857135,74.948598)\">2624</text>\n",
       "  <text x=\"92.474299\" y=\"147.474299\" font-size=\"1.0rem\" font-weight=\"100\" text-anchor=\"middle\" transform=\"rotate(45,92.474299,147.474299)\">3</text>\n",
       "</svg>\n",
       "</td>\n",
       "</tr>\n",
       "</table></div></div></li><li class='xr-section-item'><input id='section-eff563f3-bdc2-46ea-88a6-2feeacdbbac8' class='xr-section-summary-in' type='checkbox'  checked><label for='section-eff563f3-bdc2-46ea-88a6-2feeacdbbac8' class='xr-section-summary' >Coordinates: <span>(24)</span></label><div class='xr-section-inline-details'></div><div class='xr-section-details'><ul class='xr-var-list'><li class='xr-var-item'><div class='xr-var-name'><span class='xr-has-index'>time</span></div><div class='xr-var-dims'>(time)</div><div class='xr-var-dtype'>datetime64[ns]</div><div class='xr-var-preview xr-preview'>2020-04-01T18:03:50 ... 2020-04-...</div><input id='attrs-1d83d513-3626-48ba-ae56-582a1c3c7766' class='xr-var-attrs-in' type='checkbox' disabled><label for='attrs-1d83d513-3626-48ba-ae56-582a1c3c7766' title='Show/Hide attributes'><svg class='icon xr-icon-file-text2'><use xlink:href='#icon-file-text2'></use></svg></label><input id='data-65efeb4e-6e5f-4ef4-9332-16228a32079b' class='xr-var-data-in' type='checkbox'><label for='data-65efeb4e-6e5f-4ef4-9332-16228a32079b' title='Show/Hide data repr'><svg class='icon xr-icon-database'><use xlink:href='#icon-database'></use></svg></label><div class='xr-var-attrs'><dl class='xr-attrs'></dl></div><div class='xr-var-data'><pre>array([&#x27;2020-04-01T18:03:50.000000000&#x27;, &#x27;2020-04-01T18:03:54.000000000&#x27;,\n",
       "       &#x27;2020-04-01T18:04:04.000000000&#x27;, &#x27;2020-04-01T18:04:08.000000000&#x27;,\n",
       "       &#x27;2020-04-03T17:53:53.000000000&#x27;, &#x27;2020-04-03T17:53:57.000000000&#x27;,\n",
       "       &#x27;2020-04-03T17:54:07.000000000&#x27;, &#x27;2020-04-03T17:54:10.000000000&#x27;,\n",
       "       &#x27;2020-04-06T18:03:49.000000000&#x27;, &#x27;2020-04-06T18:03:53.000000000&#x27;,\n",
       "       &#x27;2020-04-06T18:04:04.000000000&#x27;, &#x27;2020-04-06T18:04:08.000000000&#x27;,\n",
       "       &#x27;2020-04-08T17:53:53.000000000&#x27;, &#x27;2020-04-08T17:53:57.000000000&#x27;,\n",
       "       &#x27;2020-04-08T17:54:08.000000000&#x27;, &#x27;2020-04-08T17:54:11.000000000&#x27;,\n",
       "       &#x27;2020-04-11T18:03:49.000000000&#x27;, &#x27;2020-04-11T18:03:53.000000000&#x27;,\n",
       "       &#x27;2020-04-11T18:04:03.000000000&#x27;, &#x27;2020-04-11T18:04:07.000000000&#x27;,\n",
       "       &#x27;2020-04-13T17:53:56.000000000&#x27;, &#x27;2020-04-13T17:54:00.000000000&#x27;,\n",
       "       &#x27;2020-04-13T17:54:10.000000000&#x27;, &#x27;2020-04-13T17:54:13.000000000&#x27;],\n",
       "      dtype=&#x27;datetime64[ns]&#x27;)</pre></div></li><li class='xr-var-item'><div class='xr-var-name'><span>id</span></div><div class='xr-var-dims'>(time)</div><div class='xr-var-dtype'>&lt;U24</div><div class='xr-var-preview xr-preview'>&#x27;S2B_13SDA_20200401_0_L2A&#x27; ... &#x27;...</div><input id='attrs-d03132c5-1347-4883-bf88-daf278660654' class='xr-var-attrs-in' type='checkbox' disabled><label for='attrs-d03132c5-1347-4883-bf88-daf278660654' title='Show/Hide attributes'><svg class='icon xr-icon-file-text2'><use xlink:href='#icon-file-text2'></use></svg></label><input id='data-d5d12e3b-bde9-403e-a3c0-6f270cb570b1' class='xr-var-data-in' type='checkbox'><label for='data-d5d12e3b-bde9-403e-a3c0-6f270cb570b1' title='Show/Hide data repr'><svg class='icon xr-icon-database'><use xlink:href='#icon-database'></use></svg></label><div class='xr-var-attrs'><dl class='xr-attrs'></dl></div><div class='xr-var-data'><pre>array([&#x27;S2B_13SDA_20200401_0_L2A&#x27;, &#x27;S2B_13SCA_20200401_0_L2A&#x27;,\n",
       "       &#x27;S2B_13SDV_20200401_0_L2A&#x27;, &#x27;S2B_13SCV_20200401_0_L2A&#x27;,\n",
       "       &#x27;S2A_13SDA_20200403_0_L2A&#x27;, &#x27;S2A_13SCA_20200403_0_L2A&#x27;,\n",
       "       &#x27;S2A_13SDV_20200403_0_L2A&#x27;, &#x27;S2A_13SCV_20200403_0_L2A&#x27;,\n",
       "       &#x27;S2A_13SDA_20200406_0_L2A&#x27;, &#x27;S2A_13SCA_20200406_0_L2A&#x27;,\n",
       "       &#x27;S2A_13SDV_20200406_0_L2A&#x27;, &#x27;S2A_13SCV_20200406_0_L2A&#x27;,\n",
       "       &#x27;S2B_13SDA_20200408_0_L2A&#x27;, &#x27;S2B_13SCA_20200408_0_L2A&#x27;,\n",
       "       &#x27;S2B_13SDV_20200408_0_L2A&#x27;, &#x27;S2B_13SCV_20200408_0_L2A&#x27;,\n",
       "       &#x27;S2B_13SDA_20200411_0_L2A&#x27;, &#x27;S2B_13SCA_20200411_0_L2A&#x27;,\n",
       "       &#x27;S2B_13SDV_20200411_0_L2A&#x27;, &#x27;S2B_13SCV_20200411_0_L2A&#x27;,\n",
       "       &#x27;S2A_13SDA_20200413_0_L2A&#x27;, &#x27;S2A_13SCA_20200413_0_L2A&#x27;,\n",
       "       &#x27;S2A_13SDV_20200413_0_L2A&#x27;, &#x27;S2A_13SCV_20200413_0_L2A&#x27;],\n",
       "      dtype=&#x27;&lt;U24&#x27;)</pre></div></li><li class='xr-var-item'><div class='xr-var-name'><span class='xr-has-index'>band</span></div><div class='xr-var-dims'>(band)</div><div class='xr-var-dtype'>&lt;U8</div><div class='xr-var-preview xr-preview'>&#x27;B04&#x27; &#x27;B03&#x27; &#x27;B02&#x27;</div><input id='attrs-8f97da17-7d4e-4bfc-b932-a2c43a9be399' class='xr-var-attrs-in' type='checkbox' disabled><label for='attrs-8f97da17-7d4e-4bfc-b932-a2c43a9be399' title='Show/Hide attributes'><svg class='icon xr-icon-file-text2'><use xlink:href='#icon-file-text2'></use></svg></label><input id='data-d564e61c-7799-4d06-8cd6-f215c7f48f22' class='xr-var-data-in' type='checkbox'><label for='data-d564e61c-7799-4d06-8cd6-f215c7f48f22' title='Show/Hide data repr'><svg class='icon xr-icon-database'><use xlink:href='#icon-database'></use></svg></label><div class='xr-var-attrs'><dl class='xr-attrs'></dl></div><div class='xr-var-data'><pre>array([&#x27;B04&#x27;, &#x27;B03&#x27;, &#x27;B02&#x27;], dtype=&#x27;&lt;U8&#x27;)</pre></div></li><li class='xr-var-item'><div class='xr-var-name'><span class='xr-has-index'>x</span></div><div class='xr-var-dims'>(x)</div><div class='xr-var-dtype'>float64</div><div class='xr-var-preview xr-preview'>3e+05 3.001e+05 ... 5.097e+05</div><input id='attrs-bec71123-34be-454e-b1fa-5f219ed0faf4' class='xr-var-attrs-in' type='checkbox' disabled><label for='attrs-bec71123-34be-454e-b1fa-5f219ed0faf4' title='Show/Hide attributes'><svg class='icon xr-icon-file-text2'><use xlink:href='#icon-file-text2'></use></svg></label><input id='data-f92126ad-0eae-4d09-907f-b0e0cafdd3ee' class='xr-var-data-in' type='checkbox'><label for='data-f92126ad-0eae-4d09-907f-b0e0cafdd3ee' title='Show/Hide data repr'><svg class='icon xr-icon-database'><use xlink:href='#icon-database'></use></svg></label><div class='xr-var-attrs'><dl class='xr-attrs'></dl></div><div class='xr-var-data'><pre>array([300000., 300080., 300160., ..., 509520., 509600., 509680.])</pre></div></li><li class='xr-var-item'><div class='xr-var-name'><span class='xr-has-index'>y</span></div><div class='xr-var-dims'>(y)</div><div class='xr-var-dtype'>float64</div><div class='xr-var-preview xr-preview'>4.1e+06 4.1e+06 ... 3.89e+06</div><input id='attrs-77e07955-ba94-44e5-a370-94b65ed91665' class='xr-var-attrs-in' type='checkbox' disabled><label for='attrs-77e07955-ba94-44e5-a370-94b65ed91665' title='Show/Hide attributes'><svg class='icon xr-icon-file-text2'><use xlink:href='#icon-file-text2'></use></svg></label><input id='data-5931f635-dbe8-406a-962d-1545c2c316a4' class='xr-var-data-in' type='checkbox'><label for='data-5931f635-dbe8-406a-962d-1545c2c316a4' title='Show/Hide data repr'><svg class='icon xr-icon-database'><use xlink:href='#icon-database'></use></svg></label><div class='xr-var-attrs'><dl class='xr-attrs'></dl></div><div class='xr-var-data'><pre>array([4100080., 4100000., 4099920., ..., 3890400., 3890320., 3890240.])</pre></div></li><li class='xr-var-item'><div class='xr-var-name'><span>view:off_nadir</span></div><div class='xr-var-dims'>()</div><div class='xr-var-dtype'>int64</div><div class='xr-var-preview xr-preview'>0</div><input id='attrs-fc812f17-fc35-4993-9e7c-0b69b29e9f67' class='xr-var-attrs-in' type='checkbox' disabled><label for='attrs-fc812f17-fc35-4993-9e7c-0b69b29e9f67' title='Show/Hide attributes'><svg class='icon xr-icon-file-text2'><use xlink:href='#icon-file-text2'></use></svg></label><input id='data-6e0969d1-2e6d-45ba-aa71-cb1b49a43fcd' class='xr-var-data-in' type='checkbox'><label for='data-6e0969d1-2e6d-45ba-aa71-cb1b49a43fcd' title='Show/Hide data repr'><svg class='icon xr-icon-database'><use xlink:href='#icon-database'></use></svg></label><div class='xr-var-attrs'><dl class='xr-attrs'></dl></div><div class='xr-var-data'><pre>array(0)</pre></div></li><li class='xr-var-item'><div class='xr-var-name'><span>sentinel:product_id</span></div><div class='xr-var-dims'>(time)</div><div class='xr-var-dtype'>&lt;U60</div><div class='xr-var-preview xr-preview'>&#x27;S2B_MSIL2A_20200401T174909_N021...</div><input id='attrs-9de78fae-159b-441f-865e-3246448877ec' class='xr-var-attrs-in' type='checkbox' disabled><label for='attrs-9de78fae-159b-441f-865e-3246448877ec' title='Show/Hide attributes'><svg class='icon xr-icon-file-text2'><use xlink:href='#icon-file-text2'></use></svg></label><input id='data-527678d3-555e-4e7b-ac89-2d636a5bf83b' class='xr-var-data-in' type='checkbox'><label for='data-527678d3-555e-4e7b-ac89-2d636a5bf83b' title='Show/Hide data repr'><svg class='icon xr-icon-database'><use xlink:href='#icon-database'></use></svg></label><div class='xr-var-attrs'><dl class='xr-attrs'></dl></div><div class='xr-var-data'><pre>array([&#x27;S2B_MSIL2A_20200401T174909_N0214_R141_T13SDA_20200401T220155&#x27;,\n",
       "       &#x27;S2B_MSIL2A_20200401T174909_N0214_R141_T13SCA_20200401T220155&#x27;,\n",
       "       &#x27;S2B_MSIL2A_20200401T174909_N0214_R141_T13SDV_20200401T220155&#x27;,\n",
       "       &#x27;S2B_MSIL2A_20200401T174909_N0214_R141_T13SCV_20200401T220155&#x27;,\n",
       "       &#x27;S2A_MSIL2A_20200403T173901_N0214_R098_T13SDA_20200403T220105&#x27;,\n",
       "       &#x27;S2A_MSIL2A_20200403T173901_N0214_R098_T13SCA_20200403T220105&#x27;,\n",
       "       &#x27;S2A_MSIL2A_20200403T173901_N0214_R098_T13SDV_20200403T220105&#x27;,\n",
       "       &#x27;S2A_MSIL2A_20200403T173901_N0214_R098_T13SCV_20200403T220105&#x27;,\n",
       "       &#x27;S2A_MSIL2A_20200406T174901_N0214_R141_T13SDA_20200406T221027&#x27;,\n",
       "       &#x27;S2A_MSIL2A_20200406T174901_N0214_R141_T13SCA_20200406T221027&#x27;,\n",
       "       &#x27;S2A_MSIL2A_20200406T174901_N0214_R141_T13SDV_20200406T221027&#x27;,\n",
       "       &#x27;S2A_MSIL2A_20200406T174901_N0214_R141_T13SCV_20200406T221027&#x27;,\n",
       "       &#x27;S2B_MSIL2A_20200408T173859_N0214_R098_T13SDA_20200408T215856&#x27;,\n",
       "       &#x27;S2B_MSIL2A_20200408T173859_N0214_R098_T13SCA_20200408T215856&#x27;,\n",
       "       &#x27;S2B_MSIL2A_20200408T173859_N0214_R098_T13SDV_20200408T215856&#x27;,\n",
       "       &#x27;S2B_MSIL2A_20200408T173859_N0214_R098_T13SCV_20200408T215856&#x27;,\n",
       "       &#x27;S2B_MSIL2A_20200411T174909_N0214_R141_T13SDA_20200411T220443&#x27;,\n",
       "       &#x27;S2B_MSIL2A_20200411T174909_N0214_R141_T13SCA_20200411T220443&#x27;,\n",
       "       &#x27;S2B_MSIL2A_20200411T174909_N0214_R141_T13SDV_20200411T220443&#x27;,\n",
       "       &#x27;S2B_MSIL2A_20200411T174909_N0214_R141_T13SCV_20200411T220443&#x27;,\n",
       "       &#x27;S2A_MSIL2A_20200413T173901_N0214_R098_T13SDA_20200413T235616&#x27;,\n",
       "       &#x27;S2A_MSIL2A_20200413T173901_N0214_R098_T13SCA_20200413T235616&#x27;,\n",
       "       &#x27;S2A_MSIL2A_20200413T173901_N0214_R098_T13SDV_20200413T235616&#x27;,\n",
       "       &#x27;S2A_MSIL2A_20200413T173901_N0214_R098_T13SCV_20200413T235616&#x27;],\n",
       "      dtype=&#x27;&lt;U60&#x27;)</pre></div></li><li class='xr-var-item'><div class='xr-var-name'><span>proj:epsg</span></div><div class='xr-var-dims'>()</div><div class='xr-var-dtype'>int64</div><div class='xr-var-preview xr-preview'>32613</div><input id='attrs-8a9320cb-60f6-4fba-8175-d877f6c5ee3a' class='xr-var-attrs-in' type='checkbox' disabled><label for='attrs-8a9320cb-60f6-4fba-8175-d877f6c5ee3a' title='Show/Hide attributes'><svg class='icon xr-icon-file-text2'><use xlink:href='#icon-file-text2'></use></svg></label><input id='data-184a7e3e-af84-406b-94aa-941d28ce9df2' class='xr-var-data-in' type='checkbox'><label for='data-184a7e3e-af84-406b-94aa-941d28ce9df2' title='Show/Hide data repr'><svg class='icon xr-icon-database'><use xlink:href='#icon-database'></use></svg></label><div class='xr-var-attrs'><dl class='xr-attrs'></dl></div><div class='xr-var-data'><pre>array(32613)</pre></div></li><li class='xr-var-item'><div class='xr-var-name'><span>constellation</span></div><div class='xr-var-dims'>()</div><div class='xr-var-dtype'>&lt;U10</div><div class='xr-var-preview xr-preview'>&#x27;sentinel-2&#x27;</div><input id='attrs-0ca87ff4-5176-4de7-a3aa-4445984f1f3d' class='xr-var-attrs-in' type='checkbox' disabled><label for='attrs-0ca87ff4-5176-4de7-a3aa-4445984f1f3d' title='Show/Hide attributes'><svg class='icon xr-icon-file-text2'><use xlink:href='#icon-file-text2'></use></svg></label><input id='data-cff00719-2a64-4fc6-9433-3aa9490a9cc1' class='xr-var-data-in' type='checkbox'><label for='data-cff00719-2a64-4fc6-9433-3aa9490a9cc1' title='Show/Hide data repr'><svg class='icon xr-icon-database'><use xlink:href='#icon-database'></use></svg></label><div class='xr-var-attrs'><dl class='xr-attrs'></dl></div><div class='xr-var-data'><pre>array(&#x27;sentinel-2&#x27;, dtype=&#x27;&lt;U10&#x27;)</pre></div></li><li class='xr-var-item'><div class='xr-var-name'><span>instruments</span></div><div class='xr-var-dims'>()</div><div class='xr-var-dtype'>&lt;U3</div><div class='xr-var-preview xr-preview'>&#x27;msi&#x27;</div><input id='attrs-a2886082-44f1-4418-a1eb-5b60044eb294' class='xr-var-attrs-in' type='checkbox' disabled><label for='attrs-a2886082-44f1-4418-a1eb-5b60044eb294' title='Show/Hide attributes'><svg class='icon xr-icon-file-text2'><use xlink:href='#icon-file-text2'></use></svg></label><input id='data-e6477fcc-f33d-424f-811c-8c8a29743f66' class='xr-var-data-in' type='checkbox'><label for='data-e6477fcc-f33d-424f-811c-8c8a29743f66' title='Show/Hide data repr'><svg class='icon xr-icon-database'><use xlink:href='#icon-database'></use></svg></label><div class='xr-var-attrs'><dl class='xr-attrs'></dl></div><div class='xr-var-data'><pre>array(&#x27;msi&#x27;, dtype=&#x27;&lt;U3&#x27;)</pre></div></li><li class='xr-var-item'><div class='xr-var-name'><span>platform</span></div><div class='xr-var-dims'>(time)</div><div class='xr-var-dtype'>object</div><div class='xr-var-preview xr-preview'>None None ... &#x27;sentinel-2a&#x27;</div><input id='attrs-e672aac4-8e0b-4af5-8e69-94253215f81b' class='xr-var-attrs-in' type='checkbox' disabled><label for='attrs-e672aac4-8e0b-4af5-8e69-94253215f81b' title='Show/Hide attributes'><svg class='icon xr-icon-file-text2'><use xlink:href='#icon-file-text2'></use></svg></label><input id='data-d26dfb3f-be9a-4c7f-89ea-b554394f1c53' class='xr-var-data-in' type='checkbox'><label for='data-d26dfb3f-be9a-4c7f-89ea-b554394f1c53' title='Show/Hide data repr'><svg class='icon xr-icon-database'><use xlink:href='#icon-database'></use></svg></label><div class='xr-var-attrs'><dl class='xr-attrs'></dl></div><div class='xr-var-data'><pre>array([None, None, None, &#x27;sentinel-2b&#x27;, &#x27;sentinel-2a&#x27;, &#x27;sentinel-2a&#x27;,\n",
       "       &#x27;sentinel-2a&#x27;, &#x27;sentinel-2a&#x27;, &#x27;sentinel-2a&#x27;, &#x27;sentinel-2a&#x27;,\n",
       "       &#x27;sentinel-2a&#x27;, &#x27;sentinel-2a&#x27;, &#x27;sentinel-2b&#x27;, &#x27;sentinel-2b&#x27;,\n",
       "       &#x27;sentinel-2b&#x27;, &#x27;sentinel-2b&#x27;, &#x27;sentinel-2b&#x27;, &#x27;sentinel-2b&#x27;,\n",
       "       &#x27;sentinel-2b&#x27;, &#x27;sentinel-2b&#x27;, &#x27;sentinel-2a&#x27;, &#x27;sentinel-2a&#x27;,\n",
       "       &#x27;sentinel-2a&#x27;, &#x27;sentinel-2a&#x27;], dtype=object)</pre></div></li><li class='xr-var-item'><div class='xr-var-name'><span>eo:cloud_cover</span></div><div class='xr-var-dims'>(time)</div><div class='xr-var-dtype'>float64</div><div class='xr-var-preview xr-preview'>27.36 28.71 29.24 ... 100.0 100.0</div><input id='attrs-e009f071-d694-4916-9adb-b295335f1827' class='xr-var-attrs-in' type='checkbox' disabled><label for='attrs-e009f071-d694-4916-9adb-b295335f1827' title='Show/Hide attributes'><svg class='icon xr-icon-file-text2'><use xlink:href='#icon-file-text2'></use></svg></label><input id='data-2ac67e38-5c46-4a8b-a3cf-4124a3001616' class='xr-var-data-in' type='checkbox'><label for='data-2ac67e38-5c46-4a8b-a3cf-4124a3001616' title='Show/Hide data repr'><svg class='icon xr-icon-database'><use xlink:href='#icon-database'></use></svg></label><div class='xr-var-attrs'><dl class='xr-attrs'></dl></div><div class='xr-var-data'><pre>array([ 27.36,  28.71,  29.24,  42.53,  12.33,   7.4 ,   1.16,   1.58,\n",
       "         2.09,   1.01,  27.26,  15.75,   2.74,   0.53,   1.15,   0.11,\n",
       "        15.67,  11.07,   9.37,  17.83,  99.96,  99.97, 100.  , 100.  ])</pre></div></li><li class='xr-var-item'><div class='xr-var-name'><span>gsd</span></div><div class='xr-var-dims'>()</div><div class='xr-var-dtype'>int64</div><div class='xr-var-preview xr-preview'>10</div><input id='attrs-66790d8b-3cc6-428f-9d6a-8b282c8f4856' class='xr-var-attrs-in' type='checkbox' disabled><label for='attrs-66790d8b-3cc6-428f-9d6a-8b282c8f4856' title='Show/Hide attributes'><svg class='icon xr-icon-file-text2'><use xlink:href='#icon-file-text2'></use></svg></label><input id='data-8b3f88ac-4577-404a-ae70-bb75453479f6' class='xr-var-data-in' type='checkbox'><label for='data-8b3f88ac-4577-404a-ae70-bb75453479f6' title='Show/Hide data repr'><svg class='icon xr-icon-database'><use xlink:href='#icon-database'></use></svg></label><div class='xr-var-attrs'><dl class='xr-attrs'></dl></div><div class='xr-var-data'><pre>array(10)</pre></div></li><li class='xr-var-item'><div class='xr-var-name'><span>sentinel:latitude_band</span></div><div class='xr-var-dims'>()</div><div class='xr-var-dtype'>&lt;U1</div><div class='xr-var-preview xr-preview'>&#x27;S&#x27;</div><input id='attrs-ef0f8785-cbc1-4e20-b096-a60c50b3855c' class='xr-var-attrs-in' type='checkbox' disabled><label for='attrs-ef0f8785-cbc1-4e20-b096-a60c50b3855c' title='Show/Hide attributes'><svg class='icon xr-icon-file-text2'><use xlink:href='#icon-file-text2'></use></svg></label><input id='data-cd2e018b-746a-414f-9f70-a21c6a4530e6' class='xr-var-data-in' type='checkbox'><label for='data-cd2e018b-746a-414f-9f70-a21c6a4530e6' title='Show/Hide data repr'><svg class='icon xr-icon-database'><use xlink:href='#icon-database'></use></svg></label><div class='xr-var-attrs'><dl class='xr-attrs'></dl></div><div class='xr-var-data'><pre>array(&#x27;S&#x27;, dtype=&#x27;&lt;U1&#x27;)</pre></div></li><li class='xr-var-item'><div class='xr-var-name'><span>sentinel:grid_square</span></div><div class='xr-var-dims'>(time)</div><div class='xr-var-dtype'>&lt;U2</div><div class='xr-var-preview xr-preview'>&#x27;DA&#x27; &#x27;CA&#x27; &#x27;DV&#x27; ... &#x27;CA&#x27; &#x27;DV&#x27; &#x27;CV&#x27;</div><input id='attrs-d3616a3d-7078-45cf-9bf7-fa89c3c5e0e4' class='xr-var-attrs-in' type='checkbox' disabled><label for='attrs-d3616a3d-7078-45cf-9bf7-fa89c3c5e0e4' title='Show/Hide attributes'><svg class='icon xr-icon-file-text2'><use xlink:href='#icon-file-text2'></use></svg></label><input id='data-a3cc7fda-05e0-4704-9a95-b0f4bc03fd86' class='xr-var-data-in' type='checkbox'><label for='data-a3cc7fda-05e0-4704-9a95-b0f4bc03fd86' title='Show/Hide data repr'><svg class='icon xr-icon-database'><use xlink:href='#icon-database'></use></svg></label><div class='xr-var-attrs'><dl class='xr-attrs'></dl></div><div class='xr-var-data'><pre>array([&#x27;DA&#x27;, &#x27;CA&#x27;, &#x27;DV&#x27;, &#x27;CV&#x27;, &#x27;DA&#x27;, &#x27;CA&#x27;, &#x27;DV&#x27;, &#x27;CV&#x27;, &#x27;DA&#x27;, &#x27;CA&#x27;, &#x27;DV&#x27;,\n",
       "       &#x27;CV&#x27;, &#x27;DA&#x27;, &#x27;CA&#x27;, &#x27;DV&#x27;, &#x27;CV&#x27;, &#x27;DA&#x27;, &#x27;CA&#x27;, &#x27;DV&#x27;, &#x27;CV&#x27;, &#x27;DA&#x27;, &#x27;CA&#x27;,\n",
       "       &#x27;DV&#x27;, &#x27;CV&#x27;], dtype=&#x27;&lt;U2&#x27;)</pre></div></li><li class='xr-var-item'><div class='xr-var-name'><span>updated</span></div><div class='xr-var-dims'>(time)</div><div class='xr-var-dtype'>&lt;U24</div><div class='xr-var-preview xr-preview'>&#x27;2020-09-05T12:39:12.865Z&#x27; ... &#x27;...</div><input id='attrs-5063f29d-813c-4ad6-abec-bea339e18985' class='xr-var-attrs-in' type='checkbox' disabled><label for='attrs-5063f29d-813c-4ad6-abec-bea339e18985' title='Show/Hide attributes'><svg class='icon xr-icon-file-text2'><use xlink:href='#icon-file-text2'></use></svg></label><input id='data-9ce3f2a9-0e95-496f-bf21-f66b7dc16450' class='xr-var-data-in' type='checkbox'><label for='data-9ce3f2a9-0e95-496f-bf21-f66b7dc16450' title='Show/Hide data repr'><svg class='icon xr-icon-database'><use xlink:href='#icon-database'></use></svg></label><div class='xr-var-attrs'><dl class='xr-attrs'></dl></div><div class='xr-var-data'><pre>array([&#x27;2020-09-05T12:39:12.865Z&#x27;, &#x27;2020-09-05T06:24:19.862Z&#x27;,\n",
       "       &#x27;2020-09-05T06:23:47.836Z&#x27;, &#x27;2020-09-18T23:33:57.593Z&#x27;,\n",
       "       &#x27;2020-09-05T10:35:08.576Z&#x27;, &#x27;2020-09-18T22:58:28.920Z&#x27;,\n",
       "       &#x27;2020-09-23T15:43:10.502Z&#x27;, &#x27;2020-08-31T15:57:36.461Z&#x27;,\n",
       "       &#x27;2020-09-19T03:48:23.504Z&#x27;, &#x27;2020-09-05T10:00:19.229Z&#x27;,\n",
       "       &#x27;2020-09-05T11:18:48.722Z&#x27;, &#x27;2020-08-31T15:12:49.407Z&#x27;,\n",
       "       &#x27;2020-08-31T15:02:43.771Z&#x27;, &#x27;2020-09-19T00:17:08.540Z&#x27;,\n",
       "       &#x27;2020-08-31T15:23:56.855Z&#x27;, &#x27;2020-09-05T12:50:14.783Z&#x27;,\n",
       "       &#x27;2020-09-23T09:12:42.490Z&#x27;, &#x27;2020-09-18T23:11:12.399Z&#x27;,\n",
       "       &#x27;2020-09-23T16:16:43.693Z&#x27;, &#x27;2020-09-23T09:09:25.619Z&#x27;,\n",
       "       &#x27;2020-09-19T01:38:56.112Z&#x27;, &#x27;2020-09-19T10:28:14.469Z&#x27;,\n",
       "       &#x27;2020-09-24T06:31:45.567Z&#x27;, &#x27;2020-09-19T03:49:30.360Z&#x27;],\n",
       "      dtype=&#x27;&lt;U24&#x27;)</pre></div></li><li class='xr-var-item'><div class='xr-var-name'><span>sentinel:valid_cloud_cover</span></div><div class='xr-var-dims'>()</div><div class='xr-var-dtype'>bool</div><div class='xr-var-preview xr-preview'>True</div><input id='attrs-28337ddb-249e-4cad-84a4-c5d55c5c093b' class='xr-var-attrs-in' type='checkbox' disabled><label for='attrs-28337ddb-249e-4cad-84a4-c5d55c5c093b' title='Show/Hide attributes'><svg class='icon xr-icon-file-text2'><use xlink:href='#icon-file-text2'></use></svg></label><input id='data-9527ab9c-95a0-42db-9a7d-2c754eb09196' class='xr-var-data-in' type='checkbox'><label for='data-9527ab9c-95a0-42db-9a7d-2c754eb09196' title='Show/Hide data repr'><svg class='icon xr-icon-database'><use xlink:href='#icon-database'></use></svg></label><div class='xr-var-attrs'><dl class='xr-attrs'></dl></div><div class='xr-var-data'><pre>array(True)</pre></div></li><li class='xr-var-item'><div class='xr-var-name'><span>sentinel:utm_zone</span></div><div class='xr-var-dims'>()</div><div class='xr-var-dtype'>int64</div><div class='xr-var-preview xr-preview'>13</div><input id='attrs-833fdc43-351e-47b3-8924-0decd9a66a9c' class='xr-var-attrs-in' type='checkbox' disabled><label for='attrs-833fdc43-351e-47b3-8924-0decd9a66a9c' title='Show/Hide attributes'><svg class='icon xr-icon-file-text2'><use xlink:href='#icon-file-text2'></use></svg></label><input id='data-150cf53b-4599-416a-a4c7-a09eccce03fe' class='xr-var-data-in' type='checkbox'><label for='data-150cf53b-4599-416a-a4c7-a09eccce03fe' title='Show/Hide data repr'><svg class='icon xr-icon-database'><use xlink:href='#icon-database'></use></svg></label><div class='xr-var-attrs'><dl class='xr-attrs'></dl></div><div class='xr-var-data'><pre>array(13)</pre></div></li><li class='xr-var-item'><div class='xr-var-name'><span>sentinel:sequence</span></div><div class='xr-var-dims'>()</div><div class='xr-var-dtype'>&lt;U1</div><div class='xr-var-preview xr-preview'>&#x27;0&#x27;</div><input id='attrs-c8de1202-4d6e-4bb6-921d-44248ad48077' class='xr-var-attrs-in' type='checkbox' disabled><label for='attrs-c8de1202-4d6e-4bb6-921d-44248ad48077' title='Show/Hide attributes'><svg class='icon xr-icon-file-text2'><use xlink:href='#icon-file-text2'></use></svg></label><input id='data-9b7dbd43-bd7e-47ea-98eb-a172f8a74aa2' class='xr-var-data-in' type='checkbox'><label for='data-9b7dbd43-bd7e-47ea-98eb-a172f8a74aa2' title='Show/Hide data repr'><svg class='icon xr-icon-database'><use xlink:href='#icon-database'></use></svg></label><div class='xr-var-attrs'><dl class='xr-attrs'></dl></div><div class='xr-var-data'><pre>array(&#x27;0&#x27;, dtype=&#x27;&lt;U1&#x27;)</pre></div></li><li class='xr-var-item'><div class='xr-var-name'><span>sentinel:data_coverage</span></div><div class='xr-var-dims'>(time)</div><div class='xr-var-dtype'>float64</div><div class='xr-var-preview xr-preview'>58.22 100.0 33.85 ... 100.0 42.69</div><input id='attrs-71857875-c340-4e3d-95db-582a4b7b9dc4' class='xr-var-attrs-in' type='checkbox' disabled><label for='attrs-71857875-c340-4e3d-95db-582a4b7b9dc4' title='Show/Hide attributes'><svg class='icon xr-icon-file-text2'><use xlink:href='#icon-file-text2'></use></svg></label><input id='data-9f934cdc-281d-43ae-8977-ccd6aca22c3c' class='xr-var-data-in' type='checkbox'><label for='data-9f934cdc-281d-43ae-8977-ccd6aca22c3c' title='Show/Hide data repr'><svg class='icon xr-icon-database'><use xlink:href='#icon-database'></use></svg></label><div class='xr-var-attrs'><dl class='xr-attrs'></dl></div><div class='xr-var-data'><pre>array([ 58.22, 100.  ,  33.85, 100.  ,  99.97,  19.96, 100.  ,  42.12,\n",
       "        58.36, 100.  ,  33.9 , 100.  ,  99.99,  20.36, 100.  ,  42.4 ,\n",
       "        58.27, 100.  ,  33.87, 100.  ,  99.99,  20.57, 100.  ,  42.69])</pre></div></li><li class='xr-var-item'><div class='xr-var-name'><span>data_coverage</span></div><div class='xr-var-dims'>(time)</div><div class='xr-var-dtype'>float64</div><div class='xr-var-preview xr-preview'>58.22 100.0 33.85 ... 100.0 42.69</div><input id='attrs-c464d88e-01c1-4657-a728-9a10d4c8bd00' class='xr-var-attrs-in' type='checkbox' disabled><label for='attrs-c464d88e-01c1-4657-a728-9a10d4c8bd00' title='Show/Hide attributes'><svg class='icon xr-icon-file-text2'><use xlink:href='#icon-file-text2'></use></svg></label><input id='data-e366dc60-5264-438f-921a-c5090673ca29' class='xr-var-data-in' type='checkbox'><label for='data-e366dc60-5264-438f-921a-c5090673ca29' title='Show/Hide data repr'><svg class='icon xr-icon-database'><use xlink:href='#icon-database'></use></svg></label><div class='xr-var-attrs'><dl class='xr-attrs'></dl></div><div class='xr-var-data'><pre>array([ 58.22, 100.  ,  33.85, 100.  ,  99.97,  19.96, 100.  ,  42.12,\n",
       "        58.36, 100.  ,  33.9 , 100.  ,  99.99,  20.36, 100.  ,  42.4 ,\n",
       "        58.27, 100.  ,  33.87, 100.  ,  99.99,  20.57, 100.  ,  42.69])</pre></div></li><li class='xr-var-item'><div class='xr-var-name'><span>created</span></div><div class='xr-var-dims'>(time)</div><div class='xr-var-dtype'>&lt;U24</div><div class='xr-var-preview xr-preview'>&#x27;2020-09-05T12:39:12.865Z&#x27; ... &#x27;...</div><input id='attrs-7ee18723-97bf-4e67-9cef-b2ed82aa3d6a' class='xr-var-attrs-in' type='checkbox' disabled><label for='attrs-7ee18723-97bf-4e67-9cef-b2ed82aa3d6a' title='Show/Hide attributes'><svg class='icon xr-icon-file-text2'><use xlink:href='#icon-file-text2'></use></svg></label><input id='data-d0dbe6b0-e113-4c5c-ac4e-568fa6e33a85' class='xr-var-data-in' type='checkbox'><label for='data-d0dbe6b0-e113-4c5c-ac4e-568fa6e33a85' title='Show/Hide data repr'><svg class='icon xr-icon-database'><use xlink:href='#icon-database'></use></svg></label><div class='xr-var-attrs'><dl class='xr-attrs'></dl></div><div class='xr-var-data'><pre>array([&#x27;2020-09-05T12:39:12.865Z&#x27;, &#x27;2020-09-05T06:24:19.862Z&#x27;,\n",
       "       &#x27;2020-09-05T06:23:47.836Z&#x27;, &#x27;2020-09-18T23:33:57.593Z&#x27;,\n",
       "       &#x27;2020-09-05T10:35:08.576Z&#x27;, &#x27;2020-09-18T22:58:28.920Z&#x27;,\n",
       "       &#x27;2020-09-23T15:43:10.502Z&#x27;, &#x27;2020-08-31T15:57:36.461Z&#x27;,\n",
       "       &#x27;2020-09-19T03:48:23.504Z&#x27;, &#x27;2020-09-05T10:00:19.229Z&#x27;,\n",
       "       &#x27;2020-09-05T11:18:48.722Z&#x27;, &#x27;2020-08-31T15:12:49.407Z&#x27;,\n",
       "       &#x27;2020-08-31T15:02:43.771Z&#x27;, &#x27;2020-09-19T00:17:08.540Z&#x27;,\n",
       "       &#x27;2020-08-31T15:23:56.855Z&#x27;, &#x27;2020-09-05T12:50:14.783Z&#x27;,\n",
       "       &#x27;2020-09-23T09:12:42.490Z&#x27;, &#x27;2020-09-18T23:11:12.399Z&#x27;,\n",
       "       &#x27;2020-09-23T16:16:43.693Z&#x27;, &#x27;2020-09-23T09:09:25.619Z&#x27;,\n",
       "       &#x27;2020-09-19T01:38:56.112Z&#x27;, &#x27;2020-09-19T10:28:14.469Z&#x27;,\n",
       "       &#x27;2020-09-24T06:31:45.567Z&#x27;, &#x27;2020-09-19T03:49:30.360Z&#x27;],\n",
       "      dtype=&#x27;&lt;U24&#x27;)</pre></div></li><li class='xr-var-item'><div class='xr-var-name'><span>title</span></div><div class='xr-var-dims'>(band)</div><div class='xr-var-dtype'>object</div><div class='xr-var-preview xr-preview'>&#x27;Band 4 (red)&#x27; ... &#x27;Band 2 (blue)&#x27;</div><input id='attrs-81c3e870-be78-49ce-91fe-97a9f3208e46' class='xr-var-attrs-in' type='checkbox' disabled><label for='attrs-81c3e870-be78-49ce-91fe-97a9f3208e46' title='Show/Hide attributes'><svg class='icon xr-icon-file-text2'><use xlink:href='#icon-file-text2'></use></svg></label><input id='data-e770c61c-8ba0-47a8-899b-15fd656d9cf5' class='xr-var-data-in' type='checkbox'><label for='data-e770c61c-8ba0-47a8-899b-15fd656d9cf5' title='Show/Hide data repr'><svg class='icon xr-icon-database'><use xlink:href='#icon-database'></use></svg></label><div class='xr-var-attrs'><dl class='xr-attrs'></dl></div><div class='xr-var-data'><pre>array([&#x27;Band 4 (red)&#x27;, &#x27;Band 3 (green)&#x27;, &#x27;Band 2 (blue)&#x27;], dtype=object)</pre></div></li><li class='xr-var-item'><div class='xr-var-name'><span>epsg</span></div><div class='xr-var-dims'>()</div><div class='xr-var-dtype'>int64</div><div class='xr-var-preview xr-preview'>32613</div><input id='attrs-28a7f871-8368-4462-a8d2-819ae851c502' class='xr-var-attrs-in' type='checkbox' disabled><label for='attrs-28a7f871-8368-4462-a8d2-819ae851c502' title='Show/Hide attributes'><svg class='icon xr-icon-file-text2'><use xlink:href='#icon-file-text2'></use></svg></label><input id='data-e3d5ec69-8b2d-4859-9548-4fe614f4ab65' class='xr-var-data-in' type='checkbox'><label for='data-e3d5ec69-8b2d-4859-9548-4fe614f4ab65' title='Show/Hide data repr'><svg class='icon xr-icon-database'><use xlink:href='#icon-database'></use></svg></label><div class='xr-var-attrs'><dl class='xr-attrs'></dl></div><div class='xr-var-data'><pre>array(32613)</pre></div></li></ul></div></li><li class='xr-section-item'><input id='section-0676533e-c949-425a-a4b8-5a6b863f121f' class='xr-section-summary-in' type='checkbox'  checked><label for='section-0676533e-c949-425a-a4b8-5a6b863f121f' class='xr-section-summary' >Attributes: <span>(4)</span></label><div class='xr-section-inline-details'></div><div class='xr-section-details'><dl class='xr-attrs'><dt><span>spec :</span></dt><dd>RasterSpec(epsg=32613, bounds=(300000, 3890160, 509760, 4100080), resolutions_xy=(80, 80))</dd><dt><span>crs :</span></dt><dd>epsg:32613</dd><dt><span>transform :</span></dt><dd>| 80.00, 0.00, 300000.00|\n",
       "| 0.00,-80.00, 4100080.00|\n",
       "| 0.00, 0.00, 1.00|</dd><dt><span>resolution :</span></dt><dd>80</dd></dl></div></li></ul></div></div>"
      ],
      "text/plain": [
       "<xarray.DataArray 'stackstac-abf58c56690c9d257a569f7ef9290c29' (time: 24, band: 3, y: 2624, x: 2622)>\n",
       "dask.array<getitem, shape=(24, 3, 2624, 2622), dtype=float64, chunksize=(1, 1, 1024, 1024), chunktype=numpy.ndarray>\n",
       "Coordinates: (12/24)\n",
       "  * time                        (time) datetime64[ns] 2020-04-01T18:03:50 ......\n",
       "    id                          (time) <U24 'S2B_13SDA_20200401_0_L2A' ... 'S...\n",
       "  * band                        (band) <U8 'B04' 'B03' 'B02'\n",
       "  * x                           (x) float64 3e+05 3.001e+05 ... 5.097e+05\n",
       "  * y                           (y) float64 4.1e+06 4.1e+06 ... 3.89e+06\n",
       "    view:off_nadir              int64 0\n",
       "    ...                          ...\n",
       "    sentinel:sequence           <U1 '0'\n",
       "    sentinel:data_coverage      (time) float64 58.22 100.0 33.85 ... 100.0 42.69\n",
       "    data_coverage               (time) float64 58.22 100.0 33.85 ... 100.0 42.69\n",
       "    created                     (time) <U24 '2020-09-05T12:39:12.865Z' ... '2...\n",
       "    title                       (band) object 'Band 4 (red)' ... 'Band 2 (blue)'\n",
       "    epsg                        int64 32613\n",
       "Attributes:\n",
       "    spec:        RasterSpec(epsg=32613, bounds=(300000, 3890160, 509760, 4100...\n",
       "    crs:         epsg:32613\n",
       "    transform:   | 80.00, 0.00, 300000.00|\\n| 0.00,-80.00, 4100080.00|\\n| 0.0...\n",
       "    resolution:  80"
      ]
     },
     "execution_count": 8,
     "metadata": {},
     "output_type": "execute_result"
    }
   ],
   "source": [
    "rgb = stack.sel(band=[\"B04\", \"B03\", \"B02\"]).persist()\n",
    "rgb"
   ]
  },
  {
   "cell_type": "markdown",
   "id": "f7af0f6e-29c1-41a3-9b77-1141a1d79e4d",
   "metadata": {},
   "source": [
    "## `stackstac.add_to_map`\n",
    "\n",
    "`stackstac.add_to_map` displays a DataArray on an existing ipyleaflet map. You give it a layer name—if a layer with this name already exists, it's replaced; otherwise, it's added. This is nice for working in notebooks, since you can re-run an `add_to_map` cell to adjust it, without piling up new layers.\n",
    "\n",
    "Before continuing, you should open the distributed dashboard in another window (or use the [dask-jupyterlab](https://github.com/dask/dask-labextension) extension) in order to watch its progress."
   ]
  },
  {
   "cell_type": "code",
   "execution_count": null,
   "id": "573b589d-2d16-4c26-a3ae-96c951af09e1",
   "metadata": {},
   "outputs": [],
   "source": [
    "m.zoom = 10\n",
    "m"
   ]
  },
  {
   "cell_type": "raw",
   "id": "8c6b4691-6a35-495b-8a9a-db542f30f971",
   "metadata": {
    "raw_mimetype": "text/restructuredtext",
    "tags": []
   },
   "source": [
    "*Static screenshot for docs (delete this cell if running the notebook):*\n",
    "\n",
    ".. image:: images/show-s2-median.png\n",
    "  :width: 100%"
   ]
  },
  {
   "cell_type": "markdown",
   "id": "40a250ea-d63e-4231-b9f2-054a06d9c25f",
   "metadata": {},
   "source": [
    "`stackstac.server_stats` is a widget showing some under-the-hood stats about the computations currently running to generate your tiles. It shows \"work bars\"—like the inverse of progress bars—indicating the tasks it's currently waiting on."
   ]
  },
  {
   "cell_type": "code",
   "execution_count": null,
   "id": "3f037b53-54eb-4269-a7a1-c5e53a0176a1",
   "metadata": {},
   "outputs": [],
   "source": [
    "stackstac.server_stats"
   ]
  },
  {
   "cell_type": "markdown",
   "id": "6e2b1638-66b7-4ad0-b8cb-e7856b2b5f43",
   "metadata": {},
   "source": [
    "Make a temporal median composite, and show that on the map `m` above! Pan around and notice how the dask dashboard shows your progress."
   ]
  },
  {
   "cell_type": "code",
   "execution_count": 11,
   "id": "dated-motivation",
   "metadata": {},
   "outputs": [
    {
     "data": {
      "application/vnd.jupyter.widget-view+json": {
       "model_id": "3ec8107eb45a41a38064c8f6d6f1a115",
       "version_major": 2,
       "version_minor": 0
      },
      "text/plain": [
       "TileLayer(name='s2', options=['attribution', 'detect_retina', 'max_native_zoom', 'max_zoom', 'min_native_zoom'…"
      ]
     },
     "metadata": {},
     "output_type": "display_data"
    }
   ],
   "source": [
    "comp = rgb.median(\"time\")\n",
    "stackstac.add_to_map(comp, m, \"s2\", range=[0, 3000])"
   ]
  },
  {
   "cell_type": "markdown",
   "id": "144586c3-90fe-4d99-9bfa-f5b12e61004b",
   "metadata": {},
   "source": [
    "Try changing `median` to `mean`, `min`, `max`, etc. in the cell above, and re-run. The map will update with the new layer contents (since you reused the name `\"s2\"`)."
   ]
  },
  {
   "cell_type": "markdown",
   "id": "f16c73e4-56d8-4c53-95a1-3586ba874435",
   "metadata": {},
   "source": [
    "## Showing computed values\n",
    "\n",
    "You can display anything you can compute with dask and xarray, not just raw data. Here, we'll compute NDVI (Normalized Difference Vegetation Index), which indicates the health of vegetation (and is kind of a \"hello world\" example for remote sensing)."
   ]
  },
  {
   "cell_type": "code",
   "execution_count": 12,
   "id": "played-wedding",
   "metadata": {},
   "outputs": [],
   "source": [
    "nir, red = stack.sel(band=\"B08\"), stack.sel(band=\"B04\")\n",
    "ndvi = (nir - red) / (nir + red)\n",
    "ndvi = ndvi.persist()"
   ]
  },
  {
   "cell_type": "markdown",
   "id": "8419cc93-ecd4-4931-9b88-3bd012955ad3",
   "metadata": {},
   "source": [
    "We'll show the temporal maximum NDVI (try changing to `min`, `median`, etc.)"
   ]
  },
  {
   "cell_type": "code",
   "execution_count": 13,
   "id": "a442669e-f06e-4d4c-993a-85d7eebb930d",
   "metadata": {},
   "outputs": [],
   "source": [
    "ndvi_comp = ndvi.max(\"time\")"
   ]
  },
  {
   "cell_type": "markdown",
   "id": "c6e1dede-bc74-4e3c-a98f-0095a74973fb",
   "metadata": {},
   "source": [
    "## `stackstac.show`\n",
    "\n",
    "`stackstac.show` creates a new map for you, centers it on your array, and displays it. It's very convenient."
   ]
  },
  {
   "cell_type": "code",
   "execution_count": null,
   "id": "blessed-collectible",
   "metadata": {},
   "outputs": [],
   "source": [
    "stackstac.show(ndvi_comp, range=(0, 0.6), cmap=\"YlGn\")"
   ]
  },
  {
   "cell_type": "raw",
   "id": "280c5313-619d-483c-9a6e-a7af72deef2c",
   "metadata": {
    "raw_mimetype": "text/restructuredtext",
    "tags": []
   },
   "source": [
    "*Static screenshot for docs (delete this cell if running the notebook):*\n",
    "\n",
    ".. image:: images/show-ndvi.png\n",
    "  :width: 100%"
   ]
  },
  {
   "cell_type": "markdown",
   "id": "0c798c97-185c-475d-884b-da9c57fb75d7",
   "metadata": {},
   "source": [
    "To demonstrate more derived quantities: show each pixel's deviation from the mean NDVI of the whole array:"
   ]
  },
  {
   "cell_type": "code",
   "execution_count": 16,
   "id": "300a65c0-22ff-4e51-8e21-203009f3489c",
   "metadata": {},
   "outputs": [],
   "source": [
    "anomaly = ndvi_comp - ndvi.mean()"
   ]
  },
  {
   "cell_type": "code",
   "execution_count": null,
   "id": "8470ff3b-004c-4181-bc65-8f7e7c0c2004",
   "metadata": {},
   "outputs": [],
   "source": [
    "stackstac.show(anomaly, cmap=\"RdYlGn\")"
   ]
  },
  {
   "cell_type": "raw",
   "id": "bb2d53bc-dc04-4ab3-8405-27ab744c67ed",
   "metadata": {
    "raw_mimetype": "text/restructuredtext",
    "tags": []
   },
   "source": [
    "*Static screenshot for docs (delete this cell if running the notebook):*\n",
    "\n",
    ".. image:: images/show-ndvi-anomaly.png\n",
    "  :width: 100%"
   ]
  },
  {
   "cell_type": "markdown",
   "id": "ce05b658-0079-4794-8398-9ab1144d654f",
   "metadata": {},
   "source": [
    "## Interactively explore data with widgets\n",
    "\n",
    "Using [ipywidgets.interact](https://ipywidgets.readthedocs.io/en/stable/examples/Using%20Interact.html#), you can interactively threshold the NDVI values by adjusting a slider. It's a bit clunky, and pretty slow to refresh, but still a nice demonstration of the powerful tools that become available by integrating with the Python ecosystem."
   ]
  },
  {
   "cell_type": "code",
   "execution_count": null,
   "id": "81c97ce4-ce15-432d-8e5d-6e3ce58b1ddb",
   "metadata": {},
   "outputs": [],
   "source": [
    "import ipywidgets\n",
    "\n",
    "ndvi_map = ipyleaflet.Map()\n",
    "ndvi_map.center = m.center\n",
    "ndvi_map.zoom = m.zoom\n",
    "\n",
    "@ipywidgets.interact(threshold=(0.0, 1.0, 0.1))\n",
    "def explore_ndvi(threshold=0.2):\n",
    "    high_ndvi = ndvi_comp.where(ndvi_comp > threshold)\n",
    "    stackstac.add_to_map(high_ndvi, ndvi_map, \"ndvi\", range=[0, 1], cmap=\"YlGn\")\n",
    "    return ndvi_map"
   ]
  },
  {
   "cell_type": "raw",
   "id": "59d6e0f4-9473-4787-a1af-e435b96ce00e",
   "metadata": {
    "raw_mimetype": "text/restructuredtext",
    "tags": []
   },
   "source": [
    "*Static screenshot for docs (delete this cell if running the notebook):*\n",
    "\n",
    ".. image:: images/show-ndvi-widget.png\n",
    "  :width: 100%"
   ]
  }
 ],
 "metadata": {
  "kernelspec": {
   "display_name": "Python 3",
   "language": "python",
   "name": "python3"
  },
  "language_info": {
   "codemirror_mode": {
    "name": "ipython",
    "version": 3
   },
   "file_extension": ".py",
   "mimetype": "text/x-python",
   "name": "python",
   "nbconvert_exporter": "python",
   "pygments_lexer": "ipython3",
   "version": "3.8.7"
  }
 },
 "nbformat": 4,
 "nbformat_minor": 5
}
